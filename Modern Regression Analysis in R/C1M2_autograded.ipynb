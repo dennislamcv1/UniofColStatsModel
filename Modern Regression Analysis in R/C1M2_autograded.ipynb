{
 "cells": [
  {
   "cell_type": "markdown",
   "metadata": {
    "deletable": false,
    "editable": false,
    "nbgrader": {
     "cell_type": "markdown",
     "checksum": "85f9dd3a25fd3e3c2221c38223aa0b04",
     "grade": false,
     "grade_id": "cell-b8c998080b02f110",
     "locked": true,
     "schema_version": 3,
     "solution": false,
     "task": false
    }
   },
   "source": [
    "# Module 2 - Autograded Assignment"
   ]
  },
  {
   "cell_type": "markdown",
   "metadata": {
    "deletable": false,
    "editable": false,
    "nbgrader": {
     "cell_type": "markdown",
     "checksum": "10348d3942636b32e43432ec2812847a",
     "grade": false,
     "grade_id": "cell-5b40e33249091cc9",
     "locked": true,
     "schema_version": 3,
     "solution": false,
     "task": false
    }
   },
   "source": [
    "### Outline:\n",
    "**Here are the objectives of this assignment:**\n",
    "\n",
    "1. Learn how to construct linear models in R, with both single and multiple predictors.\n",
    "2. Practice how to identify the intercepts and coefficients from these models, and know what they mean.\n",
    "3. Understand how to construct hat matrices and what information can be gathered from them.\n",
    "4. Touch on future concepts like Residuals and MSE.\n",
    "\n",
    "**Here are some general tips:**\n",
    "\n",
    "1. Read the questions carefully to understand what is being asked.\n",
    "2. When you feel that your work is completed, feel free to hit the ```Validate``` button to see your results on the *visible* unit tests. If you have questions about unit testing, please refer to the \"Module 0: Introduction\" notebook provided as an optional resource for this course. In this assignment, there are hidden unit tests that check your code. You will not recieve any feedback for failed hidden unit tests until the assignment is submitted. **Do not misinterpret the feedback from visible unit tests as all possible tests for a given question--write your code carefully!**\n",
    "3. Before submitting, we recommend restarting the kernel and running all the cells in order that they appear to make sure that there are no additional bugs in your code.\n",
    "4. There are 50 points total in this assignment."
   ]
  },
  {
   "cell_type": "code",
   "execution_count": 1,
   "metadata": {},
   "outputs": [],
   "source": [
    "options(warn=1)"
   ]
  },
  {
   "cell_type": "code",
   "execution_count": 2,
   "metadata": {
    "deletable": false,
    "editable": false,
    "nbgrader": {
     "cell_type": "code",
     "checksum": "915ac15a22a27176a4cec0dd912b101a",
     "grade": false,
     "grade_id": "cell-37b3dd99c838c3a0",
     "locked": true,
     "schema_version": 3,
     "solution": false,
     "task": false
    }
   },
   "outputs": [
    {
     "name": "stdout",
     "output_type": "stream",
     "text": [
      "Error in get(genname, envir = envir) : object 'testthat_print' not found\n"
     ]
    },
    {
     "name": "stderr",
     "output_type": "stream",
     "text": [
      "── \u001b[1mAttaching packages\u001b[22m ─────────────────────────────────────── tidyverse 1.3.0 ──\n",
      "\n",
      "\u001b[32m✔\u001b[39m \u001b[34mggplot2\u001b[39m 3.3.0     \u001b[32m✔\u001b[39m \u001b[34mpurrr  \u001b[39m 0.3.4\n",
      "\u001b[32m✔\u001b[39m \u001b[34mtibble \u001b[39m 3.0.1     \u001b[32m✔\u001b[39m \u001b[34mdplyr  \u001b[39m 0.8.5\n",
      "\u001b[32m✔\u001b[39m \u001b[34mtidyr  \u001b[39m 1.0.2     \u001b[32m✔\u001b[39m \u001b[34mstringr\u001b[39m 1.4.0\n",
      "\u001b[32m✔\u001b[39m \u001b[34mreadr  \u001b[39m 1.3.1     \u001b[32m✔\u001b[39m \u001b[34mforcats\u001b[39m 0.5.0\n",
      "\n",
      "── \u001b[1mConflicts\u001b[22m ────────────────────────────────────────── tidyverse_conflicts() ──\n",
      "\u001b[31m✖\u001b[39m \u001b[34mdplyr\u001b[39m::\u001b[32mfilter()\u001b[39m  masks \u001b[34mstats\u001b[39m::filter()\n",
      "\u001b[31m✖\u001b[39m \u001b[34mpurrr\u001b[39m::\u001b[32mis_null()\u001b[39m masks \u001b[34mtestthat\u001b[39m::is_null()\n",
      "\u001b[31m✖\u001b[39m \u001b[34mdplyr\u001b[39m::\u001b[32mlag()\u001b[39m     masks \u001b[34mstats\u001b[39m::lag()\n",
      "\u001b[31m✖\u001b[39m \u001b[34mdplyr\u001b[39m::\u001b[32mmatches()\u001b[39m masks \u001b[34mtidyr\u001b[39m::matches(), \u001b[34mtestthat\u001b[39m::matches()\n",
      "\n"
     ]
    }
   ],
   "source": [
    "# This cell loads the necesary libraries for this assignment\n",
    "library(testthat)\n",
    "library(tidyverse)\n",
    "library(ggplot2) #a package for nice plots!\n",
    "library(dplyr)"
   ]
  },
  {
   "cell_type": "markdown",
   "metadata": {
    "deletable": false,
    "editable": false,
    "nbgrader": {
     "cell_type": "markdown",
     "checksum": "493873cfbc65a1e90f40d9878c2bcc7e",
     "grade": false,
     "grade_id": "cell-5c8ccfa2a61d3718",
     "locked": true,
     "schema_version": 3,
     "solution": false,
     "task": false
    }
   },
   "source": [
    "## Problem 1: Introduction to Simple Linear Regression (SLR) Models\n",
    "\n",
    "For this exercise, we will look at a dataset from *Time* Magazine about college rankings. In this dataset, each row (statistical unit) is a college. There are $n = 706$ rows. After some simplifying, the variables included in the dataset are:\n",
    "\n",
    "- `school`: the name of the school\n",
    "\n",
    "- `earn`: yearly earnings\n",
    "\n",
    "- `sat`: average SAT score\n",
    "\n",
    "- `act`: average ACT score\n",
    "\n",
    "- `price`: the cost of attendance for four years"
   ]
  },
  {
   "cell_type": "code",
   "execution_count": 3,
   "metadata": {
    "deletable": false,
    "editable": false,
    "nbgrader": {
     "cell_type": "code",
     "checksum": "8429581277a4acda1d165af6a23e6722",
     "grade": false,
     "grade_id": "cell-22eee780497e866e",
     "locked": true,
     "schema_version": 3,
     "solution": false,
     "task": false
    }
   },
   "outputs": [
    {
     "data": {
      "text/plain": [
       "                     school         earn            sat            act       \n",
       " Adelphi University     :  1   Min.   :28300   Min.   : 810   Min.   :15.00  \n",
       " Adrian College         :  1   1st Qu.:41100   1st Qu.:1040   1st Qu.:23.00  \n",
       " Agnes Scott College    :  1   Median :44750   Median :1120   Median :25.00  \n",
       " Albany State University:  1   Mean   :45598   Mean   :1142   Mean   :24.98  \n",
       " Albertus Magnus College:  1   3rd Qu.:48900   3rd Qu.:1220   3rd Qu.:27.00  \n",
       " Albion College         :  1   Max.   :79700   Max.   :1550   Max.   :34.00  \n",
       " (Other)                :700                                                 \n",
       "     price      \n",
       " Min.   :16500  \n",
       " 1st Qu.:25900  \n",
       " Median :44000  \n",
       " Mean   :42200  \n",
       " 3rd Qu.:55500  \n",
       " Max.   :70400  \n",
       "                "
      ]
     },
     "metadata": {},
     "output_type": "display_data"
    }
   ],
   "source": [
    "college = read.csv(\"graduate-earnings.txt\", sep=\"\\t\")\n",
    "\n",
    "#prints the names in the dataframe\n",
    "college = college %>%\n",
    "    select(school = School, earn = Earn, sat = SAT, act = ACT, price = Price)\n",
    "summary(college)"
   ]
  },
  {
   "cell_type": "markdown",
   "metadata": {
    "deletable": false,
    "editable": false,
    "nbgrader": {
     "cell_type": "markdown",
     "checksum": "c1d3a7de057e598a905c6830999d38b8",
     "grade": false,
     "grade_id": "cell-5e5f19251d1f1f6a",
     "locked": true,
     "schema_version": 3,
     "solution": false,
     "task": false
    }
   },
   "source": [
    "#### 1. (a) Create the SLR Model. (5 points)\n",
    "\n",
    "Let's start simple, and model this relationship between `earn` (the response) and `sat` (the predictor). Save this model into the `slr_earn` variable."
   ]
  },
  {
   "cell_type": "code",
   "execution_count": 4,
   "metadata": {
    "deletable": false,
    "nbgrader": {
     "cell_type": "code",
     "checksum": "5a156f7c9ea317fb3109851c1edf3910",
     "grade": false,
     "grade_id": "cell-d35533d4ce181924",
     "locked": false,
     "schema_version": 3,
     "solution": true,
     "task": false
    }
   },
   "outputs": [
    {
     "data": {
      "text/plain": [
       "\n",
       "Call:\n",
       "lm(formula = earn ~ sat, data = college)\n",
       "\n",
       "Residuals:\n",
       "     Min       1Q   Median       3Q      Max \n",
       "-16385.1  -3521.6   -246.4   3191.6  24881.0 \n",
       "\n",
       "Coefficients:\n",
       "             Estimate Std. Error t value Pr(>|t|)    \n",
       "(Intercept) 14468.088   1776.682   8.143 1.75e-15 ***\n",
       "sat            27.264      1.545  17.646  < 2e-16 ***\n",
       "---\n",
       "Signif. codes:  0 ‘***’ 0.001 ‘**’ 0.01 ‘*’ 0.05 ‘.’ 0.1 ‘ ’ 1\n",
       "\n",
       "Residual standard error: 5603 on 704 degrees of freedom\n",
       "Multiple R-squared:  0.3067,\tAdjusted R-squared:  0.3057 \n",
       "F-statistic: 311.4 on 1 and 704 DF,  p-value: < 2.2e-16\n"
      ]
     },
     "metadata": {},
     "output_type": "display_data"
    }
   ],
   "source": [
    "# Create the SLR model\n",
    "slr_earn <- lm(earn ~ sat, data = college)\n",
    "\n",
    "# Print the summary of the model\n",
    "summary(slr_earn)"
   ]
  },
  {
   "cell_type": "code",
   "execution_count": 5,
   "metadata": {
    "deletable": false,
    "editable": false,
    "nbgrader": {
     "cell_type": "code",
     "checksum": "85865621b1e33ffe8899b486ee7d97bc",
     "grade": true,
     "grade_id": "cell-c9c9f4853eae0a1b",
     "locked": true,
     "points": 5,
     "schema_version": 3,
     "solution": false,
     "task": false
    }
   },
   "outputs": [
    {
     "name": "stdout",
     "output_type": "stream",
     "text": [
      "[1] \"Does the function return a model? ... Correct\"\n",
      "[1] \"Just make sure your predictor and response variables are correct!\"\n"
     ]
    }
   ],
   "source": [
    "# Test Cell\n",
    "if(test_that(\"Does the function return a model?\", {expect_is(slr_earn, \"lm\")})){\n",
    "    print(\"Does the function return a model? ... Correct\")\n",
    "    print(\"Just make sure your predictor and response variables are correct!\")\n",
    "}else{\n",
    "    print(\"Test Failed. Tip: Try using the lm() function!\")\n",
    "}\n"
   ]
  },
  {
   "cell_type": "markdown",
   "metadata": {
    "deletable": false,
    "editable": false,
    "nbgrader": {
     "cell_type": "markdown",
     "checksum": "8ce3c5986c83283646469272274e4205",
     "grade": false,
     "grade_id": "cell-2fe52fb35bc1590f",
     "locked": true,
     "schema_version": 3,
     "solution": false,
     "task": false
    }
   },
   "source": [
    "#### 1. (b) Model Interpretation (5 points)\n",
    "\n",
    "Insert the model's slope and intercept into the `slope` and `intercept` variables, respectively. Do not hard code the answers, instead access the lm object directly."
   ]
  },
  {
   "cell_type": "code",
   "execution_count": 6,
   "metadata": {
    "deletable": false,
    "nbgrader": {
     "cell_type": "code",
     "checksum": "32ba8cd3e9f4dbf9015418e03cef68c7",
     "grade": false,
     "grade_id": "cell-943425c2475b7017",
     "locked": false,
     "schema_version": 3,
     "solution": true,
     "task": false
    }
   },
   "outputs": [
    {
     "data": {
      "text/html": [
       "<strong>sat:</strong> 27.2641610117453"
      ],
      "text/latex": [
       "\\textbf{sat:} 27.2641610117453"
      ],
      "text/markdown": [
       "**sat:** 27.2641610117453"
      ],
      "text/plain": [
       "     sat \n",
       "27.26416 "
      ]
     },
     "metadata": {},
     "output_type": "display_data"
    },
    {
     "data": {
      "text/html": [
       "<strong>(Intercept):</strong> 14468.0880017524"
      ],
      "text/latex": [
       "\\textbf{(Intercept):} 14468.0880017524"
      ],
      "text/markdown": [
       "**(Intercept):** 14468.0880017524"
      ],
      "text/plain": [
       "(Intercept) \n",
       "   14468.09 "
      ]
     },
     "metadata": {},
     "output_type": "display_data"
    }
   ],
   "source": [
    "# Extract slope and intercept\n",
    "slope <- coef(slr_earn)[2]\n",
    "intercept <- coef(slr_earn)[1]\n",
    "\n",
    "slope\n",
    "intercept\n"
   ]
  },
  {
   "cell_type": "code",
   "execution_count": 7,
   "metadata": {
    "deletable": false,
    "editable": false,
    "nbgrader": {
     "cell_type": "code",
     "checksum": "063ce4ea8e280d66fec6e7ea7b4aae8c",
     "grade": true,
     "grade_id": "cell-a76bca105bb30597",
     "locked": true,
     "points": 5,
     "schema_version": 3,
     "solution": false,
     "task": false
    }
   },
   "outputs": [],
   "source": [
    "# Test Cell\n",
    "# This cell has hidden test cases that will run after submission."
   ]
  },
  {
   "cell_type": "markdown",
   "metadata": {
    "deletable": false,
    "editable": false,
    "nbgrader": {
     "cell_type": "markdown",
     "checksum": "42dc7b3391d07fb5b6b9f2c4991e5eba",
     "grade": false,
     "grade_id": "cell-bbcc6f9b4ca8d2e6",
     "locked": true,
     "schema_version": 3,
     "solution": false,
     "task": false
    }
   },
   "source": [
    "It can be helpful to visualize our model against the data, to see if it is accurately modeling the data. This code is provided for you."
   ]
  },
  {
   "cell_type": "code",
   "execution_count": 8,
   "metadata": {
    "deletable": false,
    "editable": false,
    "nbgrader": {
     "cell_type": "code",
     "checksum": "6fdd72e3ab7dba0c6b11d37b11008d34",
     "grade": false,
     "grade_id": "cell-3cafa16a03d1ba77",
     "locked": true,
     "schema_version": 3,
     "solution": false,
     "task": false
    }
   },
   "outputs": [
    {
     "name": "stderr",
     "output_type": "stream",
     "text": [
      "`geom_smooth()` using formula 'y ~ x'\n",
      "\n"
     ]
    },
    {
     "data": {
      "image/png": "[encoded data removed]",
      "text/plain": [
       "plot without title"
      ]
     },
     "metadata": {
      "image/png": {
       "height": 420,
       "width": 420
      },
      "text/plain": {
       "height": 420,
       "width": 420
      }
     },
     "output_type": "display_data"
    }
   ],
   "source": [
    "ggplot(college, aes(x = sat, y = earn)) + \n",
    "    geom_point( alpha = 0.5) + \n",
    "    geom_smooth(method = \"lm\", se = F, col = \"#CFB87C\") + \n",
    "    xlab(\"SAT Score\") + ylab(\"Yearly Earnings\")+\n",
    "    theme_bw()"
   ]
  },
  {
   "cell_type": "markdown",
   "metadata": {
    "deletable": false,
    "editable": false,
    "nbgrader": {
     "cell_type": "markdown",
     "checksum": "27b4fccd3e5c35c0301ef2a836248487",
     "grade": false,
     "grade_id": "cell-f0a49b998ee35209",
     "locked": true,
     "schema_version": 3,
     "solution": false,
     "task": false
    }
   },
   "source": [
    "#### 1. (c) Residuals\n",
    "\n",
    "A useful plot for model analysis is the *Residuals vs Fitted Values* plot. We will learn how to use this plot to detect things like unequal variances, non-linearity and outliers later in the course. For now, let's just see what this plot looks like. Create a scatterplot with the Residuals on the y-axis and the Fitted Values on the x-axis. \n",
    "\n",
    "Tip: Use the `resid()` and `fitted()` functions. "
   ]
  },
  {
   "cell_type": "code",
   "execution_count": 9,
   "metadata": {
    "deletable": false,
    "nbgrader": {
     "cell_type": "code",
     "checksum": "3dada8e37c11b09b0026c541a0b273a4",
     "grade": false,
     "grade_id": "cell-a51f6a3b98154312",
     "locked": false,
     "schema_version": 3,
     "solution": true,
     "task": false
    }
   },
   "outputs": [
    {
     "data": {
      "image/png": "[encoded data removed]",
      "text/plain": [
       "plot without title"
      ]
     },
     "metadata": {
      "image/png": {
       "height": 420,
       "width": 420
      },
      "text/plain": {
       "height": 420,
       "width": 420
      }
     },
     "output_type": "display_data"
    }
   ],
   "source": [
    "# Plot Residuals vs Fitted Values\n",
    "ggplot(data = college, aes(x = fitted(slr_earn), y = resid(slr_earn))) +\n",
    "  geom_point() +\n",
    "  labs(title = \"Residuals vs Fitted Values\",\n",
    "       x = \"Fitted Values\",\n",
    "       y = \"Residuals\")\n",
    "\n"
   ]
  },
  {
   "cell_type": "markdown",
   "metadata": {
    "deletable": false,
    "editable": false,
    "nbgrader": {
     "cell_type": "markdown",
     "checksum": "0ee7da68e0626af9c59b373427dce0b9",
     "grade": false,
     "grade_id": "cell-29ae61bde455126c",
     "locked": true,
     "schema_version": 3,
     "solution": false,
     "task": false
    }
   },
   "source": [
    "#### 1. (d) Sums of Residuals (5 points)\n",
    "\n",
    "Now calculate the sum of the residuals. Store your answer in the `sum_of_residuals` variable. As a lead up to future lessons, think about why this value is what it is."
   ]
  },
  {
   "cell_type": "code",
   "execution_count": 10,
   "metadata": {
    "deletable": false,
    "nbgrader": {
     "cell_type": "code",
     "checksum": "538de1d9c56237b1af3118134e2bd212",
     "grade": false,
     "grade_id": "cell-1fc77b6c62019dfe",
     "locked": false,
     "schema_version": 3,
     "solution": true,
     "task": false
    }
   },
   "outputs": [
    {
     "data": {
      "text/html": [
       "1.3719159142056e-10"
      ],
      "text/latex": [
       "1.3719159142056e-10"
      ],
      "text/markdown": [
       "1.3719159142056e-10"
      ],
      "text/plain": [
       "[1] 1.371916e-10"
      ]
     },
     "metadata": {},
     "output_type": "display_data"
    }
   ],
   "source": [
    "# Calculate the sum of the residuals\n",
    "sum_of_residuals <- sum(resid(slr_earn))\n",
    "\n",
    "sum_of_residuals\n"
   ]
  },
  {
   "cell_type": "code",
   "execution_count": 11,
   "metadata": {
    "deletable": false,
    "editable": false,
    "nbgrader": {
     "cell_type": "code",
     "checksum": "d88243cb84d07d1967aff998b963ce56",
     "grade": true,
     "grade_id": "cell-e0834e6fdf46ea5c",
     "locked": true,
     "points": 5,
     "schema_version": 3,
     "solution": false,
     "task": false
    }
   },
   "outputs": [],
   "source": [
    "# Test Cell\n",
    "# This cell has hidden test cases that will run after submission."
   ]
  },
  {
   "cell_type": "markdown",
   "metadata": {
    "deletable": false,
    "editable": false,
    "nbgrader": {
     "cell_type": "markdown",
     "checksum": "9f4d90a78c942819ff8142a8f9a85bae",
     "grade": false,
     "grade_id": "cell-68f62b426ff9e853",
     "locked": true,
     "schema_version": 3,
     "solution": false,
     "task": false
    }
   },
   "source": [
    "#### 1. (e) Prediction (5 points)\n",
    "\n",
    "At the (sample) mean value of `sat`, compute the predicted value of `earn`. Store your answer in `yhat`."
   ]
  },
  {
   "cell_type": "code",
   "execution_count": 12,
   "metadata": {
    "deletable": false,
    "nbgrader": {
     "cell_type": "code",
     "checksum": "c0513aab4518dd28f794c269d6a1962e",
     "grade": false,
     "grade_id": "cell-2ddf06dfcbe15132",
     "locked": false,
     "schema_version": 3,
     "solution": true,
     "task": false
    }
   },
   "outputs": [
    {
     "data": {
      "text/html": [
       "<strong>1:</strong> 45597.6968838527"
      ],
      "text/latex": [
       "\\textbf{1:} 45597.6968838527"
      ],
      "text/markdown": [
       "**1:** 45597.6968838527"
      ],
      "text/plain": [
       "      1 \n",
       "45597.7 "
      ]
     },
     "metadata": {},
     "output_type": "display_data"
    }
   ],
   "source": [
    "# Compute the mean value of sat\n",
    "mean_sat <- mean(college$sat)\n",
    "\n",
    "# Compute the predicted value of earn at the mean value of sat\n",
    "yhat <- predict(slr_earn, newdata = data.frame(sat = mean_sat))\n",
    "\n",
    "yhat\n"
   ]
  },
  {
   "cell_type": "code",
   "execution_count": 13,
   "metadata": {
    "deletable": false,
    "editable": false,
    "nbgrader": {
     "cell_type": "code",
     "checksum": "6221fc01d2dea116b9a8f19c4780a6b4",
     "grade": true,
     "grade_id": "cell-b84ff05e2befeeef",
     "locked": true,
     "points": 5,
     "schema_version": 3,
     "solution": false,
     "task": false
    }
   },
   "outputs": [],
   "source": [
    "# Test Cell\n",
    "# This cell has hidden test cases that will run after submission."
   ]
  },
  {
   "cell_type": "markdown",
   "metadata": {
    "deletable": false,
    "editable": false,
    "nbgrader": {
     "cell_type": "markdown",
     "checksum": "dab2387dabaad17e1baa73d17a878b81",
     "grade": false,
     "grade_id": "cell-7b0832997bbca313",
     "locked": true,
     "schema_version": 3,
     "solution": false,
     "task": false
    }
   },
   "source": [
    "## Problem 2: SLR Hat Matrix (10 points)\n",
    "\n",
    "The \"hat matrix\" is how we map from the response, $y$, to the fitted value $\\widehat{y}$. Compute the hat matrix $H$ for the `slr_earn` model from scratch (e.g., using functions like `model.matrix()` to obtain the design matrix $X$, `solve()` to compute an inverse, `%*%` for matrix multiplication, and `t()` for transpose). Store $H$ in the variable `hat_matrix`.\n",
    "\n",
    "Then compute the sum of the diagonals of $H$. Store this value in `sum_of_diagonals`. Do you understand why this value is what it is?\n"
   ]
  },
  {
   "cell_type": "code",
   "execution_count": 14,
   "metadata": {},
   "outputs": [
    {
     "data": {
      "text/html": [
       "<table>\n",
       "<caption>A data.frame: 706 × 5</caption>\n",
       "<thead>\n",
       "\t<tr><th scope=col>school</th><th scope=col>earn</th><th scope=col>sat</th><th scope=col>act</th><th scope=col>price</th></tr>\n",
       "\t<tr><th scope=col>&lt;fct&gt;</th><th scope=col>&lt;int&gt;</th><th scope=col>&lt;int&gt;</th><th scope=col>&lt;int&gt;</th><th scope=col>&lt;int&gt;</th></tr>\n",
       "</thead>\n",
       "<tbody>\n",
       "\t<tr><td>Princeton University                               </td><td>62800</td><td>1510</td><td>33</td><td>61300</td></tr>\n",
       "\t<tr><td>University of Michigan-Ann Arbor                   </td><td>59000</td><td>1380</td><td>30</td><td>28100</td></tr>\n",
       "\t<tr><td>Harvard University                                 </td><td>62900</td><td>1510</td><td>34</td><td>64800</td></tr>\n",
       "\t<tr><td>Rice University                                    </td><td>63700</td><td>1460</td><td>33</td><td>58600</td></tr>\n",
       "\t<tr><td>University of California-Berkeley                  </td><td>60300</td><td>1360</td><td>30</td><td>35700</td></tr>\n",
       "\t<tr><td>Brigham Young University-Provo                     </td><td>51800</td><td>1260</td><td>29</td><td>18500</td></tr>\n",
       "\t<tr><td>Amherst College                                    </td><td>53400</td><td>1440</td><td>32</td><td>66600</td></tr>\n",
       "\t<tr><td>Cooper Union for the Advancement of Science and Art</td><td>63200</td><td>1360</td><td>31</td><td>62800</td></tr>\n",
       "\t<tr><td>University of Virginia-Main Campus                 </td><td>55400</td><td>1360</td><td>31</td><td>28100</td></tr>\n",
       "\t<tr><td>Stanford University                                </td><td>68600</td><td>1480</td><td>33</td><td>65300</td></tr>\n",
       "\t<tr><td>Massachusetts Institute of Technology              </td><td>74800</td><td>1500</td><td>34</td><td>63500</td></tr>\n",
       "\t<tr><td>Yale University                                    </td><td>58800</td><td>1500</td><td>34</td><td>66600</td></tr>\n",
       "\t<tr><td><span style=white-space:pre-wrap>Texas A &amp; M University-College Station             </span></td><td>55100</td><td>1180</td><td>26</td><td>23900</td></tr>\n",
       "\t<tr><td>University of California-San Diego                 </td><td>53700</td><td>1280</td><td>28</td><td>32500</td></tr>\n",
       "\t<tr><td>University of Florida                              </td><td>49700</td><td>1270</td><td>29</td><td>21400</td></tr>\n",
       "\t<tr><td>University of California-Irvine                    </td><td>50600</td><td>1130</td><td>24</td><td>32900</td></tr>\n",
       "\t<tr><td>University of California-Davis                     </td><td>51000</td><td>1200</td><td>26</td><td>35100</td></tr>\n",
       "\t<tr><td>Virginia Polytechnic Institute and State University</td><td>55300</td><td>1220</td><td>25</td><td>26900</td></tr>\n",
       "\t<tr><td>University of Maryland-College Park                </td><td>54500</td><td>1310</td><td>28</td><td>25300</td></tr>\n",
       "\t<tr><td>University of California-Los Angeles               </td><td>52200</td><td>1300</td><td>28</td><td>34300</td></tr>\n",
       "\t<tr><td>Clemson University                                 </td><td>53100</td><td>1250</td><td>29</td><td>30300</td></tr>\n",
       "\t<tr><td>University of Illinois at Urbana-Champaign         </td><td>56800</td><td>1360</td><td>29</td><td>30800</td></tr>\n",
       "\t<tr><td>Pomona College                                     </td><td>49200</td><td>1460</td><td>33</td><td>65200</td></tr>\n",
       "\t<tr><td>California Institute of Technology                 </td><td>76000</td><td>1550</td><td>34</td><td>63500</td></tr>\n",
       "\t<tr><td>Saint Johns University                             </td><td>47400</td><td>1100</td><td>26</td><td>52400</td></tr>\n",
       "\t<tr><td>University of Pennsylvania                         </td><td>60700</td><td>1450</td><td>32</td><td>66800</td></tr>\n",
       "\t<tr><td>Vanderbilt University                              </td><td>58300</td><td>1490</td><td>33</td><td>64800</td></tr>\n",
       "\t<tr><td>Earlham College                                    </td><td>45600</td><td>1250</td><td>29</td><td>56700</td></tr>\n",
       "\t<tr><td>Washington and Lee University                      </td><td>53900</td><td>1390</td><td>32</td><td>62500</td></tr>\n",
       "\t<tr><td>University of Washington-Seattle Campus            </td><td>54000</td><td>1230</td><td>28</td><td>27800</td></tr>\n",
       "\t<tr><td>⋮</td><td>⋮</td><td>⋮</td><td>⋮</td><td>⋮</td></tr>\n",
       "\t<tr><td>Belmont University                                      </td><td>40300</td><td>1170</td><td>27</td><td>47200</td></tr>\n",
       "\t<tr><td>King's College                                          </td><td>39400</td><td>1130</td><td>23</td><td>49200</td></tr>\n",
       "\t<tr><td>Ringling College of Art and Design                      </td><td>41600</td><td>1200</td><td>25</td><td>61100</td></tr>\n",
       "\t<tr><td>Point Park University                                   </td><td>38700</td><td> 990</td><td>22</td><td>42700</td></tr>\n",
       "\t<tr><td>Alcorn State University                                 </td><td>39000</td><td> 880</td><td>18</td><td>22300</td></tr>\n",
       "\t<tr><td>Guilford College                                        </td><td>37600</td><td>1070</td><td>23</td><td>49100</td></tr>\n",
       "\t<tr><td>Maryland Institute College of Art                       </td><td>40500</td><td>1180</td><td>24</td><td>59400</td></tr>\n",
       "\t<tr><td>Lasell College                                          </td><td>40300</td><td> 980</td><td>21</td><td>49200</td></tr>\n",
       "\t<tr><td>Seton Hill University                                   </td><td>37900</td><td>1030</td><td>23</td><td>47300</td></tr>\n",
       "\t<tr><td>Edinboro University of Pennsylvania                     </td><td>37500</td><td> 930</td><td>20</td><td>21900</td></tr>\n",
       "\t<tr><td>SUNY College of Agriculture and Technology at Cobleskill</td><td>34400</td><td> 990</td><td>19</td><td>24200</td></tr>\n",
       "\t<tr><td>Roger Williams University                               </td><td>47900</td><td>1200</td><td>25</td><td>52000</td></tr>\n",
       "\t<tr><td>The New School                                          </td><td>45600</td><td>1130</td><td>25</td><td>64800</td></tr>\n",
       "\t<tr><td>Bennett College                                         </td><td>39601</td><td> 980</td><td>19</td><td>32300</td></tr>\n",
       "\t<tr><td>University of Dubuque                                   </td><td>35300</td><td> 910</td><td>20</td><td>39100</td></tr>\n",
       "\t<tr><td>Arizona Christian University                            </td><td>36600</td><td>1040</td><td>23</td><td>37500</td></tr>\n",
       "\t<tr><td>Arcadia University                                      </td><td>36300</td><td>1090</td><td>25</td><td>55700</td></tr>\n",
       "\t<tr><td>University of Valley Forge                              </td><td>34300</td><td> 970</td><td>22</td><td>33700</td></tr>\n",
       "\t<tr><td>Carthage College                                        </td><td>41500</td><td>1100</td><td>24</td><td>52300</td></tr>\n",
       "\t<tr><td>Winthrop University                                     </td><td>37800</td><td>1030</td><td>22</td><td>27300</td></tr>\n",
       "\t<tr><td>Lindsey Wilson College                                  </td><td>28300</td><td>1040</td><td>20</td><td>39000</td></tr>\n",
       "\t<tr><td>Kent State University at Kent                           </td><td>40600</td><td>1040</td><td>23</td><td>26600</td></tr>\n",
       "\t<tr><td>Hope International University                           </td><td>40000</td><td> 960</td><td>20</td><td>42500</td></tr>\n",
       "\t<tr><td>The University of Tampa                                 </td><td>41200</td><td>1070</td><td>24</td><td>41800</td></tr>\n",
       "\t<tr><td>North Carolina Central University                       </td><td>36300</td><td> 860</td><td>18</td><td>19600</td></tr>\n",
       "\t<tr><td>Claflin University                                      </td><td>36800</td><td> 880</td><td>18</td><td>33900</td></tr>\n",
       "\t<tr><td>Savannah College of Art and Design                      </td><td>40400</td><td>1060</td><td>24</td><td>54700</td></tr>\n",
       "\t<tr><td>High Point University                                   </td><td>41000</td><td>1090</td><td>24</td><td>48600</td></tr>\n",
       "\t<tr><td>Oakwood University                                      </td><td>38900</td><td> 920</td><td>20</td><td>37200</td></tr>\n",
       "\t<tr><td>Miles College                                           </td><td>31300</td><td>1030</td><td>20</td><td>23500</td></tr>\n",
       "</tbody>\n",
       "</table>\n"
      ],
      "text/latex": [
       "A data.frame: 706 × 5\n",
       "\\begin{tabular}{lllll}\n",
       " school & earn & sat & act & price\\\\\n",
       " <fct> & <int> & <int> & <int> & <int>\\\\\n",
       "\\hline\n",
       "\t Princeton University                                & 62800 & 1510 & 33 & 61300\\\\\n",
       "\t University of Michigan-Ann Arbor                    & 59000 & 1380 & 30 & 28100\\\\\n",
       "\t Harvard University                                  & 62900 & 1510 & 34 & 64800\\\\\n",
       "\t Rice University                                     & 63700 & 1460 & 33 & 58600\\\\\n",
       "\t University of California-Berkeley                   & 60300 & 1360 & 30 & 35700\\\\\n",
       "\t Brigham Young University-Provo                      & 51800 & 1260 & 29 & 18500\\\\\n",
       "\t Amherst College                                     & 53400 & 1440 & 32 & 66600\\\\\n",
       "\t Cooper Union for the Advancement of Science and Art & 63200 & 1360 & 31 & 62800\\\\\n",
       "\t University of Virginia-Main Campus                  & 55400 & 1360 & 31 & 28100\\\\\n",
       "\t Stanford University                                 & 68600 & 1480 & 33 & 65300\\\\\n",
       "\t Massachusetts Institute of Technology               & 74800 & 1500 & 34 & 63500\\\\\n",
       "\t Yale University                                     & 58800 & 1500 & 34 & 66600\\\\\n",
       "\t Texas A \\& M University-College Station              & 55100 & 1180 & 26 & 23900\\\\\n",
       "\t University of California-San Diego                  & 53700 & 1280 & 28 & 32500\\\\\n",
       "\t University of Florida                               & 49700 & 1270 & 29 & 21400\\\\\n",
       "\t University of California-Irvine                     & 50600 & 1130 & 24 & 32900\\\\\n",
       "\t University of California-Davis                      & 51000 & 1200 & 26 & 35100\\\\\n",
       "\t Virginia Polytechnic Institute and State University & 55300 & 1220 & 25 & 26900\\\\\n",
       "\t University of Maryland-College Park                 & 54500 & 1310 & 28 & 25300\\\\\n",
       "\t University of California-Los Angeles                & 52200 & 1300 & 28 & 34300\\\\\n",
       "\t Clemson University                                  & 53100 & 1250 & 29 & 30300\\\\\n",
       "\t University of Illinois at Urbana-Champaign          & 56800 & 1360 & 29 & 30800\\\\\n",
       "\t Pomona College                                      & 49200 & 1460 & 33 & 65200\\\\\n",
       "\t California Institute of Technology                  & 76000 & 1550 & 34 & 63500\\\\\n",
       "\t Saint Johns University                              & 47400 & 1100 & 26 & 52400\\\\\n",
       "\t University of Pennsylvania                          & 60700 & 1450 & 32 & 66800\\\\\n",
       "\t Vanderbilt University                               & 58300 & 1490 & 33 & 64800\\\\\n",
       "\t Earlham College                                     & 45600 & 1250 & 29 & 56700\\\\\n",
       "\t Washington and Lee University                       & 53900 & 1390 & 32 & 62500\\\\\n",
       "\t University of Washington-Seattle Campus             & 54000 & 1230 & 28 & 27800\\\\\n",
       "\t ⋮ & ⋮ & ⋮ & ⋮ & ⋮\\\\\n",
       "\t Belmont University                                       & 40300 & 1170 & 27 & 47200\\\\\n",
       "\t King's College                                           & 39400 & 1130 & 23 & 49200\\\\\n",
       "\t Ringling College of Art and Design                       & 41600 & 1200 & 25 & 61100\\\\\n",
       "\t Point Park University                                    & 38700 &  990 & 22 & 42700\\\\\n",
       "\t Alcorn State University                                  & 39000 &  880 & 18 & 22300\\\\\n",
       "\t Guilford College                                         & 37600 & 1070 & 23 & 49100\\\\\n",
       "\t Maryland Institute College of Art                        & 40500 & 1180 & 24 & 59400\\\\\n",
       "\t Lasell College                                           & 40300 &  980 & 21 & 49200\\\\\n",
       "\t Seton Hill University                                    & 37900 & 1030 & 23 & 47300\\\\\n",
       "\t Edinboro University of Pennsylvania                      & 37500 &  930 & 20 & 21900\\\\\n",
       "\t SUNY College of Agriculture and Technology at Cobleskill & 34400 &  990 & 19 & 24200\\\\\n",
       "\t Roger Williams University                                & 47900 & 1200 & 25 & 52000\\\\\n",
       "\t The New School                                           & 45600 & 1130 & 25 & 64800\\\\\n",
       "\t Bennett College                                          & 39601 &  980 & 19 & 32300\\\\\n",
       "\t University of Dubuque                                    & 35300 &  910 & 20 & 39100\\\\\n",
       "\t Arizona Christian University                             & 36600 & 1040 & 23 & 37500\\\\\n",
       "\t Arcadia University                                       & 36300 & 1090 & 25 & 55700\\\\\n",
       "\t University of Valley Forge                               & 34300 &  970 & 22 & 33700\\\\\n",
       "\t Carthage College                                         & 41500 & 1100 & 24 & 52300\\\\\n",
       "\t Winthrop University                                      & 37800 & 1030 & 22 & 27300\\\\\n",
       "\t Lindsey Wilson College                                   & 28300 & 1040 & 20 & 39000\\\\\n",
       "\t Kent State University at Kent                            & 40600 & 1040 & 23 & 26600\\\\\n",
       "\t Hope International University                            & 40000 &  960 & 20 & 42500\\\\\n",
       "\t The University of Tampa                                  & 41200 & 1070 & 24 & 41800\\\\\n",
       "\t North Carolina Central University                        & 36300 &  860 & 18 & 19600\\\\\n",
       "\t Claflin University                                       & 36800 &  880 & 18 & 33900\\\\\n",
       "\t Savannah College of Art and Design                       & 40400 & 1060 & 24 & 54700\\\\\n",
       "\t High Point University                                    & 41000 & 1090 & 24 & 48600\\\\\n",
       "\t Oakwood University                                       & 38900 &  920 & 20 & 37200\\\\\n",
       "\t Miles College                                            & 31300 & 1030 & 20 & 23500\\\\\n",
       "\\end{tabular}\n"
      ],
      "text/markdown": [
       "\n",
       "A data.frame: 706 × 5\n",
       "\n",
       "| school &lt;fct&gt; | earn &lt;int&gt; | sat &lt;int&gt; | act &lt;int&gt; | price &lt;int&gt; |\n",
       "|---|---|---|---|---|\n",
       "| Princeton University                                | 62800 | 1510 | 33 | 61300 |\n",
       "| University of Michigan-Ann Arbor                    | 59000 | 1380 | 30 | 28100 |\n",
       "| Harvard University                                  | 62900 | 1510 | 34 | 64800 |\n",
       "| Rice University                                     | 63700 | 1460 | 33 | 58600 |\n",
       "| University of California-Berkeley                   | 60300 | 1360 | 30 | 35700 |\n",
       "| Brigham Young University-Provo                      | 51800 | 1260 | 29 | 18500 |\n",
       "| Amherst College                                     | 53400 | 1440 | 32 | 66600 |\n",
       "| Cooper Union for the Advancement of Science and Art | 63200 | 1360 | 31 | 62800 |\n",
       "| University of Virginia-Main Campus                  | 55400 | 1360 | 31 | 28100 |\n",
       "| Stanford University                                 | 68600 | 1480 | 33 | 65300 |\n",
       "| Massachusetts Institute of Technology               | 74800 | 1500 | 34 | 63500 |\n",
       "| Yale University                                     | 58800 | 1500 | 34 | 66600 |\n",
       "| Texas A &amp; M University-College Station              | 55100 | 1180 | 26 | 23900 |\n",
       "| University of California-San Diego                  | 53700 | 1280 | 28 | 32500 |\n",
       "| University of Florida                               | 49700 | 1270 | 29 | 21400 |\n",
       "| University of California-Irvine                     | 50600 | 1130 | 24 | 32900 |\n",
       "| University of California-Davis                      | 51000 | 1200 | 26 | 35100 |\n",
       "| Virginia Polytechnic Institute and State University | 55300 | 1220 | 25 | 26900 |\n",
       "| University of Maryland-College Park                 | 54500 | 1310 | 28 | 25300 |\n",
       "| University of California-Los Angeles                | 52200 | 1300 | 28 | 34300 |\n",
       "| Clemson University                                  | 53100 | 1250 | 29 | 30300 |\n",
       "| University of Illinois at Urbana-Champaign          | 56800 | 1360 | 29 | 30800 |\n",
       "| Pomona College                                      | 49200 | 1460 | 33 | 65200 |\n",
       "| California Institute of Technology                  | 76000 | 1550 | 34 | 63500 |\n",
       "| Saint Johns University                              | 47400 | 1100 | 26 | 52400 |\n",
       "| University of Pennsylvania                          | 60700 | 1450 | 32 | 66800 |\n",
       "| Vanderbilt University                               | 58300 | 1490 | 33 | 64800 |\n",
       "| Earlham College                                     | 45600 | 1250 | 29 | 56700 |\n",
       "| Washington and Lee University                       | 53900 | 1390 | 32 | 62500 |\n",
       "| University of Washington-Seattle Campus             | 54000 | 1230 | 28 | 27800 |\n",
       "| ⋮ | ⋮ | ⋮ | ⋮ | ⋮ |\n",
       "| Belmont University                                       | 40300 | 1170 | 27 | 47200 |\n",
       "| King's College                                           | 39400 | 1130 | 23 | 49200 |\n",
       "| Ringling College of Art and Design                       | 41600 | 1200 | 25 | 61100 |\n",
       "| Point Park University                                    | 38700 |  990 | 22 | 42700 |\n",
       "| Alcorn State University                                  | 39000 |  880 | 18 | 22300 |\n",
       "| Guilford College                                         | 37600 | 1070 | 23 | 49100 |\n",
       "| Maryland Institute College of Art                        | 40500 | 1180 | 24 | 59400 |\n",
       "| Lasell College                                           | 40300 |  980 | 21 | 49200 |\n",
       "| Seton Hill University                                    | 37900 | 1030 | 23 | 47300 |\n",
       "| Edinboro University of Pennsylvania                      | 37500 |  930 | 20 | 21900 |\n",
       "| SUNY College of Agriculture and Technology at Cobleskill | 34400 |  990 | 19 | 24200 |\n",
       "| Roger Williams University                                | 47900 | 1200 | 25 | 52000 |\n",
       "| The New School                                           | 45600 | 1130 | 25 | 64800 |\n",
       "| Bennett College                                          | 39601 |  980 | 19 | 32300 |\n",
       "| University of Dubuque                                    | 35300 |  910 | 20 | 39100 |\n",
       "| Arizona Christian University                             | 36600 | 1040 | 23 | 37500 |\n",
       "| Arcadia University                                       | 36300 | 1090 | 25 | 55700 |\n",
       "| University of Valley Forge                               | 34300 |  970 | 22 | 33700 |\n",
       "| Carthage College                                         | 41500 | 1100 | 24 | 52300 |\n",
       "| Winthrop University                                      | 37800 | 1030 | 22 | 27300 |\n",
       "| Lindsey Wilson College                                   | 28300 | 1040 | 20 | 39000 |\n",
       "| Kent State University at Kent                            | 40600 | 1040 | 23 | 26600 |\n",
       "| Hope International University                            | 40000 |  960 | 20 | 42500 |\n",
       "| The University of Tampa                                  | 41200 | 1070 | 24 | 41800 |\n",
       "| North Carolina Central University                        | 36300 |  860 | 18 | 19600 |\n",
       "| Claflin University                                       | 36800 |  880 | 18 | 33900 |\n",
       "| Savannah College of Art and Design                       | 40400 | 1060 | 24 | 54700 |\n",
       "| High Point University                                    | 41000 | 1090 | 24 | 48600 |\n",
       "| Oakwood University                                       | 38900 |  920 | 20 | 37200 |\n",
       "| Miles College                                            | 31300 | 1030 | 20 | 23500 |\n",
       "\n"
      ],
      "text/plain": [
       "    school                                                   earn  sat  act\n",
       "1   Princeton University                                     62800 1510 33 \n",
       "2   University of Michigan-Ann Arbor                         59000 1380 30 \n",
       "3   Harvard University                                       62900 1510 34 \n",
       "4   Rice University                                          63700 1460 33 \n",
       "5   University of California-Berkeley                        60300 1360 30 \n",
       "6   Brigham Young University-Provo                           51800 1260 29 \n",
       "7   Amherst College                                          53400 1440 32 \n",
       "8   Cooper Union for the Advancement of Science and Art      63200 1360 31 \n",
       "9   University of Virginia-Main Campus                       55400 1360 31 \n",
       "10  Stanford University                                      68600 1480 33 \n",
       "11  Massachusetts Institute of Technology                    74800 1500 34 \n",
       "12  Yale University                                          58800 1500 34 \n",
       "13  Texas A & M University-College Station                   55100 1180 26 \n",
       "14  University of California-San Diego                       53700 1280 28 \n",
       "15  University of Florida                                    49700 1270 29 \n",
       "16  University of California-Irvine                          50600 1130 24 \n",
       "17  University of California-Davis                           51000 1200 26 \n",
       "18  Virginia Polytechnic Institute and State University      55300 1220 25 \n",
       "19  University of Maryland-College Park                      54500 1310 28 \n",
       "20  University of California-Los Angeles                     52200 1300 28 \n",
       "21  Clemson University                                       53100 1250 29 \n",
       "22  University of Illinois at Urbana-Champaign               56800 1360 29 \n",
       "23  Pomona College                                           49200 1460 33 \n",
       "24  California Institute of Technology                       76000 1550 34 \n",
       "25  Saint Johns University                                   47400 1100 26 \n",
       "26  University of Pennsylvania                               60700 1450 32 \n",
       "27  Vanderbilt University                                    58300 1490 33 \n",
       "28  Earlham College                                          45600 1250 29 \n",
       "29  Washington and Lee University                            53900 1390 32 \n",
       "30  University of Washington-Seattle Campus                  54000 1230 28 \n",
       "⋮   ⋮                                                        ⋮     ⋮    ⋮  \n",
       "677 Belmont University                                       40300 1170 27 \n",
       "678 King's College                                           39400 1130 23 \n",
       "679 Ringling College of Art and Design                       41600 1200 25 \n",
       "680 Point Park University                                    38700  990 22 \n",
       "681 Alcorn State University                                  39000  880 18 \n",
       "682 Guilford College                                         37600 1070 23 \n",
       "683 Maryland Institute College of Art                        40500 1180 24 \n",
       "684 Lasell College                                           40300  980 21 \n",
       "685 Seton Hill University                                    37900 1030 23 \n",
       "686 Edinboro University of Pennsylvania                      37500  930 20 \n",
       "687 SUNY College of Agriculture and Technology at Cobleskill 34400  990 19 \n",
       "688 Roger Williams University                                47900 1200 25 \n",
       "689 The New School                                           45600 1130 25 \n",
       "690 Bennett College                                          39601  980 19 \n",
       "691 University of Dubuque                                    35300  910 20 \n",
       "692 Arizona Christian University                             36600 1040 23 \n",
       "693 Arcadia University                                       36300 1090 25 \n",
       "694 University of Valley Forge                               34300  970 22 \n",
       "695 Carthage College                                         41500 1100 24 \n",
       "696 Winthrop University                                      37800 1030 22 \n",
       "697 Lindsey Wilson College                                   28300 1040 20 \n",
       "698 Kent State University at Kent                            40600 1040 23 \n",
       "699 Hope International University                            40000  960 20 \n",
       "700 The University of Tampa                                  41200 1070 24 \n",
       "701 North Carolina Central University                        36300  860 18 \n",
       "702 Claflin University                                       36800  880 18 \n",
       "703 Savannah College of Art and Design                       40400 1060 24 \n",
       "704 High Point University                                    41000 1090 24 \n",
       "705 Oakwood University                                       38900  920 20 \n",
       "706 Miles College                                            31300 1030 20 \n",
       "    price\n",
       "1   61300\n",
       "2   28100\n",
       "3   64800\n",
       "4   58600\n",
       "5   35700\n",
       "6   18500\n",
       "7   66600\n",
       "8   62800\n",
       "9   28100\n",
       "10  65300\n",
       "11  63500\n",
       "12  66600\n",
       "13  23900\n",
       "14  32500\n",
       "15  21400\n",
       "16  32900\n",
       "17  35100\n",
       "18  26900\n",
       "19  25300\n",
       "20  34300\n",
       "21  30300\n",
       "22  30800\n",
       "23  65200\n",
       "24  63500\n",
       "25  52400\n",
       "26  66800\n",
       "27  64800\n",
       "28  56700\n",
       "29  62500\n",
       "30  27800\n",
       "⋮   ⋮    \n",
       "677 47200\n",
       "678 49200\n",
       "679 61100\n",
       "680 42700\n",
       "681 22300\n",
       "682 49100\n",
       "683 59400\n",
       "684 49200\n",
       "685 47300\n",
       "686 21900\n",
       "687 24200\n",
       "688 52000\n",
       "689 64800\n",
       "690 32300\n",
       "691 39100\n",
       "692 37500\n",
       "693 55700\n",
       "694 33700\n",
       "695 52300\n",
       "696 27300\n",
       "697 39000\n",
       "698 26600\n",
       "699 42500\n",
       "700 41800\n",
       "701 19600\n",
       "702 33900\n",
       "703 54700\n",
       "704 48600\n",
       "705 37200\n",
       "706 23500"
      ]
     },
     "metadata": {},
     "output_type": "display_data"
    }
   ],
   "source": [
    "college"
   ]
  },
  {
   "cell_type": "code",
   "execution_count": 15,
   "metadata": {
    "deletable": false,
    "nbgrader": {
     "cell_type": "code",
     "checksum": "0e7aaa9419386c3b1cc694b54d0b8d07",
     "grade": false,
     "grade_id": "cell-691714c151c81e0c",
     "locked": false,
     "schema_version": 3,
     "solution": true,
     "task": false
    }
   },
   "outputs": [
    {
     "data": {
      "text/html": [
       "<table>\n",
       "<caption>A matrix: 706 × 706 of type dbl</caption>\n",
       "<thead>\n",
       "\t<tr><th></th><th scope=col>1</th><th scope=col>2</th><th scope=col>3</th><th scope=col>4</th><th scope=col>5</th><th scope=col>6</th><th scope=col>7</th><th scope=col>8</th><th scope=col>9</th><th scope=col>10</th><th scope=col>⋯</th><th scope=col>697</th><th scope=col>698</th><th scope=col>699</th><th scope=col>700</th><th scope=col>701</th><th scope=col>702</th><th scope=col>703</th><th scope=col>704</th><th scope=col>705</th><th scope=col>706</th></tr>\n",
       "</thead>\n",
       "<tbody>\n",
       "\t<tr><th scope=row>1</th><td>0.011727602</td><td>0.0080872686</td><td>0.011727602</td><td>0.0103274739</td><td>0.0075272172</td><td>0.004726961</td><td>0.0097674225</td><td>0.0075272172</td><td>0.0075272172</td><td>0.0108875252</td><td>⋯</td><td>-0.0014336040</td><td>-0.0014336040</td><td>-3.673809e-03</td><td>-5.935270e-04</td><td>-0.0064740659</td><td>-0.0059140146</td><td>-8.735526e-04</td><td>-3.347565e-05</td><td>-4.793912e-03</td><td>-1.713630e-03</td></tr>\n",
       "\t<tr><th scope=row>2</th><td>0.008087269</td><td>0.0057321457</td><td>0.008087269</td><td>0.0071814521</td><td>0.0053698191</td><td>0.003558186</td><td>0.0068191255</td><td>0.0053698191</td><td>0.0053698191</td><td>0.0075437787</td><td>⋯</td><td>-0.0004274063</td><td>-0.0004274063</td><td>-1.876713e-03</td><td> 1.160836e-04</td><td>-0.0036883456</td><td>-0.0033260190</td><td>-6.507972e-05</td><td> 4.784102e-04</td><td>-2.601366e-03</td><td>-6.085696e-04</td></tr>\n",
       "\t<tr><th scope=row>3</th><td>0.011727602</td><td>0.0080872686</td><td>0.011727602</td><td>0.0103274739</td><td>0.0075272172</td><td>0.004726961</td><td>0.0097674225</td><td>0.0075272172</td><td>0.0075272172</td><td>0.0108875252</td><td>⋯</td><td>-0.0014336040</td><td>-0.0014336040</td><td>-3.673809e-03</td><td>-5.935270e-04</td><td>-0.0064740659</td><td>-0.0059140146</td><td>-8.735526e-04</td><td>-3.347565e-05</td><td>-4.793912e-03</td><td>-1.713630e-03</td></tr>\n",
       "\t<tr><th scope=row>4</th><td>0.010327474</td><td>0.0071814521</td><td>0.010327474</td><td>0.0091174655</td><td>0.0066974487</td><td>0.004277432</td><td>0.0086334621</td><td>0.0066974487</td><td>0.0066974487</td><td>0.0096014688</td><td>⋯</td><td>-0.0010466049</td><td>-0.0010466049</td><td>-2.982618e-03</td><td>-3.205998e-04</td><td>-0.0054026350</td><td>-0.0049186317</td><td>-5.626015e-04</td><td> 1.634035e-04</td><td>-3.950625e-03</td><td>-1.288607e-03</td></tr>\n",
       "\t<tr><th scope=row>5</th><td>0.007527217</td><td>0.0053698191</td><td>0.007527217</td><td>0.0066974487</td><td>0.0050379117</td><td>0.003378375</td><td>0.0063655413</td><td>0.0050379117</td><td>0.0050379117</td><td>0.0070293561</td><td>⋯</td><td>-0.0002726067</td><td>-0.0002726067</td><td>-1.600236e-03</td><td> 2.252544e-04</td><td>-0.0032597733</td><td>-0.0029278659</td><td> 5.930072e-05</td><td> 5.571618e-04</td><td>-2.264051e-03</td><td>-4.385604e-04</td></tr>\n",
       "\t<tr><th scope=row>6</th><td>0.004726961</td><td>0.0035581862</td><td>0.004726961</td><td>0.0042774320</td><td>0.0033783747</td><td>0.002479317</td><td>0.0040976205</td><td>0.0033783747</td><td>0.0033783747</td><td>0.0044572434</td><td>⋯</td><td> 0.0005013915</td><td> 0.0005013915</td><td>-2.178543e-04</td><td> 7.711087e-04</td><td>-0.0011169115</td><td>-0.0009371001</td><td> 6.812030e-04</td><td> 9.509201e-04</td><td>-5.774772e-04</td><td> 4.114858e-04</td></tr>\n",
       "\t<tr><th scope=row>7</th><td>0.009767423</td><td>0.0068191255</td><td>0.009767423</td><td>0.0086334621</td><td>0.0063655413</td><td>0.004097621</td><td>0.0081798780</td><td>0.0063655413</td><td>0.0063655413</td><td>0.0090870463</td><td>⋯</td><td>-0.0008918052</td><td>-0.0008918052</td><td>-2.706142e-03</td><td>-2.114290e-04</td><td>-0.0049740627</td><td>-0.0045204785</td><td>-4.382211e-04</td><td> 2.421552e-04</td><td>-3.613310e-03</td><td>-1.118597e-03</td></tr>\n",
       "\t<tr><th scope=row>8</th><td>0.007527217</td><td>0.0053698191</td><td>0.007527217</td><td>0.0066974487</td><td>0.0050379117</td><td>0.003378375</td><td>0.0063655413</td><td>0.0050379117</td><td>0.0050379117</td><td>0.0070293561</td><td>⋯</td><td>-0.0002726067</td><td>-0.0002726067</td><td>-1.600236e-03</td><td> 2.252544e-04</td><td>-0.0032597733</td><td>-0.0029278659</td><td> 5.930072e-05</td><td> 5.571618e-04</td><td>-2.264051e-03</td><td>-4.385604e-04</td></tr>\n",
       "\t<tr><th scope=row>9</th><td>0.007527217</td><td>0.0053698191</td><td>0.007527217</td><td>0.0066974487</td><td>0.0050379117</td><td>0.003378375</td><td>0.0063655413</td><td>0.0050379117</td><td>0.0050379117</td><td>0.0070293561</td><td>⋯</td><td>-0.0002726067</td><td>-0.0002726067</td><td>-1.600236e-03</td><td> 2.252544e-04</td><td>-0.0032597733</td><td>-0.0029278659</td><td> 5.930072e-05</td><td> 5.571618e-04</td><td>-2.264051e-03</td><td>-4.385604e-04</td></tr>\n",
       "\t<tr><th scope=row>10</th><td>0.010887525</td><td>0.0075437787</td><td>0.010887525</td><td>0.0096014688</td><td>0.0070293561</td><td>0.004457243</td><td>0.0090870463</td><td>0.0070293561</td><td>0.0070293561</td><td>0.0101158914</td><td>⋯</td><td>-0.0012014045</td><td>-0.0012014045</td><td>-3.259095e-03</td><td>-4.297707e-04</td><td>-0.0058312074</td><td>-0.0053167848</td><td>-6.869820e-04</td><td> 8.465184e-05</td><td>-4.287940e-03</td><td>-1.458616e-03</td></tr>\n",
       "\t<tr><th scope=row>11</th><td>0.011447577</td><td>0.0079061053</td><td>0.011447577</td><td>0.0100854722</td><td>0.0073612635</td><td>0.004637055</td><td>0.0095406305</td><td>0.0073612635</td><td>0.0073612635</td><td>0.0106303139</td><td>⋯</td><td>-0.0013562041</td><td>-0.0013562041</td><td>-3.535571e-03</td><td>-5.389415e-04</td><td>-0.0062597797</td><td>-0.0057149380</td><td>-8.113624e-04</td><td> 5.900181e-06</td><td>-4.625255e-03</td><td>-1.628625e-03</td></tr>\n",
       "\t<tr><th scope=row>12</th><td>0.011447577</td><td>0.0079061053</td><td>0.011447577</td><td>0.0100854722</td><td>0.0073612635</td><td>0.004637055</td><td>0.0095406305</td><td>0.0073612635</td><td>0.0073612635</td><td>0.0106303139</td><td>⋯</td><td>-0.0013562041</td><td>-0.0013562041</td><td>-3.535571e-03</td><td>-5.389415e-04</td><td>-0.0062597797</td><td>-0.0057149380</td><td>-8.113624e-04</td><td> 5.900181e-06</td><td>-4.625255e-03</td><td>-1.628625e-03</td></tr>\n",
       "\t<tr><th scope=row>13</th><td>0.002486755</td><td>0.0021088798</td><td>0.002486755</td><td>0.0023414186</td><td>0.0020507451</td><td>0.001760072</td><td>0.0022832839</td><td>0.0020507451</td><td>0.0020507451</td><td>0.0023995533</td><td>⋯</td><td> 0.0011205901</td><td> 0.0011205901</td><td> 8.880513e-04</td><td> 1.207792e-03</td><td> 0.0005973778</td><td> 0.0006555125</td><td> 1.178725e-03</td><td> 1.265927e-03</td><td> 7.717819e-04</td><td> 1.091523e-03</td></tr>\n",
       "\t<tr><th scope=row>14</th><td>0.005287012</td><td>0.0039205128</td><td>0.005287012</td><td>0.0047614353</td><td>0.0037102821</td><td>0.002659129</td><td>0.0045512047</td><td>0.0037102821</td><td>0.0037102821</td><td>0.0049716660</td><td>⋯</td><td> 0.0003465919</td><td> 0.0003465919</td><td>-4.943307e-04</td><td> 6.619378e-04</td><td>-0.0015454839</td><td>-0.0013352533</td><td> 5.568225e-04</td><td> 8.721685e-04</td><td>-9.147920e-04</td><td> 2.414766e-04</td></tr>\n",
       "\t<tr><th scope=row>15</th><td>0.005006986</td><td>0.0037393495</td><td>0.005006986</td><td>0.0045194337</td><td>0.0035443284</td><td>0.002569223</td><td>0.0043244126</td><td>0.0035443284</td><td>0.0035443284</td><td>0.0047144547</td><td>⋯</td><td> 0.0004239917</td><td> 0.0004239917</td><td>-3.560925e-04</td><td> 7.165233e-04</td><td>-0.0013311977</td><td>-0.0011361767</td><td> 6.190127e-04</td><td> 9.115443e-04</td><td>-7.461346e-04</td><td> 3.264812e-04</td></tr>\n",
       "\t<tr><th scope=row>16</th><td>0.001086627</td><td>0.0012030633</td><td>0.001086627</td><td>0.0011314102</td><td>0.0012209766</td><td>0.001310543</td><td>0.0011493235</td><td>0.0012209766</td><td>0.0012209766</td><td>0.0011134969</td><td>⋯</td><td> 0.0015075892</td><td> 0.0015075892</td><td> 1.579242e-03</td><td> 1.480719e-03</td><td> 0.0016688087</td><td> 0.0016508954</td><td> 1.489676e-03</td><td> 1.462806e-03</td><td> 1.615069e-03</td><td> 1.516546e-03</td></tr>\n",
       "\t<tr><th scope=row>17</th><td>0.003046807</td><td>0.0024712064</td><td>0.003046807</td><td>0.0028254219</td><td>0.0023826525</td><td>0.001939883</td><td>0.0027368681</td><td>0.0023826525</td><td>0.0023826525</td><td>0.0029139758</td><td>⋯</td><td> 0.0009657904</td><td> 0.0009657904</td><td> 6.115749e-04</td><td> 1.098621e-03</td><td> 0.0001688055</td><td> 0.0002573594</td><td> 1.054344e-03</td><td> 1.187175e-03</td><td> 4.344671e-04</td><td> 9.215135e-04</td></tr>\n",
       "\t<tr><th scope=row>18</th><td>0.003606858</td><td>0.0028335330</td><td>0.003606858</td><td>0.0033094253</td><td>0.0027145599</td><td>0.002119695</td><td>0.0031904522</td><td>0.0027145599</td><td>0.0027145599</td><td>0.0034283984</td><td>⋯</td><td> 0.0008109908</td><td> 0.0008109908</td><td> 3.350985e-04</td><td> 9.894504e-04</td><td>-0.0002597668</td><td>-0.0001407938</td><td> 9.299639e-04</td><td> 1.108423e-03</td><td> 9.715237e-05</td><td> 7.515043e-04</td></tr>\n",
       "\t<tr><th scope=row>19</th><td>0.006127089</td><td>0.0044640027</td><td>0.006127089</td><td>0.0054874404</td><td>0.0042081432</td><td>0.002928846</td><td>0.0052315809</td><td>0.0042081432</td><td>0.0042081432</td><td>0.0057432998</td><td>⋯</td><td> 0.0001143924</td><td> 0.0001143924</td><td>-9.090453e-04</td><td> 4.981816e-04</td><td>-0.0021883424</td><td>-0.0019324830</td><td> 3.702518e-04</td><td> 7.540410e-04</td><td>-1.420764e-03</td><td>-1.353729e-05</td></tr>\n",
       "\t<tr><th scope=row>20</th><td>0.005847063</td><td>0.0042828394</td><td>0.005847063</td><td>0.0052454387</td><td>0.0040421895</td><td>0.002838940</td><td>0.0050047889</td><td>0.0040421895</td><td>0.0040421895</td><td>0.0054860885</td><td>⋯</td><td> 0.0001917922</td><td> 0.0001917922</td><td>-7.708071e-04</td><td> 5.527670e-04</td><td>-0.0019740562</td><td>-0.0017334064</td><td> 4.324421e-04</td><td> 7.934168e-04</td><td>-1.252107e-03</td><td> 7.146732e-05</td></tr>\n",
       "\t<tr><th scope=row>21</th><td>0.004446935</td><td>0.0033770229</td><td>0.004446935</td><td>0.0040354303</td><td>0.0032124210</td><td>0.002389412</td><td>0.0038708285</td><td>0.0032124210</td><td>0.0032124210</td><td>0.0042000322</td><td>⋯</td><td> 0.0005787913</td><td> 0.0005787913</td><td>-7.961609e-05</td><td> 8.256941e-04</td><td>-0.0009026254</td><td>-0.0007380235</td><td> 7.433932e-04</td><td> 9.902960e-04</td><td>-4.088198e-04</td><td> 4.964904e-04</td></tr>\n",
       "\t<tr><th scope=row>22</th><td>0.007527217</td><td>0.0053698191</td><td>0.007527217</td><td>0.0066974487</td><td>0.0050379117</td><td>0.003378375</td><td>0.0063655413</td><td>0.0050379117</td><td>0.0050379117</td><td>0.0070293561</td><td>⋯</td><td>-0.0002726067</td><td>-0.0002726067</td><td>-1.600236e-03</td><td> 2.252544e-04</td><td>-0.0032597733</td><td>-0.0029278659</td><td> 5.930072e-05</td><td> 5.571618e-04</td><td>-2.264051e-03</td><td>-4.385604e-04</td></tr>\n",
       "\t<tr><th scope=row>23</th><td>0.010327474</td><td>0.0071814521</td><td>0.010327474</td><td>0.0091174655</td><td>0.0066974487</td><td>0.004277432</td><td>0.0086334621</td><td>0.0066974487</td><td>0.0066974487</td><td>0.0096014688</td><td>⋯</td><td>-0.0010466049</td><td>-0.0010466049</td><td>-2.982618e-03</td><td>-3.205998e-04</td><td>-0.0054026350</td><td>-0.0049186317</td><td>-5.626015e-04</td><td> 1.634035e-04</td><td>-3.950625e-03</td><td>-1.288607e-03</td></tr>\n",
       "\t<tr><th scope=row>24</th><td>0.012847705</td><td>0.0088119217</td><td>0.012847705</td><td>0.0112954806</td><td>0.0081910320</td><td>0.005086584</td><td>0.0106745909</td><td>0.0081910320</td><td>0.0081910320</td><td>0.0119163703</td><td>⋯</td><td>-0.0017432032</td><td>-0.0017432032</td><td>-4.226762e-03</td><td>-8.118687e-04</td><td>-0.0073312106</td><td>-0.0067103209</td><td>-1.122314e-03</td><td>-1.909790e-04</td><td>-5.468541e-03</td><td>-2.053648e-03</td></tr>\n",
       "\t<tr><th scope=row>25</th><td>0.000246550</td><td>0.0006595735</td><td>0.000246550</td><td>0.0004054052</td><td>0.0007231155</td><td>0.001040826</td><td>0.0004689473</td><td>0.0007231155</td><td>0.0007231155</td><td>0.0003418631</td><td>⋯</td><td> 0.0017397886</td><td> 0.0017397886</td><td> 1.993957e-03</td><td> 1.644476e-03</td><td> 0.0023116672</td><td> 0.0022481252</td><td> 1.676247e-03</td><td> 1.580933e-03</td><td> 2.121041e-03</td><td> 1.771560e-03</td></tr>\n",
       "\t<tr><th scope=row>26</th><td>0.010047448</td><td>0.0070002888</td><td>0.010047448</td><td>0.0088754638</td><td>0.0065314950</td><td>0.004187526</td><td>0.0084066701</td><td>0.0065314950</td><td>0.0065314950</td><td>0.0093442576</td><td>⋯</td><td>-0.0009692050</td><td>-0.0009692050</td><td>-2.844380e-03</td><td>-2.660144e-04</td><td>-0.0051883488</td><td>-0.0047195551</td><td>-5.004113e-04</td><td> 2.027793e-04</td><td>-3.781968e-03</td><td>-1.203602e-03</td></tr>\n",
       "\t<tr><th scope=row>27</th><td>0.011167551</td><td>0.0077249420</td><td>0.011167551</td><td>0.0098434705</td><td>0.0071953098</td><td>0.004547149</td><td>0.0093138384</td><td>0.0071953098</td><td>0.0071953098</td><td>0.0103731026</td><td>⋯</td><td>-0.0012788043</td><td>-0.0012788043</td><td>-3.397333e-03</td><td>-4.843561e-04</td><td>-0.0060454935</td><td>-0.0055158614</td><td>-7.491722e-04</td><td> 4.527601e-05</td><td>-4.456597e-03</td><td>-1.543620e-03</td></tr>\n",
       "\t<tr><th scope=row>28</th><td>0.004446935</td><td>0.0033770229</td><td>0.004446935</td><td>0.0040354303</td><td>0.0032124210</td><td>0.002389412</td><td>0.0038708285</td><td>0.0032124210</td><td>0.0032124210</td><td>0.0042000322</td><td>⋯</td><td> 0.0005787913</td><td> 0.0005787913</td><td>-7.961609e-05</td><td> 8.256941e-04</td><td>-0.0009026254</td><td>-0.0007380235</td><td> 7.433932e-04</td><td> 9.902960e-04</td><td>-4.088198e-04</td><td> 4.964904e-04</td></tr>\n",
       "\t<tr><th scope=row>29</th><td>0.008367294</td><td>0.0059133090</td><td>0.008367294</td><td>0.0074234538</td><td>0.0055357728</td><td>0.003648092</td><td>0.0070459176</td><td>0.0055357728</td><td>0.0055357728</td><td>0.0078009899</td><td>⋯</td><td>-0.0005048061</td><td>-0.0005048061</td><td>-2.014951e-03</td><td> 6.149814e-05</td><td>-0.0039026318</td><td>-0.0035250956</td><td>-1.272699e-04</td><td> 4.390343e-04</td><td>-2.770023e-03</td><td>-6.935742e-04</td></tr>\n",
       "\t<tr><th scope=row>30</th><td>0.003886884</td><td>0.0030146963</td><td>0.003886884</td><td>0.0035514270</td><td>0.0028805136</td><td>0.002209600</td><td>0.0034172443</td><td>0.0028805136</td><td>0.0028805136</td><td>0.0036856096</td><td>⋯</td><td> 0.0007335910</td><td> 0.0007335910</td><td> 1.968603e-04</td><td> 9.348650e-04</td><td>-0.0004740530</td><td>-0.0003398704</td><td> 8.677736e-04</td><td> 1.069048e-03</td><td>-7.150502e-05</td><td> 6.664996e-04</td></tr>\n",
       "\t<tr><th scope=row>⋮</th><td>⋮</td><td>⋮</td><td>⋮</td><td>⋮</td><td>⋮</td><td>⋮</td><td>⋮</td><td>⋮</td><td>⋮</td><td>⋮</td><td>⋱</td><td>⋮</td><td>⋮</td><td>⋮</td><td>⋮</td><td>⋮</td><td>⋮</td><td>⋮</td><td>⋮</td><td>⋮</td><td>⋮</td></tr>\n",
       "\t<tr><th scope=row>677</th><td> 2.206730e-03</td><td> 1.927717e-03</td><td> 2.206730e-03</td><td> 0.0020994169</td><td> 1.884791e-03</td><td> 1.670166e-03</td><td> 0.0020564918</td><td> 1.884791e-03</td><td> 1.884791e-03</td><td> 2.142342e-03</td><td>⋯</td><td>0.0011979899</td><td>0.0011979899</td><td>0.0010262895</td><td>0.001262378</td><td>0.0008116640</td><td>0.0008545891</td><td>0.001240915</td><td>0.001305303</td><td>0.0009404393</td><td>0.0011765273</td></tr>\n",
       "\t<tr><th scope=row>678</th><td> 1.086627e-03</td><td> 1.203063e-03</td><td> 1.086627e-03</td><td> 0.0011314102</td><td> 1.220977e-03</td><td> 1.310543e-03</td><td> 0.0011493235</td><td> 1.220977e-03</td><td> 1.220977e-03</td><td> 1.113497e-03</td><td>⋯</td><td>0.0015075892</td><td>0.0015075892</td><td>0.0015792423</td><td>0.001480719</td><td>0.0016688087</td><td>0.0016508954</td><td>0.001489676</td><td>0.001462806</td><td>0.0016150689</td><td>0.0015165458</td></tr>\n",
       "\t<tr><th scope=row>679</th><td> 3.046807e-03</td><td> 2.471206e-03</td><td> 3.046807e-03</td><td> 0.0028254219</td><td> 2.382653e-03</td><td> 1.939883e-03</td><td> 0.0027368681</td><td> 2.382653e-03</td><td> 2.382653e-03</td><td> 2.913976e-03</td><td>⋯</td><td>0.0009657904</td><td>0.0009657904</td><td>0.0006115749</td><td>0.001098621</td><td>0.0001688055</td><td>0.0002573594</td><td>0.001054344</td><td>0.001187175</td><td>0.0004344671</td><td>0.0009215135</td></tr>\n",
       "\t<tr><th scope=row>680</th><td>-2.833732e-03</td><td>-1.333223e-03</td><td>-2.833732e-03</td><td>-0.0022566132</td><td>-1.102375e-03</td><td> 5.186289e-05</td><td>-0.0020257656</td><td>-1.102375e-03</td><td>-1.102375e-03</td><td>-2.487461e-03</td><td>⋯</td><td>0.0025911866</td><td>0.0025911866</td><td>0.0035145771</td><td>0.002244915</td><td>0.0046688151</td><td>0.0044379675</td><td>0.002360339</td><td>0.002014068</td><td>0.0039762723</td><td>0.0027066104</td></tr>\n",
       "\t<tr><th scope=row>681</th><td>-5.914015e-03</td><td>-3.326019e-03</td><td>-5.914015e-03</td><td>-0.0049186317</td><td>-2.927866e-03</td><td>-9.371001e-04</td><td>-0.0045204785</td><td>-2.927866e-03</td><td>-2.927866e-03</td><td>-5.316785e-03</td><td>⋯</td><td>0.0034425846</td><td>0.0034425846</td><td>0.0050351973</td><td>0.002845355</td><td>0.0070259631</td><td>0.0066278099</td><td>0.003044431</td><td>0.002447202</td><td>0.0058315036</td><td>0.0036416612</td></tr>\n",
       "\t<tr><th scope=row>682</th><td>-5.935270e-04</td><td> 1.160836e-04</td><td>-5.935270e-04</td><td>-0.0003205998</td><td> 2.252544e-04</td><td> 7.711087e-04</td><td>-0.0002114290</td><td> 2.252544e-04</td><td> 2.252544e-04</td><td>-4.297707e-04</td><td>⋯</td><td>0.0019719881</td><td>0.0019719881</td><td>0.0024086715</td><td>0.001808232</td><td>0.0029545258</td><td>0.0028453549</td><td>0.001862817</td><td>0.001699061</td><td>0.0026270132</td><td>0.0020265735</td></tr>\n",
       "\t<tr><th scope=row>683</th><td> 2.486755e-03</td><td> 2.108880e-03</td><td> 2.486755e-03</td><td> 0.0023414186</td><td> 2.050745e-03</td><td> 1.760072e-03</td><td> 0.0022832839</td><td> 2.050745e-03</td><td> 2.050745e-03</td><td> 2.399553e-03</td><td>⋯</td><td>0.0011205901</td><td>0.0011205901</td><td>0.0008880513</td><td>0.001207792</td><td>0.0005973778</td><td>0.0006555125</td><td>0.001178725</td><td>0.001265927</td><td>0.0007717819</td><td>0.0010915227</td></tr>\n",
       "\t<tr><th scope=row>684</th><td>-3.113758e-03</td><td>-1.514386e-03</td><td>-3.113758e-03</td><td>-0.0024986149</td><td>-1.268329e-03</td><td>-3.804284e-05</td><td>-0.0022525577</td><td>-1.268329e-03</td><td>-1.268329e-03</td><td>-2.744672e-03</td><td>⋯</td><td>0.0026685865</td><td>0.0026685865</td><td>0.0036528153</td><td>0.002299501</td><td>0.0048831013</td><td>0.0046370441</td><td>0.002422529</td><td>0.002053443</td><td>0.0041449297</td><td>0.0027916151</td></tr>\n",
       "\t<tr><th scope=row>685</th><td>-1.713630e-03</td><td>-6.085696e-04</td><td>-1.713630e-03</td><td>-0.0012886065</td><td>-4.385604e-04</td><td> 4.114858e-04</td><td>-0.0011185973</td><td>-4.385604e-04</td><td>-4.385604e-04</td><td>-1.458616e-03</td><td>⋯</td><td>0.0022815874</td><td>0.0022815874</td><td>0.0029616243</td><td>0.002026574</td><td>0.0038116705</td><td>0.0036416612</td><td>0.002111578</td><td>0.001856564</td><td>0.0033016428</td><td>0.0023665920</td></tr>\n",
       "\t<tr><th scope=row>686</th><td>-4.513886e-03</td><td>-2.420203e-03</td><td>-4.513886e-03</td><td>-0.0037086233</td><td>-2.098097e-03</td><td>-4.875715e-04</td><td>-0.0033865181</td><td>-2.098097e-03</td><td>-2.098097e-03</td><td>-4.030728e-03</td><td>⋯</td><td>0.0030555855</td><td>0.0030555855</td><td>0.0043440063</td><td>0.002572428</td><td>0.0059545322</td><td>0.0056324270</td><td>0.002733480</td><td>0.002250323</td><td>0.0049882166</td><td>0.0032166381</td></tr>\n",
       "\t<tr><th scope=row>687</th><td>-2.833732e-03</td><td>-1.333223e-03</td><td>-2.833732e-03</td><td>-0.0022566132</td><td>-1.102375e-03</td><td> 5.186289e-05</td><td>-0.0020257656</td><td>-1.102375e-03</td><td>-1.102375e-03</td><td>-2.487461e-03</td><td>⋯</td><td>0.0025911866</td><td>0.0025911866</td><td>0.0035145771</td><td>0.002244915</td><td>0.0046688151</td><td>0.0044379675</td><td>0.002360339</td><td>0.002014068</td><td>0.0039762723</td><td>0.0027066104</td></tr>\n",
       "\t<tr><th scope=row>688</th><td> 3.046807e-03</td><td> 2.471206e-03</td><td> 3.046807e-03</td><td> 0.0028254219</td><td> 2.382653e-03</td><td> 1.939883e-03</td><td> 0.0027368681</td><td> 2.382653e-03</td><td> 2.382653e-03</td><td> 2.913976e-03</td><td>⋯</td><td>0.0009657904</td><td>0.0009657904</td><td>0.0006115749</td><td>0.001098621</td><td>0.0001688055</td><td>0.0002573594</td><td>0.001054344</td><td>0.001187175</td><td>0.0004344671</td><td>0.0009215135</td></tr>\n",
       "\t<tr><th scope=row>689</th><td> 1.086627e-03</td><td> 1.203063e-03</td><td> 1.086627e-03</td><td> 0.0011314102</td><td> 1.220977e-03</td><td> 1.310543e-03</td><td> 0.0011493235</td><td> 1.220977e-03</td><td> 1.220977e-03</td><td> 1.113497e-03</td><td>⋯</td><td>0.0015075892</td><td>0.0015075892</td><td>0.0015792423</td><td>0.001480719</td><td>0.0016688087</td><td>0.0016508954</td><td>0.001489676</td><td>0.001462806</td><td>0.0016150689</td><td>0.0015165458</td></tr>\n",
       "\t<tr><th scope=row>690</th><td>-3.113758e-03</td><td>-1.514386e-03</td><td>-3.113758e-03</td><td>-0.0024986149</td><td>-1.268329e-03</td><td>-3.804284e-05</td><td>-0.0022525577</td><td>-1.268329e-03</td><td>-1.268329e-03</td><td>-2.744672e-03</td><td>⋯</td><td>0.0026685865</td><td>0.0026685865</td><td>0.0036528153</td><td>0.002299501</td><td>0.0048831013</td><td>0.0046370441</td><td>0.002422529</td><td>0.002053443</td><td>0.0041449297</td><td>0.0027916151</td></tr>\n",
       "\t<tr><th scope=row>691</th><td>-5.073938e-03</td><td>-2.782529e-03</td><td>-5.073938e-03</td><td>-0.0041926266</td><td>-2.430005e-03</td><td>-6.673829e-04</td><td>-0.0038401023</td><td>-2.430005e-03</td><td>-2.430005e-03</td><td>-4.545151e-03</td><td>⋯</td><td>0.0032103852</td><td>0.0032103852</td><td>0.0046204827</td><td>0.002681599</td><td>0.0063831045</td><td>0.0060305802</td><td>0.002857861</td><td>0.002329074</td><td>0.0053255314</td><td>0.0033866474</td></tr>\n",
       "\t<tr><th scope=row>692</th><td>-1.433604e-03</td><td>-4.274063e-04</td><td>-1.433604e-03</td><td>-0.0010466049</td><td>-2.726067e-04</td><td> 5.013915e-04</td><td>-0.0008918052</td><td>-2.726067e-04</td><td>-2.726067e-04</td><td>-1.201405e-03</td><td>⋯</td><td>0.0022041875</td><td>0.0022041875</td><td>0.0028233861</td><td>0.001971988</td><td>0.0035973843</td><td>0.0034425846</td><td>0.002049388</td><td>0.001817188</td><td>0.0031329854</td><td>0.0022815874</td></tr>\n",
       "\t<tr><th scope=row>693</th><td>-3.347565e-05</td><td> 4.784102e-04</td><td>-3.347565e-05</td><td> 0.0001634035</td><td> 5.571618e-04</td><td> 9.509201e-04</td><td> 0.0002421552</td><td> 5.571618e-04</td><td> 5.571618e-04</td><td> 8.465184e-05</td><td>⋯</td><td>0.0018171884</td><td>0.0018171884</td><td>0.0021321951</td><td>0.001699061</td><td>0.0025259534</td><td>0.0024472017</td><td>0.001738437</td><td>0.001620309</td><td>0.0022896984</td><td>0.0018565643</td></tr>\n",
       "\t<tr><th scope=row>694</th><td>-3.393784e-03</td><td>-1.695549e-03</td><td>-3.393784e-03</td><td>-0.0027406166</td><td>-1.434283e-03</td><td>-1.279486e-04</td><td>-0.0024793498</td><td>-1.434283e-03</td><td>-1.434283e-03</td><td>-3.001883e-03</td><td>⋯</td><td>0.0027459863</td><td>0.0027459863</td><td>0.0037910535</td><td>0.002354086</td><td>0.0050973875</td><td>0.0048361207</td><td>0.002484719</td><td>0.002092819</td><td>0.0043135871</td><td>0.0028766197</td></tr>\n",
       "\t<tr><th scope=row>695</th><td> 2.465500e-04</td><td> 6.595735e-04</td><td> 2.465500e-04</td><td> 0.0004054052</td><td> 7.231155e-04</td><td> 1.040826e-03</td><td> 0.0004689473</td><td> 7.231155e-04</td><td> 7.231155e-04</td><td> 3.418631e-04</td><td>⋯</td><td>0.0017397886</td><td>0.0017397886</td><td>0.0019939569</td><td>0.001644476</td><td>0.0023116672</td><td>0.0022481252</td><td>0.001676247</td><td>0.001580933</td><td>0.0021210410</td><td>0.0017715597</td></tr>\n",
       "\t<tr><th scope=row>696</th><td>-1.713630e-03</td><td>-6.085696e-04</td><td>-1.713630e-03</td><td>-0.0012886065</td><td>-4.385604e-04</td><td> 4.114858e-04</td><td>-0.0011185973</td><td>-4.385604e-04</td><td>-4.385604e-04</td><td>-1.458616e-03</td><td>⋯</td><td>0.0022815874</td><td>0.0022815874</td><td>0.0029616243</td><td>0.002026574</td><td>0.0038116705</td><td>0.0036416612</td><td>0.002111578</td><td>0.001856564</td><td>0.0033016428</td><td>0.0023665920</td></tr>\n",
       "\t<tr><th scope=row>697</th><td>-1.433604e-03</td><td>-4.274063e-04</td><td>-1.433604e-03</td><td>-0.0010466049</td><td>-2.726067e-04</td><td> 5.013915e-04</td><td>-0.0008918052</td><td>-2.726067e-04</td><td>-2.726067e-04</td><td>-1.201405e-03</td><td>⋯</td><td>0.0022041875</td><td>0.0022041875</td><td>0.0028233861</td><td>0.001971988</td><td>0.0035973843</td><td>0.0034425846</td><td>0.002049388</td><td>0.001817188</td><td>0.0031329854</td><td>0.0022815874</td></tr>\n",
       "\t<tr><th scope=row>698</th><td>-1.433604e-03</td><td>-4.274063e-04</td><td>-1.433604e-03</td><td>-0.0010466049</td><td>-2.726067e-04</td><td> 5.013915e-04</td><td>-0.0008918052</td><td>-2.726067e-04</td><td>-2.726067e-04</td><td>-1.201405e-03</td><td>⋯</td><td>0.0022041875</td><td>0.0022041875</td><td>0.0028233861</td><td>0.001971988</td><td>0.0035973843</td><td>0.0034425846</td><td>0.002049388</td><td>0.001817188</td><td>0.0031329854</td><td>0.0022815874</td></tr>\n",
       "\t<tr><th scope=row>699</th><td>-3.673809e-03</td><td>-1.876713e-03</td><td>-3.673809e-03</td><td>-0.0029826183</td><td>-1.600236e-03</td><td>-2.178543e-04</td><td>-0.0027061419</td><td>-1.600236e-03</td><td>-1.600236e-03</td><td>-3.259095e-03</td><td>⋯</td><td>0.0028233861</td><td>0.0028233861</td><td>0.0039292917</td><td>0.002408671</td><td>0.0053116737</td><td>0.0050351973</td><td>0.002546910</td><td>0.002132195</td><td>0.0044822445</td><td>0.0029616243</td></tr>\n",
       "\t<tr><th scope=row>700</th><td>-5.935270e-04</td><td> 1.160836e-04</td><td>-5.935270e-04</td><td>-0.0003205998</td><td> 2.252544e-04</td><td> 7.711087e-04</td><td>-0.0002114290</td><td> 2.252544e-04</td><td> 2.252544e-04</td><td>-4.297707e-04</td><td>⋯</td><td>0.0019719881</td><td>0.0019719881</td><td>0.0024086715</td><td>0.001808232</td><td>0.0029545258</td><td>0.0028453549</td><td>0.001862817</td><td>0.001699061</td><td>0.0026270132</td><td>0.0020265735</td></tr>\n",
       "\t<tr><th scope=row>701</th><td>-6.474066e-03</td><td>-3.688346e-03</td><td>-6.474066e-03</td><td>-0.0054026350</td><td>-3.259773e-03</td><td>-1.116912e-03</td><td>-0.0049740627</td><td>-3.259773e-03</td><td>-3.259773e-03</td><td>-5.831207e-03</td><td>⋯</td><td>0.0035973843</td><td>0.0035973843</td><td>0.0053116737</td><td>0.002954526</td><td>0.0074545354</td><td>0.0070259631</td><td>0.003168812</td><td>0.002525953</td><td>0.0061688184</td><td>0.0038116705</td></tr>\n",
       "\t<tr><th scope=row>702</th><td>-5.914015e-03</td><td>-3.326019e-03</td><td>-5.914015e-03</td><td>-0.0049186317</td><td>-2.927866e-03</td><td>-9.371001e-04</td><td>-0.0045204785</td><td>-2.927866e-03</td><td>-2.927866e-03</td><td>-5.316785e-03</td><td>⋯</td><td>0.0034425846</td><td>0.0034425846</td><td>0.0050351973</td><td>0.002845355</td><td>0.0070259631</td><td>0.0066278099</td><td>0.003044431</td><td>0.002447202</td><td>0.0058315036</td><td>0.0036416612</td></tr>\n",
       "\t<tr><th scope=row>703</th><td>-8.735526e-04</td><td>-6.507972e-05</td><td>-8.735526e-04</td><td>-0.0005626015</td><td> 5.930072e-05</td><td> 6.812030e-04</td><td>-0.0004382211</td><td> 5.930072e-05</td><td> 5.930072e-05</td><td>-6.869820e-04</td><td>⋯</td><td>0.0020493879</td><td>0.0020493879</td><td>0.0025469097</td><td>0.001862817</td><td>0.0031688119</td><td>0.0030444315</td><td>0.001925007</td><td>0.001738437</td><td>0.0027956706</td><td>0.0021115781</td></tr>\n",
       "\t<tr><th scope=row>704</th><td>-3.347565e-05</td><td> 4.784102e-04</td><td>-3.347565e-05</td><td> 0.0001634035</td><td> 5.571618e-04</td><td> 9.509201e-04</td><td> 0.0002421552</td><td> 5.571618e-04</td><td> 5.571618e-04</td><td> 8.465184e-05</td><td>⋯</td><td>0.0018171884</td><td>0.0018171884</td><td>0.0021321951</td><td>0.001699061</td><td>0.0025259534</td><td>0.0024472017</td><td>0.001738437</td><td>0.001620309</td><td>0.0022896984</td><td>0.0018565643</td></tr>\n",
       "\t<tr><th scope=row>705</th><td>-4.793912e-03</td><td>-2.601366e-03</td><td>-4.793912e-03</td><td>-0.0039506250</td><td>-2.264051e-03</td><td>-5.774772e-04</td><td>-0.0036133102</td><td>-2.264051e-03</td><td>-2.264051e-03</td><td>-4.287940e-03</td><td>⋯</td><td>0.0031329854</td><td>0.0031329854</td><td>0.0044822445</td><td>0.002627013</td><td>0.0061688184</td><td>0.0058315036</td><td>0.002795671</td><td>0.002289698</td><td>0.0051568740</td><td>0.0033016428</td></tr>\n",
       "\t<tr><th scope=row>706</th><td>-1.713630e-03</td><td>-6.085696e-04</td><td>-1.713630e-03</td><td>-0.0012886065</td><td>-4.385604e-04</td><td> 4.114858e-04</td><td>-0.0011185973</td><td>-4.385604e-04</td><td>-4.385604e-04</td><td>-1.458616e-03</td><td>⋯</td><td>0.0022815874</td><td>0.0022815874</td><td>0.0029616243</td><td>0.002026574</td><td>0.0038116705</td><td>0.0036416612</td><td>0.002111578</td><td>0.001856564</td><td>0.0033016428</td><td>0.0023665920</td></tr>\n",
       "</tbody>\n",
       "</table>\n"
      ],
      "text/latex": [
       "A matrix: 706 × 706 of type dbl\n",
       "\\begin{tabular}{r|lllllllllllllllllllll}\n",
       "  & 1 & 2 & 3 & 4 & 5 & 6 & 7 & 8 & 9 & 10 & ⋯ & 697 & 698 & 699 & 700 & 701 & 702 & 703 & 704 & 705 & 706\\\\\n",
       "\\hline\n",
       "\t1 & 0.011727602 & 0.0080872686 & 0.011727602 & 0.0103274739 & 0.0075272172 & 0.004726961 & 0.0097674225 & 0.0075272172 & 0.0075272172 & 0.0108875252 & ⋯ & -0.0014336040 & -0.0014336040 & -3.673809e-03 & -5.935270e-04 & -0.0064740659 & -0.0059140146 & -8.735526e-04 & -3.347565e-05 & -4.793912e-03 & -1.713630e-03\\\\\n",
       "\t2 & 0.008087269 & 0.0057321457 & 0.008087269 & 0.0071814521 & 0.0053698191 & 0.003558186 & 0.0068191255 & 0.0053698191 & 0.0053698191 & 0.0075437787 & ⋯ & -0.0004274063 & -0.0004274063 & -1.876713e-03 &  1.160836e-04 & -0.0036883456 & -0.0033260190 & -6.507972e-05 &  4.784102e-04 & -2.601366e-03 & -6.085696e-04\\\\\n",
       "\t3 & 0.011727602 & 0.0080872686 & 0.011727602 & 0.0103274739 & 0.0075272172 & 0.004726961 & 0.0097674225 & 0.0075272172 & 0.0075272172 & 0.0108875252 & ⋯ & -0.0014336040 & -0.0014336040 & -3.673809e-03 & -5.935270e-04 & -0.0064740659 & -0.0059140146 & -8.735526e-04 & -3.347565e-05 & -4.793912e-03 & -1.713630e-03\\\\\n",
       "\t4 & 0.010327474 & 0.0071814521 & 0.010327474 & 0.0091174655 & 0.0066974487 & 0.004277432 & 0.0086334621 & 0.0066974487 & 0.0066974487 & 0.0096014688 & ⋯ & -0.0010466049 & -0.0010466049 & -2.982618e-03 & -3.205998e-04 & -0.0054026350 & -0.0049186317 & -5.626015e-04 &  1.634035e-04 & -3.950625e-03 & -1.288607e-03\\\\\n",
       "\t5 & 0.007527217 & 0.0053698191 & 0.007527217 & 0.0066974487 & 0.0050379117 & 0.003378375 & 0.0063655413 & 0.0050379117 & 0.0050379117 & 0.0070293561 & ⋯ & -0.0002726067 & -0.0002726067 & -1.600236e-03 &  2.252544e-04 & -0.0032597733 & -0.0029278659 &  5.930072e-05 &  5.571618e-04 & -2.264051e-03 & -4.385604e-04\\\\\n",
       "\t6 & 0.004726961 & 0.0035581862 & 0.004726961 & 0.0042774320 & 0.0033783747 & 0.002479317 & 0.0040976205 & 0.0033783747 & 0.0033783747 & 0.0044572434 & ⋯ &  0.0005013915 &  0.0005013915 & -2.178543e-04 &  7.711087e-04 & -0.0011169115 & -0.0009371001 &  6.812030e-04 &  9.509201e-04 & -5.774772e-04 &  4.114858e-04\\\\\n",
       "\t7 & 0.009767423 & 0.0068191255 & 0.009767423 & 0.0086334621 & 0.0063655413 & 0.004097621 & 0.0081798780 & 0.0063655413 & 0.0063655413 & 0.0090870463 & ⋯ & -0.0008918052 & -0.0008918052 & -2.706142e-03 & -2.114290e-04 & -0.0049740627 & -0.0045204785 & -4.382211e-04 &  2.421552e-04 & -3.613310e-03 & -1.118597e-03\\\\\n",
       "\t8 & 0.007527217 & 0.0053698191 & 0.007527217 & 0.0066974487 & 0.0050379117 & 0.003378375 & 0.0063655413 & 0.0050379117 & 0.0050379117 & 0.0070293561 & ⋯ & -0.0002726067 & -0.0002726067 & -1.600236e-03 &  2.252544e-04 & -0.0032597733 & -0.0029278659 &  5.930072e-05 &  5.571618e-04 & -2.264051e-03 & -4.385604e-04\\\\\n",
       "\t9 & 0.007527217 & 0.0053698191 & 0.007527217 & 0.0066974487 & 0.0050379117 & 0.003378375 & 0.0063655413 & 0.0050379117 & 0.0050379117 & 0.0070293561 & ⋯ & -0.0002726067 & -0.0002726067 & -1.600236e-03 &  2.252544e-04 & -0.0032597733 & -0.0029278659 &  5.930072e-05 &  5.571618e-04 & -2.264051e-03 & -4.385604e-04\\\\\n",
       "\t10 & 0.010887525 & 0.0075437787 & 0.010887525 & 0.0096014688 & 0.0070293561 & 0.004457243 & 0.0090870463 & 0.0070293561 & 0.0070293561 & 0.0101158914 & ⋯ & -0.0012014045 & -0.0012014045 & -3.259095e-03 & -4.297707e-04 & -0.0058312074 & -0.0053167848 & -6.869820e-04 &  8.465184e-05 & -4.287940e-03 & -1.458616e-03\\\\\n",
       "\t11 & 0.011447577 & 0.0079061053 & 0.011447577 & 0.0100854722 & 0.0073612635 & 0.004637055 & 0.0095406305 & 0.0073612635 & 0.0073612635 & 0.0106303139 & ⋯ & -0.0013562041 & -0.0013562041 & -3.535571e-03 & -5.389415e-04 & -0.0062597797 & -0.0057149380 & -8.113624e-04 &  5.900181e-06 & -4.625255e-03 & -1.628625e-03\\\\\n",
       "\t12 & 0.011447577 & 0.0079061053 & 0.011447577 & 0.0100854722 & 0.0073612635 & 0.004637055 & 0.0095406305 & 0.0073612635 & 0.0073612635 & 0.0106303139 & ⋯ & -0.0013562041 & -0.0013562041 & -3.535571e-03 & -5.389415e-04 & -0.0062597797 & -0.0057149380 & -8.113624e-04 &  5.900181e-06 & -4.625255e-03 & -1.628625e-03\\\\\n",
       "\t13 & 0.002486755 & 0.0021088798 & 0.002486755 & 0.0023414186 & 0.0020507451 & 0.001760072 & 0.0022832839 & 0.0020507451 & 0.0020507451 & 0.0023995533 & ⋯ &  0.0011205901 &  0.0011205901 &  8.880513e-04 &  1.207792e-03 &  0.0005973778 &  0.0006555125 &  1.178725e-03 &  1.265927e-03 &  7.717819e-04 &  1.091523e-03\\\\\n",
       "\t14 & 0.005287012 & 0.0039205128 & 0.005287012 & 0.0047614353 & 0.0037102821 & 0.002659129 & 0.0045512047 & 0.0037102821 & 0.0037102821 & 0.0049716660 & ⋯ &  0.0003465919 &  0.0003465919 & -4.943307e-04 &  6.619378e-04 & -0.0015454839 & -0.0013352533 &  5.568225e-04 &  8.721685e-04 & -9.147920e-04 &  2.414766e-04\\\\\n",
       "\t15 & 0.005006986 & 0.0037393495 & 0.005006986 & 0.0045194337 & 0.0035443284 & 0.002569223 & 0.0043244126 & 0.0035443284 & 0.0035443284 & 0.0047144547 & ⋯ &  0.0004239917 &  0.0004239917 & -3.560925e-04 &  7.165233e-04 & -0.0013311977 & -0.0011361767 &  6.190127e-04 &  9.115443e-04 & -7.461346e-04 &  3.264812e-04\\\\\n",
       "\t16 & 0.001086627 & 0.0012030633 & 0.001086627 & 0.0011314102 & 0.0012209766 & 0.001310543 & 0.0011493235 & 0.0012209766 & 0.0012209766 & 0.0011134969 & ⋯ &  0.0015075892 &  0.0015075892 &  1.579242e-03 &  1.480719e-03 &  0.0016688087 &  0.0016508954 &  1.489676e-03 &  1.462806e-03 &  1.615069e-03 &  1.516546e-03\\\\\n",
       "\t17 & 0.003046807 & 0.0024712064 & 0.003046807 & 0.0028254219 & 0.0023826525 & 0.001939883 & 0.0027368681 & 0.0023826525 & 0.0023826525 & 0.0029139758 & ⋯ &  0.0009657904 &  0.0009657904 &  6.115749e-04 &  1.098621e-03 &  0.0001688055 &  0.0002573594 &  1.054344e-03 &  1.187175e-03 &  4.344671e-04 &  9.215135e-04\\\\\n",
       "\t18 & 0.003606858 & 0.0028335330 & 0.003606858 & 0.0033094253 & 0.0027145599 & 0.002119695 & 0.0031904522 & 0.0027145599 & 0.0027145599 & 0.0034283984 & ⋯ &  0.0008109908 &  0.0008109908 &  3.350985e-04 &  9.894504e-04 & -0.0002597668 & -0.0001407938 &  9.299639e-04 &  1.108423e-03 &  9.715237e-05 &  7.515043e-04\\\\\n",
       "\t19 & 0.006127089 & 0.0044640027 & 0.006127089 & 0.0054874404 & 0.0042081432 & 0.002928846 & 0.0052315809 & 0.0042081432 & 0.0042081432 & 0.0057432998 & ⋯ &  0.0001143924 &  0.0001143924 & -9.090453e-04 &  4.981816e-04 & -0.0021883424 & -0.0019324830 &  3.702518e-04 &  7.540410e-04 & -1.420764e-03 & -1.353729e-05\\\\\n",
       "\t20 & 0.005847063 & 0.0042828394 & 0.005847063 & 0.0052454387 & 0.0040421895 & 0.002838940 & 0.0050047889 & 0.0040421895 & 0.0040421895 & 0.0054860885 & ⋯ &  0.0001917922 &  0.0001917922 & -7.708071e-04 &  5.527670e-04 & -0.0019740562 & -0.0017334064 &  4.324421e-04 &  7.934168e-04 & -1.252107e-03 &  7.146732e-05\\\\\n",
       "\t21 & 0.004446935 & 0.0033770229 & 0.004446935 & 0.0040354303 & 0.0032124210 & 0.002389412 & 0.0038708285 & 0.0032124210 & 0.0032124210 & 0.0042000322 & ⋯ &  0.0005787913 &  0.0005787913 & -7.961609e-05 &  8.256941e-04 & -0.0009026254 & -0.0007380235 &  7.433932e-04 &  9.902960e-04 & -4.088198e-04 &  4.964904e-04\\\\\n",
       "\t22 & 0.007527217 & 0.0053698191 & 0.007527217 & 0.0066974487 & 0.0050379117 & 0.003378375 & 0.0063655413 & 0.0050379117 & 0.0050379117 & 0.0070293561 & ⋯ & -0.0002726067 & -0.0002726067 & -1.600236e-03 &  2.252544e-04 & -0.0032597733 & -0.0029278659 &  5.930072e-05 &  5.571618e-04 & -2.264051e-03 & -4.385604e-04\\\\\n",
       "\t23 & 0.010327474 & 0.0071814521 & 0.010327474 & 0.0091174655 & 0.0066974487 & 0.004277432 & 0.0086334621 & 0.0066974487 & 0.0066974487 & 0.0096014688 & ⋯ & -0.0010466049 & -0.0010466049 & -2.982618e-03 & -3.205998e-04 & -0.0054026350 & -0.0049186317 & -5.626015e-04 &  1.634035e-04 & -3.950625e-03 & -1.288607e-03\\\\\n",
       "\t24 & 0.012847705 & 0.0088119217 & 0.012847705 & 0.0112954806 & 0.0081910320 & 0.005086584 & 0.0106745909 & 0.0081910320 & 0.0081910320 & 0.0119163703 & ⋯ & -0.0017432032 & -0.0017432032 & -4.226762e-03 & -8.118687e-04 & -0.0073312106 & -0.0067103209 & -1.122314e-03 & -1.909790e-04 & -5.468541e-03 & -2.053648e-03\\\\\n",
       "\t25 & 0.000246550 & 0.0006595735 & 0.000246550 & 0.0004054052 & 0.0007231155 & 0.001040826 & 0.0004689473 & 0.0007231155 & 0.0007231155 & 0.0003418631 & ⋯ &  0.0017397886 &  0.0017397886 &  1.993957e-03 &  1.644476e-03 &  0.0023116672 &  0.0022481252 &  1.676247e-03 &  1.580933e-03 &  2.121041e-03 &  1.771560e-03\\\\\n",
       "\t26 & 0.010047448 & 0.0070002888 & 0.010047448 & 0.0088754638 & 0.0065314950 & 0.004187526 & 0.0084066701 & 0.0065314950 & 0.0065314950 & 0.0093442576 & ⋯ & -0.0009692050 & -0.0009692050 & -2.844380e-03 & -2.660144e-04 & -0.0051883488 & -0.0047195551 & -5.004113e-04 &  2.027793e-04 & -3.781968e-03 & -1.203602e-03\\\\\n",
       "\t27 & 0.011167551 & 0.0077249420 & 0.011167551 & 0.0098434705 & 0.0071953098 & 0.004547149 & 0.0093138384 & 0.0071953098 & 0.0071953098 & 0.0103731026 & ⋯ & -0.0012788043 & -0.0012788043 & -3.397333e-03 & -4.843561e-04 & -0.0060454935 & -0.0055158614 & -7.491722e-04 &  4.527601e-05 & -4.456597e-03 & -1.543620e-03\\\\\n",
       "\t28 & 0.004446935 & 0.0033770229 & 0.004446935 & 0.0040354303 & 0.0032124210 & 0.002389412 & 0.0038708285 & 0.0032124210 & 0.0032124210 & 0.0042000322 & ⋯ &  0.0005787913 &  0.0005787913 & -7.961609e-05 &  8.256941e-04 & -0.0009026254 & -0.0007380235 &  7.433932e-04 &  9.902960e-04 & -4.088198e-04 &  4.964904e-04\\\\\n",
       "\t29 & 0.008367294 & 0.0059133090 & 0.008367294 & 0.0074234538 & 0.0055357728 & 0.003648092 & 0.0070459176 & 0.0055357728 & 0.0055357728 & 0.0078009899 & ⋯ & -0.0005048061 & -0.0005048061 & -2.014951e-03 &  6.149814e-05 & -0.0039026318 & -0.0035250956 & -1.272699e-04 &  4.390343e-04 & -2.770023e-03 & -6.935742e-04\\\\\n",
       "\t30 & 0.003886884 & 0.0030146963 & 0.003886884 & 0.0035514270 & 0.0028805136 & 0.002209600 & 0.0034172443 & 0.0028805136 & 0.0028805136 & 0.0036856096 & ⋯ &  0.0007335910 &  0.0007335910 &  1.968603e-04 &  9.348650e-04 & -0.0004740530 & -0.0003398704 &  8.677736e-04 &  1.069048e-03 & -7.150502e-05 &  6.664996e-04\\\\\n",
       "\t⋮ & ⋮ & ⋮ & ⋮ & ⋮ & ⋮ & ⋮ & ⋮ & ⋮ & ⋮ & ⋮ & ⋱ & ⋮ & ⋮ & ⋮ & ⋮ & ⋮ & ⋮ & ⋮ & ⋮ & ⋮ & ⋮\\\\\n",
       "\t677 &  2.206730e-03 &  1.927717e-03 &  2.206730e-03 &  0.0020994169 &  1.884791e-03 &  1.670166e-03 &  0.0020564918 &  1.884791e-03 &  1.884791e-03 &  2.142342e-03 & ⋯ & 0.0011979899 & 0.0011979899 & 0.0010262895 & 0.001262378 & 0.0008116640 & 0.0008545891 & 0.001240915 & 0.001305303 & 0.0009404393 & 0.0011765273\\\\\n",
       "\t678 &  1.086627e-03 &  1.203063e-03 &  1.086627e-03 &  0.0011314102 &  1.220977e-03 &  1.310543e-03 &  0.0011493235 &  1.220977e-03 &  1.220977e-03 &  1.113497e-03 & ⋯ & 0.0015075892 & 0.0015075892 & 0.0015792423 & 0.001480719 & 0.0016688087 & 0.0016508954 & 0.001489676 & 0.001462806 & 0.0016150689 & 0.0015165458\\\\\n",
       "\t679 &  3.046807e-03 &  2.471206e-03 &  3.046807e-03 &  0.0028254219 &  2.382653e-03 &  1.939883e-03 &  0.0027368681 &  2.382653e-03 &  2.382653e-03 &  2.913976e-03 & ⋯ & 0.0009657904 & 0.0009657904 & 0.0006115749 & 0.001098621 & 0.0001688055 & 0.0002573594 & 0.001054344 & 0.001187175 & 0.0004344671 & 0.0009215135\\\\\n",
       "\t680 & -2.833732e-03 & -1.333223e-03 & -2.833732e-03 & -0.0022566132 & -1.102375e-03 &  5.186289e-05 & -0.0020257656 & -1.102375e-03 & -1.102375e-03 & -2.487461e-03 & ⋯ & 0.0025911866 & 0.0025911866 & 0.0035145771 & 0.002244915 & 0.0046688151 & 0.0044379675 & 0.002360339 & 0.002014068 & 0.0039762723 & 0.0027066104\\\\\n",
       "\t681 & -5.914015e-03 & -3.326019e-03 & -5.914015e-03 & -0.0049186317 & -2.927866e-03 & -9.371001e-04 & -0.0045204785 & -2.927866e-03 & -2.927866e-03 & -5.316785e-03 & ⋯ & 0.0034425846 & 0.0034425846 & 0.0050351973 & 0.002845355 & 0.0070259631 & 0.0066278099 & 0.003044431 & 0.002447202 & 0.0058315036 & 0.0036416612\\\\\n",
       "\t682 & -5.935270e-04 &  1.160836e-04 & -5.935270e-04 & -0.0003205998 &  2.252544e-04 &  7.711087e-04 & -0.0002114290 &  2.252544e-04 &  2.252544e-04 & -4.297707e-04 & ⋯ & 0.0019719881 & 0.0019719881 & 0.0024086715 & 0.001808232 & 0.0029545258 & 0.0028453549 & 0.001862817 & 0.001699061 & 0.0026270132 & 0.0020265735\\\\\n",
       "\t683 &  2.486755e-03 &  2.108880e-03 &  2.486755e-03 &  0.0023414186 &  2.050745e-03 &  1.760072e-03 &  0.0022832839 &  2.050745e-03 &  2.050745e-03 &  2.399553e-03 & ⋯ & 0.0011205901 & 0.0011205901 & 0.0008880513 & 0.001207792 & 0.0005973778 & 0.0006555125 & 0.001178725 & 0.001265927 & 0.0007717819 & 0.0010915227\\\\\n",
       "\t684 & -3.113758e-03 & -1.514386e-03 & -3.113758e-03 & -0.0024986149 & -1.268329e-03 & -3.804284e-05 & -0.0022525577 & -1.268329e-03 & -1.268329e-03 & -2.744672e-03 & ⋯ & 0.0026685865 & 0.0026685865 & 0.0036528153 & 0.002299501 & 0.0048831013 & 0.0046370441 & 0.002422529 & 0.002053443 & 0.0041449297 & 0.0027916151\\\\\n",
       "\t685 & -1.713630e-03 & -6.085696e-04 & -1.713630e-03 & -0.0012886065 & -4.385604e-04 &  4.114858e-04 & -0.0011185973 & -4.385604e-04 & -4.385604e-04 & -1.458616e-03 & ⋯ & 0.0022815874 & 0.0022815874 & 0.0029616243 & 0.002026574 & 0.0038116705 & 0.0036416612 & 0.002111578 & 0.001856564 & 0.0033016428 & 0.0023665920\\\\\n",
       "\t686 & -4.513886e-03 & -2.420203e-03 & -4.513886e-03 & -0.0037086233 & -2.098097e-03 & -4.875715e-04 & -0.0033865181 & -2.098097e-03 & -2.098097e-03 & -4.030728e-03 & ⋯ & 0.0030555855 & 0.0030555855 & 0.0043440063 & 0.002572428 & 0.0059545322 & 0.0056324270 & 0.002733480 & 0.002250323 & 0.0049882166 & 0.0032166381\\\\\n",
       "\t687 & -2.833732e-03 & -1.333223e-03 & -2.833732e-03 & -0.0022566132 & -1.102375e-03 &  5.186289e-05 & -0.0020257656 & -1.102375e-03 & -1.102375e-03 & -2.487461e-03 & ⋯ & 0.0025911866 & 0.0025911866 & 0.0035145771 & 0.002244915 & 0.0046688151 & 0.0044379675 & 0.002360339 & 0.002014068 & 0.0039762723 & 0.0027066104\\\\\n",
       "\t688 &  3.046807e-03 &  2.471206e-03 &  3.046807e-03 &  0.0028254219 &  2.382653e-03 &  1.939883e-03 &  0.0027368681 &  2.382653e-03 &  2.382653e-03 &  2.913976e-03 & ⋯ & 0.0009657904 & 0.0009657904 & 0.0006115749 & 0.001098621 & 0.0001688055 & 0.0002573594 & 0.001054344 & 0.001187175 & 0.0004344671 & 0.0009215135\\\\\n",
       "\t689 &  1.086627e-03 &  1.203063e-03 &  1.086627e-03 &  0.0011314102 &  1.220977e-03 &  1.310543e-03 &  0.0011493235 &  1.220977e-03 &  1.220977e-03 &  1.113497e-03 & ⋯ & 0.0015075892 & 0.0015075892 & 0.0015792423 & 0.001480719 & 0.0016688087 & 0.0016508954 & 0.001489676 & 0.001462806 & 0.0016150689 & 0.0015165458\\\\\n",
       "\t690 & -3.113758e-03 & -1.514386e-03 & -3.113758e-03 & -0.0024986149 & -1.268329e-03 & -3.804284e-05 & -0.0022525577 & -1.268329e-03 & -1.268329e-03 & -2.744672e-03 & ⋯ & 0.0026685865 & 0.0026685865 & 0.0036528153 & 0.002299501 & 0.0048831013 & 0.0046370441 & 0.002422529 & 0.002053443 & 0.0041449297 & 0.0027916151\\\\\n",
       "\t691 & -5.073938e-03 & -2.782529e-03 & -5.073938e-03 & -0.0041926266 & -2.430005e-03 & -6.673829e-04 & -0.0038401023 & -2.430005e-03 & -2.430005e-03 & -4.545151e-03 & ⋯ & 0.0032103852 & 0.0032103852 & 0.0046204827 & 0.002681599 & 0.0063831045 & 0.0060305802 & 0.002857861 & 0.002329074 & 0.0053255314 & 0.0033866474\\\\\n",
       "\t692 & -1.433604e-03 & -4.274063e-04 & -1.433604e-03 & -0.0010466049 & -2.726067e-04 &  5.013915e-04 & -0.0008918052 & -2.726067e-04 & -2.726067e-04 & -1.201405e-03 & ⋯ & 0.0022041875 & 0.0022041875 & 0.0028233861 & 0.001971988 & 0.0035973843 & 0.0034425846 & 0.002049388 & 0.001817188 & 0.0031329854 & 0.0022815874\\\\\n",
       "\t693 & -3.347565e-05 &  4.784102e-04 & -3.347565e-05 &  0.0001634035 &  5.571618e-04 &  9.509201e-04 &  0.0002421552 &  5.571618e-04 &  5.571618e-04 &  8.465184e-05 & ⋯ & 0.0018171884 & 0.0018171884 & 0.0021321951 & 0.001699061 & 0.0025259534 & 0.0024472017 & 0.001738437 & 0.001620309 & 0.0022896984 & 0.0018565643\\\\\n",
       "\t694 & -3.393784e-03 & -1.695549e-03 & -3.393784e-03 & -0.0027406166 & -1.434283e-03 & -1.279486e-04 & -0.0024793498 & -1.434283e-03 & -1.434283e-03 & -3.001883e-03 & ⋯ & 0.0027459863 & 0.0027459863 & 0.0037910535 & 0.002354086 & 0.0050973875 & 0.0048361207 & 0.002484719 & 0.002092819 & 0.0043135871 & 0.0028766197\\\\\n",
       "\t695 &  2.465500e-04 &  6.595735e-04 &  2.465500e-04 &  0.0004054052 &  7.231155e-04 &  1.040826e-03 &  0.0004689473 &  7.231155e-04 &  7.231155e-04 &  3.418631e-04 & ⋯ & 0.0017397886 & 0.0017397886 & 0.0019939569 & 0.001644476 & 0.0023116672 & 0.0022481252 & 0.001676247 & 0.001580933 & 0.0021210410 & 0.0017715597\\\\\n",
       "\t696 & -1.713630e-03 & -6.085696e-04 & -1.713630e-03 & -0.0012886065 & -4.385604e-04 &  4.114858e-04 & -0.0011185973 & -4.385604e-04 & -4.385604e-04 & -1.458616e-03 & ⋯ & 0.0022815874 & 0.0022815874 & 0.0029616243 & 0.002026574 & 0.0038116705 & 0.0036416612 & 0.002111578 & 0.001856564 & 0.0033016428 & 0.0023665920\\\\\n",
       "\t697 & -1.433604e-03 & -4.274063e-04 & -1.433604e-03 & -0.0010466049 & -2.726067e-04 &  5.013915e-04 & -0.0008918052 & -2.726067e-04 & -2.726067e-04 & -1.201405e-03 & ⋯ & 0.0022041875 & 0.0022041875 & 0.0028233861 & 0.001971988 & 0.0035973843 & 0.0034425846 & 0.002049388 & 0.001817188 & 0.0031329854 & 0.0022815874\\\\\n",
       "\t698 & -1.433604e-03 & -4.274063e-04 & -1.433604e-03 & -0.0010466049 & -2.726067e-04 &  5.013915e-04 & -0.0008918052 & -2.726067e-04 & -2.726067e-04 & -1.201405e-03 & ⋯ & 0.0022041875 & 0.0022041875 & 0.0028233861 & 0.001971988 & 0.0035973843 & 0.0034425846 & 0.002049388 & 0.001817188 & 0.0031329854 & 0.0022815874\\\\\n",
       "\t699 & -3.673809e-03 & -1.876713e-03 & -3.673809e-03 & -0.0029826183 & -1.600236e-03 & -2.178543e-04 & -0.0027061419 & -1.600236e-03 & -1.600236e-03 & -3.259095e-03 & ⋯ & 0.0028233861 & 0.0028233861 & 0.0039292917 & 0.002408671 & 0.0053116737 & 0.0050351973 & 0.002546910 & 0.002132195 & 0.0044822445 & 0.0029616243\\\\\n",
       "\t700 & -5.935270e-04 &  1.160836e-04 & -5.935270e-04 & -0.0003205998 &  2.252544e-04 &  7.711087e-04 & -0.0002114290 &  2.252544e-04 &  2.252544e-04 & -4.297707e-04 & ⋯ & 0.0019719881 & 0.0019719881 & 0.0024086715 & 0.001808232 & 0.0029545258 & 0.0028453549 & 0.001862817 & 0.001699061 & 0.0026270132 & 0.0020265735\\\\\n",
       "\t701 & -6.474066e-03 & -3.688346e-03 & -6.474066e-03 & -0.0054026350 & -3.259773e-03 & -1.116912e-03 & -0.0049740627 & -3.259773e-03 & -3.259773e-03 & -5.831207e-03 & ⋯ & 0.0035973843 & 0.0035973843 & 0.0053116737 & 0.002954526 & 0.0074545354 & 0.0070259631 & 0.003168812 & 0.002525953 & 0.0061688184 & 0.0038116705\\\\\n",
       "\t702 & -5.914015e-03 & -3.326019e-03 & -5.914015e-03 & -0.0049186317 & -2.927866e-03 & -9.371001e-04 & -0.0045204785 & -2.927866e-03 & -2.927866e-03 & -5.316785e-03 & ⋯ & 0.0034425846 & 0.0034425846 & 0.0050351973 & 0.002845355 & 0.0070259631 & 0.0066278099 & 0.003044431 & 0.002447202 & 0.0058315036 & 0.0036416612\\\\\n",
       "\t703 & -8.735526e-04 & -6.507972e-05 & -8.735526e-04 & -0.0005626015 &  5.930072e-05 &  6.812030e-04 & -0.0004382211 &  5.930072e-05 &  5.930072e-05 & -6.869820e-04 & ⋯ & 0.0020493879 & 0.0020493879 & 0.0025469097 & 0.001862817 & 0.0031688119 & 0.0030444315 & 0.001925007 & 0.001738437 & 0.0027956706 & 0.0021115781\\\\\n",
       "\t704 & -3.347565e-05 &  4.784102e-04 & -3.347565e-05 &  0.0001634035 &  5.571618e-04 &  9.509201e-04 &  0.0002421552 &  5.571618e-04 &  5.571618e-04 &  8.465184e-05 & ⋯ & 0.0018171884 & 0.0018171884 & 0.0021321951 & 0.001699061 & 0.0025259534 & 0.0024472017 & 0.001738437 & 0.001620309 & 0.0022896984 & 0.0018565643\\\\\n",
       "\t705 & -4.793912e-03 & -2.601366e-03 & -4.793912e-03 & -0.0039506250 & -2.264051e-03 & -5.774772e-04 & -0.0036133102 & -2.264051e-03 & -2.264051e-03 & -4.287940e-03 & ⋯ & 0.0031329854 & 0.0031329854 & 0.0044822445 & 0.002627013 & 0.0061688184 & 0.0058315036 & 0.002795671 & 0.002289698 & 0.0051568740 & 0.0033016428\\\\\n",
       "\t706 & -1.713630e-03 & -6.085696e-04 & -1.713630e-03 & -0.0012886065 & -4.385604e-04 &  4.114858e-04 & -0.0011185973 & -4.385604e-04 & -4.385604e-04 & -1.458616e-03 & ⋯ & 0.0022815874 & 0.0022815874 & 0.0029616243 & 0.002026574 & 0.0038116705 & 0.0036416612 & 0.002111578 & 0.001856564 & 0.0033016428 & 0.0023665920\\\\\n",
       "\\end{tabular}\n"
      ],
      "text/markdown": [
       "\n",
       "A matrix: 706 × 706 of type dbl\n",
       "\n",
       "| <!--/--> | 1 | 2 | 3 | 4 | 5 | 6 | 7 | 8 | 9 | 10 | ⋯ | 697 | 698 | 699 | 700 | 701 | 702 | 703 | 704 | 705 | 706 |\n",
       "|---|---|---|---|---|---|---|---|---|---|---|---|---|---|---|---|---|---|---|---|---|---|\n",
       "| 1 | 0.011727602 | 0.0080872686 | 0.011727602 | 0.0103274739 | 0.0075272172 | 0.004726961 | 0.0097674225 | 0.0075272172 | 0.0075272172 | 0.0108875252 | ⋯ | -0.0014336040 | -0.0014336040 | -3.673809e-03 | -5.935270e-04 | -0.0064740659 | -0.0059140146 | -8.735526e-04 | -3.347565e-05 | -4.793912e-03 | -1.713630e-03 |\n",
       "| 2 | 0.008087269 | 0.0057321457 | 0.008087269 | 0.0071814521 | 0.0053698191 | 0.003558186 | 0.0068191255 | 0.0053698191 | 0.0053698191 | 0.0075437787 | ⋯ | -0.0004274063 | -0.0004274063 | -1.876713e-03 |  1.160836e-04 | -0.0036883456 | -0.0033260190 | -6.507972e-05 |  4.784102e-04 | -2.601366e-03 | -6.085696e-04 |\n",
       "| 3 | 0.011727602 | 0.0080872686 | 0.011727602 | 0.0103274739 | 0.0075272172 | 0.004726961 | 0.0097674225 | 0.0075272172 | 0.0075272172 | 0.0108875252 | ⋯ | -0.0014336040 | -0.0014336040 | -3.673809e-03 | -5.935270e-04 | -0.0064740659 | -0.0059140146 | -8.735526e-04 | -3.347565e-05 | -4.793912e-03 | -1.713630e-03 |\n",
       "| 4 | 0.010327474 | 0.0071814521 | 0.010327474 | 0.0091174655 | 0.0066974487 | 0.004277432 | 0.0086334621 | 0.0066974487 | 0.0066974487 | 0.0096014688 | ⋯ | -0.0010466049 | -0.0010466049 | -2.982618e-03 | -3.205998e-04 | -0.0054026350 | -0.0049186317 | -5.626015e-04 |  1.634035e-04 | -3.950625e-03 | -1.288607e-03 |\n",
       "| 5 | 0.007527217 | 0.0053698191 | 0.007527217 | 0.0066974487 | 0.0050379117 | 0.003378375 | 0.0063655413 | 0.0050379117 | 0.0050379117 | 0.0070293561 | ⋯ | -0.0002726067 | -0.0002726067 | -1.600236e-03 |  2.252544e-04 | -0.0032597733 | -0.0029278659 |  5.930072e-05 |  5.571618e-04 | -2.264051e-03 | -4.385604e-04 |\n",
       "| 6 | 0.004726961 | 0.0035581862 | 0.004726961 | 0.0042774320 | 0.0033783747 | 0.002479317 | 0.0040976205 | 0.0033783747 | 0.0033783747 | 0.0044572434 | ⋯ |  0.0005013915 |  0.0005013915 | -2.178543e-04 |  7.711087e-04 | -0.0011169115 | -0.0009371001 |  6.812030e-04 |  9.509201e-04 | -5.774772e-04 |  4.114858e-04 |\n",
       "| 7 | 0.009767423 | 0.0068191255 | 0.009767423 | 0.0086334621 | 0.0063655413 | 0.004097621 | 0.0081798780 | 0.0063655413 | 0.0063655413 | 0.0090870463 | ⋯ | -0.0008918052 | -0.0008918052 | -2.706142e-03 | -2.114290e-04 | -0.0049740627 | -0.0045204785 | -4.382211e-04 |  2.421552e-04 | -3.613310e-03 | -1.118597e-03 |\n",
       "| 8 | 0.007527217 | 0.0053698191 | 0.007527217 | 0.0066974487 | 0.0050379117 | 0.003378375 | 0.0063655413 | 0.0050379117 | 0.0050379117 | 0.0070293561 | ⋯ | -0.0002726067 | -0.0002726067 | -1.600236e-03 |  2.252544e-04 | -0.0032597733 | -0.0029278659 |  5.930072e-05 |  5.571618e-04 | -2.264051e-03 | -4.385604e-04 |\n",
       "| 9 | 0.007527217 | 0.0053698191 | 0.007527217 | 0.0066974487 | 0.0050379117 | 0.003378375 | 0.0063655413 | 0.0050379117 | 0.0050379117 | 0.0070293561 | ⋯ | -0.0002726067 | -0.0002726067 | -1.600236e-03 |  2.252544e-04 | -0.0032597733 | -0.0029278659 |  5.930072e-05 |  5.571618e-04 | -2.264051e-03 | -4.385604e-04 |\n",
       "| 10 | 0.010887525 | 0.0075437787 | 0.010887525 | 0.0096014688 | 0.0070293561 | 0.004457243 | 0.0090870463 | 0.0070293561 | 0.0070293561 | 0.0101158914 | ⋯ | -0.0012014045 | -0.0012014045 | -3.259095e-03 | -4.297707e-04 | -0.0058312074 | -0.0053167848 | -6.869820e-04 |  8.465184e-05 | -4.287940e-03 | -1.458616e-03 |\n",
       "| 11 | 0.011447577 | 0.0079061053 | 0.011447577 | 0.0100854722 | 0.0073612635 | 0.004637055 | 0.0095406305 | 0.0073612635 | 0.0073612635 | 0.0106303139 | ⋯ | -0.0013562041 | -0.0013562041 | -3.535571e-03 | -5.389415e-04 | -0.0062597797 | -0.0057149380 | -8.113624e-04 |  5.900181e-06 | -4.625255e-03 | -1.628625e-03 |\n",
       "| 12 | 0.011447577 | 0.0079061053 | 0.011447577 | 0.0100854722 | 0.0073612635 | 0.004637055 | 0.0095406305 | 0.0073612635 | 0.0073612635 | 0.0106303139 | ⋯ | -0.0013562041 | -0.0013562041 | -3.535571e-03 | -5.389415e-04 | -0.0062597797 | -0.0057149380 | -8.113624e-04 |  5.900181e-06 | -4.625255e-03 | -1.628625e-03 |\n",
       "| 13 | 0.002486755 | 0.0021088798 | 0.002486755 | 0.0023414186 | 0.0020507451 | 0.001760072 | 0.0022832839 | 0.0020507451 | 0.0020507451 | 0.0023995533 | ⋯ |  0.0011205901 |  0.0011205901 |  8.880513e-04 |  1.207792e-03 |  0.0005973778 |  0.0006555125 |  1.178725e-03 |  1.265927e-03 |  7.717819e-04 |  1.091523e-03 |\n",
       "| 14 | 0.005287012 | 0.0039205128 | 0.005287012 | 0.0047614353 | 0.0037102821 | 0.002659129 | 0.0045512047 | 0.0037102821 | 0.0037102821 | 0.0049716660 | ⋯ |  0.0003465919 |  0.0003465919 | -4.943307e-04 |  6.619378e-04 | -0.0015454839 | -0.0013352533 |  5.568225e-04 |  8.721685e-04 | -9.147920e-04 |  2.414766e-04 |\n",
       "| 15 | 0.005006986 | 0.0037393495 | 0.005006986 | 0.0045194337 | 0.0035443284 | 0.002569223 | 0.0043244126 | 0.0035443284 | 0.0035443284 | 0.0047144547 | ⋯ |  0.0004239917 |  0.0004239917 | -3.560925e-04 |  7.165233e-04 | -0.0013311977 | -0.0011361767 |  6.190127e-04 |  9.115443e-04 | -7.461346e-04 |  3.264812e-04 |\n",
       "| 16 | 0.001086627 | 0.0012030633 | 0.001086627 | 0.0011314102 | 0.0012209766 | 0.001310543 | 0.0011493235 | 0.0012209766 | 0.0012209766 | 0.0011134969 | ⋯ |  0.0015075892 |  0.0015075892 |  1.579242e-03 |  1.480719e-03 |  0.0016688087 |  0.0016508954 |  1.489676e-03 |  1.462806e-03 |  1.615069e-03 |  1.516546e-03 |\n",
       "| 17 | 0.003046807 | 0.0024712064 | 0.003046807 | 0.0028254219 | 0.0023826525 | 0.001939883 | 0.0027368681 | 0.0023826525 | 0.0023826525 | 0.0029139758 | ⋯ |  0.0009657904 |  0.0009657904 |  6.115749e-04 |  1.098621e-03 |  0.0001688055 |  0.0002573594 |  1.054344e-03 |  1.187175e-03 |  4.344671e-04 |  9.215135e-04 |\n",
       "| 18 | 0.003606858 | 0.0028335330 | 0.003606858 | 0.0033094253 | 0.0027145599 | 0.002119695 | 0.0031904522 | 0.0027145599 | 0.0027145599 | 0.0034283984 | ⋯ |  0.0008109908 |  0.0008109908 |  3.350985e-04 |  9.894504e-04 | -0.0002597668 | -0.0001407938 |  9.299639e-04 |  1.108423e-03 |  9.715237e-05 |  7.515043e-04 |\n",
       "| 19 | 0.006127089 | 0.0044640027 | 0.006127089 | 0.0054874404 | 0.0042081432 | 0.002928846 | 0.0052315809 | 0.0042081432 | 0.0042081432 | 0.0057432998 | ⋯ |  0.0001143924 |  0.0001143924 | -9.090453e-04 |  4.981816e-04 | -0.0021883424 | -0.0019324830 |  3.702518e-04 |  7.540410e-04 | -1.420764e-03 | -1.353729e-05 |\n",
       "| 20 | 0.005847063 | 0.0042828394 | 0.005847063 | 0.0052454387 | 0.0040421895 | 0.002838940 | 0.0050047889 | 0.0040421895 | 0.0040421895 | 0.0054860885 | ⋯ |  0.0001917922 |  0.0001917922 | -7.708071e-04 |  5.527670e-04 | -0.0019740562 | -0.0017334064 |  4.324421e-04 |  7.934168e-04 | -1.252107e-03 |  7.146732e-05 |\n",
       "| 21 | 0.004446935 | 0.0033770229 | 0.004446935 | 0.0040354303 | 0.0032124210 | 0.002389412 | 0.0038708285 | 0.0032124210 | 0.0032124210 | 0.0042000322 | ⋯ |  0.0005787913 |  0.0005787913 | -7.961609e-05 |  8.256941e-04 | -0.0009026254 | -0.0007380235 |  7.433932e-04 |  9.902960e-04 | -4.088198e-04 |  4.964904e-04 |\n",
       "| 22 | 0.007527217 | 0.0053698191 | 0.007527217 | 0.0066974487 | 0.0050379117 | 0.003378375 | 0.0063655413 | 0.0050379117 | 0.0050379117 | 0.0070293561 | ⋯ | -0.0002726067 | -0.0002726067 | -1.600236e-03 |  2.252544e-04 | -0.0032597733 | -0.0029278659 |  5.930072e-05 |  5.571618e-04 | -2.264051e-03 | -4.385604e-04 |\n",
       "| 23 | 0.010327474 | 0.0071814521 | 0.010327474 | 0.0091174655 | 0.0066974487 | 0.004277432 | 0.0086334621 | 0.0066974487 | 0.0066974487 | 0.0096014688 | ⋯ | -0.0010466049 | -0.0010466049 | -2.982618e-03 | -3.205998e-04 | -0.0054026350 | -0.0049186317 | -5.626015e-04 |  1.634035e-04 | -3.950625e-03 | -1.288607e-03 |\n",
       "| 24 | 0.012847705 | 0.0088119217 | 0.012847705 | 0.0112954806 | 0.0081910320 | 0.005086584 | 0.0106745909 | 0.0081910320 | 0.0081910320 | 0.0119163703 | ⋯ | -0.0017432032 | -0.0017432032 | -4.226762e-03 | -8.118687e-04 | -0.0073312106 | -0.0067103209 | -1.122314e-03 | -1.909790e-04 | -5.468541e-03 | -2.053648e-03 |\n",
       "| 25 | 0.000246550 | 0.0006595735 | 0.000246550 | 0.0004054052 | 0.0007231155 | 0.001040826 | 0.0004689473 | 0.0007231155 | 0.0007231155 | 0.0003418631 | ⋯ |  0.0017397886 |  0.0017397886 |  1.993957e-03 |  1.644476e-03 |  0.0023116672 |  0.0022481252 |  1.676247e-03 |  1.580933e-03 |  2.121041e-03 |  1.771560e-03 |\n",
       "| 26 | 0.010047448 | 0.0070002888 | 0.010047448 | 0.0088754638 | 0.0065314950 | 0.004187526 | 0.0084066701 | 0.0065314950 | 0.0065314950 | 0.0093442576 | ⋯ | -0.0009692050 | -0.0009692050 | -2.844380e-03 | -2.660144e-04 | -0.0051883488 | -0.0047195551 | -5.004113e-04 |  2.027793e-04 | -3.781968e-03 | -1.203602e-03 |\n",
       "| 27 | 0.011167551 | 0.0077249420 | 0.011167551 | 0.0098434705 | 0.0071953098 | 0.004547149 | 0.0093138384 | 0.0071953098 | 0.0071953098 | 0.0103731026 | ⋯ | -0.0012788043 | -0.0012788043 | -3.397333e-03 | -4.843561e-04 | -0.0060454935 | -0.0055158614 | -7.491722e-04 |  4.527601e-05 | -4.456597e-03 | -1.543620e-03 |\n",
       "| 28 | 0.004446935 | 0.0033770229 | 0.004446935 | 0.0040354303 | 0.0032124210 | 0.002389412 | 0.0038708285 | 0.0032124210 | 0.0032124210 | 0.0042000322 | ⋯ |  0.0005787913 |  0.0005787913 | -7.961609e-05 |  8.256941e-04 | -0.0009026254 | -0.0007380235 |  7.433932e-04 |  9.902960e-04 | -4.088198e-04 |  4.964904e-04 |\n",
       "| 29 | 0.008367294 | 0.0059133090 | 0.008367294 | 0.0074234538 | 0.0055357728 | 0.003648092 | 0.0070459176 | 0.0055357728 | 0.0055357728 | 0.0078009899 | ⋯ | -0.0005048061 | -0.0005048061 | -2.014951e-03 |  6.149814e-05 | -0.0039026318 | -0.0035250956 | -1.272699e-04 |  4.390343e-04 | -2.770023e-03 | -6.935742e-04 |\n",
       "| 30 | 0.003886884 | 0.0030146963 | 0.003886884 | 0.0035514270 | 0.0028805136 | 0.002209600 | 0.0034172443 | 0.0028805136 | 0.0028805136 | 0.0036856096 | ⋯ |  0.0007335910 |  0.0007335910 |  1.968603e-04 |  9.348650e-04 | -0.0004740530 | -0.0003398704 |  8.677736e-04 |  1.069048e-03 | -7.150502e-05 |  6.664996e-04 |\n",
       "| ⋮ | ⋮ | ⋮ | ⋮ | ⋮ | ⋮ | ⋮ | ⋮ | ⋮ | ⋮ | ⋮ | ⋱ | ⋮ | ⋮ | ⋮ | ⋮ | ⋮ | ⋮ | ⋮ | ⋮ | ⋮ | ⋮ |\n",
       "| 677 |  2.206730e-03 |  1.927717e-03 |  2.206730e-03 |  0.0020994169 |  1.884791e-03 |  1.670166e-03 |  0.0020564918 |  1.884791e-03 |  1.884791e-03 |  2.142342e-03 | ⋯ | 0.0011979899 | 0.0011979899 | 0.0010262895 | 0.001262378 | 0.0008116640 | 0.0008545891 | 0.001240915 | 0.001305303 | 0.0009404393 | 0.0011765273 |\n",
       "| 678 |  1.086627e-03 |  1.203063e-03 |  1.086627e-03 |  0.0011314102 |  1.220977e-03 |  1.310543e-03 |  0.0011493235 |  1.220977e-03 |  1.220977e-03 |  1.113497e-03 | ⋯ | 0.0015075892 | 0.0015075892 | 0.0015792423 | 0.001480719 | 0.0016688087 | 0.0016508954 | 0.001489676 | 0.001462806 | 0.0016150689 | 0.0015165458 |\n",
       "| 679 |  3.046807e-03 |  2.471206e-03 |  3.046807e-03 |  0.0028254219 |  2.382653e-03 |  1.939883e-03 |  0.0027368681 |  2.382653e-03 |  2.382653e-03 |  2.913976e-03 | ⋯ | 0.0009657904 | 0.0009657904 | 0.0006115749 | 0.001098621 | 0.0001688055 | 0.0002573594 | 0.001054344 | 0.001187175 | 0.0004344671 | 0.0009215135 |\n",
       "| 680 | -2.833732e-03 | -1.333223e-03 | -2.833732e-03 | -0.0022566132 | -1.102375e-03 |  5.186289e-05 | -0.0020257656 | -1.102375e-03 | -1.102375e-03 | -2.487461e-03 | ⋯ | 0.0025911866 | 0.0025911866 | 0.0035145771 | 0.002244915 | 0.0046688151 | 0.0044379675 | 0.002360339 | 0.002014068 | 0.0039762723 | 0.0027066104 |\n",
       "| 681 | -5.914015e-03 | -3.326019e-03 | -5.914015e-03 | -0.0049186317 | -2.927866e-03 | -9.371001e-04 | -0.0045204785 | -2.927866e-03 | -2.927866e-03 | -5.316785e-03 | ⋯ | 0.0034425846 | 0.0034425846 | 0.0050351973 | 0.002845355 | 0.0070259631 | 0.0066278099 | 0.003044431 | 0.002447202 | 0.0058315036 | 0.0036416612 |\n",
       "| 682 | -5.935270e-04 |  1.160836e-04 | -5.935270e-04 | -0.0003205998 |  2.252544e-04 |  7.711087e-04 | -0.0002114290 |  2.252544e-04 |  2.252544e-04 | -4.297707e-04 | ⋯ | 0.0019719881 | 0.0019719881 | 0.0024086715 | 0.001808232 | 0.0029545258 | 0.0028453549 | 0.001862817 | 0.001699061 | 0.0026270132 | 0.0020265735 |\n",
       "| 683 |  2.486755e-03 |  2.108880e-03 |  2.486755e-03 |  0.0023414186 |  2.050745e-03 |  1.760072e-03 |  0.0022832839 |  2.050745e-03 |  2.050745e-03 |  2.399553e-03 | ⋯ | 0.0011205901 | 0.0011205901 | 0.0008880513 | 0.001207792 | 0.0005973778 | 0.0006555125 | 0.001178725 | 0.001265927 | 0.0007717819 | 0.0010915227 |\n",
       "| 684 | -3.113758e-03 | -1.514386e-03 | -3.113758e-03 | -0.0024986149 | -1.268329e-03 | -3.804284e-05 | -0.0022525577 | -1.268329e-03 | -1.268329e-03 | -2.744672e-03 | ⋯ | 0.0026685865 | 0.0026685865 | 0.0036528153 | 0.002299501 | 0.0048831013 | 0.0046370441 | 0.002422529 | 0.002053443 | 0.0041449297 | 0.0027916151 |\n",
       "| 685 | -1.713630e-03 | -6.085696e-04 | -1.713630e-03 | -0.0012886065 | -4.385604e-04 |  4.114858e-04 | -0.0011185973 | -4.385604e-04 | -4.385604e-04 | -1.458616e-03 | ⋯ | 0.0022815874 | 0.0022815874 | 0.0029616243 | 0.002026574 | 0.0038116705 | 0.0036416612 | 0.002111578 | 0.001856564 | 0.0033016428 | 0.0023665920 |\n",
       "| 686 | -4.513886e-03 | -2.420203e-03 | -4.513886e-03 | -0.0037086233 | -2.098097e-03 | -4.875715e-04 | -0.0033865181 | -2.098097e-03 | -2.098097e-03 | -4.030728e-03 | ⋯ | 0.0030555855 | 0.0030555855 | 0.0043440063 | 0.002572428 | 0.0059545322 | 0.0056324270 | 0.002733480 | 0.002250323 | 0.0049882166 | 0.0032166381 |\n",
       "| 687 | -2.833732e-03 | -1.333223e-03 | -2.833732e-03 | -0.0022566132 | -1.102375e-03 |  5.186289e-05 | -0.0020257656 | -1.102375e-03 | -1.102375e-03 | -2.487461e-03 | ⋯ | 0.0025911866 | 0.0025911866 | 0.0035145771 | 0.002244915 | 0.0046688151 | 0.0044379675 | 0.002360339 | 0.002014068 | 0.0039762723 | 0.0027066104 |\n",
       "| 688 |  3.046807e-03 |  2.471206e-03 |  3.046807e-03 |  0.0028254219 |  2.382653e-03 |  1.939883e-03 |  0.0027368681 |  2.382653e-03 |  2.382653e-03 |  2.913976e-03 | ⋯ | 0.0009657904 | 0.0009657904 | 0.0006115749 | 0.001098621 | 0.0001688055 | 0.0002573594 | 0.001054344 | 0.001187175 | 0.0004344671 | 0.0009215135 |\n",
       "| 689 |  1.086627e-03 |  1.203063e-03 |  1.086627e-03 |  0.0011314102 |  1.220977e-03 |  1.310543e-03 |  0.0011493235 |  1.220977e-03 |  1.220977e-03 |  1.113497e-03 | ⋯ | 0.0015075892 | 0.0015075892 | 0.0015792423 | 0.001480719 | 0.0016688087 | 0.0016508954 | 0.001489676 | 0.001462806 | 0.0016150689 | 0.0015165458 |\n",
       "| 690 | -3.113758e-03 | -1.514386e-03 | -3.113758e-03 | -0.0024986149 | -1.268329e-03 | -3.804284e-05 | -0.0022525577 | -1.268329e-03 | -1.268329e-03 | -2.744672e-03 | ⋯ | 0.0026685865 | 0.0026685865 | 0.0036528153 | 0.002299501 | 0.0048831013 | 0.0046370441 | 0.002422529 | 0.002053443 | 0.0041449297 | 0.0027916151 |\n",
       "| 691 | -5.073938e-03 | -2.782529e-03 | -5.073938e-03 | -0.0041926266 | -2.430005e-03 | -6.673829e-04 | -0.0038401023 | -2.430005e-03 | -2.430005e-03 | -4.545151e-03 | ⋯ | 0.0032103852 | 0.0032103852 | 0.0046204827 | 0.002681599 | 0.0063831045 | 0.0060305802 | 0.002857861 | 0.002329074 | 0.0053255314 | 0.0033866474 |\n",
       "| 692 | -1.433604e-03 | -4.274063e-04 | -1.433604e-03 | -0.0010466049 | -2.726067e-04 |  5.013915e-04 | -0.0008918052 | -2.726067e-04 | -2.726067e-04 | -1.201405e-03 | ⋯ | 0.0022041875 | 0.0022041875 | 0.0028233861 | 0.001971988 | 0.0035973843 | 0.0034425846 | 0.002049388 | 0.001817188 | 0.0031329854 | 0.0022815874 |\n",
       "| 693 | -3.347565e-05 |  4.784102e-04 | -3.347565e-05 |  0.0001634035 |  5.571618e-04 |  9.509201e-04 |  0.0002421552 |  5.571618e-04 |  5.571618e-04 |  8.465184e-05 | ⋯ | 0.0018171884 | 0.0018171884 | 0.0021321951 | 0.001699061 | 0.0025259534 | 0.0024472017 | 0.001738437 | 0.001620309 | 0.0022896984 | 0.0018565643 |\n",
       "| 694 | -3.393784e-03 | -1.695549e-03 | -3.393784e-03 | -0.0027406166 | -1.434283e-03 | -1.279486e-04 | -0.0024793498 | -1.434283e-03 | -1.434283e-03 | -3.001883e-03 | ⋯ | 0.0027459863 | 0.0027459863 | 0.0037910535 | 0.002354086 | 0.0050973875 | 0.0048361207 | 0.002484719 | 0.002092819 | 0.0043135871 | 0.0028766197 |\n",
       "| 695 |  2.465500e-04 |  6.595735e-04 |  2.465500e-04 |  0.0004054052 |  7.231155e-04 |  1.040826e-03 |  0.0004689473 |  7.231155e-04 |  7.231155e-04 |  3.418631e-04 | ⋯ | 0.0017397886 | 0.0017397886 | 0.0019939569 | 0.001644476 | 0.0023116672 | 0.0022481252 | 0.001676247 | 0.001580933 | 0.0021210410 | 0.0017715597 |\n",
       "| 696 | -1.713630e-03 | -6.085696e-04 | -1.713630e-03 | -0.0012886065 | -4.385604e-04 |  4.114858e-04 | -0.0011185973 | -4.385604e-04 | -4.385604e-04 | -1.458616e-03 | ⋯ | 0.0022815874 | 0.0022815874 | 0.0029616243 | 0.002026574 | 0.0038116705 | 0.0036416612 | 0.002111578 | 0.001856564 | 0.0033016428 | 0.0023665920 |\n",
       "| 697 | -1.433604e-03 | -4.274063e-04 | -1.433604e-03 | -0.0010466049 | -2.726067e-04 |  5.013915e-04 | -0.0008918052 | -2.726067e-04 | -2.726067e-04 | -1.201405e-03 | ⋯ | 0.0022041875 | 0.0022041875 | 0.0028233861 | 0.001971988 | 0.0035973843 | 0.0034425846 | 0.002049388 | 0.001817188 | 0.0031329854 | 0.0022815874 |\n",
       "| 698 | -1.433604e-03 | -4.274063e-04 | -1.433604e-03 | -0.0010466049 | -2.726067e-04 |  5.013915e-04 | -0.0008918052 | -2.726067e-04 | -2.726067e-04 | -1.201405e-03 | ⋯ | 0.0022041875 | 0.0022041875 | 0.0028233861 | 0.001971988 | 0.0035973843 | 0.0034425846 | 0.002049388 | 0.001817188 | 0.0031329854 | 0.0022815874 |\n",
       "| 699 | -3.673809e-03 | -1.876713e-03 | -3.673809e-03 | -0.0029826183 | -1.600236e-03 | -2.178543e-04 | -0.0027061419 | -1.600236e-03 | -1.600236e-03 | -3.259095e-03 | ⋯ | 0.0028233861 | 0.0028233861 | 0.0039292917 | 0.002408671 | 0.0053116737 | 0.0050351973 | 0.002546910 | 0.002132195 | 0.0044822445 | 0.0029616243 |\n",
       "| 700 | -5.935270e-04 |  1.160836e-04 | -5.935270e-04 | -0.0003205998 |  2.252544e-04 |  7.711087e-04 | -0.0002114290 |  2.252544e-04 |  2.252544e-04 | -4.297707e-04 | ⋯ | 0.0019719881 | 0.0019719881 | 0.0024086715 | 0.001808232 | 0.0029545258 | 0.0028453549 | 0.001862817 | 0.001699061 | 0.0026270132 | 0.0020265735 |\n",
       "| 701 | -6.474066e-03 | -3.688346e-03 | -6.474066e-03 | -0.0054026350 | -3.259773e-03 | -1.116912e-03 | -0.0049740627 | -3.259773e-03 | -3.259773e-03 | -5.831207e-03 | ⋯ | 0.0035973843 | 0.0035973843 | 0.0053116737 | 0.002954526 | 0.0074545354 | 0.0070259631 | 0.003168812 | 0.002525953 | 0.0061688184 | 0.0038116705 |\n",
       "| 702 | -5.914015e-03 | -3.326019e-03 | -5.914015e-03 | -0.0049186317 | -2.927866e-03 | -9.371001e-04 | -0.0045204785 | -2.927866e-03 | -2.927866e-03 | -5.316785e-03 | ⋯ | 0.0034425846 | 0.0034425846 | 0.0050351973 | 0.002845355 | 0.0070259631 | 0.0066278099 | 0.003044431 | 0.002447202 | 0.0058315036 | 0.0036416612 |\n",
       "| 703 | -8.735526e-04 | -6.507972e-05 | -8.735526e-04 | -0.0005626015 |  5.930072e-05 |  6.812030e-04 | -0.0004382211 |  5.930072e-05 |  5.930072e-05 | -6.869820e-04 | ⋯ | 0.0020493879 | 0.0020493879 | 0.0025469097 | 0.001862817 | 0.0031688119 | 0.0030444315 | 0.001925007 | 0.001738437 | 0.0027956706 | 0.0021115781 |\n",
       "| 704 | -3.347565e-05 |  4.784102e-04 | -3.347565e-05 |  0.0001634035 |  5.571618e-04 |  9.509201e-04 |  0.0002421552 |  5.571618e-04 |  5.571618e-04 |  8.465184e-05 | ⋯ | 0.0018171884 | 0.0018171884 | 0.0021321951 | 0.001699061 | 0.0025259534 | 0.0024472017 | 0.001738437 | 0.001620309 | 0.0022896984 | 0.0018565643 |\n",
       "| 705 | -4.793912e-03 | -2.601366e-03 | -4.793912e-03 | -0.0039506250 | -2.264051e-03 | -5.774772e-04 | -0.0036133102 | -2.264051e-03 | -2.264051e-03 | -4.287940e-03 | ⋯ | 0.0031329854 | 0.0031329854 | 0.0044822445 | 0.002627013 | 0.0061688184 | 0.0058315036 | 0.002795671 | 0.002289698 | 0.0051568740 | 0.0033016428 |\n",
       "| 706 | -1.713630e-03 | -6.085696e-04 | -1.713630e-03 | -0.0012886065 | -4.385604e-04 |  4.114858e-04 | -0.0011185973 | -4.385604e-04 | -4.385604e-04 | -1.458616e-03 | ⋯ | 0.0022815874 | 0.0022815874 | 0.0029616243 | 0.002026574 | 0.0038116705 | 0.0036416612 | 0.002111578 | 0.001856564 | 0.0033016428 | 0.0023665920 |\n",
       "\n"
      ],
      "text/plain": [
       "    1             2             3             4             5            \n",
       "1   0.011727602   0.0080872686  0.011727602   0.0103274739  0.0075272172 \n",
       "2   0.008087269   0.0057321457  0.008087269   0.0071814521  0.0053698191 \n",
       "3   0.011727602   0.0080872686  0.011727602   0.0103274739  0.0075272172 \n",
       "4   0.010327474   0.0071814521  0.010327474   0.0091174655  0.0066974487 \n",
       "5   0.007527217   0.0053698191  0.007527217   0.0066974487  0.0050379117 \n",
       "6   0.004726961   0.0035581862  0.004726961   0.0042774320  0.0033783747 \n",
       "7   0.009767423   0.0068191255  0.009767423   0.0086334621  0.0063655413 \n",
       "8   0.007527217   0.0053698191  0.007527217   0.0066974487  0.0050379117 \n",
       "9   0.007527217   0.0053698191  0.007527217   0.0066974487  0.0050379117 \n",
       "10  0.010887525   0.0075437787  0.010887525   0.0096014688  0.0070293561 \n",
       "11  0.011447577   0.0079061053  0.011447577   0.0100854722  0.0073612635 \n",
       "12  0.011447577   0.0079061053  0.011447577   0.0100854722  0.0073612635 \n",
       "13  0.002486755   0.0021088798  0.002486755   0.0023414186  0.0020507451 \n",
       "14  0.005287012   0.0039205128  0.005287012   0.0047614353  0.0037102821 \n",
       "15  0.005006986   0.0037393495  0.005006986   0.0045194337  0.0035443284 \n",
       "16  0.001086627   0.0012030633  0.001086627   0.0011314102  0.0012209766 \n",
       "17  0.003046807   0.0024712064  0.003046807   0.0028254219  0.0023826525 \n",
       "18  0.003606858   0.0028335330  0.003606858   0.0033094253  0.0027145599 \n",
       "19  0.006127089   0.0044640027  0.006127089   0.0054874404  0.0042081432 \n",
       "20  0.005847063   0.0042828394  0.005847063   0.0052454387  0.0040421895 \n",
       "21  0.004446935   0.0033770229  0.004446935   0.0040354303  0.0032124210 \n",
       "22  0.007527217   0.0053698191  0.007527217   0.0066974487  0.0050379117 \n",
       "23  0.010327474   0.0071814521  0.010327474   0.0091174655  0.0066974487 \n",
       "24  0.012847705   0.0088119217  0.012847705   0.0112954806  0.0081910320 \n",
       "25  0.000246550   0.0006595735  0.000246550   0.0004054052  0.0007231155 \n",
       "26  0.010047448   0.0070002888  0.010047448   0.0088754638  0.0065314950 \n",
       "27  0.011167551   0.0077249420  0.011167551   0.0098434705  0.0071953098 \n",
       "28  0.004446935   0.0033770229  0.004446935   0.0040354303  0.0032124210 \n",
       "29  0.008367294   0.0059133090  0.008367294   0.0074234538  0.0055357728 \n",
       "30  0.003886884   0.0030146963  0.003886884   0.0035514270  0.0028805136 \n",
       "⋮   ⋮             ⋮             ⋮             ⋮             ⋮            \n",
       "677  2.206730e-03  1.927717e-03  2.206730e-03  0.0020994169  1.884791e-03\n",
       "678  1.086627e-03  1.203063e-03  1.086627e-03  0.0011314102  1.220977e-03\n",
       "679  3.046807e-03  2.471206e-03  3.046807e-03  0.0028254219  2.382653e-03\n",
       "680 -2.833732e-03 -1.333223e-03 -2.833732e-03 -0.0022566132 -1.102375e-03\n",
       "681 -5.914015e-03 -3.326019e-03 -5.914015e-03 -0.0049186317 -2.927866e-03\n",
       "682 -5.935270e-04  1.160836e-04 -5.935270e-04 -0.0003205998  2.252544e-04\n",
       "683  2.486755e-03  2.108880e-03  2.486755e-03  0.0023414186  2.050745e-03\n",
       "684 -3.113758e-03 -1.514386e-03 -3.113758e-03 -0.0024986149 -1.268329e-03\n",
       "685 -1.713630e-03 -6.085696e-04 -1.713630e-03 -0.0012886065 -4.385604e-04\n",
       "686 -4.513886e-03 -2.420203e-03 -4.513886e-03 -0.0037086233 -2.098097e-03\n",
       "687 -2.833732e-03 -1.333223e-03 -2.833732e-03 -0.0022566132 -1.102375e-03\n",
       "688  3.046807e-03  2.471206e-03  3.046807e-03  0.0028254219  2.382653e-03\n",
       "689  1.086627e-03  1.203063e-03  1.086627e-03  0.0011314102  1.220977e-03\n",
       "690 -3.113758e-03 -1.514386e-03 -3.113758e-03 -0.0024986149 -1.268329e-03\n",
       "691 -5.073938e-03 -2.782529e-03 -5.073938e-03 -0.0041926266 -2.430005e-03\n",
       "692 -1.433604e-03 -4.274063e-04 -1.433604e-03 -0.0010466049 -2.726067e-04\n",
       "693 -3.347565e-05  4.784102e-04 -3.347565e-05  0.0001634035  5.571618e-04\n",
       "694 -3.393784e-03 -1.695549e-03 -3.393784e-03 -0.0027406166 -1.434283e-03\n",
       "695  2.465500e-04  6.595735e-04  2.465500e-04  0.0004054052  7.231155e-04\n",
       "696 -1.713630e-03 -6.085696e-04 -1.713630e-03 -0.0012886065 -4.385604e-04\n",
       "697 -1.433604e-03 -4.274063e-04 -1.433604e-03 -0.0010466049 -2.726067e-04\n",
       "698 -1.433604e-03 -4.274063e-04 -1.433604e-03 -0.0010466049 -2.726067e-04\n",
       "699 -3.673809e-03 -1.876713e-03 -3.673809e-03 -0.0029826183 -1.600236e-03\n",
       "700 -5.935270e-04  1.160836e-04 -5.935270e-04 -0.0003205998  2.252544e-04\n",
       "701 -6.474066e-03 -3.688346e-03 -6.474066e-03 -0.0054026350 -3.259773e-03\n",
       "702 -5.914015e-03 -3.326019e-03 -5.914015e-03 -0.0049186317 -2.927866e-03\n",
       "703 -8.735526e-04 -6.507972e-05 -8.735526e-04 -0.0005626015  5.930072e-05\n",
       "704 -3.347565e-05  4.784102e-04 -3.347565e-05  0.0001634035  5.571618e-04\n",
       "705 -4.793912e-03 -2.601366e-03 -4.793912e-03 -0.0039506250 -2.264051e-03\n",
       "706 -1.713630e-03 -6.085696e-04 -1.713630e-03 -0.0012886065 -4.385604e-04\n",
       "    6             7             8             9             10            ⋯\n",
       "1   0.004726961   0.0097674225  0.0075272172  0.0075272172  0.0108875252  ⋯\n",
       "2   0.003558186   0.0068191255  0.0053698191  0.0053698191  0.0075437787  ⋯\n",
       "3   0.004726961   0.0097674225  0.0075272172  0.0075272172  0.0108875252  ⋯\n",
       "4   0.004277432   0.0086334621  0.0066974487  0.0066974487  0.0096014688  ⋯\n",
       "5   0.003378375   0.0063655413  0.0050379117  0.0050379117  0.0070293561  ⋯\n",
       "6   0.002479317   0.0040976205  0.0033783747  0.0033783747  0.0044572434  ⋯\n",
       "7   0.004097621   0.0081798780  0.0063655413  0.0063655413  0.0090870463  ⋯\n",
       "8   0.003378375   0.0063655413  0.0050379117  0.0050379117  0.0070293561  ⋯\n",
       "9   0.003378375   0.0063655413  0.0050379117  0.0050379117  0.0070293561  ⋯\n",
       "10  0.004457243   0.0090870463  0.0070293561  0.0070293561  0.0101158914  ⋯\n",
       "11  0.004637055   0.0095406305  0.0073612635  0.0073612635  0.0106303139  ⋯\n",
       "12  0.004637055   0.0095406305  0.0073612635  0.0073612635  0.0106303139  ⋯\n",
       "13  0.001760072   0.0022832839  0.0020507451  0.0020507451  0.0023995533  ⋯\n",
       "14  0.002659129   0.0045512047  0.0037102821  0.0037102821  0.0049716660  ⋯\n",
       "15  0.002569223   0.0043244126  0.0035443284  0.0035443284  0.0047144547  ⋯\n",
       "16  0.001310543   0.0011493235  0.0012209766  0.0012209766  0.0011134969  ⋯\n",
       "17  0.001939883   0.0027368681  0.0023826525  0.0023826525  0.0029139758  ⋯\n",
       "18  0.002119695   0.0031904522  0.0027145599  0.0027145599  0.0034283984  ⋯\n",
       "19  0.002928846   0.0052315809  0.0042081432  0.0042081432  0.0057432998  ⋯\n",
       "20  0.002838940   0.0050047889  0.0040421895  0.0040421895  0.0054860885  ⋯\n",
       "21  0.002389412   0.0038708285  0.0032124210  0.0032124210  0.0042000322  ⋯\n",
       "22  0.003378375   0.0063655413  0.0050379117  0.0050379117  0.0070293561  ⋯\n",
       "23  0.004277432   0.0086334621  0.0066974487  0.0066974487  0.0096014688  ⋯\n",
       "24  0.005086584   0.0106745909  0.0081910320  0.0081910320  0.0119163703  ⋯\n",
       "25  0.001040826   0.0004689473  0.0007231155  0.0007231155  0.0003418631  ⋯\n",
       "26  0.004187526   0.0084066701  0.0065314950  0.0065314950  0.0093442576  ⋯\n",
       "27  0.004547149   0.0093138384  0.0071953098  0.0071953098  0.0103731026  ⋯\n",
       "28  0.002389412   0.0038708285  0.0032124210  0.0032124210  0.0042000322  ⋯\n",
       "29  0.003648092   0.0070459176  0.0055357728  0.0055357728  0.0078009899  ⋯\n",
       "30  0.002209600   0.0034172443  0.0028805136  0.0028805136  0.0036856096  ⋯\n",
       "⋮   ⋮             ⋮             ⋮             ⋮             ⋮             ⋱\n",
       "677  1.670166e-03  0.0020564918  1.884791e-03  1.884791e-03  2.142342e-03 ⋯\n",
       "678  1.310543e-03  0.0011493235  1.220977e-03  1.220977e-03  1.113497e-03 ⋯\n",
       "679  1.939883e-03  0.0027368681  2.382653e-03  2.382653e-03  2.913976e-03 ⋯\n",
       "680  5.186289e-05 -0.0020257656 -1.102375e-03 -1.102375e-03 -2.487461e-03 ⋯\n",
       "681 -9.371001e-04 -0.0045204785 -2.927866e-03 -2.927866e-03 -5.316785e-03 ⋯\n",
       "682  7.711087e-04 -0.0002114290  2.252544e-04  2.252544e-04 -4.297707e-04 ⋯\n",
       "683  1.760072e-03  0.0022832839  2.050745e-03  2.050745e-03  2.399553e-03 ⋯\n",
       "684 -3.804284e-05 -0.0022525577 -1.268329e-03 -1.268329e-03 -2.744672e-03 ⋯\n",
       "685  4.114858e-04 -0.0011185973 -4.385604e-04 -4.385604e-04 -1.458616e-03 ⋯\n",
       "686 -4.875715e-04 -0.0033865181 -2.098097e-03 -2.098097e-03 -4.030728e-03 ⋯\n",
       "687  5.186289e-05 -0.0020257656 -1.102375e-03 -1.102375e-03 -2.487461e-03 ⋯\n",
       "688  1.939883e-03  0.0027368681  2.382653e-03  2.382653e-03  2.913976e-03 ⋯\n",
       "689  1.310543e-03  0.0011493235  1.220977e-03  1.220977e-03  1.113497e-03 ⋯\n",
       "690 -3.804284e-05 -0.0022525577 -1.268329e-03 -1.268329e-03 -2.744672e-03 ⋯\n",
       "691 -6.673829e-04 -0.0038401023 -2.430005e-03 -2.430005e-03 -4.545151e-03 ⋯\n",
       "692  5.013915e-04 -0.0008918052 -2.726067e-04 -2.726067e-04 -1.201405e-03 ⋯\n",
       "693  9.509201e-04  0.0002421552  5.571618e-04  5.571618e-04  8.465184e-05 ⋯\n",
       "694 -1.279486e-04 -0.0024793498 -1.434283e-03 -1.434283e-03 -3.001883e-03 ⋯\n",
       "695  1.040826e-03  0.0004689473  7.231155e-04  7.231155e-04  3.418631e-04 ⋯\n",
       "696  4.114858e-04 -0.0011185973 -4.385604e-04 -4.385604e-04 -1.458616e-03 ⋯\n",
       "697  5.013915e-04 -0.0008918052 -2.726067e-04 -2.726067e-04 -1.201405e-03 ⋯\n",
       "698  5.013915e-04 -0.0008918052 -2.726067e-04 -2.726067e-04 -1.201405e-03 ⋯\n",
       "699 -2.178543e-04 -0.0027061419 -1.600236e-03 -1.600236e-03 -3.259095e-03 ⋯\n",
       "700  7.711087e-04 -0.0002114290  2.252544e-04  2.252544e-04 -4.297707e-04 ⋯\n",
       "701 -1.116912e-03 -0.0049740627 -3.259773e-03 -3.259773e-03 -5.831207e-03 ⋯\n",
       "702 -9.371001e-04 -0.0045204785 -2.927866e-03 -2.927866e-03 -5.316785e-03 ⋯\n",
       "703  6.812030e-04 -0.0004382211  5.930072e-05  5.930072e-05 -6.869820e-04 ⋯\n",
       "704  9.509201e-04  0.0002421552  5.571618e-04  5.571618e-04  8.465184e-05 ⋯\n",
       "705 -5.774772e-04 -0.0036133102 -2.264051e-03 -2.264051e-03 -4.287940e-03 ⋯\n",
       "706  4.114858e-04 -0.0011185973 -4.385604e-04 -4.385604e-04 -1.458616e-03 ⋯\n",
       "    697           698           699           700           701          \n",
       "1   -0.0014336040 -0.0014336040 -3.673809e-03 -5.935270e-04 -0.0064740659\n",
       "2   -0.0004274063 -0.0004274063 -1.876713e-03  1.160836e-04 -0.0036883456\n",
       "3   -0.0014336040 -0.0014336040 -3.673809e-03 -5.935270e-04 -0.0064740659\n",
       "4   -0.0010466049 -0.0010466049 -2.982618e-03 -3.205998e-04 -0.0054026350\n",
       "5   -0.0002726067 -0.0002726067 -1.600236e-03  2.252544e-04 -0.0032597733\n",
       "6    0.0005013915  0.0005013915 -2.178543e-04  7.711087e-04 -0.0011169115\n",
       "7   -0.0008918052 -0.0008918052 -2.706142e-03 -2.114290e-04 -0.0049740627\n",
       "8   -0.0002726067 -0.0002726067 -1.600236e-03  2.252544e-04 -0.0032597733\n",
       "9   -0.0002726067 -0.0002726067 -1.600236e-03  2.252544e-04 -0.0032597733\n",
       "10  -0.0012014045 -0.0012014045 -3.259095e-03 -4.297707e-04 -0.0058312074\n",
       "11  -0.0013562041 -0.0013562041 -3.535571e-03 -5.389415e-04 -0.0062597797\n",
       "12  -0.0013562041 -0.0013562041 -3.535571e-03 -5.389415e-04 -0.0062597797\n",
       "13   0.0011205901  0.0011205901  8.880513e-04  1.207792e-03  0.0005973778\n",
       "14   0.0003465919  0.0003465919 -4.943307e-04  6.619378e-04 -0.0015454839\n",
       "15   0.0004239917  0.0004239917 -3.560925e-04  7.165233e-04 -0.0013311977\n",
       "16   0.0015075892  0.0015075892  1.579242e-03  1.480719e-03  0.0016688087\n",
       "17   0.0009657904  0.0009657904  6.115749e-04  1.098621e-03  0.0001688055\n",
       "18   0.0008109908  0.0008109908  3.350985e-04  9.894504e-04 -0.0002597668\n",
       "19   0.0001143924  0.0001143924 -9.090453e-04  4.981816e-04 -0.0021883424\n",
       "20   0.0001917922  0.0001917922 -7.708071e-04  5.527670e-04 -0.0019740562\n",
       "21   0.0005787913  0.0005787913 -7.961609e-05  8.256941e-04 -0.0009026254\n",
       "22  -0.0002726067 -0.0002726067 -1.600236e-03  2.252544e-04 -0.0032597733\n",
       "23  -0.0010466049 -0.0010466049 -2.982618e-03 -3.205998e-04 -0.0054026350\n",
       "24  -0.0017432032 -0.0017432032 -4.226762e-03 -8.118687e-04 -0.0073312106\n",
       "25   0.0017397886  0.0017397886  1.993957e-03  1.644476e-03  0.0023116672\n",
       "26  -0.0009692050 -0.0009692050 -2.844380e-03 -2.660144e-04 -0.0051883488\n",
       "27  -0.0012788043 -0.0012788043 -3.397333e-03 -4.843561e-04 -0.0060454935\n",
       "28   0.0005787913  0.0005787913 -7.961609e-05  8.256941e-04 -0.0009026254\n",
       "29  -0.0005048061 -0.0005048061 -2.014951e-03  6.149814e-05 -0.0039026318\n",
       "30   0.0007335910  0.0007335910  1.968603e-04  9.348650e-04 -0.0004740530\n",
       "⋮   ⋮             ⋮             ⋮             ⋮             ⋮            \n",
       "677 0.0011979899  0.0011979899  0.0010262895  0.001262378   0.0008116640 \n",
       "678 0.0015075892  0.0015075892  0.0015792423  0.001480719   0.0016688087 \n",
       "679 0.0009657904  0.0009657904  0.0006115749  0.001098621   0.0001688055 \n",
       "680 0.0025911866  0.0025911866  0.0035145771  0.002244915   0.0046688151 \n",
       "681 0.0034425846  0.0034425846  0.0050351973  0.002845355   0.0070259631 \n",
       "682 0.0019719881  0.0019719881  0.0024086715  0.001808232   0.0029545258 \n",
       "683 0.0011205901  0.0011205901  0.0008880513  0.001207792   0.0005973778 \n",
       "684 0.0026685865  0.0026685865  0.0036528153  0.002299501   0.0048831013 \n",
       "685 0.0022815874  0.0022815874  0.0029616243  0.002026574   0.0038116705 \n",
       "686 0.0030555855  0.0030555855  0.0043440063  0.002572428   0.0059545322 \n",
       "687 0.0025911866  0.0025911866  0.0035145771  0.002244915   0.0046688151 \n",
       "688 0.0009657904  0.0009657904  0.0006115749  0.001098621   0.0001688055 \n",
       "689 0.0015075892  0.0015075892  0.0015792423  0.001480719   0.0016688087 \n",
       "690 0.0026685865  0.0026685865  0.0036528153  0.002299501   0.0048831013 \n",
       "691 0.0032103852  0.0032103852  0.0046204827  0.002681599   0.0063831045 \n",
       "692 0.0022041875  0.0022041875  0.0028233861  0.001971988   0.0035973843 \n",
       "693 0.0018171884  0.0018171884  0.0021321951  0.001699061   0.0025259534 \n",
       "694 0.0027459863  0.0027459863  0.0037910535  0.002354086   0.0050973875 \n",
       "695 0.0017397886  0.0017397886  0.0019939569  0.001644476   0.0023116672 \n",
       "696 0.0022815874  0.0022815874  0.0029616243  0.002026574   0.0038116705 \n",
       "697 0.0022041875  0.0022041875  0.0028233861  0.001971988   0.0035973843 \n",
       "698 0.0022041875  0.0022041875  0.0028233861  0.001971988   0.0035973843 \n",
       "699 0.0028233861  0.0028233861  0.0039292917  0.002408671   0.0053116737 \n",
       "700 0.0019719881  0.0019719881  0.0024086715  0.001808232   0.0029545258 \n",
       "701 0.0035973843  0.0035973843  0.0053116737  0.002954526   0.0074545354 \n",
       "702 0.0034425846  0.0034425846  0.0050351973  0.002845355   0.0070259631 \n",
       "703 0.0020493879  0.0020493879  0.0025469097  0.001862817   0.0031688119 \n",
       "704 0.0018171884  0.0018171884  0.0021321951  0.001699061   0.0025259534 \n",
       "705 0.0031329854  0.0031329854  0.0044822445  0.002627013   0.0061688184 \n",
       "706 0.0022815874  0.0022815874  0.0029616243  0.002026574   0.0038116705 \n",
       "    702           703           704           705           706          \n",
       "1   -0.0059140146 -8.735526e-04 -3.347565e-05 -4.793912e-03 -1.713630e-03\n",
       "2   -0.0033260190 -6.507972e-05  4.784102e-04 -2.601366e-03 -6.085696e-04\n",
       "3   -0.0059140146 -8.735526e-04 -3.347565e-05 -4.793912e-03 -1.713630e-03\n",
       "4   -0.0049186317 -5.626015e-04  1.634035e-04 -3.950625e-03 -1.288607e-03\n",
       "5   -0.0029278659  5.930072e-05  5.571618e-04 -2.264051e-03 -4.385604e-04\n",
       "6   -0.0009371001  6.812030e-04  9.509201e-04 -5.774772e-04  4.114858e-04\n",
       "7   -0.0045204785 -4.382211e-04  2.421552e-04 -3.613310e-03 -1.118597e-03\n",
       "8   -0.0029278659  5.930072e-05  5.571618e-04 -2.264051e-03 -4.385604e-04\n",
       "9   -0.0029278659  5.930072e-05  5.571618e-04 -2.264051e-03 -4.385604e-04\n",
       "10  -0.0053167848 -6.869820e-04  8.465184e-05 -4.287940e-03 -1.458616e-03\n",
       "11  -0.0057149380 -8.113624e-04  5.900181e-06 -4.625255e-03 -1.628625e-03\n",
       "12  -0.0057149380 -8.113624e-04  5.900181e-06 -4.625255e-03 -1.628625e-03\n",
       "13   0.0006555125  1.178725e-03  1.265927e-03  7.717819e-04  1.091523e-03\n",
       "14  -0.0013352533  5.568225e-04  8.721685e-04 -9.147920e-04  2.414766e-04\n",
       "15  -0.0011361767  6.190127e-04  9.115443e-04 -7.461346e-04  3.264812e-04\n",
       "16   0.0016508954  1.489676e-03  1.462806e-03  1.615069e-03  1.516546e-03\n",
       "17   0.0002573594  1.054344e-03  1.187175e-03  4.344671e-04  9.215135e-04\n",
       "18  -0.0001407938  9.299639e-04  1.108423e-03  9.715237e-05  7.515043e-04\n",
       "19  -0.0019324830  3.702518e-04  7.540410e-04 -1.420764e-03 -1.353729e-05\n",
       "20  -0.0017334064  4.324421e-04  7.934168e-04 -1.252107e-03  7.146732e-05\n",
       "21  -0.0007380235  7.433932e-04  9.902960e-04 -4.088198e-04  4.964904e-04\n",
       "22  -0.0029278659  5.930072e-05  5.571618e-04 -2.264051e-03 -4.385604e-04\n",
       "23  -0.0049186317 -5.626015e-04  1.634035e-04 -3.950625e-03 -1.288607e-03\n",
       "24  -0.0067103209 -1.122314e-03 -1.909790e-04 -5.468541e-03 -2.053648e-03\n",
       "25   0.0022481252  1.676247e-03  1.580933e-03  2.121041e-03  1.771560e-03\n",
       "26  -0.0047195551 -5.004113e-04  2.027793e-04 -3.781968e-03 -1.203602e-03\n",
       "27  -0.0055158614 -7.491722e-04  4.527601e-05 -4.456597e-03 -1.543620e-03\n",
       "28  -0.0007380235  7.433932e-04  9.902960e-04 -4.088198e-04  4.964904e-04\n",
       "29  -0.0035250956 -1.272699e-04  4.390343e-04 -2.770023e-03 -6.935742e-04\n",
       "30  -0.0003398704  8.677736e-04  1.069048e-03 -7.150502e-05  6.664996e-04\n",
       "⋮   ⋮             ⋮             ⋮             ⋮             ⋮            \n",
       "677 0.0008545891  0.001240915   0.001305303   0.0009404393  0.0011765273 \n",
       "678 0.0016508954  0.001489676   0.001462806   0.0016150689  0.0015165458 \n",
       "679 0.0002573594  0.001054344   0.001187175   0.0004344671  0.0009215135 \n",
       "680 0.0044379675  0.002360339   0.002014068   0.0039762723  0.0027066104 \n",
       "681 0.0066278099  0.003044431   0.002447202   0.0058315036  0.0036416612 \n",
       "682 0.0028453549  0.001862817   0.001699061   0.0026270132  0.0020265735 \n",
       "683 0.0006555125  0.001178725   0.001265927   0.0007717819  0.0010915227 \n",
       "684 0.0046370441  0.002422529   0.002053443   0.0041449297  0.0027916151 \n",
       "685 0.0036416612  0.002111578   0.001856564   0.0033016428  0.0023665920 \n",
       "686 0.0056324270  0.002733480   0.002250323   0.0049882166  0.0032166381 \n",
       "687 0.0044379675  0.002360339   0.002014068   0.0039762723  0.0027066104 \n",
       "688 0.0002573594  0.001054344   0.001187175   0.0004344671  0.0009215135 \n",
       "689 0.0016508954  0.001489676   0.001462806   0.0016150689  0.0015165458 \n",
       "690 0.0046370441  0.002422529   0.002053443   0.0041449297  0.0027916151 \n",
       "691 0.0060305802  0.002857861   0.002329074   0.0053255314  0.0033866474 \n",
       "692 0.0034425846  0.002049388   0.001817188   0.0031329854  0.0022815874 \n",
       "693 0.0024472017  0.001738437   0.001620309   0.0022896984  0.0018565643 \n",
       "694 0.0048361207  0.002484719   0.002092819   0.0043135871  0.0028766197 \n",
       "695 0.0022481252  0.001676247   0.001580933   0.0021210410  0.0017715597 \n",
       "696 0.0036416612  0.002111578   0.001856564   0.0033016428  0.0023665920 \n",
       "697 0.0034425846  0.002049388   0.001817188   0.0031329854  0.0022815874 \n",
       "698 0.0034425846  0.002049388   0.001817188   0.0031329854  0.0022815874 \n",
       "699 0.0050351973  0.002546910   0.002132195   0.0044822445  0.0029616243 \n",
       "700 0.0028453549  0.001862817   0.001699061   0.0026270132  0.0020265735 \n",
       "701 0.0070259631  0.003168812   0.002525953   0.0061688184  0.0038116705 \n",
       "702 0.0066278099  0.003044431   0.002447202   0.0058315036  0.0036416612 \n",
       "703 0.0030444315  0.001925007   0.001738437   0.0027956706  0.0021115781 \n",
       "704 0.0024472017  0.001738437   0.001620309   0.0022896984  0.0018565643 \n",
       "705 0.0058315036  0.002795671   0.002289698   0.0051568740  0.0033016428 \n",
       "706 0.0036416612  0.002111578   0.001856564   0.0033016428  0.0023665920 "
      ]
     },
     "metadata": {},
     "output_type": "display_data"
    },
    {
     "data": {
      "text/html": [
       "2"
      ],
      "text/latex": [
       "2"
      ],
      "text/markdown": [
       "2"
      ],
      "text/plain": [
       "[1] 2"
      ]
     },
     "metadata": {},
     "output_type": "display_data"
    }
   ],
   "source": [
    "# Create the SLR model\n",
    "slr_earn <- lm(earn ~ sat, data = college)\n",
    "\n",
    "# Compute the design matrix X\n",
    "X <- model.matrix(slr_earn)\n",
    "\n",
    "# Compute the hat matrix H\n",
    "hat_matrix <- X %*% solve(t(X) %*% X) %*% t(X)\n",
    "\n",
    "# Compute the sum of the diagonals of H\n",
    "sum_of_diagonals <- sum(diag(hat_matrix))\n",
    "\n",
    "# Print the hat matrix and sum of diagonals\n",
    "hat_matrix\n",
    "sum_of_diagonals"
   ]
  },
  {
   "cell_type": "code",
   "execution_count": 16,
   "metadata": {
    "deletable": false,
    "editable": false,
    "nbgrader": {
     "cell_type": "code",
     "checksum": "a9d3495e304ab8296664886776e216dc",
     "grade": true,
     "grade_id": "cell-c134d6946ad5af77",
     "locked": true,
     "points": 10,
     "schema_version": 3,
     "solution": false,
     "task": false
    }
   },
   "outputs": [
    {
     "name": "stdout",
     "output_type": "stream",
     "text": [
      "[1] \"Correct Dimensions!\"\n"
     ]
    }
   ],
   "source": [
    "# Test Cell\n",
    "# The hat matrix should be 7x7. Let's check that.\n",
    "if(test_that(\"Check matrix dimensions\", expect_equal(dim(hat_matrix), c(706,706) ))){\n",
    "    print(\"Correct Dimensions!\")\n",
    "}else{\n",
    "    print(\"Incorrect dimensions. Make sure your hat matrix equation matches the equation in the videos.\")\n",
    "}\n",
    "# This cell has hidden test cases that will run after submission."
   ]
  },
  {
   "cell_type": "markdown",
   "metadata": {
    "deletable": false,
    "editable": false,
    "nbgrader": {
     "cell_type": "markdown",
     "checksum": "35a6328f19c8f4e3641a6f7528c3d2ff",
     "grade": false,
     "grade_id": "cell-e0f8018dca9a909d",
     "locked": true,
     "schema_version": 3,
     "solution": false,
     "task": false
    }
   },
   "source": [
    "Note: Above I had you compute a matrix inverse. In practice, [rarely is it a good idea to compute the inverse of a matrix](https://www.johndcook.com/blog/2010/01/19/dont-invert-that-matrix/)  (it's expensive!). There are fancy ways around inverse computation."
   ]
  },
  {
   "cell_type": "markdown",
   "metadata": {
    "deletable": false,
    "editable": false,
    "nbgrader": {
     "cell_type": "markdown",
     "checksum": "1ed4bec389a011053a700a2bb0419e6c",
     "grade": false,
     "grade_id": "cell-ad27ecde74f1774c",
     "locked": true,
     "schema_version": 3,
     "solution": false,
     "task": false
    }
   },
   "source": [
    "## Problem 3: Introduction to Multiple Linear Regression (MLR) Models\n",
    "\n",
    "In this problem, we will expand our knowledge of linear regression models from only having one predictor to having multiple predictors.\n",
    "\n",
    "Let's use the Plant Diversity of Northeastern North American Islands dataset from the University of Florida. This data contains the \"richness\" of native and non-native plant species on 22 different islands."
   ]
  },
  {
   "cell_type": "markdown",
   "metadata": {
    "deletable": false,
    "editable": false,
    "nbgrader": {
     "cell_type": "markdown",
     "checksum": "dc9ba1205a0dfa9edd1ba0f581ab2893",
     "grade": false,
     "grade_id": "cell-e63500ddf599c8ef",
     "locked": true,
     "schema_version": 3,
     "solution": false,
     "task": false
    }
   },
   "source": [
    "#### 3. (a) Read in the Data\n",
    "\n",
    "For practice, try reading in the data yourself. The data file is stored in the same local directory and is named `plant_diverse_island.csv`. You may need to experiment with seperators and headers for the data to load correctly."
   ]
  },
  {
   "cell_type": "code",
   "execution_count": 17,
   "metadata": {
    "deletable": false,
    "nbgrader": {
     "cell_type": "code",
     "checksum": "5f2b608f317f1fd7a85ee5acf8b9841a",
     "grade": false,
     "grade_id": "cell-338241175dfde3b4",
     "locked": false,
     "schema_version": 3,
     "solution": true,
     "task": false
    }
   },
   "outputs": [
    {
     "data": {
      "text/html": [
       "<table>\n",
       "<caption>A data.frame: 6 × 15</caption>\n",
       "<thead>\n",
       "\t<tr><th></th><th scope=col>Island</th><th scope=col>tot.rich</th><th scope=col>ntv.rich</th><th scope=col>nonntv.rich</th><th scope=col>pct.nonntv</th><th scope=col>area</th><th scope=col>latitude</th><th scope=col>elev</th><th scope=col>dist.mnland</th><th scope=col>dist.island</th><th scope=col>soil.types</th><th scope=col>years.isol</th><th scope=col>years.deglac</th><th scope=col>human.pop</th><th scope=col>human.dens</th></tr>\n",
       "\t<tr><th></th><th scope=col>&lt;fct&gt;</th><th scope=col>&lt;int&gt;</th><th scope=col>&lt;int&gt;</th><th scope=col>&lt;int&gt;</th><th scope=col>&lt;int&gt;</th><th scope=col>&lt;int&gt;</th><th scope=col>&lt;dbl&gt;</th><th scope=col>&lt;int&gt;</th><th scope=col>&lt;dbl&gt;</th><th scope=col>&lt;dbl&gt;</th><th scope=col>&lt;fct&gt;</th><th scope=col>&lt;fct&gt;</th><th scope=col>&lt;int&gt;</th><th scope=col>&lt;int&gt;</th><th scope=col>&lt;dbl&gt;</th></tr>\n",
       "</thead>\n",
       "<tbody>\n",
       "\t<tr><th scope=row>1</th><td>Appledore Island</td><td>182</td><td> 79</td><td>103</td><td>57</td><td>  40</td><td>42.99</td><td>18</td><td>10.0</td><td>10.0</td><td>6 </td><td>7000  </td><td>12640</td><td>   0</td><td>0.00</td></tr>\n",
       "\t<tr><th scope=row>2</th><td>Bear Island     </td><td> 64</td><td> 43</td><td> 21</td><td>33</td><td>   3</td><td>41.25</td><td>13</td><td> 0.3</td><td> 0.3</td><td>1 </td><td>3800  </td><td>15000</td><td>   0</td><td>0.00</td></tr>\n",
       "\t<tr><th scope=row>3</th><td>Block Island    </td><td>661</td><td>396</td><td>265</td><td>40</td><td>2707</td><td>41.18</td><td>64</td><td>20.6</td><td>20.6</td><td>59</td><td>10,000</td><td>15000</td><td>1010</td><td>0.37</td></tr>\n",
       "\t<tr><th scope=row>4</th><td>Cuttyhunk Island</td><td>311</td><td>173</td><td>138</td><td>44</td><td>  61</td><td>41.42</td><td>46</td><td>10.8</td><td> 0.4</td><td>11</td><td>4700  </td><td>14900</td><td>  86</td><td>1.41</td></tr>\n",
       "\t<tr><th scope=row>5</th><td>Fishers Island  </td><td>920</td><td>516</td><td>404</td><td>44</td><td>1190</td><td>41.27</td><td>40</td><td> 2.7</td><td> 2.7</td><td>35</td><td>7200  </td><td>15000</td><td> 289</td><td>0.24</td></tr>\n",
       "\t<tr><th scope=row>6</th><td>Gardiners Island</td><td>390</td><td>249</td><td>141</td><td>36</td><td>1350</td><td>41.08</td><td>37</td><td> 6.7</td><td> 6.7</td><td>37</td><td>5000  </td><td>14950</td><td>   0</td><td>0.00</td></tr>\n",
       "</tbody>\n",
       "</table>\n"
      ],
      "text/latex": [
       "A data.frame: 6 × 15\n",
       "\\begin{tabular}{r|lllllllllllllll}\n",
       "  & Island & tot.rich & ntv.rich & nonntv.rich & pct.nonntv & area & latitude & elev & dist.mnland & dist.island & soil.types & years.isol & years.deglac & human.pop & human.dens\\\\\n",
       "  & <fct> & <int> & <int> & <int> & <int> & <int> & <dbl> & <int> & <dbl> & <dbl> & <fct> & <fct> & <int> & <int> & <dbl>\\\\\n",
       "\\hline\n",
       "\t1 & Appledore Island & 182 &  79 & 103 & 57 &   40 & 42.99 & 18 & 10.0 & 10.0 & 6  & 7000   & 12640 &    0 & 0.00\\\\\n",
       "\t2 & Bear Island      &  64 &  43 &  21 & 33 &    3 & 41.25 & 13 &  0.3 &  0.3 & 1  & 3800   & 15000 &    0 & 0.00\\\\\n",
       "\t3 & Block Island     & 661 & 396 & 265 & 40 & 2707 & 41.18 & 64 & 20.6 & 20.6 & 59 & 10,000 & 15000 & 1010 & 0.37\\\\\n",
       "\t4 & Cuttyhunk Island & 311 & 173 & 138 & 44 &   61 & 41.42 & 46 & 10.8 &  0.4 & 11 & 4700   & 14900 &   86 & 1.41\\\\\n",
       "\t5 & Fishers Island   & 920 & 516 & 404 & 44 & 1190 & 41.27 & 40 &  2.7 &  2.7 & 35 & 7200   & 15000 &  289 & 0.24\\\\\n",
       "\t6 & Gardiners Island & 390 & 249 & 141 & 36 & 1350 & 41.08 & 37 &  6.7 &  6.7 & 37 & 5000   & 14950 &    0 & 0.00\\\\\n",
       "\\end{tabular}\n"
      ],
      "text/markdown": [
       "\n",
       "A data.frame: 6 × 15\n",
       "\n",
       "| <!--/--> | Island &lt;fct&gt; | tot.rich &lt;int&gt; | ntv.rich &lt;int&gt; | nonntv.rich &lt;int&gt; | pct.nonntv &lt;int&gt; | area &lt;int&gt; | latitude &lt;dbl&gt; | elev &lt;int&gt; | dist.mnland &lt;dbl&gt; | dist.island &lt;dbl&gt; | soil.types &lt;fct&gt; | years.isol &lt;fct&gt; | years.deglac &lt;int&gt; | human.pop &lt;int&gt; | human.dens &lt;dbl&gt; |\n",
       "|---|---|---|---|---|---|---|---|---|---|---|---|---|---|---|---|\n",
       "| 1 | Appledore Island | 182 |  79 | 103 | 57 |   40 | 42.99 | 18 | 10.0 | 10.0 | 6  | 7000   | 12640 |    0 | 0.00 |\n",
       "| 2 | Bear Island      |  64 |  43 |  21 | 33 |    3 | 41.25 | 13 |  0.3 |  0.3 | 1  | 3800   | 15000 |    0 | 0.00 |\n",
       "| 3 | Block Island     | 661 | 396 | 265 | 40 | 2707 | 41.18 | 64 | 20.6 | 20.6 | 59 | 10,000 | 15000 | 1010 | 0.37 |\n",
       "| 4 | Cuttyhunk Island | 311 | 173 | 138 | 44 |   61 | 41.42 | 46 | 10.8 |  0.4 | 11 | 4700   | 14900 |   86 | 1.41 |\n",
       "| 5 | Fishers Island   | 920 | 516 | 404 | 44 | 1190 | 41.27 | 40 |  2.7 |  2.7 | 35 | 7200   | 15000 |  289 | 0.24 |\n",
       "| 6 | Gardiners Island | 390 | 249 | 141 | 36 | 1350 | 41.08 | 37 |  6.7 |  6.7 | 37 | 5000   | 14950 |    0 | 0.00 |\n",
       "\n"
      ],
      "text/plain": [
       "  Island           tot.rich ntv.rich nonntv.rich pct.nonntv area latitude elev\n",
       "1 Appledore Island 182       79      103         57           40 42.99    18  \n",
       "2 Bear Island       64       43       21         33            3 41.25    13  \n",
       "3 Block Island     661      396      265         40         2707 41.18    64  \n",
       "4 Cuttyhunk Island 311      173      138         44           61 41.42    46  \n",
       "5 Fishers Island   920      516      404         44         1190 41.27    40  \n",
       "6 Gardiners Island 390      249      141         36         1350 41.08    37  \n",
       "  dist.mnland dist.island soil.types years.isol years.deglac human.pop\n",
       "1 10.0        10.0        6          7000       12640           0     \n",
       "2  0.3         0.3        1          3800       15000           0     \n",
       "3 20.6        20.6        59         10,000     15000        1010     \n",
       "4 10.8         0.4        11         4700       14900          86     \n",
       "5  2.7         2.7        35         7200       15000         289     \n",
       "6  6.7         6.7        37         5000       14950           0     \n",
       "  human.dens\n",
       "1 0.00      \n",
       "2 0.00      \n",
       "3 0.37      \n",
       "4 1.41      \n",
       "5 0.24      \n",
       "6 0.00      "
      ]
     },
     "metadata": {},
     "output_type": "display_data"
    }
   ],
   "source": [
    "# Read in the data\n",
    "\n",
    "path = \"plant_diverse_island.csv\"\n",
    "\n",
    "plant <- read.csv(path)\n",
    "\n",
    "\n",
    "head(plant)"
   ]
  },
  {
   "cell_type": "markdown",
   "metadata": {
    "deletable": false,
    "editable": false,
    "nbgrader": {
     "cell_type": "markdown",
     "checksum": "dab120a08c92064b664b36f96a70712a",
     "grade": false,
     "grade_id": "cell-46400f9858d32a47",
     "locked": true,
     "schema_version": 3,
     "solution": false,
     "task": false
    }
   },
   "source": [
    "#### 3. (b) Create a MLR Model (10 points)\n",
    "\n",
    "Using this dataset, construct a linear model named `mlr_plant` with `tot.rich` as the response and `area`, `dist.island` and `human.dens` as predictors."
   ]
  },
  {
   "cell_type": "code",
   "execution_count": 18,
   "metadata": {
    "deletable": false,
    "nbgrader": {
     "cell_type": "code",
     "checksum": "a0b9ebf82b87485fda8434123532f439",
     "grade": false,
     "grade_id": "cell-98855471d0776a17",
     "locked": false,
     "schema_version": 3,
     "solution": true,
     "task": false
    }
   },
   "outputs": [
    {
     "data": {
      "text/plain": [
       "\n",
       "Call:\n",
       "lm(formula = tot.rich ~ area + dist.island + human.dens, data = plant)\n",
       "\n",
       "Residuals:\n",
       "    Min      1Q  Median      3Q     Max \n",
       "-307.86 -125.86  -52.28  112.09  606.87 \n",
       "\n",
       "Coefficients:\n",
       "             Estimate Std. Error t value Pr(>|t|)    \n",
       "(Intercept) 1.891e+02  7.238e+01   2.612 0.017633 *  \n",
       "area        3.139e-02  7.924e-03   3.961 0.000916 ***\n",
       "dist.island 1.076e+01  7.411e+00   1.452 0.163746    \n",
       "human.dens  2.401e+02  1.431e+02   1.678 0.110528    \n",
       "---\n",
       "Signif. codes:  0 ‘***’ 0.001 ‘**’ 0.01 ‘*’ 0.05 ‘.’ 0.1 ‘ ’ 1\n",
       "\n",
       "Residual standard error: 224.2 on 18 degrees of freedom\n",
       "Multiple R-squared:  0.658,\tAdjusted R-squared:  0.601 \n",
       "F-statistic: 11.54 on 3 and 18 DF,  p-value: 0.0001876\n"
      ]
     },
     "metadata": {},
     "output_type": "display_data"
    }
   ],
   "source": [
    "mlr_plant <- lm(tot.rich ~ area + dist.island + human.dens, data = plant)\n",
    "\n",
    "# your code here\n",
    "\n",
    "\n",
    "summary(mlr_plant)"
   ]
  },
  {
   "cell_type": "code",
   "execution_count": 19,
   "metadata": {
    "deletable": false,
    "editable": false,
    "nbgrader": {
     "cell_type": "code",
     "checksum": "ac8d17a0d607f1db1f5ae7f0f5cdb54b",
     "grade": true,
     "grade_id": "cell-8986fd690f91abef",
     "locked": true,
     "points": 10,
     "schema_version": 3,
     "solution": false,
     "task": false
    }
   },
   "outputs": [
    {
     "name": "stdout",
     "output_type": "stream",
     "text": [
      "[1] \"Is a linear model? ... Correct\"\n",
      "[1] \"Make sure you are modeling the correct predictors!\"\n"
     ]
    }
   ],
   "source": [
    "# Test Cell\n",
    "if(test_that(\"Test model type\", {expect_is(mlr_plant, \"lm\")})){\n",
    "    print(\"Is a linear model? ... Correct\")\n",
    "    print(\"Make sure you are modeling the correct predictors!\")\n",
    "}else{\n",
    "    print(\"Incorrect type. Tip: Try the lm() function!\")\n",
    "}\n",
    "# This cell has hidden test cases that will run after submission."
   ]
  },
  {
   "cell_type": "markdown",
   "metadata": {
    "deletable": false,
    "editable": false,
    "nbgrader": {
     "cell_type": "markdown",
     "checksum": "8ed2ccbdb15d9d5e76c7142054d82598",
     "grade": false,
     "grade_id": "cell-8c75db4a764bf065",
     "locked": true,
     "schema_version": 3,
     "solution": false,
     "task": false
    }
   },
   "source": [
    "#### 3. (c) Mean Squared Error (10 points)\n",
    "\n",
    "The Means Squared Error (MSE) measures how similar the model's estimated values are to the actual values.\n",
    "\n",
    "Calculate the MSE for the `mlr_plant` model. Store the answer in the variable `MSE_plant`."
   ]
  },
  {
   "cell_type": "code",
   "execution_count": 20,
   "metadata": {
    "deletable": false,
    "nbgrader": {
     "cell_type": "code",
     "checksum": "8038c86257922a5f35d3f7ab0a17d2ff",
     "grade": false,
     "grade_id": "cell-f77bbe155691c5fc",
     "locked": false,
     "schema_version": 3,
     "solution": true,
     "task": false
    }
   },
   "outputs": [
    {
     "data": {
      "text/html": [
       "41120.1929374341"
      ],
      "text/latex": [
       "41120.1929374341"
      ],
      "text/markdown": [
       "41120.1929374341"
      ],
      "text/plain": [
       "[1] 41120.19"
      ]
     },
     "metadata": {},
     "output_type": "display_data"
    }
   ],
   "source": [
    "# Calculate the residuals\n",
    "residuals_plant <- resid(mlr_plant)\n",
    "\n",
    "# Compute the Mean Squared Error (MSE)\n",
    "MSE_plant <- mean(residuals_plant^2)\n",
    "\n",
    "# Print the MSE\n",
    "MSE_plant\n"
   ]
  },
  {
   "cell_type": "code",
   "execution_count": 21,
   "metadata": {
    "deletable": false,
    "editable": false,
    "nbgrader": {
     "cell_type": "code",
     "checksum": "b480aee3211c61bfca2a33f7808fc332",
     "grade": true,
     "grade_id": "cell-69b07de04ab18142",
     "locked": true,
     "points": 10,
     "schema_version": 3,
     "solution": false,
     "task": false
    }
   },
   "outputs": [],
   "source": [
    "# Test Cell\n",
    "# This cell has hidden test cases that will run after submission."
   ]
  },
  {
   "cell_type": "code",
   "execution_count": null,
   "metadata": {},
   "outputs": [],
   "source": []
  }
 ],
 "metadata": {
  "kernelspec": {
   "display_name": "R",
   "language": "R",
   "name": "ir"
  },
  "language_info": {
   "codemirror_mode": "r",
   "file_extension": ".r",
   "mimetype": "text/x-r-source",
   "name": "R",
   "pygments_lexer": "r",
   "version": "3.6.3"
  }
 },
 "nbformat": 4,
 "nbformat_minor": 4
}
