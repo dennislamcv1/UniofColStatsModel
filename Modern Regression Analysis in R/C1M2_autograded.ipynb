{
 "cells": [
  {
   "cell_type": "markdown",
   "metadata": {
    "deletable": false,
    "editable": false,
    "nbgrader": {
     "cell_type": "markdown",
     "checksum": "85f9dd3a25fd3e3c2221c38223aa0b04",
     "grade": false,
     "grade_id": "cell-b8c998080b02f110",
     "locked": true,
     "schema_version": 3,
     "solution": false,
     "task": false
    }
   },
   "source": [
    "# Module 2 - Autograded Assignment"
   ]
  },
  {
   "cell_type": "markdown",
   "metadata": {
    "deletable": false,
    "editable": false,
    "nbgrader": {
     "cell_type": "markdown",
     "checksum": "10348d3942636b32e43432ec2812847a",
     "grade": false,
     "grade_id": "cell-5b40e33249091cc9",
     "locked": true,
     "schema_version": 3,
     "solution": false,
     "task": false
    }
   },
   "source": [
    "### Outline:\n",
    "**Here are the objectives of this assignment:**\n",
    "\n",
    "1. Learn how to construct linear models in R, with both single and multiple predictors.\n",
    "2. Practice how to identify the intercepts and coefficients from these models, and know what they mean.\n",
    "3. Understand how to construct hat matrices and what information can be gathered from them.\n",
    "4. Touch on future concepts like Residuals and MSE.\n",
    "\n",
    "**Here are some general tips:**\n",
    "\n",
    "1. Read the questions carefully to understand what is being asked.\n",
    "2. When you feel that your work is completed, feel free to hit the ```Validate``` button to see your results on the *visible* unit tests. If you have questions about unit testing, please refer to the \"Module 0: Introduction\" notebook provided as an optional resource for this course. In this assignment, there are hidden unit tests that check your code. You will not recieve any feedback for failed hidden unit tests until the assignment is submitted. **Do not misinterpret the feedback from visible unit tests as all possible tests for a given question--write your code carefully!**\n",
    "3. Before submitting, we recommend restarting the kernel and running all the cells in order that they appear to make sure that there are no additional bugs in your code.\n",
    "4. There are 50 points total in this assignment."
   ]
  },
  {
   "cell_type": "code",
   "execution_count": null,
   "metadata": {
    "deletable": false,
    "editable": false,
    "nbgrader": {
     "cell_type": "code",
     "checksum": "915ac15a22a27176a4cec0dd912b101a",
     "grade": false,
     "grade_id": "cell-37b3dd99c838c3a0",
     "locked": true,
     "schema_version": 3,
     "solution": false,
     "task": false
    }
   },
   "outputs": [],
   "source": [
    "# This cell loads the necesary libraries for this assignment\n",
    "library(testthat)\n",
    "library(tidyverse)\n",
    "library(ggplot2) #a package for nice plots!\n",
    "library(dplyr)"
   ]
  },
  {
   "cell_type": "markdown",
   "metadata": {
    "deletable": false,
    "editable": false,
    "nbgrader": {
     "cell_type": "markdown",
     "checksum": "493873cfbc65a1e90f40d9878c2bcc7e",
     "grade": false,
     "grade_id": "cell-5c8ccfa2a61d3718",
     "locked": true,
     "schema_version": 3,
     "solution": false,
     "task": false
    }
   },
   "source": [
    "## Problem 1: Introduction to Simple Linear Regression (SLR) Models\n",
    "\n",
    "For this exercise, we will look at a dataset from *Time* Magazine about college rankings. In this dataset, each row (statistical unit) is a college. There are $n = 706$ rows. After some simplifying, the variables included in the dataset are:\n",
    "\n",
    "- `school`: the name of the school\n",
    "\n",
    "- `earn`: yearly earnings\n",
    "\n",
    "- `sat`: average SAT score\n",
    "\n",
    "- `act`: average ACT score\n",
    "\n",
    "- `price`: the cost of attendance for four years"
   ]
  },
  {
   "cell_type": "code",
   "execution_count": null,
   "metadata": {
    "deletable": false,
    "editable": false,
    "nbgrader": {
     "cell_type": "code",
     "checksum": "8429581277a4acda1d165af6a23e6722",
     "grade": false,
     "grade_id": "cell-22eee780497e866e",
     "locked": true,
     "schema_version": 3,
     "solution": false,
     "task": false
    }
   },
   "outputs": [],
   "source": [
    "college = read.csv(\"graduate-earnings.txt\", sep=\"\\t\")\n",
    "\n",
    "#prints the names in the dataframe\n",
    "college = college %>%\n",
    "    select(school = School, earn = Earn, sat = SAT, act = ACT, price = Price)\n",
    "summary(college)"
   ]
  },
  {
   "cell_type": "markdown",
   "metadata": {
    "deletable": false,
    "editable": false,
    "nbgrader": {
     "cell_type": "markdown",
     "checksum": "c1d3a7de057e598a905c6830999d38b8",
     "grade": false,
     "grade_id": "cell-5e5f19251d1f1f6a",
     "locked": true,
     "schema_version": 3,
     "solution": false,
     "task": false
    }
   },
   "source": [
    "#### 1. (a) Create the SLR Model. (5 points)\n",
    "\n",
    "Let's start simple, and model this relationship between `earn` (the response) and `sat` (the predictor). Save this model into the `slr_earn` variable."
   ]
  },
  {
   "cell_type": "code",
   "execution_count": null,
   "metadata": {
    "deletable": false,
    "nbgrader": {
     "cell_type": "code",
     "checksum": "5a156f7c9ea317fb3109851c1edf3910",
     "grade": false,
     "grade_id": "cell-d35533d4ce181924",
     "locked": false,
     "schema_version": 3,
     "solution": true,
     "task": false
    }
   },
   "outputs": [],
   "source": [
    "slr_earn = NA\n",
    "\n",
    "# your code here\n",
    "\n",
    "\n",
    "summary(slr_earn)"
   ]
  },
  {
   "cell_type": "code",
   "execution_count": null,
   "metadata": {
    "deletable": false,
    "editable": false,
    "nbgrader": {
     "cell_type": "code",
     "checksum": "85865621b1e33ffe8899b486ee7d97bc",
     "grade": true,
     "grade_id": "cell-c9c9f4853eae0a1b",
     "locked": true,
     "points": 5,
     "schema_version": 3,
     "solution": false,
     "task": false
    }
   },
   "outputs": [],
   "source": [
    "# Test Cell\n",
    "if(test_that(\"Does the function return a model?\", {expect_is(slr_earn, \"lm\")})){\n",
    "    print(\"Does the function return a model? ... Correct\")\n",
    "    print(\"Just make sure your predictor and response variables are correct!\")\n",
    "}else{\n",
    "    print(\"Test Failed. Tip: Try using the lm() function!\")\n",
    "}\n"
   ]
  },
  {
   "cell_type": "markdown",
   "metadata": {
    "deletable": false,
    "editable": false,
    "nbgrader": {
     "cell_type": "markdown",
     "checksum": "8ce3c5986c83283646469272274e4205",
     "grade": false,
     "grade_id": "cell-2fe52fb35bc1590f",
     "locked": true,
     "schema_version": 3,
     "solution": false,
     "task": false
    }
   },
   "source": [
    "#### 1. (b) Model Interpretation (5 points)\n",
    "\n",
    "Insert the model's slope and intercept into the `slope` and `intercept` variables, respectively. Do not hard code the answers, instead access the lm object directly."
   ]
  },
  {
   "cell_type": "code",
   "execution_count": null,
   "metadata": {
    "deletable": false,
    "nbgrader": {
     "cell_type": "code",
     "checksum": "32ba8cd3e9f4dbf9015418e03cef68c7",
     "grade": false,
     "grade_id": "cell-943425c2475b7017",
     "locked": false,
     "schema_version": 3,
     "solution": true,
     "task": false
    }
   },
   "outputs": [],
   "source": [
    "slope = NA\n",
    "intercept = NA\n",
    "\n",
    "# your code here\n"
   ]
  },
  {
   "cell_type": "code",
   "execution_count": null,
   "metadata": {
    "deletable": false,
    "editable": false,
    "nbgrader": {
     "cell_type": "code",
     "checksum": "063ce4ea8e280d66fec6e7ea7b4aae8c",
     "grade": true,
     "grade_id": "cell-a76bca105bb30597",
     "locked": true,
     "points": 5,
     "schema_version": 3,
     "solution": false,
     "task": false
    }
   },
   "outputs": [],
   "source": [
    "# Test Cell\n",
    "# This cell has hidden test cases that will run after submission."
   ]
  },
  {
   "cell_type": "markdown",
   "metadata": {
    "deletable": false,
    "editable": false,
    "nbgrader": {
     "cell_type": "markdown",
     "checksum": "42dc7b3391d07fb5b6b9f2c4991e5eba",
     "grade": false,
     "grade_id": "cell-bbcc6f9b4ca8d2e6",
     "locked": true,
     "schema_version": 3,
     "solution": false,
     "task": false
    }
   },
   "source": [
    "It can be helpful to visualize our model against the data, to see if it is accurately modeling the data. This code is provided for you."
   ]
  },
  {
   "cell_type": "code",
   "execution_count": null,
   "metadata": {
    "deletable": false,
    "editable": false,
    "nbgrader": {
     "cell_type": "code",
     "checksum": "6fdd72e3ab7dba0c6b11d37b11008d34",
     "grade": false,
     "grade_id": "cell-3cafa16a03d1ba77",
     "locked": true,
     "schema_version": 3,
     "solution": false,
     "task": false
    }
   },
   "outputs": [],
   "source": [
    "ggplot(college, aes(x = sat, y = earn)) + \n",
    "    geom_point( alpha = 0.5) + \n",
    "    geom_smooth(method = \"lm\", se = F, col = \"#CFB87C\") + \n",
    "    xlab(\"SAT Score\") + ylab(\"Yearly Earnings\")+\n",
    "    theme_bw()"
   ]
  },
  {
   "cell_type": "markdown",
   "metadata": {
    "deletable": false,
    "editable": false,
    "nbgrader": {
     "cell_type": "markdown",
     "checksum": "27b4fccd3e5c35c0301ef2a836248487",
     "grade": false,
     "grade_id": "cell-f0a49b998ee35209",
     "locked": true,
     "schema_version": 3,
     "solution": false,
     "task": false
    }
   },
   "source": [
    "#### 1. (c) Residuals\n",
    "\n",
    "A useful plot for model analysis is the *Residuals vs Fitted Values* plot. We will learn how to use this plot to detect things like unequal variances, non-linearity and outliers later in the course. For now, let's just see what this plot looks like. Create a scatterplot with the Residuals on the y-axis and the Fitted Values on the x-axis. \n",
    "\n",
    "Tip: Use the `resid()` and `fitted()` functions. "
   ]
  },
  {
   "cell_type": "code",
   "execution_count": null,
   "metadata": {
    "deletable": false,
    "nbgrader": {
     "cell_type": "code",
     "checksum": "3dada8e37c11b09b0026c541a0b273a4",
     "grade": false,
     "grade_id": "cell-a51f6a3b98154312",
     "locked": false,
     "schema_version": 3,
     "solution": true,
     "task": false
    }
   },
   "outputs": [],
   "source": [
    "# your code here\n"
   ]
  },
  {
   "cell_type": "markdown",
   "metadata": {
    "deletable": false,
    "editable": false,
    "nbgrader": {
     "cell_type": "markdown",
     "checksum": "0ee7da68e0626af9c59b373427dce0b9",
     "grade": false,
     "grade_id": "cell-29ae61bde455126c",
     "locked": true,
     "schema_version": 3,
     "solution": false,
     "task": false
    }
   },
   "source": [
    "#### 1. (d) Sums of Residuals (5 points)\n",
    "\n",
    "Now calculate the sum of the residuals. Store your answer in the `sum_of_residuals` variable. As a lead up to future lessons, think about why this value is what it is."
   ]
  },
  {
   "cell_type": "code",
   "execution_count": null,
   "metadata": {
    "deletable": false,
    "nbgrader": {
     "cell_type": "code",
     "checksum": "538de1d9c56237b1af3118134e2bd212",
     "grade": false,
     "grade_id": "cell-1fc77b6c62019dfe",
     "locked": false,
     "schema_version": 3,
     "solution": true,
     "task": false
    }
   },
   "outputs": [],
   "source": [
    "sum_of_residuals = NA\n",
    "\n",
    "# your code here\n"
   ]
  },
  {
   "cell_type": "code",
   "execution_count": null,
   "metadata": {
    "deletable": false,
    "editable": false,
    "nbgrader": {
     "cell_type": "code",
     "checksum": "d88243cb84d07d1967aff998b963ce56",
     "grade": true,
     "grade_id": "cell-e0834e6fdf46ea5c",
     "locked": true,
     "points": 5,
     "schema_version": 3,
     "solution": false,
     "task": false
    }
   },
   "outputs": [],
   "source": [
    "# Test Cell\n",
    "# This cell has hidden test cases that will run after submission."
   ]
  },
  {
   "cell_type": "markdown",
   "metadata": {
    "deletable": false,
    "editable": false,
    "nbgrader": {
     "cell_type": "markdown",
     "checksum": "9f4d90a78c942819ff8142a8f9a85bae",
     "grade": false,
     "grade_id": "cell-68f62b426ff9e853",
     "locked": true,
     "schema_version": 3,
     "solution": false,
     "task": false
    }
   },
   "source": [
    "#### 1. (e) Prediction (5 points)\n",
    "\n",
    "At the (sample) mean value of `sat`, compute the predicted value of `earn`. Store your answer in `yhat`."
   ]
  },
  {
   "cell_type": "code",
   "execution_count": null,
   "metadata": {
    "deletable": false,
    "nbgrader": {
     "cell_type": "code",
     "checksum": "c0513aab4518dd28f794c269d6a1962e",
     "grade": false,
     "grade_id": "cell-2ddf06dfcbe15132",
     "locked": false,
     "schema_version": 3,
     "solution": true,
     "task": false
    }
   },
   "outputs": [],
   "source": [
    "yhat = NA\n",
    "\n",
    "# your code here\n"
   ]
  },
  {
   "cell_type": "code",
   "execution_count": null,
   "metadata": {
    "deletable": false,
    "editable": false,
    "nbgrader": {
     "cell_type": "code",
     "checksum": "6221fc01d2dea116b9a8f19c4780a6b4",
     "grade": true,
     "grade_id": "cell-b84ff05e2befeeef",
     "locked": true,
     "points": 5,
     "schema_version": 3,
     "solution": false,
     "task": false
    }
   },
   "outputs": [],
   "source": [
    "# Test Cell\n",
    "# This cell has hidden test cases that will run after submission."
   ]
  },
  {
   "cell_type": "markdown",
   "metadata": {
    "deletable": false,
    "editable": false,
    "nbgrader": {
     "cell_type": "markdown",
     "checksum": "dab2387dabaad17e1baa73d17a878b81",
     "grade": false,
     "grade_id": "cell-7b0832997bbca313",
     "locked": true,
     "schema_version": 3,
     "solution": false,
     "task": false
    }
   },
   "source": [
    "## Problem 2: SLR Hat Matrix (10 points)\n",
    "\n",
    "The \"hat matrix\" is how we map from the response, $y$, to the fitted value $\\widehat{y}$. Compute the hat matrix $H$ for the `slr_earn` model from scratch (e.g., using functions like `model.matrix()` to obtain the design matrix $X$, `solve()` to compute an inverse, `%*%` for matrix multiplication, and `t()` for transpose). Store $H$ in the variable `hat_matrix`.\n",
    "\n",
    "Then compute the sum of the diagonals of $H$. Store this value in `sum_of_diagonals`. Do you understand why this value is what it is?\n"
   ]
  },
  {
   "cell_type": "code",
   "execution_count": null,
   "metadata": {
    "deletable": false,
    "nbgrader": {
     "cell_type": "code",
     "checksum": "0e7aaa9419386c3b1cc694b54d0b8d07",
     "grade": false,
     "grade_id": "cell-691714c151c81e0c",
     "locked": false,
     "schema_version": 3,
     "solution": true,
     "task": false
    }
   },
   "outputs": [],
   "source": [
    "hat_matrix = NA\n",
    "sum_of_diagonals = NA\n",
    "\n",
    "# your code here\n"
   ]
  },
  {
   "cell_type": "code",
   "execution_count": null,
   "metadata": {
    "deletable": false,
    "editable": false,
    "nbgrader": {
     "cell_type": "code",
     "checksum": "a9d3495e304ab8296664886776e216dc",
     "grade": true,
     "grade_id": "cell-c134d6946ad5af77",
     "locked": true,
     "points": 10,
     "schema_version": 3,
     "solution": false,
     "task": false
    }
   },
   "outputs": [],
   "source": [
    "# Test Cell\n",
    "# The hat matrix should be 7x7. Let's check that.\n",
    "if(test_that(\"Check matrix dimensions\", expect_equal(dim(hat_matrix), c(706,706) ))){\n",
    "    print(\"Correct Dimensions!\")\n",
    "}else{\n",
    "    print(\"Incorrect dimensions. Make sure your hat matrix equation matches the equation in the videos.\")\n",
    "}\n",
    "# This cell has hidden test cases that will run after submission."
   ]
  },
  {
   "cell_type": "markdown",
   "metadata": {
    "deletable": false,
    "editable": false,
    "nbgrader": {
     "cell_type": "markdown",
     "checksum": "35a6328f19c8f4e3641a6f7528c3d2ff",
     "grade": false,
     "grade_id": "cell-e0f8018dca9a909d",
     "locked": true,
     "schema_version": 3,
     "solution": false,
     "task": false
    }
   },
   "source": [
    "Note: Above I had you compute a matrix inverse. In practice, [rarely is it a good idea to compute the inverse of a matrix](https://www.johndcook.com/blog/2010/01/19/dont-invert-that-matrix/)  (it's expensive!). There are fancy ways around inverse computation."
   ]
  },
  {
   "cell_type": "markdown",
   "metadata": {
    "deletable": false,
    "editable": false,
    "nbgrader": {
     "cell_type": "markdown",
     "checksum": "1ed4bec389a011053a700a2bb0419e6c",
     "grade": false,
     "grade_id": "cell-ad27ecde74f1774c",
     "locked": true,
     "schema_version": 3,
     "solution": false,
     "task": false
    }
   },
   "source": [
    "## Problem 3: Introduction to Multiple Linear Regression (MLR) Models\n",
    "\n",
    "In this problem, we will expand our knowledge of linear regression models from only having one predictor to having multiple predictors.\n",
    "\n",
    "Let's use the Plant Diversity of Northeastern North American Islands dataset from the University of Florida. This data contains the \"richness\" of native and non-native plant species on 22 different islands."
   ]
  },
  {
   "cell_type": "markdown",
   "metadata": {
    "deletable": false,
    "editable": false,
    "nbgrader": {
     "cell_type": "markdown",
     "checksum": "dc9ba1205a0dfa9edd1ba0f581ab2893",
     "grade": false,
     "grade_id": "cell-e63500ddf599c8ef",
     "locked": true,
     "schema_version": 3,
     "solution": false,
     "task": false
    }
   },
   "source": [
    "#### 3. (a) Read in the Data\n",
    "\n",
    "For practice, try reading in the data yourself. The data file is stored in the same local directory and is named `plant_diverse_island.csv`. You may need to experiment with seperators and headers for the data to load correctly."
   ]
  },
  {
   "cell_type": "code",
   "execution_count": null,
   "metadata": {
    "deletable": false,
    "nbgrader": {
     "cell_type": "code",
     "checksum": "5f2b608f317f1fd7a85ee5acf8b9841a",
     "grade": false,
     "grade_id": "cell-338241175dfde3b4",
     "locked": false,
     "schema_version": 3,
     "solution": true,
     "task": false
    }
   },
   "outputs": [],
   "source": [
    "# Read in the data\n",
    "plant = NA\n",
    "path = \"plant_diverse_island.csv\"\n",
    "\n",
    "# your code here\n",
    "\n",
    "\n",
    "head(plant)"
   ]
  },
  {
   "cell_type": "markdown",
   "metadata": {
    "deletable": false,
    "editable": false,
    "nbgrader": {
     "cell_type": "markdown",
     "checksum": "dab120a08c92064b664b36f96a70712a",
     "grade": false,
     "grade_id": "cell-46400f9858d32a47",
     "locked": true,
     "schema_version": 3,
     "solution": false,
     "task": false
    }
   },
   "source": [
    "#### 3. (b) Create a MLR Model (10 points)\n",
    "\n",
    "Using this dataset, construct a linear model named `mlr_plant` with `tot.rich` as the response and `area`, `dist.island` and `human.dens` as predictors."
   ]
  },
  {
   "cell_type": "code",
   "execution_count": null,
   "metadata": {
    "deletable": false,
    "nbgrader": {
     "cell_type": "code",
     "checksum": "a0b9ebf82b87485fda8434123532f439",
     "grade": false,
     "grade_id": "cell-98855471d0776a17",
     "locked": false,
     "schema_version": 3,
     "solution": true,
     "task": false
    }
   },
   "outputs": [],
   "source": [
    "mlr_plant = NA\n",
    "\n",
    "# your code here\n",
    "\n",
    "\n",
    "summary(mlr_plant)"
   ]
  },
  {
   "cell_type": "code",
   "execution_count": null,
   "metadata": {
    "deletable": false,
    "editable": false,
    "nbgrader": {
     "cell_type": "code",
     "checksum": "ac8d17a0d607f1db1f5ae7f0f5cdb54b",
     "grade": true,
     "grade_id": "cell-8986fd690f91abef",
     "locked": true,
     "points": 10,
     "schema_version": 3,
     "solution": false,
     "task": false
    }
   },
   "outputs": [],
   "source": [
    "# Test Cell\n",
    "if(test_that(\"Test model type\", {expect_is(mlr_plant, \"lm\")})){\n",
    "    print(\"Is a linear model? ... Correct\")\n",
    "    print(\"Make sure you are modeling the correct predictors!\")\n",
    "}else{\n",
    "    print(\"Incorrect type. Tip: Try the lm() function!\")\n",
    "}\n",
    "# This cell has hidden test cases that will run after submission."
   ]
  },
  {
   "cell_type": "markdown",
   "metadata": {
    "deletable": false,
    "editable": false,
    "nbgrader": {
     "cell_type": "markdown",
     "checksum": "8ed2ccbdb15d9d5e76c7142054d82598",
     "grade": false,
     "grade_id": "cell-8c75db4a764bf065",
     "locked": true,
     "schema_version": 3,
     "solution": false,
     "task": false
    }
   },
   "source": [
    "#### 3. (c) Mean Squared Error (10 points)\n",
    "\n",
    "The Means Squared Error (MSE) measures how similar the model's estimated values are to the actual values.\n",
    "\n",
    "Calculate the MSE for the `mlr_plant` model. Store the answer in the variable `MSE_plant`."
   ]
  },
  {
   "cell_type": "code",
   "execution_count": null,
   "metadata": {
    "deletable": false,
    "nbgrader": {
     "cell_type": "code",
     "checksum": "8038c86257922a5f35d3f7ab0a17d2ff",
     "grade": false,
     "grade_id": "cell-f77bbe155691c5fc",
     "locked": false,
     "schema_version": 3,
     "solution": true,
     "task": false
    }
   },
   "outputs": [],
   "source": [
    "MSE_plant = NA\n",
    "\n",
    "# your code here\n"
   ]
  },
  {
   "cell_type": "code",
   "execution_count": null,
   "metadata": {
    "deletable": false,
    "editable": false,
    "nbgrader": {
     "cell_type": "code",
     "checksum": "b480aee3211c61bfca2a33f7808fc332",
     "grade": true,
     "grade_id": "cell-69b07de04ab18142",
     "locked": true,
     "points": 10,
     "schema_version": 3,
     "solution": false,
     "task": false
    }
   },
   "outputs": [],
   "source": [
    "# Test Cell\n",
    "# This cell has hidden test cases that will run after submission."
   ]
  },
  {
   "cell_type": "code",
   "execution_count": null,
   "metadata": {},
   "outputs": [],
   "source": []
  }
 ],
 "metadata": {
  "kernelspec": {
   "display_name": "R",
   "language": "R",
   "name": "ir"
  },
  "language_info": {
   "codemirror_mode": "r",
   "file_extension": ".r",
   "mimetype": "text/x-r-source",
   "name": "R",
   "pygments_lexer": "r",
   "version": "3.6.3"
  }
 },
 "nbformat": 4,
 "nbformat_minor": 4
}
