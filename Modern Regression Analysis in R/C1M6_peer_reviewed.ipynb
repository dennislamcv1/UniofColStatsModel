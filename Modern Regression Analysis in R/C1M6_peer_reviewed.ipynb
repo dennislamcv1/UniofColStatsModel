{
 "cells": [
  {
   "cell_type": "markdown",
   "metadata": {},
   "source": [
    "# Module 6: Peer Reviewed Assignment"
   ]
  },
  {
   "cell_type": "markdown",
   "metadata": {},
   "source": [
    "### Outline:\n",
    "The objectives for this assignment:\n",
    "\n",
    "1. Apply the processes of model selection with real datasets.\n",
    "2. Understand why and how some problems are simpler to solve with some forms of model selection, and others are more difficult.\n",
    "3. Be able to explain the balance between model power and simplicity.\n",
    "3. Observe the difference between different model selection criterion.\n",
    "\n",
    "General tips:\n",
    "\n",
    "1. Read the questions carefully to understand what is being asked.\n",
    "2. This work will be reviewed by another human, so make sure that you are clear and concise in what your explanations and answers."
   ]
  },
  {
   "cell_type": "code",
   "execution_count": 1,
   "metadata": {},
   "outputs": [
    {
     "name": "stderr",
     "output_type": "stream",
     "text": [
      "── \u001b[1mAttaching packages\u001b[22m ─────────────────────────────────────── tidyverse 1.3.0 ──\n",
      "\n",
      "\u001b[32m✔\u001b[39m \u001b[34mggplot2\u001b[39m 3.3.0     \u001b[32m✔\u001b[39m \u001b[34mpurrr  \u001b[39m 0.3.4\n",
      "\u001b[32m✔\u001b[39m \u001b[34mtibble \u001b[39m 3.0.1     \u001b[32m✔\u001b[39m \u001b[34mdplyr  \u001b[39m 0.8.5\n",
      "\u001b[32m✔\u001b[39m \u001b[34mtidyr  \u001b[39m 1.0.2     \u001b[32m✔\u001b[39m \u001b[34mstringr\u001b[39m 1.4.0\n",
      "\u001b[32m✔\u001b[39m \u001b[34mreadr  \u001b[39m 1.3.1     \u001b[32m✔\u001b[39m \u001b[34mforcats\u001b[39m 0.5.0\n",
      "\n",
      "── \u001b[1mConflicts\u001b[22m ────────────────────────────────────────── tidyverse_conflicts() ──\n",
      "\u001b[31m✖\u001b[39m \u001b[34mdplyr\u001b[39m::\u001b[32mfilter()\u001b[39m masks \u001b[34mstats\u001b[39m::filter()\n",
      "\u001b[31m✖\u001b[39m \u001b[34mdplyr\u001b[39m::\u001b[32mlag()\u001b[39m    masks \u001b[34mstats\u001b[39m::lag()\n",
      "\n"
     ]
    },
    {
     "ename": "ERROR",
     "evalue": "Error in library(leaps): there is no package called ‘leaps’\n",
     "output_type": "error",
     "traceback": [
      "Error in library(leaps): there is no package called ‘leaps’\nTraceback:\n",
      "1. library(leaps)"
     ]
    }
   ],
   "source": [
    "# This cell loads in the necesary packages\n",
    "library(tidyverse)\n",
    "library(leaps)\n",
    "library(ggplot2)"
   ]
  },
  {
   "cell_type": "markdown",
   "metadata": {},
   "source": [
    "## Problem 1: We Need Concrete Evidence!\n",
    "\n",
    "[Ralphie](https://en.wikipedia.org/wiki/Ralphie_the_Buffalo) is studying to become a civil engineer. That means she has to know everything about concrete, including what ingredients go in it and how they affect the concrete's properties. She's currently writting up a project about concrete flow, and has asked you to help her figure out which ingredients are the most important. Let's use our new model selection techniques to help Ralphie out!\n",
    "\n",
    "Data Source: Yeh, I-Cheng, \"Modeling slump flow of concrete using second-order regressions and \n",
    "artificial neural networks,\" Cement and Concrete Composites, Vol.29, No. 6, 474-480, \n",
    "2007."
   ]
  },
  {
   "cell_type": "code",
   "execution_count": 2,
   "metadata": {},
   "outputs": [
    {
     "data": {
      "text/html": [
       "<table>\n",
       "<caption>A data.frame: 6 × 8</caption>\n",
       "<thead>\n",
       "\t<tr><th></th><th scope=col>cement</th><th scope=col>slag</th><th scope=col>ash</th><th scope=col>water</th><th scope=col>sp</th><th scope=col>course.agg</th><th scope=col>fine.agg</th><th scope=col>flow</th></tr>\n",
       "\t<tr><th></th><th scope=col>&lt;dbl&gt;</th><th scope=col>&lt;dbl&gt;</th><th scope=col>&lt;dbl&gt;</th><th scope=col>&lt;dbl&gt;</th><th scope=col>&lt;dbl&gt;</th><th scope=col>&lt;dbl&gt;</th><th scope=col>&lt;dbl&gt;</th><th scope=col>&lt;dbl&gt;</th></tr>\n",
       "</thead>\n",
       "<tbody>\n",
       "\t<tr><th scope=row>1</th><td>273</td><td> 82</td><td>105</td><td>210</td><td> 9</td><td>904</td><td>680</td><td>62.0</td></tr>\n",
       "\t<tr><th scope=row>2</th><td>163</td><td>149</td><td>191</td><td>180</td><td>12</td><td>843</td><td>746</td><td>20.0</td></tr>\n",
       "\t<tr><th scope=row>3</th><td>162</td><td>148</td><td>191</td><td>179</td><td>16</td><td>840</td><td>743</td><td>20.0</td></tr>\n",
       "\t<tr><th scope=row>4</th><td>162</td><td>148</td><td>190</td><td>179</td><td>19</td><td>838</td><td>741</td><td>21.5</td></tr>\n",
       "\t<tr><th scope=row>5</th><td>154</td><td>112</td><td>144</td><td>220</td><td>10</td><td>923</td><td>658</td><td>64.0</td></tr>\n",
       "\t<tr><th scope=row>6</th><td>147</td><td> 89</td><td>115</td><td>202</td><td> 9</td><td>860</td><td>829</td><td>55.0</td></tr>\n",
       "</tbody>\n",
       "</table>\n"
      ],
      "text/latex": [
       "A data.frame: 6 × 8\n",
       "\\begin{tabular}{r|llllllll}\n",
       "  & cement & slag & ash & water & sp & course.agg & fine.agg & flow\\\\\n",
       "  & <dbl> & <dbl> & <dbl> & <dbl> & <dbl> & <dbl> & <dbl> & <dbl>\\\\\n",
       "\\hline\n",
       "\t1 & 273 &  82 & 105 & 210 &  9 & 904 & 680 & 62.0\\\\\n",
       "\t2 & 163 & 149 & 191 & 180 & 12 & 843 & 746 & 20.0\\\\\n",
       "\t3 & 162 & 148 & 191 & 179 & 16 & 840 & 743 & 20.0\\\\\n",
       "\t4 & 162 & 148 & 190 & 179 & 19 & 838 & 741 & 21.5\\\\\n",
       "\t5 & 154 & 112 & 144 & 220 & 10 & 923 & 658 & 64.0\\\\\n",
       "\t6 & 147 &  89 & 115 & 202 &  9 & 860 & 829 & 55.0\\\\\n",
       "\\end{tabular}\n"
      ],
      "text/markdown": [
       "\n",
       "A data.frame: 6 × 8\n",
       "\n",
       "| <!--/--> | cement &lt;dbl&gt; | slag &lt;dbl&gt; | ash &lt;dbl&gt; | water &lt;dbl&gt; | sp &lt;dbl&gt; | course.agg &lt;dbl&gt; | fine.agg &lt;dbl&gt; | flow &lt;dbl&gt; |\n",
       "|---|---|---|---|---|---|---|---|---|\n",
       "| 1 | 273 |  82 | 105 | 210 |  9 | 904 | 680 | 62.0 |\n",
       "| 2 | 163 | 149 | 191 | 180 | 12 | 843 | 746 | 20.0 |\n",
       "| 3 | 162 | 148 | 191 | 179 | 16 | 840 | 743 | 20.0 |\n",
       "| 4 | 162 | 148 | 190 | 179 | 19 | 838 | 741 | 21.5 |\n",
       "| 5 | 154 | 112 | 144 | 220 | 10 | 923 | 658 | 64.0 |\n",
       "| 6 | 147 |  89 | 115 | 202 |  9 | 860 | 829 | 55.0 |\n",
       "\n"
      ],
      "text/plain": [
       "  cement slag ash water sp course.agg fine.agg flow\n",
       "1 273     82  105 210    9 904        680      62.0\n",
       "2 163    149  191 180   12 843        746      20.0\n",
       "3 162    148  191 179   16 840        743      20.0\n",
       "4 162    148  190 179   19 838        741      21.5\n",
       "5 154    112  144 220   10 923        658      64.0\n",
       "6 147     89  115 202    9 860        829      55.0"
      ]
     },
     "metadata": {},
     "output_type": "display_data"
    }
   ],
   "source": [
    "concrete.data = read.csv(\"Concrete.data\")\n",
    "\n",
    "concrete.data = concrete.data[, c(-1, -9, -11)]\n",
    "names(concrete.data) = c(\"cement\", \"slag\", \"ash\", \"water\", \"sp\", \"course.agg\", \"fine.agg\", \"flow\")\n",
    "\n",
    "head(concrete.data)"
   ]
  },
  {
   "cell_type": "markdown",
   "metadata": {},
   "source": [
    "### 1. (a) Initial Inspections\n",
    "\n",
    "Sometimes, the best way to start is to just jump in and mess around with the model. So let's do that. Create a linear model with `flow` as the response and all other columns as predictors.\n",
    "\n",
    "Just by looking at the summary for your model, is there reason to believe that our model could be simpler?"
   ]
  },
  {
   "cell_type": "code",
   "execution_count": 8,
   "metadata": {},
   "outputs": [],
   "source": [
    "# Your Code Here"
   ]
  },
  {
   "cell_type": "markdown",
   "metadata": {},
   "source": []
  },
  {
   "cell_type": "markdown",
   "metadata": {},
   "source": [
    "### 1. (b) Backwards Selection\n",
    "Our model has $7$ predictors. That is not too many, so we can use backwards selection to narrow them down to the most impactful.\n",
    "\n",
    "Perform backwards selection on your model. You don't have to automate the backwards selection process."
   ]
  },
  {
   "cell_type": "code",
   "execution_count": 39,
   "metadata": {},
   "outputs": [],
   "source": [
    "# Your Code Here"
   ]
  },
  {
   "cell_type": "markdown",
   "metadata": {},
   "source": [
    "### 1. (c) Objection!\n",
    "\n",
    "Stop right there! Think about what you just did. You just removed the \"worst\" features from your model. But we know that a model will become less powerful when we remove features so we should check that it's still just as powerful as the original model. Use a test to check whether the model at the end of backward selection is significantly different than the model with all the features.\n",
    "\n",
    "Describe why we want to balance explanatory power with simplicity."
   ]
  },
  {
   "cell_type": "code",
   "execution_count": 42,
   "metadata": {},
   "outputs": [],
   "source": [
    "# Your Code Here"
   ]
  },
  {
   "cell_type": "markdown",
   "metadata": {},
   "source": []
  },
  {
   "cell_type": "markdown",
   "metadata": {},
   "source": [
    "### 1. (d) Checking our Model\n",
    "\n",
    "Ralphie is nervous about her project and wants to make sure our model is correct. She's found a function called `regsubsets()` in the leaps package which allows us to see which subsets of arguments produce the best combinations. Ralphie wrote up the code for you and the documentation for the function can be found [here](https://www.rdocumentation.org/packages/leaps/versions/2.1-1/topics/regsubsets). For each of the subsets of features, calculate the AIC, BIC and adjusted $R^2$. Plot the results of each criterion, with the score on the y-axis and the number of features on the x-axis. \n",
    "\n",
    "Do all of the criterion agree on how many features make the best model? Explain why the criterion will or will not always agree on the best model.\n",
    "\n",
    "**Hint**: It may help to look at the attributes stored within the regsubsets summary using `names(rs)`."
   ]
  },
  {
   "cell_type": "code",
   "execution_count": 49,
   "metadata": {},
   "outputs": [
    {
     "name": "stderr",
     "output_type": "stream",
     "text": [
      "Warning message in model.matrix.default(terms(formula, data = data), mm):\n",
      "\"the response appeared on the right-hand side and was dropped\"Warning message in model.matrix.default(terms(formula, data = data), mm):\n",
      "\"problem with term 8 in model.matrix: no columns are assigned\""
     ]
    },
    {
     "data": {
      "text/html": [
       "<table>\n",
       "<thead><tr><th scope=col>(Intercept)</th><th scope=col>cement</th><th scope=col>slag</th><th scope=col>ash</th><th scope=col>water</th><th scope=col>sp</th><th scope=col>course.agg</th><th scope=col>fine.agg</th></tr></thead>\n",
       "<tbody>\n",
       "\t<tr><td>TRUE </td><td>FALSE</td><td>FALSE</td><td>FALSE</td><td>TRUE </td><td>FALSE</td><td>FALSE</td><td>FALSE</td></tr>\n",
       "\t<tr><td>TRUE </td><td>FALSE</td><td> TRUE</td><td>FALSE</td><td>TRUE </td><td>FALSE</td><td>FALSE</td><td>FALSE</td></tr>\n",
       "\t<tr><td>TRUE </td><td>FALSE</td><td> TRUE</td><td>FALSE</td><td>TRUE </td><td>FALSE</td><td>FALSE</td><td> TRUE</td></tr>\n",
       "\t<tr><td>TRUE </td><td> TRUE</td><td> TRUE</td><td>FALSE</td><td>TRUE </td><td>FALSE</td><td>FALSE</td><td> TRUE</td></tr>\n",
       "\t<tr><td>TRUE </td><td>FALSE</td><td> TRUE</td><td> TRUE</td><td>TRUE </td><td>FALSE</td><td> TRUE</td><td> TRUE</td></tr>\n",
       "\t<tr><td>TRUE </td><td> TRUE</td><td>FALSE</td><td> TRUE</td><td>TRUE </td><td> TRUE</td><td> TRUE</td><td> TRUE</td></tr>\n",
       "</tbody>\n",
       "</table>\n"
      ],
      "text/latex": [
       "\\begin{tabular}{r|llllllll}\n",
       " (Intercept) & cement & slag & ash & water & sp & course.agg & fine.agg\\\\\n",
       "\\hline\n",
       "\t TRUE  & FALSE & FALSE & FALSE & TRUE  & FALSE & FALSE & FALSE\\\\\n",
       "\t TRUE  & FALSE &  TRUE & FALSE & TRUE  & FALSE & FALSE & FALSE\\\\\n",
       "\t TRUE  & FALSE &  TRUE & FALSE & TRUE  & FALSE & FALSE &  TRUE\\\\\n",
       "\t TRUE  &  TRUE &  TRUE & FALSE & TRUE  & FALSE & FALSE &  TRUE\\\\\n",
       "\t TRUE  & FALSE &  TRUE &  TRUE & TRUE  & FALSE &  TRUE &  TRUE\\\\\n",
       "\t TRUE  &  TRUE & FALSE &  TRUE & TRUE  &  TRUE &  TRUE &  TRUE\\\\\n",
       "\\end{tabular}\n"
      ],
      "text/markdown": [
       "\n",
       "| (Intercept) | cement | slag | ash | water | sp | course.agg | fine.agg |\n",
       "|---|---|---|---|---|---|---|---|\n",
       "| TRUE  | FALSE | FALSE | FALSE | TRUE  | FALSE | FALSE | FALSE |\n",
       "| TRUE  | FALSE |  TRUE | FALSE | TRUE  | FALSE | FALSE | FALSE |\n",
       "| TRUE  | FALSE |  TRUE | FALSE | TRUE  | FALSE | FALSE |  TRUE |\n",
       "| TRUE  |  TRUE |  TRUE | FALSE | TRUE  | FALSE | FALSE |  TRUE |\n",
       "| TRUE  | FALSE |  TRUE |  TRUE | TRUE  | FALSE |  TRUE |  TRUE |\n",
       "| TRUE  |  TRUE | FALSE |  TRUE | TRUE  |  TRUE |  TRUE |  TRUE |\n",
       "\n"
      ],
      "text/plain": [
       "  (Intercept) cement slag  ash   water sp    course.agg fine.agg\n",
       "1 TRUE        FALSE  FALSE FALSE TRUE  FALSE FALSE      FALSE   \n",
       "2 TRUE        FALSE   TRUE FALSE TRUE  FALSE FALSE      FALSE   \n",
       "3 TRUE        FALSE   TRUE FALSE TRUE  FALSE FALSE       TRUE   \n",
       "4 TRUE         TRUE   TRUE FALSE TRUE  FALSE FALSE       TRUE   \n",
       "5 TRUE        FALSE   TRUE  TRUE TRUE  FALSE  TRUE       TRUE   \n",
       "6 TRUE         TRUE  FALSE  TRUE TRUE   TRUE  TRUE       TRUE   "
      ]
     },
     "metadata": {},
     "output_type": "display_data"
    }
   ],
   "source": [
    "reg = regsubsets(flow ~ cement+slag+ash+water+sp+course.agg+fine.agg+flow, data=concrete.data, nvmax=6)\n",
    "rs = summary(reg)\n",
    "rs$which\n",
    "\n",
    "# Your Code Here"
   ]
  },
  {
   "cell_type": "markdown",
   "metadata": {},
   "source": []
  }
 ],
 "metadata": {
  "kernelspec": {
   "display_name": "R",
   "language": "R",
   "name": "ir"
  },
  "language_info": {
   "codemirror_mode": "r",
   "file_extension": ".r",
   "mimetype": "text/x-r-source",
   "name": "R",
   "pygments_lexer": "r",
   "version": "3.6.3"
  }
 },
 "nbformat": 4,
 "nbformat_minor": 4
}
