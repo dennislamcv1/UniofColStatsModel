{
 "cells": [
  {
   "cell_type": "markdown",
   "metadata": {},
   "source": [
    "# Module 2: Peer Reviewed Assignment"
   ]
  },
  {
   "cell_type": "markdown",
   "metadata": {},
   "source": [
    "### Outline:\n",
    "The objectives for this assignment:\n",
    "\n",
    "1. Mathematically derive the values of $\\hat{\\beta}_0$ and $\\hat{\\beta}_1$\n",
    "2. Enhance our skills with linear regression modeling.\n",
    "3. Learn the uses and limitations of RSS, ESS, TSS and $R^2$.\n",
    "4. Analyze and interpret nonidentifiability.\n",
    "\n",
    "General tips:\n",
    "\n",
    "1. Read the questions carefully to understand what is being asked.\n",
    "2. This work will be reviewed by another human, so make sure that you are clear and concise in what your explanations and answers."
   ]
  },
  {
   "cell_type": "code",
   "execution_count": 1,
   "metadata": {},
   "outputs": [
    {
     "name": "stderr",
     "output_type": "stream",
     "text": [
      "── \u001b[1mAttaching packages\u001b[22m ─────────────────────────────────────── tidyverse 1.3.0 ──\n",
      "\n",
      "\u001b[32m✔\u001b[39m \u001b[34mggplot2\u001b[39m 3.3.0     \u001b[32m✔\u001b[39m \u001b[34mpurrr  \u001b[39m 0.3.4\n",
      "\u001b[32m✔\u001b[39m \u001b[34mtibble \u001b[39m 3.0.1     \u001b[32m✔\u001b[39m \u001b[34mdplyr  \u001b[39m 0.8.5\n",
      "\u001b[32m✔\u001b[39m \u001b[34mtidyr  \u001b[39m 1.0.2     \u001b[32m✔\u001b[39m \u001b[34mstringr\u001b[39m 1.4.0\n",
      "\u001b[32m✔\u001b[39m \u001b[34mreadr  \u001b[39m 1.3.1     \u001b[32m✔\u001b[39m \u001b[34mforcats\u001b[39m 0.5.0\n",
      "\n",
      "── \u001b[1mConflicts\u001b[22m ────────────────────────────────────────── tidyverse_conflicts() ──\n",
      "\u001b[31m✖\u001b[39m \u001b[34mtidyr\u001b[39m::\u001b[32mcomplete()\u001b[39m masks \u001b[34mRCurl\u001b[39m::complete()\n",
      "\u001b[31m✖\u001b[39m \u001b[34mdplyr\u001b[39m::\u001b[32mfilter()\u001b[39m   masks \u001b[34mstats\u001b[39m::filter()\n",
      "\u001b[31m✖\u001b[39m \u001b[34mdplyr\u001b[39m::\u001b[32mlag()\u001b[39m      masks \u001b[34mstats\u001b[39m::lag()\n",
      "\n"
     ]
    }
   ],
   "source": [
    "# Load Required Packages\n",
    "library(RCurl) #a package that includes the function getURL(), which allows for reading data from github.\n",
    "library(tidyverse)"
   ]
  },
  {
   "cell_type": "markdown",
   "metadata": {},
   "source": [
    "## Problem 1: Maximum Likelihood Estimates (MLEs)\n",
    "\n",
    "Consider the simple linear regression model $Y_i = \\beta_0 + \\beta_1x_i + \\varepsilon_i$ for $i = 1,...,n$, $\\,\\,\\,\\varepsilon_i \\sim N(0,\\sigma^2)$. In the videos, we showed that the least squares estimator in matrix-vector form is $\\mathbf{\\widehat{\\beta}} = (\\beta_0, \\beta_1)^T = (X^TX)^{-1}X^T\\mathbf{Y}$. In this problem, you will derive the least squares estimators for simple linear regression without (explicitly) using linear algebra.\n",
    "\n",
    "Least squares requires that we minimize $$f(\\mathbf{x}; \\beta_0, \\beta_1) = \\sum^n_{i=1}\\bigg(Y_i - [\\beta_0 + \\beta_1x_i] \\bigg)^2$$ over $\\beta_0$ and $\\beta_1$. "
   ]
  },
  {
   "cell_type": "markdown",
   "metadata": {},
   "source": [
    "#### 1. (a) Taking Derivatives\n",
    "\n",
    "Find the partial derivative of $f(\\mathbf{x}; \\beta_0, \\beta_1)$ with respect to $\\beta_0$, and the partial derivative of $f(\\mathbf{x}; \\beta_0, \\beta_1)$ with respect to $\\beta_1$. Recall that the partial derivative with respect to $x$ of a multivariate function $h(x,y)$ is calculated by taking the derivative  of $h$ with respect to $x$ while treating $y$ constant."
   ]
  },
  {
   "cell_type": "markdown",
   "metadata": {},
   "source": [
    "To derive the least squares estimators for simple linear regression, we start by minimizing the function:\n",
    "\n",
    "$\\\n",
    "f(\\mathbf{x}; \\beta_0, \\beta_1) = \\sum_{i=1}^n \\left( Y_i - (\\beta_0 + \\beta_1 x_i) \\right)^2\n",
    "$\n",
    "\n",
    "### 1. (a) Taking Derivatives\n",
    "\n",
    "**Partial derivative with respect to $\\(\\beta_0\\$):**\n",
    "\n",
    "$\n",
    "\\frac{\\partial f}{\\partial \\beta_0} = \\sum_{i=1}^n -2 \\left( Y_i - (\\beta_0 + \\beta_1 x_i) \\right)\n",
    "$\n",
    "\n",
    "This simplifies to:\n",
    "\n",
    "$\n",
    "\\frac{\\partial f}{\\partial \\beta_0} = -2 \\sum_{i=1}^n \\left( Y_i - \\beta_0 - \\beta_1 x_i \\right)\n",
    "$\n",
    "\n",
    "**Partial derivative with respect to $\\(\\beta_1\\$):**\n",
    "\n",
    "$\n",
    "\\frac{\\partial f}{\\partial \\beta_1} = \\sum_{i=1}^n -2 x_i \\left( Y_i - (\\beta_0 + \\beta_1 x_i) \\right)\n",
    "$\n",
    "\n",
    "This simplifies to:\n",
    "\n",
    "$\n",
    "\\frac{\\partial f}{\\partial \\beta_1} = -2 \\sum_{i=1}^n x_i \\left( Y_i - \\beta_0 - \\beta_1 x_i \\right)\n",
    "$\n",
    "\n"
   ]
  },
  {
   "cell_type": "markdown",
   "metadata": {},
   "source": [
    "#### 1. (b) Solving for $\\hat{\\beta}_0$ and $\\hat{\\beta}_1$\n",
    "\n",
    "Use **1. (a)** to find the minimizers,  $\\widehat{\\beta}_0$ and $\\widehat{\\beta}_1$, of $f$. That is, set each partial derivative to zero and solve for $\\beta_0$ and $\\beta_1$. In particular, show\n",
    "\n",
    "$$\n",
    "\\widehat{\\beta}_1 = \\frac{\\sum^n_{i=1}(x_i - \\bar{x})(Y_i -\\bar{Y})}{\\sum^n_{i=1}(x_i - \\bar{x})^2} \n",
    "\\qquad \\text{ and } \\qquad\n",
    "\\widehat{\\beta}_0 = \\bar{Y} - \\widehat{\\beta}_1\\bar{x}\n",
    "$$"
   ]
  },
  {
   "cell_type": "markdown",
   "metadata": {},
   "source": [
    "Set the partial derivatives to zero:\n",
    "\n",
    "1. For $(\\beta_0)$:\n",
    "\n",
    "$\n",
    "-2 \\sum_{i=1}^n (Y_i - \\beta_0 - \\beta_1 x_i) = 0\n",
    "$\n",
    "\n",
    "$\n",
    "\\sum_{i=1}^n Y_i = n \\beta_0 + \\beta_1 \\sum_{i=1}^n x_i\n",
    "$\n",
    "\n",
    "2. For $(\\beta_1$):\n",
    "\n",
    "$\n",
    "-2 \\sum_{i=1}^n x_i (Y_i - \\beta_0 - \\beta_1 x_i) = 0\n",
    "$\n",
    "\n",
    "$\n",
    "\\sum_{i=1}^n x_i Y_i = \\beta_0 \\sum_{i=1}^n x_i + \\beta_1 \\sum_{i=1}^n x_i^2\n",
    "$\n",
    "\n",
    "1. Rearranging the first equation:\n",
    "\n",
    "$\n",
    "\\sum_{i=1}^n Y_i = n \\beta_0 + \\beta_1 \\sum_{i=1}^n x_i\n",
    "$\n",
    "\n",
    "This implies:\n",
    "\n",
    "$\n",
    "\\beta_0 = \\frac{\\sum_{i=1}^n Y_i}{n} - \\beta_1 \\frac{\\sum_{i=1}^n x_i}{n}\n",
    "$\n",
    "\n",
    "2. Rearranging the second equation:\n",
    "\n",
    "$\n",
    "\\sum_{i=1}^n x_i Y_i = \\beta_0 \\sum_{i=1}^n x_i + \\beta_1 \\sum_{i=1}^n x_i^2\n",
    "$\n",
    "\n",
    "Substituting ($\\beta_0$) from the first equation:\n",
    "\n",
    "$\n",
    "\\sum_{i=1}^n x_i Y_i = \\left( \\frac{\\sum_{i=1}^n Y_i}{n} - \\beta_1 \\frac{\\sum_{i=1}^n x_i}{n} \\right) \\sum_{i=1}^n x_i + \\beta_1 \\sum_{i=1}^n x_i^2\n",
    "$\n",
    "\n",
    "Simplify:\n",
    "\n",
    "$\n",
    "\\sum_{i=1}^n x_i Y_i = \\frac{\\sum_{i=1}^n Y_i \\sum_{i=1}^n x_i}{n} - \\beta_1 \\frac{(\\sum_{i=1}^n x_i)^2}{n} + \\beta_1 \\sum_{i=1}^n x_i^2\n",
    "$\n",
    "\n",
    "Combine terms:\n",
    "\n",
    "$\n",
    "\\sum_{i=1}^n x_i Y_i - \\frac{\\sum_{i=1}^n Y_i \\sum_{i=1}^n x_i}{n} = \\beta_1 \\left( \\sum_{i=1}^n x_i^2 - \\frac{(\\sum_{i=1}^n x_i)^2}{n} \\right)\n",
    "$\n",
    "\n",
    "This can be rewritten using the means:\n",
    "\n",
    "$\n",
    "\\beta_1 = \\frac{\\sum_{i=1}^n (x_i - \\bar{x})(Y_i - \\bar{Y})}{\\sum_{i=1}^n (x_i - \\bar{x})^2}\n",
    "$\n",
    "\n",
    "Where:\n",
    "\n",
    "$\n",
    "\\bar{x} = \\frac{\\sum_{i=1}^n x_i}{n}, \\quad \\bar{Y} = \\frac{\\sum_{i=1}^n Y_i}{n}\n",
    "$\n",
    "\n",
    "Then:\n",
    "\n",
    "$\n",
    "\\beta_0 = \\bar{Y} - \\beta_1 \\bar{x}\n",
    "$\n",
    "\n",
    "Thus, the estimators are:\n",
    "\n",
    "$$\n",
    "\\widehat{\\beta}_1 = \\frac{\\sum_{i=1}^n (x_i - \\bar{x})(Y_i - \\bar{Y})}{\\sum_{i=1}^n (x_i - \\bar{x})^2}\n",
    "$$\n",
    "\n",
    "$$\n",
    "\\widehat{\\beta}_0 = \\bar{Y} - \\widehat{\\beta}_1 \\bar{x}\n",
    "$$"
   ]
  },
  {
   "cell_type": "markdown",
   "metadata": {},
   "source": [
    "## Problem 2: Oh My Goodness of Fit!\n",
    "\n",
    "In the US, public schools have been slowly increasing class sizes over the last 15 years [https://stats.oecd.org/Index.aspx?DataSetCode=EDU_CLASS]. The general cause for this is because it saves money to have more kids per teacher. But how much money does it save? Let's use some of our new regression skills to try and figure this out. Below is an explanation of the variables in the dataset.\n",
    "\n",
    "Variables/Columns:  \n",
    "School  \n",
    "Per-Pupil Cost  (Dollars)   \n",
    "Average daily Attendance   \n",
    "Average Monthly Teacher Salary (Dollars)  \n",
    "Percent Attendance       \n",
    "Pupil/Teacher ratio   \n",
    "\n",
    "Data Source: E.R. Enlow (1938). \"Do Small Schools Mean Large Costs?,\" Peabody Journal of Educaltion, Vol. 16, \\#1, pp. 1-11"
   ]
  },
  {
   "cell_type": "code",
   "execution_count": 2,
   "metadata": {
    "scrolled": false
   },
   "outputs": [
    {
     "name": "stderr",
     "output_type": "stream",
     "text": [
      "Parsed with column specification:\n",
      "cols(\n",
      "  Adair = \u001b[31mcol_character()\u001b[39m,\n",
      "  `66.90` = \u001b[32mcol_double()\u001b[39m,\n",
      "  `451.4` = \u001b[32mcol_double()\u001b[39m,\n",
      "  `160.22` = \u001b[32mcol_double()\u001b[39m,\n",
      "  `90.77` = \u001b[32mcol_double()\u001b[39m,\n",
      "  `33.8` = \u001b[32mcol_double()\u001b[39m\n",
      ")\n",
      "\n"
     ]
    },
    {
     "data": {
      "text/html": [
       "<table>\n",
       "<caption>A tibble: 6 × 6</caption>\n",
       "<thead>\n",
       "\t<tr><th scope=col>school</th><th scope=col>cost</th><th scope=col>avg.attendance</th><th scope=col>avg.salary</th><th scope=col>pct.attendance</th><th scope=col>pup.tch.ratio</th></tr>\n",
       "\t<tr><th scope=col>&lt;chr&gt;</th><th scope=col>&lt;dbl&gt;</th><th scope=col>&lt;dbl&gt;</th><th scope=col>&lt;dbl&gt;</th><th scope=col>&lt;dbl&gt;</th><th scope=col>&lt;dbl&gt;</th></tr>\n",
       "</thead>\n",
       "<tbody>\n",
       "\t<tr><td>Calhoun     </td><td>108.57</td><td>219.1</td><td>161.79</td><td>89.86</td><td>23.0</td></tr>\n",
       "\t<tr><td>Capitol View</td><td> 70.00</td><td>268.9</td><td>136.37</td><td>92.44</td><td>29.4</td></tr>\n",
       "\t<tr><td>Connally    </td><td> 49.04</td><td>161.7</td><td>106.86</td><td>92.01</td><td>29.4</td></tr>\n",
       "\t<tr><td>Couch       </td><td> 71.51</td><td>422.1</td><td>147.17</td><td>91.60</td><td>29.2</td></tr>\n",
       "\t<tr><td>Crew        </td><td> 61.08</td><td>440.6</td><td>146.24</td><td>89.32</td><td>36.3</td></tr>\n",
       "\t<tr><td>Davis       </td><td>105.21</td><td>139.4</td><td>159.79</td><td>86.51</td><td>22.6</td></tr>\n",
       "</tbody>\n",
       "</table>\n"
      ],
      "text/latex": [
       "A tibble: 6 × 6\n",
       "\\begin{tabular}{llllll}\n",
       " school & cost & avg.attendance & avg.salary & pct.attendance & pup.tch.ratio\\\\\n",
       " <chr> & <dbl> & <dbl> & <dbl> & <dbl> & <dbl>\\\\\n",
       "\\hline\n",
       "\t Calhoun      & 108.57 & 219.1 & 161.79 & 89.86 & 23.0\\\\\n",
       "\t Capitol View &  70.00 & 268.9 & 136.37 & 92.44 & 29.4\\\\\n",
       "\t Connally     &  49.04 & 161.7 & 106.86 & 92.01 & 29.4\\\\\n",
       "\t Couch        &  71.51 & 422.1 & 147.17 & 91.60 & 29.2\\\\\n",
       "\t Crew         &  61.08 & 440.6 & 146.24 & 89.32 & 36.3\\\\\n",
       "\t Davis        & 105.21 & 139.4 & 159.79 & 86.51 & 22.6\\\\\n",
       "\\end{tabular}\n"
      ],
      "text/markdown": [
       "\n",
       "A tibble: 6 × 6\n",
       "\n",
       "| school &lt;chr&gt; | cost &lt;dbl&gt; | avg.attendance &lt;dbl&gt; | avg.salary &lt;dbl&gt; | pct.attendance &lt;dbl&gt; | pup.tch.ratio &lt;dbl&gt; |\n",
       "|---|---|---|---|---|---|\n",
       "| Calhoun      | 108.57 | 219.1 | 161.79 | 89.86 | 23.0 |\n",
       "| Capitol View |  70.00 | 268.9 | 136.37 | 92.44 | 29.4 |\n",
       "| Connally     |  49.04 | 161.7 | 106.86 | 92.01 | 29.4 |\n",
       "| Couch        |  71.51 | 422.1 | 147.17 | 91.60 | 29.2 |\n",
       "| Crew         |  61.08 | 440.6 | 146.24 | 89.32 | 36.3 |\n",
       "| Davis        | 105.21 | 139.4 | 159.79 | 86.51 | 22.6 |\n",
       "\n"
      ],
      "text/plain": [
       "  school       cost   avg.attendance avg.salary pct.attendance pup.tch.ratio\n",
       "1 Calhoun      108.57 219.1          161.79     89.86          23.0         \n",
       "2 Capitol View  70.00 268.9          136.37     92.44          29.4         \n",
       "3 Connally      49.04 161.7          106.86     92.01          29.4         \n",
       "4 Couch         71.51 422.1          147.17     91.60          29.2         \n",
       "5 Crew          61.08 440.6          146.24     89.32          36.3         \n",
       "6 Davis        105.21 139.4          159.79     86.51          22.6         "
      ]
     },
     "metadata": {},
     "output_type": "display_data"
    },
    {
     "data": {
      "text/html": [
       "<style>\n",
       ".list-inline {list-style: none; margin:0; padding: 0}\n",
       ".list-inline>li {display: inline-block}\n",
       ".list-inline>li:not(:last-child)::after {content: \"\\00b7\"; padding: 0 .5ex}\n",
       "</style>\n",
       "<ol class=list-inline><li>43</li><li>6</li></ol>\n"
      ],
      "text/latex": [
       "\\begin{enumerate*}\n",
       "\\item 43\n",
       "\\item 6\n",
       "\\end{enumerate*}\n"
      ],
      "text/markdown": [
       "1. 43\n",
       "2. 6\n",
       "\n",
       "\n"
      ],
      "text/plain": [
       "[1] 43  6"
      ]
     },
     "metadata": {},
     "output_type": "display_data"
    }
   ],
   "source": [
    "school.data = read_table(\"school.dat\")\n",
    "names(school.data) = c(\"school\", \"cost\", \"avg.attendance\", \"avg.salary\", \"pct.attendance\", \"pup.tch.ratio\")\n",
    "head(school.data)\n",
    "dim(school.data)"
   ]
  },
  {
   "cell_type": "markdown",
   "metadata": {},
   "source": [
    "#### 2. (a) Create a model\n",
    "\n",
    "Begin by creating two figures for your model. The first with `pup.tch.ratio` on the x-axis and `cost` on the y-axis. The second with `avg.salary` on the x-axis and `cost` on the y-axis. Does there appear to be a relation between these two predictors and the response.\n",
    "\n",
    "Then fit a multiple linear regression model with `cost` as the response and `pup.tch.ratio` and `avg.salary` as predictors."
   ]
  },
  {
   "cell_type": "code",
   "execution_count": 3,
   "metadata": {},
   "outputs": [
    {
     "name": "stderr",
     "output_type": "stream",
     "text": [
      "`geom_smooth()` using formula 'y ~ x'\n",
      "\n",
      "`geom_smooth()` using formula 'y ~ x'\n",
      "\n"
     ]
    },
    {
     "data": {
      "image/png": "[encoded data removed]",
      "text/plain": [
       "plot without title"
      ]
     },
     "metadata": {
      "image/png": {
       "height": 420,
       "width": 420
      },
      "text/plain": {
       "height": 420,
       "width": 420
      }
     },
     "output_type": "display_data"
    },
    {
     "data": {
      "image/png": "[encoded data removed]",
      "text/plain": [
       "plot without title"
      ]
     },
     "metadata": {
      "image/png": {
       "height": 420,
       "width": 420
      },
      "text/plain": {
       "height": 420,
       "width": 420
      }
     },
     "output_type": "display_data"
    }
   ],
   "source": [
    "# Plotting\n",
    "ggplot(school.data, aes(x = pup.tch.ratio, y = cost)) +\n",
    "  geom_point() +\n",
    "  geom_smooth(method = \"lm\", col = \"blue\") +\n",
    "  labs(title = \"Cost vs Pupil/Teacher Ratio\", x = \"Pupil/Teacher Ratio\", y = \"Per-Pupil Cost\")\n",
    "\n",
    "ggplot(school.data, aes(x = avg.salary, y = cost)) +\n",
    "  geom_point() +\n",
    "  geom_smooth(method = \"lm\", col = \"blue\") +\n",
    "  labs(title = \"Cost vs Average Salary\", x = \"Average Monthly Teacher Salary\", y = \"Per-Pupil Cost\")"
   ]
  },
  {
   "cell_type": "code",
   "execution_count": 4,
   "metadata": {},
   "outputs": [
    {
     "data": {
      "text/plain": [
       "\n",
       "Call:\n",
       "lm(formula = cost ~ pup.tch.ratio + avg.salary, data = school.data)\n",
       "\n",
       "Residuals:\n",
       "     Min       1Q   Median       3Q      Max \n",
       "-13.8290  -5.2752  -0.8332   3.8253  19.6986 \n",
       "\n",
       "Coefficients:\n",
       "               Estimate Std. Error t value Pr(>|t|)    \n",
       "(Intercept)   120.23756   17.73230   6.781 3.79e-08 ***\n",
       "pup.tch.ratio  -2.82585    0.37714  -7.493 3.90e-09 ***\n",
       "avg.salary      0.24061    0.08396   2.866   0.0066 ** \n",
       "---\n",
       "Signif. codes:  0 ‘***’ 0.001 ‘**’ 0.01 ‘*’ 0.05 ‘.’ 0.1 ‘ ’ 1\n",
       "\n",
       "Residual standard error: 7.721 on 40 degrees of freedom\n",
       "Multiple R-squared:  0.6372,\tAdjusted R-squared:  0.6191 \n",
       "F-statistic: 35.13 on 2 and 40 DF,  p-value: 1.559e-09\n"
      ]
     },
     "metadata": {},
     "output_type": "display_data"
    }
   ],
   "source": [
    "# Fit the multiple linear regression model\n",
    "model <- lm(cost ~ pup.tch.ratio + avg.salary, data = school.data)\n",
    "summary(model)"
   ]
  },
  {
   "cell_type": "markdown",
   "metadata": {},
   "source": [
    "#### 2. (b) RSS, ESS and TSS\n",
    "\n",
    "In the code block below, manually calculate the RSS, ESS and TSS for your MLR model. Print the results."
   ]
  },
  {
   "cell_type": "code",
   "execution_count": 5,
   "metadata": {},
   "outputs": [
    {
     "name": "stdout",
     "output_type": "stream",
     "text": [
      "RSS: 2384.597 \n",
      "ESS: 4188.568 \n",
      "TSS: 6573.165 \n"
     ]
    }
   ],
   "source": [
    "# Predicted values and residuals\n",
    "predicted_values <- predict(model)\n",
    "residuals <- school.data$cost - predicted_values\n",
    "\n",
    "# Calculate RSS\n",
    "RSS <- sum(residuals^2)\n",
    "\n",
    "# Calculate TSS\n",
    "TSS <- sum((school.data$cost - mean(school.data$cost))^2)\n",
    "\n",
    "# Calculate ESS\n",
    "ESS <- TSS - RSS\n",
    "\n",
    "# Print the results\n",
    "cat(\"RSS:\", RSS, \"\\n\")\n",
    "cat(\"ESS:\", ESS, \"\\n\")\n",
    "cat(\"TSS:\", TSS, \"\\n\")\n"
   ]
  },
  {
   "cell_type": "markdown",
   "metadata": {},
   "source": [
    "#### 2. (c) Are you Squared?\n",
    "\n",
    "Using the values from **2.b**, calculate the $R^2$ value for your model. Check your results with those produced from the `summary()` statement of your model.\n",
    "\n",
    "In words, describe what this value means for your model."
   ]
  },
  {
   "cell_type": "code",
   "execution_count": 6,
   "metadata": {},
   "outputs": [
    {
     "name": "stdout",
     "output_type": "stream",
     "text": [
      "R^2: 0.6372224 \n"
     ]
    }
   ],
   "source": [
    "# Calculate R^2\n",
    "R_squared <- ESS / TSS\n",
    "cat(\"R^2:\", R_squared, \"\\n\")"
   ]
  },
  {
   "cell_type": "markdown",
   "metadata": {},
   "source": [
    "The $R^2$ value of 0.6372 means that approximately 63.72% of the variance in per-pupil cost is explained by the pupil/teacher ratio and average teacher salary. This suggests a moderately strong relationship between the predictors and the response variable."
   ]
  },
  {
   "cell_type": "markdown",
   "metadata": {},
   "source": [
    "#### 2. (d) Conclusions\n",
    "\n",
    "Describe at least two advantages and two disadvantages of the $R^2$ value."
   ]
  },
  {
   "cell_type": "markdown",
   "metadata": {},
   "source": [
    "Advantages of $R^2$:\n",
    "\n",
    "- Simple Interpretation: Provides an easy-to-understand metric for the proportion of variance explained by the model.\n",
    "- Comparison: Useful for comparing the goodness of fit between different models.\n",
    "\n",
    "Disadvantages of $R^2$:\n",
    "\n",
    "- Not Always Indicative of Fit: A high $R^2$ does not necessarily indicate a good model fit, especially with non-linear relationships.\n",
    "- Influence of Outliers: Sensitive to outliers, which can artificially inflate or deflate the $R^2$ value."
   ]
  },
  {
   "cell_type": "markdown",
   "metadata": {},
   "source": [
    "# Problem 3: Identifiability\n",
    "\n",
    "**This problem might require some outside-of-class research if you haven't taken a linear algebra/matrix methods course.**\n",
    "\n",
    "Matrices and vectors play an important role in linear regression. Let's review some matrix theory as it might relate to linear regression.\n",
    "\n",
    "Consider the system of linear equations \n",
    "\n",
    "\\begin{equation} \n",
    "Y_i = \\beta_0 + \\sum^p_{j=1}\\beta_j x_{i,j} + \\varepsilon_i,\n",
    "\\end{equation}\n",
    "for $i = 1,...,n$, where $n$ is the number of data points (measurements in the sample), and $j = 1,...,p$, where \n",
    "\n",
    "1. $p+1$ is the number of parameters in the model. \n",
    "2. $Y_i$ is the $i^{th}$ measurement of the *response variable*.\n",
    "3. $x_{i,j}$ is the $i^{th}$ measurement of the $j^{th}$ *predictor variable*.\n",
    "4. $\\varepsilon_i$ is the $i^{th}$ *error term* and is a random variable, often assumed to be $N(0, \\sigma^2)$. \n",
    "5. $\\beta_j$, $j = 0,...,p$ are *unknown parameters* of the model. We hope to estimate these, which would help us characterize the relationship between the predictors and response."
   ]
  },
  {
   "cell_type": "markdown",
   "metadata": {},
   "source": [
    "#### 3. (a) MLR Matrix Form\n",
    "\n",
    "Write the equation above in matrix vector form. Call the matrix including the predictors $X$, the vector of $Y_i$s $\\mathbf{Y}$, the vector of parameters $\\mathbf{\\beta}$, and the vector of error terms $\\mathbf{\\varepsilon}$. (This is more LaTeX practice than anything else...)**"
   ]
  },
  {
   "cell_type": "markdown",
   "metadata": {},
   "source": [
    "The multiple linear regression (MLR) equation in matrix form can be written as:\n",
    "$$Y=Xβ+ε$$\n",
    "\n",
    "\n",
    "Where:\n",
    "\n",
    "$Y$ is the response vector:\n",
    "    \n",
    "$Y$ = $ Vector[Y1, Y2⋮Yn]$\n",
    "\n",
    "\n",
    "\n",
    "$X$ is the matrix of predictors, including a column of ones for $\\beta_0$:\n",
    "\n",
    "$X$ = $ Vector [1x1,1x1,2⋯x1,p1x2,1x2,2⋯x2,p ⋮ 1xn,1xn,2⋯xn,p] $\n",
    "\n",
    "\n",
    "$\\beta$ is the vector of parameters:\n",
    "\n",
    "$β$ = $ Vector[β0, β1⋮ βp] $\n",
    "\n",
    "\n",
    "$ε$ is the vector of error terms:\n",
    "\n",
    "\n",
    "$ε$ =$ Vector [ε1ε2⋮εn] $\n"
   ]
  },
  {
   "cell_type": "markdown",
   "metadata": {},
   "source": [
    "#### 3. (b) Properties of this matrix\n",
    "\n",
    "In lecture, we will find that the OLS estimator for $\\mathbf{\\beta}$ in MLR is $\\widehat{\\boldsymbol\\beta} = (X^TX)^{-1}X^T\\mathbf{Y}$. Use this knowledge to answer the following questions:\n",
    "\n",
    "\n",
    "1. What condition must be true about the columns of $X$ for the \"Gram\" matrix $X^TX$ to be invertible? \n",
    "\n",
    "2. What does this condition mean in practical terms, i.e., does $X$ contain a deficiency or redundancy?\n",
    "\n",
    "3. Suppose that the number of measurements ($n$) is less than the number of model parameters ($p+1$). What does this say about the invertibility of $X^TX$? What does this mean on a practical level?\n",
    "\n",
    "4. What is true about about $\\widehat{\\boldsymbol\\beta}$ if $X^TX$ is not invertible?"
   ]
  },
  {
   "cell_type": "markdown",
   "metadata": {},
   "source": [
    "Condition for Invertibility of $X^TX$:\n",
    "\n",
    "- The columns of X must be linearly independent. This means that no column can be expressed as a linear combination of the other columns.\n",
    "\n",
    "Practical Meaning of the Condition:\n",
    "\n",
    "- If the columns are linearly dependent, it means there is redundancy in the predictors. Practically, this could occur if one predictor can be exactly predicted from others (e.g., multicollinearity).\n",
    "\n",
    "Case When $n<p+1$:\n",
    "\n",
    "- If the number of measurements nn is less than the number of parameters $p+1$, $X^TX$ will not be invertible. This is because there aren’t enough data points to estimate the parameters uniquely, leading to a rank deficiency.\n",
    "\n",
    "Implications if $X^TX$ is Not Invertible:\n",
    "\n",
    "- If $X^TX$ is not invertible, the ordinary least squares (OLS) estimator $β^$ = $((X^TX)^-1)X^TY$ cannot be computed directly. This means the estimates are not unique, and there are infinitely many solutions. In practice, methods such as ridge regression or adding a regularization term can be used to address this issue."
   ]
  },
  {
   "cell_type": "markdown",
   "metadata": {},
   "source": [
    "## Problem 4: Downloading...\n",
    "\n",
    "The following [data](https://dasl.datadescription.com/datafile/downloading/) were collected to see if time of day madea difference on file download speed. A researcher placed a file on a remote server and then proceeded to download it at three different time periods of the day. They downloaded the file 48 times in all, 16 times at each Time of Day (`time`), and recorded the Time in seconds (`speed`) that the download took."
   ]
  },
  {
   "cell_type": "markdown",
   "metadata": {},
   "source": [
    "#### 4. (a) Initial Observations\n",
    "\n",
    "The `downloading` data is loaded in and cleaned for you. Using `ggplot`, create a boxplot of `speed` vs. `time`. Make some basic observations about the three categories."
   ]
  },
  {
   "cell_type": "code",
   "execution_count": 7,
   "metadata": {},
   "outputs": [
    {
     "data": {
      "text/plain": [
       "                 time        speed      \n",
       " Early (7AM)       :16   Min.   : 68.0  \n",
       " Evening (5 PM)    :16   1st Qu.:129.8  \n",
       " Late Night (12 AM):16   Median :198.0  \n",
       "                         Mean   :193.2  \n",
       "                         3rd Qu.:253.0  \n",
       "                         Max.   :367.0  "
      ]
     },
     "metadata": {},
     "output_type": "display_data"
    }
   ],
   "source": [
    "# Load in the data and format it\n",
    "downloading = read.csv(\"downloading.txt\", sep=\"\\t\")\n",
    "names(downloading) = c(\"time\", \"speed\")\n",
    "# Change the types of brand and form to categories, instead of real numbers\n",
    "downloading$time = as.factor(downloading$time)\n",
    "summary(downloading)"
   ]
  },
  {
   "cell_type": "code",
   "execution_count": 8,
   "metadata": {},
   "outputs": [
    {
     "data": {
      "text/plain": [
       "\n",
       "Call:\n",
       "lm(formula = speed ~ time, data = downloading)\n",
       "\n",
       "Residuals:\n",
       "    Min      1Q  Median      3Q     Max \n",
       "-83.312 -34.328  -5.187  26.250 103.625 \n",
       "\n",
       "Coefficients:\n",
       "                       Estimate Std. Error t value Pr(>|t|)    \n",
       "(Intercept)              113.37      11.79   9.619 1.73e-12 ***\n",
       "timeEvening (5 PM)       159.94      16.67   9.595 1.87e-12 ***\n",
       "timeLate Night (12 AM)    79.69      16.67   4.781 1.90e-05 ***\n",
       "---\n",
       "Signif. codes:  0 ‘***’ 0.001 ‘**’ 0.01 ‘*’ 0.05 ‘.’ 0.1 ‘ ’ 1\n",
       "\n",
       "Residual standard error: 47.15 on 45 degrees of freedom\n",
       "Multiple R-squared:  0.6717,\tAdjusted R-squared:  0.6571 \n",
       "F-statistic: 46.03 on 2 and 45 DF,  p-value: 1.306e-11\n"
      ]
     },
     "metadata": {},
     "output_type": "display_data"
    }
   ],
   "source": [
    "summary(lm(speed ~ time, data = downloading))"
   ]
  },
  {
   "cell_type": "code",
   "execution_count": 9,
   "metadata": {},
   "outputs": [
    {
     "data": {
      "image/png": "[encoded data removed]",
      "text/plain": [
       "plot without title"
      ]
     },
     "metadata": {
      "image/png": {
       "height": 420,
       "width": 420
      },
      "text/plain": {
       "height": 420,
       "width": 420
      }
     },
     "output_type": "display_data"
    }
   ],
   "source": [
    "ggplot(downloading, aes(x = time, y = speed)) +\n",
    "  geom_boxplot() +\n",
    "  labs(title = \"Download Speed by Time of Day\", x = \"Time of Day\", y = \"Download Speed (seconds)\")"
   ]
  },
  {
   "cell_type": "markdown",
   "metadata": {},
   "source": [
    "# Basic observations:\n",
    "- Evening (5 PM) has the highest median download time and the widest spread, indicating more variability.\n",
    "- Early (7 AM) generally has the lowest download times.\n",
    "- Late Night (12 AM) is intermediate in terms of download time and variability."
   ]
  },
  {
   "cell_type": "markdown",
   "metadata": {},
   "source": [
    "#### 4. (b) How would we model this?\n",
    "\n",
    "Fit a regression to these data that uses `speed` as the response and `time` as the predictor. Print the summary. Notice that the result is actually *multiple* linear regression, not simple linear regression. The model being used here is:\n",
    "\n",
    "\\begin{align*}\n",
    "Y_i = \\beta_0 + \\beta_1 X_{i,1} + \\beta_2 X_{i,2} + \\varepsilon_i\n",
    "\\end{align*}\n",
    "\n",
    "where \n",
    "\n",
    "1. $X_{i,1} = 1$ if the $i^{th}$ download is made in the evening (5 pm).\n",
    "2.  $X_{i,2} = 1$ if the $i^{th}$ download is made at night (12 am).\n",
    "\n",
    "Note: If $X_{i,1} = 0$ and $X_{i,2} = 0$, then the $i^{th}$ download is made in the morning (7am).\n",
    "\n",
    "**To confirm this is the model being used, write out the explicit equation for your model - using the parameter estimates from part (a) - and print out it's design matrix.**"
   ]
  },
  {
   "cell_type": "code",
   "execution_count": 10,
   "metadata": {},
   "outputs": [
    {
     "data": {
      "text/plain": [
       "\n",
       "Call:\n",
       "lm(formula = speed ~ time, data = downloading)\n",
       "\n",
       "Residuals:\n",
       "    Min      1Q  Median      3Q     Max \n",
       "-83.312 -34.328  -5.187  26.250 103.625 \n",
       "\n",
       "Coefficients:\n",
       "                       Estimate Std. Error t value Pr(>|t|)    \n",
       "(Intercept)              113.37      11.79   9.619 1.73e-12 ***\n",
       "timeEvening (5 PM)       159.94      16.67   9.595 1.87e-12 ***\n",
       "timeLate Night (12 AM)    79.69      16.67   4.781 1.90e-05 ***\n",
       "---\n",
       "Signif. codes:  0 ‘***’ 0.001 ‘**’ 0.01 ‘*’ 0.05 ‘.’ 0.1 ‘ ’ 1\n",
       "\n",
       "Residual standard error: 47.15 on 45 degrees of freedom\n",
       "Multiple R-squared:  0.6717,\tAdjusted R-squared:  0.6571 \n",
       "F-statistic: 46.03 on 2 and 45 DF,  p-value: 1.306e-11\n"
      ]
     },
     "metadata": {},
     "output_type": "display_data"
    }
   ],
   "source": [
    "model <- lm(speed ~ time, data = downloading)\n",
    "summary(model)"
   ]
  },
  {
   "cell_type": "code",
   "execution_count": 11,
   "metadata": {},
   "outputs": [
    {
     "data": {
      "text/html": [
       "<table>\n",
       "<caption>A matrix: 48 × 3 of type dbl</caption>\n",
       "<thead>\n",
       "\t<tr><th></th><th scope=col>(Intercept)</th><th scope=col>timeEvening (5 PM)</th><th scope=col>timeLate Night (12 AM)</th></tr>\n",
       "</thead>\n",
       "<tbody>\n",
       "\t<tr><th scope=row>1</th><td>1</td><td>0</td><td>0</td></tr>\n",
       "\t<tr><th scope=row>2</th><td>1</td><td>0</td><td>0</td></tr>\n",
       "\t<tr><th scope=row>3</th><td>1</td><td>0</td><td>0</td></tr>\n",
       "\t<tr><th scope=row>4</th><td>1</td><td>0</td><td>0</td></tr>\n",
       "\t<tr><th scope=row>5</th><td>1</td><td>0</td><td>0</td></tr>\n",
       "\t<tr><th scope=row>6</th><td>1</td><td>0</td><td>0</td></tr>\n",
       "\t<tr><th scope=row>7</th><td>1</td><td>0</td><td>0</td></tr>\n",
       "\t<tr><th scope=row>8</th><td>1</td><td>0</td><td>0</td></tr>\n",
       "\t<tr><th scope=row>9</th><td>1</td><td>0</td><td>0</td></tr>\n",
       "\t<tr><th scope=row>10</th><td>1</td><td>0</td><td>0</td></tr>\n",
       "\t<tr><th scope=row>11</th><td>1</td><td>0</td><td>0</td></tr>\n",
       "\t<tr><th scope=row>12</th><td>1</td><td>0</td><td>0</td></tr>\n",
       "\t<tr><th scope=row>13</th><td>1</td><td>0</td><td>0</td></tr>\n",
       "\t<tr><th scope=row>14</th><td>1</td><td>0</td><td>0</td></tr>\n",
       "\t<tr><th scope=row>15</th><td>1</td><td>0</td><td>0</td></tr>\n",
       "\t<tr><th scope=row>16</th><td>1</td><td>0</td><td>0</td></tr>\n",
       "\t<tr><th scope=row>17</th><td>1</td><td>1</td><td>0</td></tr>\n",
       "\t<tr><th scope=row>18</th><td>1</td><td>1</td><td>0</td></tr>\n",
       "\t<tr><th scope=row>19</th><td>1</td><td>1</td><td>0</td></tr>\n",
       "\t<tr><th scope=row>20</th><td>1</td><td>1</td><td>0</td></tr>\n",
       "\t<tr><th scope=row>21</th><td>1</td><td>1</td><td>0</td></tr>\n",
       "\t<tr><th scope=row>22</th><td>1</td><td>1</td><td>0</td></tr>\n",
       "\t<tr><th scope=row>23</th><td>1</td><td>1</td><td>0</td></tr>\n",
       "\t<tr><th scope=row>24</th><td>1</td><td>1</td><td>0</td></tr>\n",
       "\t<tr><th scope=row>25</th><td>1</td><td>1</td><td>0</td></tr>\n",
       "\t<tr><th scope=row>26</th><td>1</td><td>1</td><td>0</td></tr>\n",
       "\t<tr><th scope=row>27</th><td>1</td><td>1</td><td>0</td></tr>\n",
       "\t<tr><th scope=row>28</th><td>1</td><td>1</td><td>0</td></tr>\n",
       "\t<tr><th scope=row>29</th><td>1</td><td>1</td><td>0</td></tr>\n",
       "\t<tr><th scope=row>30</th><td>1</td><td>1</td><td>0</td></tr>\n",
       "\t<tr><th scope=row>31</th><td>1</td><td>1</td><td>0</td></tr>\n",
       "\t<tr><th scope=row>32</th><td>1</td><td>1</td><td>0</td></tr>\n",
       "\t<tr><th scope=row>33</th><td>1</td><td>0</td><td>1</td></tr>\n",
       "\t<tr><th scope=row>34</th><td>1</td><td>0</td><td>1</td></tr>\n",
       "\t<tr><th scope=row>35</th><td>1</td><td>0</td><td>1</td></tr>\n",
       "\t<tr><th scope=row>36</th><td>1</td><td>0</td><td>1</td></tr>\n",
       "\t<tr><th scope=row>37</th><td>1</td><td>0</td><td>1</td></tr>\n",
       "\t<tr><th scope=row>38</th><td>1</td><td>0</td><td>1</td></tr>\n",
       "\t<tr><th scope=row>39</th><td>1</td><td>0</td><td>1</td></tr>\n",
       "\t<tr><th scope=row>40</th><td>1</td><td>0</td><td>1</td></tr>\n",
       "\t<tr><th scope=row>41</th><td>1</td><td>0</td><td>1</td></tr>\n",
       "\t<tr><th scope=row>42</th><td>1</td><td>0</td><td>1</td></tr>\n",
       "\t<tr><th scope=row>43</th><td>1</td><td>0</td><td>1</td></tr>\n",
       "\t<tr><th scope=row>44</th><td>1</td><td>0</td><td>1</td></tr>\n",
       "\t<tr><th scope=row>45</th><td>1</td><td>0</td><td>1</td></tr>\n",
       "\t<tr><th scope=row>46</th><td>1</td><td>0</td><td>1</td></tr>\n",
       "\t<tr><th scope=row>47</th><td>1</td><td>0</td><td>1</td></tr>\n",
       "\t<tr><th scope=row>48</th><td>1</td><td>0</td><td>1</td></tr>\n",
       "</tbody>\n",
       "</table>\n"
      ],
      "text/latex": [
       "A matrix: 48 × 3 of type dbl\n",
       "\\begin{tabular}{r|lll}\n",
       "  & (Intercept) & timeEvening (5 PM) & timeLate Night (12 AM)\\\\\n",
       "\\hline\n",
       "\t1 & 1 & 0 & 0\\\\\n",
       "\t2 & 1 & 0 & 0\\\\\n",
       "\t3 & 1 & 0 & 0\\\\\n",
       "\t4 & 1 & 0 & 0\\\\\n",
       "\t5 & 1 & 0 & 0\\\\\n",
       "\t6 & 1 & 0 & 0\\\\\n",
       "\t7 & 1 & 0 & 0\\\\\n",
       "\t8 & 1 & 0 & 0\\\\\n",
       "\t9 & 1 & 0 & 0\\\\\n",
       "\t10 & 1 & 0 & 0\\\\\n",
       "\t11 & 1 & 0 & 0\\\\\n",
       "\t12 & 1 & 0 & 0\\\\\n",
       "\t13 & 1 & 0 & 0\\\\\n",
       "\t14 & 1 & 0 & 0\\\\\n",
       "\t15 & 1 & 0 & 0\\\\\n",
       "\t16 & 1 & 0 & 0\\\\\n",
       "\t17 & 1 & 1 & 0\\\\\n",
       "\t18 & 1 & 1 & 0\\\\\n",
       "\t19 & 1 & 1 & 0\\\\\n",
       "\t20 & 1 & 1 & 0\\\\\n",
       "\t21 & 1 & 1 & 0\\\\\n",
       "\t22 & 1 & 1 & 0\\\\\n",
       "\t23 & 1 & 1 & 0\\\\\n",
       "\t24 & 1 & 1 & 0\\\\\n",
       "\t25 & 1 & 1 & 0\\\\\n",
       "\t26 & 1 & 1 & 0\\\\\n",
       "\t27 & 1 & 1 & 0\\\\\n",
       "\t28 & 1 & 1 & 0\\\\\n",
       "\t29 & 1 & 1 & 0\\\\\n",
       "\t30 & 1 & 1 & 0\\\\\n",
       "\t31 & 1 & 1 & 0\\\\\n",
       "\t32 & 1 & 1 & 0\\\\\n",
       "\t33 & 1 & 0 & 1\\\\\n",
       "\t34 & 1 & 0 & 1\\\\\n",
       "\t35 & 1 & 0 & 1\\\\\n",
       "\t36 & 1 & 0 & 1\\\\\n",
       "\t37 & 1 & 0 & 1\\\\\n",
       "\t38 & 1 & 0 & 1\\\\\n",
       "\t39 & 1 & 0 & 1\\\\\n",
       "\t40 & 1 & 0 & 1\\\\\n",
       "\t41 & 1 & 0 & 1\\\\\n",
       "\t42 & 1 & 0 & 1\\\\\n",
       "\t43 & 1 & 0 & 1\\\\\n",
       "\t44 & 1 & 0 & 1\\\\\n",
       "\t45 & 1 & 0 & 1\\\\\n",
       "\t46 & 1 & 0 & 1\\\\\n",
       "\t47 & 1 & 0 & 1\\\\\n",
       "\t48 & 1 & 0 & 1\\\\\n",
       "\\end{tabular}\n"
      ],
      "text/markdown": [
       "\n",
       "A matrix: 48 × 3 of type dbl\n",
       "\n",
       "| <!--/--> | (Intercept) | timeEvening (5 PM) | timeLate Night (12 AM) |\n",
       "|---|---|---|---|\n",
       "| 1 | 1 | 0 | 0 |\n",
       "| 2 | 1 | 0 | 0 |\n",
       "| 3 | 1 | 0 | 0 |\n",
       "| 4 | 1 | 0 | 0 |\n",
       "| 5 | 1 | 0 | 0 |\n",
       "| 6 | 1 | 0 | 0 |\n",
       "| 7 | 1 | 0 | 0 |\n",
       "| 8 | 1 | 0 | 0 |\n",
       "| 9 | 1 | 0 | 0 |\n",
       "| 10 | 1 | 0 | 0 |\n",
       "| 11 | 1 | 0 | 0 |\n",
       "| 12 | 1 | 0 | 0 |\n",
       "| 13 | 1 | 0 | 0 |\n",
       "| 14 | 1 | 0 | 0 |\n",
       "| 15 | 1 | 0 | 0 |\n",
       "| 16 | 1 | 0 | 0 |\n",
       "| 17 | 1 | 1 | 0 |\n",
       "| 18 | 1 | 1 | 0 |\n",
       "| 19 | 1 | 1 | 0 |\n",
       "| 20 | 1 | 1 | 0 |\n",
       "| 21 | 1 | 1 | 0 |\n",
       "| 22 | 1 | 1 | 0 |\n",
       "| 23 | 1 | 1 | 0 |\n",
       "| 24 | 1 | 1 | 0 |\n",
       "| 25 | 1 | 1 | 0 |\n",
       "| 26 | 1 | 1 | 0 |\n",
       "| 27 | 1 | 1 | 0 |\n",
       "| 28 | 1 | 1 | 0 |\n",
       "| 29 | 1 | 1 | 0 |\n",
       "| 30 | 1 | 1 | 0 |\n",
       "| 31 | 1 | 1 | 0 |\n",
       "| 32 | 1 | 1 | 0 |\n",
       "| 33 | 1 | 0 | 1 |\n",
       "| 34 | 1 | 0 | 1 |\n",
       "| 35 | 1 | 0 | 1 |\n",
       "| 36 | 1 | 0 | 1 |\n",
       "| 37 | 1 | 0 | 1 |\n",
       "| 38 | 1 | 0 | 1 |\n",
       "| 39 | 1 | 0 | 1 |\n",
       "| 40 | 1 | 0 | 1 |\n",
       "| 41 | 1 | 0 | 1 |\n",
       "| 42 | 1 | 0 | 1 |\n",
       "| 43 | 1 | 0 | 1 |\n",
       "| 44 | 1 | 0 | 1 |\n",
       "| 45 | 1 | 0 | 1 |\n",
       "| 46 | 1 | 0 | 1 |\n",
       "| 47 | 1 | 0 | 1 |\n",
       "| 48 | 1 | 0 | 1 |\n",
       "\n"
      ],
      "text/plain": [
       "   (Intercept) timeEvening (5 PM) timeLate Night (12 AM)\n",
       "1  1           0                  0                     \n",
       "2  1           0                  0                     \n",
       "3  1           0                  0                     \n",
       "4  1           0                  0                     \n",
       "5  1           0                  0                     \n",
       "6  1           0                  0                     \n",
       "7  1           0                  0                     \n",
       "8  1           0                  0                     \n",
       "9  1           0                  0                     \n",
       "10 1           0                  0                     \n",
       "11 1           0                  0                     \n",
       "12 1           0                  0                     \n",
       "13 1           0                  0                     \n",
       "14 1           0                  0                     \n",
       "15 1           0                  0                     \n",
       "16 1           0                  0                     \n",
       "17 1           1                  0                     \n",
       "18 1           1                  0                     \n",
       "19 1           1                  0                     \n",
       "20 1           1                  0                     \n",
       "21 1           1                  0                     \n",
       "22 1           1                  0                     \n",
       "23 1           1                  0                     \n",
       "24 1           1                  0                     \n",
       "25 1           1                  0                     \n",
       "26 1           1                  0                     \n",
       "27 1           1                  0                     \n",
       "28 1           1                  0                     \n",
       "29 1           1                  0                     \n",
       "30 1           1                  0                     \n",
       "31 1           1                  0                     \n",
       "32 1           1                  0                     \n",
       "33 1           0                  1                     \n",
       "34 1           0                  1                     \n",
       "35 1           0                  1                     \n",
       "36 1           0                  1                     \n",
       "37 1           0                  1                     \n",
       "38 1           0                  1                     \n",
       "39 1           0                  1                     \n",
       "40 1           0                  1                     \n",
       "41 1           0                  1                     \n",
       "42 1           0                  1                     \n",
       "43 1           0                  1                     \n",
       "44 1           0                  1                     \n",
       "45 1           0                  1                     \n",
       "46 1           0                  1                     \n",
       "47 1           0                  1                     \n",
       "48 1           0                  1                     "
      ]
     },
     "metadata": {},
     "output_type": "display_data"
    }
   ],
   "source": [
    "model.matrix(model)"
   ]
  },
  {
   "cell_type": "markdown",
   "metadata": {},
   "source": [
    "#### 4. (c) Only two predictors?\n",
    "\n",
    "We have three categories, but only two predictors. Why is this the case? To address this question, let's consider the following model:\n",
    "\n",
    "$$ Y_i = \\beta_0 + \\beta_1 X_{i,1} + \\beta_2 X_{i,2} + \\beta_2 X_{i,3} + \\varepsilon_i $$\n",
    "\n",
    "where \n",
    "\n",
    "1. $X_{i,1} = 1$ if the $i^{th}$ download is made in the evening (5 pm).\n",
    "2. $X_{i,2} = 1$ if the $i^{th}$ download is made at night (12 am).\n",
    "3. $X_{i,3} = 1$ if the $i^{th}$ download is made in the morning (7 am).\n",
    "\n",
    "**Construct a design matrix to fit this model to the response, `speed`. Determine if something is wrong with it. Hint: Analyze the design matrix.**"
   ]
  },
  {
   "cell_type": "markdown",
   "metadata": {},
   "source": [
    "In a categorical model, one category serves as the baseline (7 AM here),\n",
    "and the other categories are compared against it. Adding a third predictor would create multicollinearity (i.e., X1 + X2 + X3 = 1).\n",
    "\n",
    "\n"
   ]
  },
  {
   "cell_type": "code",
   "execution_count": 12,
   "metadata": {},
   "outputs": [
    {
     "data": {
      "text/html": [
       "<table>\n",
       "<caption>A matrix: 48 × 3 of type dbl</caption>\n",
       "<thead>\n",
       "\t<tr><th></th><th scope=col>Evening</th><th scope=col>Late Night</th><th scope=col>Morning</th></tr>\n",
       "</thead>\n",
       "<tbody>\n",
       "\t<tr><th scope=row>1</th><td>1</td><td>0</td><td>0</td></tr>\n",
       "\t<tr><th scope=row>2</th><td>1</td><td>0</td><td>0</td></tr>\n",
       "\t<tr><th scope=row>3</th><td>1</td><td>0</td><td>0</td></tr>\n",
       "\t<tr><th scope=row>4</th><td>1</td><td>0</td><td>0</td></tr>\n",
       "\t<tr><th scope=row>5</th><td>1</td><td>0</td><td>0</td></tr>\n",
       "\t<tr><th scope=row>6</th><td>1</td><td>0</td><td>0</td></tr>\n",
       "\t<tr><th scope=row>7</th><td>1</td><td>0</td><td>0</td></tr>\n",
       "\t<tr><th scope=row>8</th><td>1</td><td>0</td><td>0</td></tr>\n",
       "\t<tr><th scope=row>9</th><td>1</td><td>0</td><td>0</td></tr>\n",
       "\t<tr><th scope=row>10</th><td>1</td><td>0</td><td>0</td></tr>\n",
       "\t<tr><th scope=row>11</th><td>1</td><td>0</td><td>0</td></tr>\n",
       "\t<tr><th scope=row>12</th><td>1</td><td>0</td><td>0</td></tr>\n",
       "\t<tr><th scope=row>13</th><td>1</td><td>0</td><td>0</td></tr>\n",
       "\t<tr><th scope=row>14</th><td>1</td><td>0</td><td>0</td></tr>\n",
       "\t<tr><th scope=row>15</th><td>1</td><td>0</td><td>0</td></tr>\n",
       "\t<tr><th scope=row>16</th><td>1</td><td>0</td><td>0</td></tr>\n",
       "\t<tr><th scope=row>17</th><td>0</td><td>1</td><td>0</td></tr>\n",
       "\t<tr><th scope=row>18</th><td>0</td><td>1</td><td>0</td></tr>\n",
       "\t<tr><th scope=row>19</th><td>0</td><td>1</td><td>0</td></tr>\n",
       "\t<tr><th scope=row>20</th><td>0</td><td>1</td><td>0</td></tr>\n",
       "\t<tr><th scope=row>21</th><td>0</td><td>1</td><td>0</td></tr>\n",
       "\t<tr><th scope=row>22</th><td>0</td><td>1</td><td>0</td></tr>\n",
       "\t<tr><th scope=row>23</th><td>0</td><td>1</td><td>0</td></tr>\n",
       "\t<tr><th scope=row>24</th><td>0</td><td>1</td><td>0</td></tr>\n",
       "\t<tr><th scope=row>25</th><td>0</td><td>1</td><td>0</td></tr>\n",
       "\t<tr><th scope=row>26</th><td>0</td><td>1</td><td>0</td></tr>\n",
       "\t<tr><th scope=row>27</th><td>0</td><td>1</td><td>0</td></tr>\n",
       "\t<tr><th scope=row>28</th><td>0</td><td>1</td><td>0</td></tr>\n",
       "\t<tr><th scope=row>29</th><td>0</td><td>1</td><td>0</td></tr>\n",
       "\t<tr><th scope=row>30</th><td>0</td><td>1</td><td>0</td></tr>\n",
       "\t<tr><th scope=row>31</th><td>0</td><td>1</td><td>0</td></tr>\n",
       "\t<tr><th scope=row>32</th><td>0</td><td>1</td><td>0</td></tr>\n",
       "\t<tr><th scope=row>33</th><td>0</td><td>0</td><td>1</td></tr>\n",
       "\t<tr><th scope=row>34</th><td>0</td><td>0</td><td>1</td></tr>\n",
       "\t<tr><th scope=row>35</th><td>0</td><td>0</td><td>1</td></tr>\n",
       "\t<tr><th scope=row>36</th><td>0</td><td>0</td><td>1</td></tr>\n",
       "\t<tr><th scope=row>37</th><td>0</td><td>0</td><td>1</td></tr>\n",
       "\t<tr><th scope=row>38</th><td>0</td><td>0</td><td>1</td></tr>\n",
       "\t<tr><th scope=row>39</th><td>0</td><td>0</td><td>1</td></tr>\n",
       "\t<tr><th scope=row>40</th><td>0</td><td>0</td><td>1</td></tr>\n",
       "\t<tr><th scope=row>41</th><td>0</td><td>0</td><td>1</td></tr>\n",
       "\t<tr><th scope=row>42</th><td>0</td><td>0</td><td>1</td></tr>\n",
       "\t<tr><th scope=row>43</th><td>0</td><td>0</td><td>1</td></tr>\n",
       "\t<tr><th scope=row>44</th><td>0</td><td>0</td><td>1</td></tr>\n",
       "\t<tr><th scope=row>45</th><td>0</td><td>0</td><td>1</td></tr>\n",
       "\t<tr><th scope=row>46</th><td>0</td><td>0</td><td>1</td></tr>\n",
       "\t<tr><th scope=row>47</th><td>0</td><td>0</td><td>1</td></tr>\n",
       "\t<tr><th scope=row>48</th><td>0</td><td>0</td><td>1</td></tr>\n",
       "</tbody>\n",
       "</table>\n"
      ],
      "text/latex": [
       "A matrix: 48 × 3 of type dbl\n",
       "\\begin{tabular}{r|lll}\n",
       "  & Evening & Late Night & Morning\\\\\n",
       "\\hline\n",
       "\t1 & 1 & 0 & 0\\\\\n",
       "\t2 & 1 & 0 & 0\\\\\n",
       "\t3 & 1 & 0 & 0\\\\\n",
       "\t4 & 1 & 0 & 0\\\\\n",
       "\t5 & 1 & 0 & 0\\\\\n",
       "\t6 & 1 & 0 & 0\\\\\n",
       "\t7 & 1 & 0 & 0\\\\\n",
       "\t8 & 1 & 0 & 0\\\\\n",
       "\t9 & 1 & 0 & 0\\\\\n",
       "\t10 & 1 & 0 & 0\\\\\n",
       "\t11 & 1 & 0 & 0\\\\\n",
       "\t12 & 1 & 0 & 0\\\\\n",
       "\t13 & 1 & 0 & 0\\\\\n",
       "\t14 & 1 & 0 & 0\\\\\n",
       "\t15 & 1 & 0 & 0\\\\\n",
       "\t16 & 1 & 0 & 0\\\\\n",
       "\t17 & 0 & 1 & 0\\\\\n",
       "\t18 & 0 & 1 & 0\\\\\n",
       "\t19 & 0 & 1 & 0\\\\\n",
       "\t20 & 0 & 1 & 0\\\\\n",
       "\t21 & 0 & 1 & 0\\\\\n",
       "\t22 & 0 & 1 & 0\\\\\n",
       "\t23 & 0 & 1 & 0\\\\\n",
       "\t24 & 0 & 1 & 0\\\\\n",
       "\t25 & 0 & 1 & 0\\\\\n",
       "\t26 & 0 & 1 & 0\\\\\n",
       "\t27 & 0 & 1 & 0\\\\\n",
       "\t28 & 0 & 1 & 0\\\\\n",
       "\t29 & 0 & 1 & 0\\\\\n",
       "\t30 & 0 & 1 & 0\\\\\n",
       "\t31 & 0 & 1 & 0\\\\\n",
       "\t32 & 0 & 1 & 0\\\\\n",
       "\t33 & 0 & 0 & 1\\\\\n",
       "\t34 & 0 & 0 & 1\\\\\n",
       "\t35 & 0 & 0 & 1\\\\\n",
       "\t36 & 0 & 0 & 1\\\\\n",
       "\t37 & 0 & 0 & 1\\\\\n",
       "\t38 & 0 & 0 & 1\\\\\n",
       "\t39 & 0 & 0 & 1\\\\\n",
       "\t40 & 0 & 0 & 1\\\\\n",
       "\t41 & 0 & 0 & 1\\\\\n",
       "\t42 & 0 & 0 & 1\\\\\n",
       "\t43 & 0 & 0 & 1\\\\\n",
       "\t44 & 0 & 0 & 1\\\\\n",
       "\t45 & 0 & 0 & 1\\\\\n",
       "\t46 & 0 & 0 & 1\\\\\n",
       "\t47 & 0 & 0 & 1\\\\\n",
       "\t48 & 0 & 0 & 1\\\\\n",
       "\\end{tabular}\n"
      ],
      "text/markdown": [
       "\n",
       "A matrix: 48 × 3 of type dbl\n",
       "\n",
       "| <!--/--> | Evening | Late Night | Morning |\n",
       "|---|---|---|---|\n",
       "| 1 | 1 | 0 | 0 |\n",
       "| 2 | 1 | 0 | 0 |\n",
       "| 3 | 1 | 0 | 0 |\n",
       "| 4 | 1 | 0 | 0 |\n",
       "| 5 | 1 | 0 | 0 |\n",
       "| 6 | 1 | 0 | 0 |\n",
       "| 7 | 1 | 0 | 0 |\n",
       "| 8 | 1 | 0 | 0 |\n",
       "| 9 | 1 | 0 | 0 |\n",
       "| 10 | 1 | 0 | 0 |\n",
       "| 11 | 1 | 0 | 0 |\n",
       "| 12 | 1 | 0 | 0 |\n",
       "| 13 | 1 | 0 | 0 |\n",
       "| 14 | 1 | 0 | 0 |\n",
       "| 15 | 1 | 0 | 0 |\n",
       "| 16 | 1 | 0 | 0 |\n",
       "| 17 | 0 | 1 | 0 |\n",
       "| 18 | 0 | 1 | 0 |\n",
       "| 19 | 0 | 1 | 0 |\n",
       "| 20 | 0 | 1 | 0 |\n",
       "| 21 | 0 | 1 | 0 |\n",
       "| 22 | 0 | 1 | 0 |\n",
       "| 23 | 0 | 1 | 0 |\n",
       "| 24 | 0 | 1 | 0 |\n",
       "| 25 | 0 | 1 | 0 |\n",
       "| 26 | 0 | 1 | 0 |\n",
       "| 27 | 0 | 1 | 0 |\n",
       "| 28 | 0 | 1 | 0 |\n",
       "| 29 | 0 | 1 | 0 |\n",
       "| 30 | 0 | 1 | 0 |\n",
       "| 31 | 0 | 1 | 0 |\n",
       "| 32 | 0 | 1 | 0 |\n",
       "| 33 | 0 | 0 | 1 |\n",
       "| 34 | 0 | 0 | 1 |\n",
       "| 35 | 0 | 0 | 1 |\n",
       "| 36 | 0 | 0 | 1 |\n",
       "| 37 | 0 | 0 | 1 |\n",
       "| 38 | 0 | 0 | 1 |\n",
       "| 39 | 0 | 0 | 1 |\n",
       "| 40 | 0 | 0 | 1 |\n",
       "| 41 | 0 | 0 | 1 |\n",
       "| 42 | 0 | 0 | 1 |\n",
       "| 43 | 0 | 0 | 1 |\n",
       "| 44 | 0 | 0 | 1 |\n",
       "| 45 | 0 | 0 | 1 |\n",
       "| 46 | 0 | 0 | 1 |\n",
       "| 47 | 0 | 0 | 1 |\n",
       "| 48 | 0 | 0 | 1 |\n",
       "\n"
      ],
      "text/plain": [
       "   Evening Late Night Morning\n",
       "1  1       0          0      \n",
       "2  1       0          0      \n",
       "3  1       0          0      \n",
       "4  1       0          0      \n",
       "5  1       0          0      \n",
       "6  1       0          0      \n",
       "7  1       0          0      \n",
       "8  1       0          0      \n",
       "9  1       0          0      \n",
       "10 1       0          0      \n",
       "11 1       0          0      \n",
       "12 1       0          0      \n",
       "13 1       0          0      \n",
       "14 1       0          0      \n",
       "15 1       0          0      \n",
       "16 1       0          0      \n",
       "17 0       1          0      \n",
       "18 0       1          0      \n",
       "19 0       1          0      \n",
       "20 0       1          0      \n",
       "21 0       1          0      \n",
       "22 0       1          0      \n",
       "23 0       1          0      \n",
       "24 0       1          0      \n",
       "25 0       1          0      \n",
       "26 0       1          0      \n",
       "27 0       1          0      \n",
       "28 0       1          0      \n",
       "29 0       1          0      \n",
       "30 0       1          0      \n",
       "31 0       1          0      \n",
       "32 0       1          0      \n",
       "33 0       0          1      \n",
       "34 0       0          1      \n",
       "35 0       0          1      \n",
       "36 0       0          1      \n",
       "37 0       0          1      \n",
       "38 0       0          1      \n",
       "39 0       0          1      \n",
       "40 0       0          1      \n",
       "41 0       0          1      \n",
       "42 0       0          1      \n",
       "43 0       0          1      \n",
       "44 0       0          1      \n",
       "45 0       0          1      \n",
       "46 0       0          1      \n",
       "47 0       0          1      \n",
       "48 0       0          1      "
      ]
     },
     "metadata": {},
     "output_type": "display_data"
    }
   ],
   "source": [
    "# Design matrix with three predictors\n",
    "three_predictors <- model.matrix(~ time + 0, data = downloading)\n",
    "colnames(three_predictors) <- c(\"Evening\", \"Late Night\", \"Morning\")\n",
    "three_predictors"
   ]
  },
  {
   "cell_type": "markdown",
   "metadata": {},
   "source": [
    "Observations: Adding the third predictor creates a linear dependency among columns."
   ]
  },
  {
   "cell_type": "markdown",
   "metadata": {},
   "source": [
    "#### 4. (d) Interpretation\n",
    "\n",
    "Interpret the coefficients in the model from **4.b**. In particular:\n",
    "\n",
    "1. What is the difference between the mean download speed at 7am and the mean download speed at 5pm?\n",
    "2. What is the mean download speed (in seconds) in the morning?\n",
    "3. What is the mean download speed (in seconds) in the evening?\n",
    "4. What is the mean download speed (in seconds) at night?"
   ]
  },
  {
   "cell_type": "code",
   "execution_count": 13,
   "metadata": {},
   "outputs": [
    {
     "data": {
      "text/html": [
       "<table>\n",
       "<caption>A matrix: 3 × 4 of type dbl</caption>\n",
       "<thead>\n",
       "\t<tr><th></th><th scope=col>Estimate</th><th scope=col>Std. Error</th><th scope=col>t value</th><th scope=col>Pr(&gt;|t|)</th></tr>\n",
       "</thead>\n",
       "<tbody>\n",
       "\t<tr><th scope=row>(Intercept)</th><td>113.3750</td><td>11.78630</td><td>9.619220</td><td>1.729710e-12</td></tr>\n",
       "\t<tr><th scope=row>timeEvening (5 PM)</th><td>159.9375</td><td>16.66834</td><td>9.595285</td><td>1.866544e-12</td></tr>\n",
       "\t<tr><th scope=row>timeLate Night (12 AM)</th><td> 79.6875</td><td>16.66834</td><td>4.780769</td><td>1.901709e-05</td></tr>\n",
       "</tbody>\n",
       "</table>\n"
      ],
      "text/latex": [
       "A matrix: 3 × 4 of type dbl\n",
       "\\begin{tabular}{r|llll}\n",
       "  & Estimate & Std. Error & t value & Pr(>\\textbar{}t\\textbar{})\\\\\n",
       "\\hline\n",
       "\t(Intercept) & 113.3750 & 11.78630 & 9.619220 & 1.729710e-12\\\\\n",
       "\ttimeEvening (5 PM) & 159.9375 & 16.66834 & 9.595285 & 1.866544e-12\\\\\n",
       "\ttimeLate Night (12 AM) &  79.6875 & 16.66834 & 4.780769 & 1.901709e-05\\\\\n",
       "\\end{tabular}\n"
      ],
      "text/markdown": [
       "\n",
       "A matrix: 3 × 4 of type dbl\n",
       "\n",
       "| <!--/--> | Estimate | Std. Error | t value | Pr(&gt;|t|) |\n",
       "|---|---|---|---|---|\n",
       "| (Intercept) | 113.3750 | 11.78630 | 9.619220 | 1.729710e-12 |\n",
       "| timeEvening (5 PM) | 159.9375 | 16.66834 | 9.595285 | 1.866544e-12 |\n",
       "| timeLate Night (12 AM) |  79.6875 | 16.66834 | 4.780769 | 1.901709e-05 |\n",
       "\n"
      ],
      "text/plain": [
       "                       Estimate Std. Error t value  Pr(>|t|)    \n",
       "(Intercept)            113.3750 11.78630   9.619220 1.729710e-12\n",
       "timeEvening (5 PM)     159.9375 16.66834   9.595285 1.866544e-12\n",
       "timeLate Night (12 AM)  79.6875 16.66834   4.780769 1.901709e-05"
      ]
     },
     "metadata": {},
     "output_type": "display_data"
    },
    {
     "name": "stdout",
     "output_type": "stream",
     "text": [
      "Difference between 7 AM and 5 PM: 159.9375 seconds\n",
      "Mean download speed at 7 AM: 113.375 seconds\n",
      "Mean download speed at 5 PM: 273.3125 seconds\n",
      "Mean download speed at 12 AM: 193.0625 seconds\n"
     ]
    }
   ],
   "source": [
    "coef_summary <- summary(model)$coefficients\n",
    "coef_summary\n",
    "\n",
    "# Mean download speed differences:\n",
    "# 1. Difference between mean download speed at 7 AM and 5 PM\n",
    "difference_7AM_5PM <- coef_summary[2, 1]\n",
    "\n",
    "# 2. Mean download speed at 7 AM\n",
    "mean_7AM <- coef_summary[1, 1]\n",
    "\n",
    "# 3. Mean download speed at 5 PM\n",
    "mean_5PM <- mean_7AM + difference_7AM_5PM\n",
    "\n",
    "# 4. Mean download speed at 12 AM\n",
    "mean_12AM <- mean_7AM + coef_summary[3, 1]\n",
    "\n",
    "# Print results\n",
    "cat(\"Difference between 7 AM and 5 PM:\", difference_7AM_5PM, \"seconds\\n\")\n",
    "cat(\"Mean download speed at 7 AM:\", mean_7AM, \"seconds\\n\")\n",
    "cat(\"Mean download speed at 5 PM:\", mean_5PM, \"seconds\\n\")\n",
    "cat(\"Mean download speed at 12 AM:\", mean_12AM, \"seconds\\n\")"
   ]
  },
  {
   "cell_type": "code",
   "execution_count": null,
   "metadata": {},
   "outputs": [],
   "source": []
  }
 ],
 "metadata": {
  "kernelspec": {
   "display_name": "R",
   "language": "R",
   "name": "ir"
  },
  "language_info": {
   "codemirror_mode": "r",
   "file_extension": ".r",
   "mimetype": "text/x-r-source",
   "name": "R",
   "pygments_lexer": "r",
   "version": "3.6.3"
  }
 },
 "nbformat": 4,
 "nbformat_minor": 4
}
