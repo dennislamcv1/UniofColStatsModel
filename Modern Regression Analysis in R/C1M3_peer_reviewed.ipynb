{
 "cells": [
  {
   "cell_type": "markdown",
   "metadata": {},
   "source": [
    "# Module 3: Peer Reviewed Assignment"
   ]
  },
  {
   "cell_type": "markdown",
   "metadata": {},
   "source": [
    "### Outline:\n",
    "The objectives for this assignment:\n",
    "\n",
    "1. Learn how to read and interpret p-values for coefficients in R.\n",
    "2. Apply Partial F-tests to compare different models.\n",
    "3. Compute confidence intervals for model coefficients.\n",
    "4. Understand model significance using the Overall F-test.\n",
    "5. Observe the variability of coefficients using the simulated data.\n",
    "\n",
    "General tips:\n",
    "\n",
    "1. Read the questions carefully to understand what is being asked.\n",
    "2. This work will be reviewed by another human, so make sure that you are clear and concise in what your explanations and answers."
   ]
  },
  {
   "cell_type": "code",
   "execution_count": null,
   "metadata": {},
   "outputs": [],
   "source": [
    "# Load Required Packages\n",
    "library(ggplot2)"
   ]
  },
  {
   "cell_type": "markdown",
   "metadata": {},
   "source": [
    "## Problem 1: Individual t-tests"
   ]
  },
  {
   "cell_type": "markdown",
   "metadata": {},
   "source": [
    "The dataset below measures the chewiness (mJ) of different berries along with their sugar equivalent and salt (NaCl) concentration. Let's use these data to create a model to finally understand chewiness.\n",
    "\n",
    "Here are the variables: \n",
    "1. `nacl`: salt concentration (NaCl)\n",
    "2. `sugar`: sugar equivalent\n",
    "3. `chewiness`: chewiness (mJ)\n",
    "\n",
    "Dataset Source: I. Zouid, R. Siret, F. Jourjion, E. Mehinagic, L. Rolle (2013).\n",
    "\"Impact of Grapes Heterogeneity According to Sugar Level on Both\n",
    "Physical and Mechanical Berries Properties and their Anthocyanins\n",
    "Extractability at Harvest,\" Journal of Texture Studies, Vol. 44, pp. 95-103."
   ]
  },
  {
   "cell_type": "markdown",
   "metadata": {},
   "source": [
    "#### 1. (a) Simple linear regression (SLR) parameters\n",
    "\n",
    "In the below code, we load in the data and fit a SLR model to it, using `chewiness` as the response and `sugar` as the predictor. The summary of the model is printed. Let $\\alpha = 0.05$.\n",
    "\n",
    "Look at the results and answer the following questions:\n",
    "* What is the hypothesis test related to the p-value `2.95e-09`? Clearly state the null and alternative hypotheses and the decision made based on the p-value.\n",
    "* Does this mean the coefficient is statistically significant? \n",
    "* What does it mean for a coefficient to be statistically significant?"
   ]
  },
  {
   "cell_type": "code",
   "execution_count": 2,
   "metadata": {},
   "outputs": [
    {
     "data": {
      "text/plain": [
       "\n",
       "Call:\n",
       "lm(formula = chewiness ~ sugar, data = chew.data)\n",
       "\n",
       "Residuals:\n",
       "    Min      1Q  Median      3Q     Max \n",
       "-2.4557 -0.5604  0.1045  0.5249  1.9559 \n",
       "\n",
       "Coefficients:\n",
       "             Estimate Std. Error t value Pr(>|t|)    \n",
       "(Intercept)  7.662878   0.756610  10.128  < 2e-16 ***\n",
       "sugar       -0.022797   0.003453  -6.603 2.95e-09 ***\n",
       "---\n",
       "Signif. codes:  0 ‘***’ 0.001 ‘**’ 0.01 ‘*’ 0.05 ‘.’ 0.1 ‘ ’ 1\n",
       "\n",
       "Residual standard error: 0.9178 on 88 degrees of freedom\n",
       "Multiple R-squared:  0.3313,\tAdjusted R-squared:  0.3237 \n",
       "F-statistic: 43.59 on 1 and 88 DF,  p-value: 2.951e-09\n"
      ]
     },
     "metadata": {},
     "output_type": "display_data"
    }
   ],
   "source": [
    "# Load the data\n",
    "chew.data = read.csv(\"berry_sugar_chewy.csv\")\n",
    "\n",
    "chew.lmod = lm(chewiness~sugar, data=chew.data)\n",
    "summary(chew.lmod)"
   ]
  },
  {
   "cell_type": "markdown",
   "metadata": {},
   "source": []
  },
  {
   "cell_type": "markdown",
   "metadata": {},
   "source": [
    "#### 1. (b) MLR parameters\n",
    "\n",
    "Now let's see if the second predictor/feature `nacl` is worth adding to the model. In the code below, we create a second linear model fitting `chewiness` as the response with `sugar` and `nacl` as predictors.\n",
    "\n",
    "Look at the results and answer the following questions:\n",
    "* Which, if any, of the slope parameters are statistically significant?\n",
    "* Did the statistical significance of the parameter for `sugar` stay the same, when compared to 1 (a)? If the statistical signficance changed, explain why it changed. If it didn't change, explain why it didn't change."
   ]
  },
  {
   "cell_type": "code",
   "execution_count": 95,
   "metadata": {},
   "outputs": [
    {
     "data": {
      "text/plain": [
       "\n",
       "Call:\n",
       "lm(formula = chewiness ~ ., data = chew.data)\n",
       "\n",
       "Residuals:\n",
       "    Min      1Q  Median      3Q     Max \n",
       "-2.3820 -0.6333  0.1234  0.5231  1.9731 \n",
       "\n",
       "Coefficients:\n",
       "            Estimate Std. Error t value Pr(>|t|)\n",
       "(Intercept)  -7.1107    13.6459  -0.521    0.604\n",
       "nacl          0.6555     0.6045   1.084    0.281\n",
       "sugar        -0.4223     0.3685  -1.146    0.255\n",
       "\n",
       "Residual standard error: 0.9169 on 87 degrees of freedom\n",
       "Multiple R-squared:  0.3402,\tAdjusted R-squared:  0.325 \n",
       "F-statistic: 22.43 on 2 and 87 DF,  p-value: 1.395e-08\n"
      ]
     },
     "metadata": {},
     "output_type": "display_data"
    }
   ],
   "source": [
    "chew.lmod.2 = lm(chewiness ~ ., data=chew.data)\n",
    "summary(chew.lmod.2)"
   ]
  },
  {
   "cell_type": "markdown",
   "metadata": {},
   "source": []
  },
  {
   "cell_type": "markdown",
   "metadata": {},
   "source": [
    "#### 1. (c) Model Selection\n",
    "\n",
    "Determine which of the two models we should use. Explain how you arrived at your conclusion and write out the actual equation for your selected model."
   ]
  },
  {
   "cell_type": "code",
   "execution_count": 96,
   "metadata": {},
   "outputs": [],
   "source": [
    "# Your Code Here"
   ]
  },
  {
   "cell_type": "markdown",
   "metadata": {},
   "source": []
  },
  {
   "cell_type": "markdown",
   "metadata": {},
   "source": [
    "#### 1. (d) Parameter Confidence Intervals\n",
    "\n",
    "Compute $95\\%$ confidence intervals for each parameter in your selected model. Then, in words, state what these confidence intervals mean."
   ]
  },
  {
   "cell_type": "code",
   "execution_count": 97,
   "metadata": {},
   "outputs": [],
   "source": [
    "# Your Code Here"
   ]
  },
  {
   "cell_type": "markdown",
   "metadata": {},
   "source": []
  },
  {
   "cell_type": "markdown",
   "metadata": {},
   "source": [
    "# Problem 2: Variability of Slope in SLR\n",
    "\n",
    "In this exercise we'll look at the variability of slopes of simple linear regression models fitted to realizations of simulated data. \n",
    "\n",
    "Write a function, called `sim_data()`, that returns a simulated sample of size $n = 20$ from the model $Y = 1 + 2.5X + \\epsilon$ where $\\epsilon \\overset{iid}{\\sim} N(0, 1)$. We will then use this generative funciton to understand how fitted slopes can vary, even for the same underlying population."
   ]
  },
  {
   "cell_type": "code",
   "execution_count": 10,
   "metadata": {},
   "outputs": [],
   "source": [
    "sim_data <- function(n=20, var=1, beta.0=1, beta.1=2.5){\n",
    "    # BEGIN SOLUTION HERE\n",
    "    x = seq(-1, 1, length.out = n); beta0 = 1; beta1 = 2.5; e = rnorm(n, 0, sqrt(var))\n",
    "    y = beta0 + beta1*x + e\n",
    "    # END SOLUTION HERE\n",
    "    data = data.frame(x=x, y=y)\n",
    "    return(data)\n",
    "}"
   ]
  },
  {
   "cell_type": "markdown",
   "metadata": {},
   "source": [
    "#### 2. (a) Fit a slope\n",
    "\n",
    "Execute the following code to generate 20 data points, fit a simple linear regression model and plot the results.\n",
    "\n",
    "Just based on this plot, how well does our linear model fit the data?"
   ]
  },
  {
   "cell_type": "code",
   "execution_count": 11,
   "metadata": {},
   "outputs": [
    {
     "data": {
      "image/png": "[encoded data removed]",
      "text/plain": [
       "plot without title"
      ]
     },
     "metadata": {},
     "output_type": "display_data"
    }
   ],
   "source": [
    "data = sim_data()\n",
    "lmod = lm(y~x, data=data)\n",
    "ggplot(aes(x=x, y=y), data=data) + \n",
    "    geom_point() +\n",
    "    geom_smooth(method=\"lm\", formula=y~x, se=FALSE, color=\"#CFB87C\")"
   ]
  },
  {
   "cell_type": "markdown",
   "metadata": {},
   "source": []
  },
  {
   "cell_type": "markdown",
   "metadata": {},
   "source": [
    "#### 2. (b) Do the slopes change?\n",
    "\n",
    "Now we want to see how the slope of our line varies with different random samples of data. Call our data genaration funciton $50$ times to gather $50$ independent samples. Then we can fit a SLR model to each of those samples and plot the resulting slope. The function below performs this for us.\n",
    "\n",
    "Experiment with different variances and report on what effect that has to the spread of the slopes."
   ]
  },
  {
   "cell_type": "code",
   "execution_count": 12,
   "metadata": {},
   "outputs": [],
   "source": [
    "gen_slopes <- function(num.slopes=50, var=1, num.samples=20){\n",
    "    g = ggplot()\n",
    "    # Repeat the sample for the number of slopes\n",
    "    for(ii in 1:num.slopes){\n",
    "        # Generate a random sampling of data\n",
    "        data = sim_data(n=num.samples, var=var)\n",
    "        # Add the slope of the best fit linear model to the plot\n",
    "        g = g + stat_smooth(aes(x=x, y=y), data=data, method=\"lm\", geom=\"line\", \n",
    "                            se=FALSE, alpha=0.4, color=\"#CFB87C\", size=1)\n",
    "    }\n",
    "    return(g)\n",
    "}"
   ]
  },
  {
   "cell_type": "code",
   "execution_count": 13,
   "metadata": {},
   "outputs": [],
   "source": [
    "# gen_slopes()"
   ]
  },
  {
   "cell_type": "markdown",
   "metadata": {},
   "source": []
  },
  {
   "cell_type": "markdown",
   "metadata": {},
   "source": [
    "#### 2. (c) Distributions of Slopes\n",
    "\n",
    "As we see above, the slopes are somewhat random. That means that they follow some sort of distribution, which we can try to discern. The code below computes `num_samples` independent realizations of the model data, computes the SLR model, and generates a histogram of the resulting slopes.\n",
    "\n",
    "Again, experiment with different variances for the simulated data and record what you notice. What do you notice about the shapes of the resulting histograms?"
   ]
  },
  {
   "cell_type": "code",
   "execution_count": 8,
   "metadata": {},
   "outputs": [],
   "source": [
    "hist_slopes <- function(num.slopes=500, var=1, num.samples=20){\n",
    "    slopes = rep(0, num.slopes)\n",
    "    # For num.slopes, compute a SLR model slope\n",
    "    for(i in 1:num.slopes){\n",
    "        # Simulate the desired data\n",
    "        data = sim_data(var=var, n=num.samples)\n",
    "        # Fit an SLR model to the data\n",
    "        lmod = lm(y~x, data=data)\n",
    "        # Add the slopes to the vector of slopes\n",
    "        slopes[i] = lmod$coef[2]\n",
    "    }\n",
    "    # Plot a histogram of the resulting slopes\n",
    "    g = ggplot() + aes(slopes) + geom_histogram(color=\"black\", fill=\"#CFB87C\")\n",
    "    return(g)\n",
    "}"
   ]
  },
  {
   "cell_type": "code",
   "execution_count": 86,
   "metadata": {},
   "outputs": [
    {
     "name": "stderr",
     "output_type": "stream",
     "text": [
      "`stat_bin()` using `bins = 30`. Pick better value with `binwidth`.\n"
     ]
    },
    {
     "data": {
      "image/png": "[encoded data removed]",
      "text/plain": [
       "plot without title"
      ]
     },
     "metadata": {},
     "output_type": "display_data"
    }
   ],
   "source": [
    "# hist_slopes()"
   ]
  },
  {
   "cell_type": "markdown",
   "metadata": {},
   "source": []
  },
  {
   "cell_type": "markdown",
   "metadata": {},
   "source": [
    "#### 2. (d) Confidence Intervals of Slopes\n",
    "\n",
    "What does that all mean? It means that when we fit a linear regression model, our parameter *estimates* will not be equal to the true parameters. Instead, the estimates will vary from sample to sample, and form a distribution. This is true for any linear regression model with any data - not just simulated data - as long as we assume that there is a large population that we can resample the response from (at fixed predictor values). Also note that we only demonstrated this fact with the slope estimate, but the same principle is true for the intercept, or if we had several slope parameters.\n",
    "\n",
    "This simulation shows that there is a chance for a linear regression model to have a slope that is very different from the true slope. But with a large sample size, $n$, or small error variance, $\\sigma^2$, the distribution will become narrower. Confidence intervals can help us understand this variability. The procedure that generates confidence intervals for our model parameters has a high probability of covering the true parameter. And, the higher $n$ is, for a fixed $\\sigma^2$, or the smaller $\\sigma^2$ is, for a fixed $n$, the narrower the confidence interval will be!\n",
    "\n",
    "Draw a single sample of size $n=20$ from `sim_data()` with variance $\\sigma^2 = 1$.  Use your sample to compute a 95% confidence interval for the slope. Does the known slope for the model (which we can recall is $2.5$) fall inside your confidence interval?  How does the value of $\\sigma^2$ affect the CI width?"
   ]
  },
  {
   "cell_type": "code",
   "execution_count": 89,
   "metadata": {},
   "outputs": [],
   "source": [
    "# Your code here"
   ]
  },
  {
   "cell_type": "markdown",
   "metadata": {},
   "source": []
  }
 ],
 "metadata": {
  "kernelspec": {
   "display_name": "R",
   "language": "R",
   "name": "ir"
  }
 },
 "nbformat": 4,
 "nbformat_minor": 4
}
