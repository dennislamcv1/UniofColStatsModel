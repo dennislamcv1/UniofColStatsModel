{
 "cells": [
  {
   "cell_type": "markdown",
   "metadata": {
    "deletable": false,
    "editable": false,
    "nbgrader": {
     "cell_type": "markdown",
     "checksum": "e34b38501fc6bc4d19bb0c445f600808",
     "grade": false,
     "grade_id": "cell-283339f3d5fb7b33",
     "locked": true,
     "schema_version": 3,
     "solution": false,
     "task": false
    }
   },
   "source": [
    "# Module 1 - Autograded Assignment"
   ]
  },
  {
   "cell_type": "markdown",
   "metadata": {
    "deletable": false,
    "editable": false,
    "nbgrader": {
     "cell_type": "markdown",
     "checksum": "e0e30033336502e69f78e7111e993697",
     "grade": false,
     "grade_id": "cell-7c144ca3c0f2550c",
     "locked": true,
     "schema_version": 3,
     "solution": false,
     "task": false
    }
   },
   "source": [
    "### Outline:\n",
    "**Here are the objectives of this assignment:**\n",
    "\n",
    "1. Familiarize yourself with the basics of R and Jupyter Notebooks.\n",
    "2. Visualize data using scatterplots, histograms and density plots.\n",
    "3. Center, Scale and Standardize predictors so they end up with similar distributions.\n",
    "4. Fit a best fit line to data and plot the results.\n",
    "5. Observe the effects of standardized data on best fit lines.\n",
    "6. Reinforce our understanding of the \"linear\" part of linear regression models.\n",
    "\n",
    "**Here are some general tips:**\n",
    "\n",
    "1. Read the questions carefully to understand what is being asked.\n",
    "2. When you feel that your work is completed, feel free to hit the ```Validate``` button to see your results on the *visible* unit tests. If you have questions about unit testing, please refer to the \"Module 0: Introduction\" notebook provided as an optional resource for this course. In this assignment, there are hidden unit tests that check your code. You will not recieve any feedback for failed hidden unit tests until the assignment is submitted. **Do not misinterpret the feedback from visible unit tests as all possible tests for a given question--write your code carefully!**\n",
    "3. Before submitting, we recommend restarting the kernel and running all the cells in order that they appear to make sure that there are no additional bugs in your code.\n",
    "4. There are 50 total points in this assignment. "
   ]
  },
  {
   "cell_type": "code",
   "execution_count": null,
   "metadata": {
    "deletable": false,
    "editable": false,
    "nbgrader": {
     "cell_type": "code",
     "checksum": "1cd4181678b1f0b4fa8b5621bf22b908",
     "grade": false,
     "grade_id": "cell-34c264aa79d8a61e",
     "locked": true,
     "schema_version": 3,
     "solution": false,
     "task": false
    }
   },
   "outputs": [],
   "source": [
    "# This cell loads the necesary libraries for this assignment\n",
    "library(testthat)\n",
    "library(tidyverse)"
   ]
  },
  {
   "cell_type": "markdown",
   "metadata": {
    "deletable": false,
    "editable": false,
    "nbgrader": {
     "cell_type": "markdown",
     "checksum": "a2864d51d0fd1a5219cb4975e49aee3a",
     "grade": false,
     "grade_id": "cell-a9dd376b12198587",
     "locked": true,
     "schema_version": 3,
     "solution": false,
     "task": false
    }
   },
   "source": [
    "# Problem 1: The Basics of Standardizing Data"
   ]
  },
  {
   "cell_type": "markdown",
   "metadata": {
    "deletable": false,
    "editable": false,
    "nbgrader": {
     "cell_type": "markdown",
     "checksum": "978f2ba7781edf59a79d206265cae77a",
     "grade": false,
     "grade_id": "cell-cb1556d6e6827a51",
     "locked": true,
     "schema_version": 3,
     "solution": false,
     "task": false
    }
   },
   "source": [
    "Welcome to your first problem on your first autograded assignment! Don't worry, they aren't that bad. Just know that, with respect to the autograder, there are three types of cells:\n",
    "\n",
    "* Read-Only Cells: You can run these cells, but can't change any of the code or markdown inside of them. These will be used for us to give you questions or code that you will need.\n",
    "* Autograded Answer Cells: This is where you will write your code to answer the prompts. Be sure to answer the prompts with the specified methods and variables. Otherwise, you won't receive credit. If needed, you can always create additional cells to do other work.\n",
    "* Autograded Test Cells: These cells test your code and are usually located just after an Autograded Answer cell. For the most part, you can't interact with these cells (including delete them, sorry!). Note that there can be both visible and hidden tests in any autograded test cell. Make sure your code passes all the visible tests. You will only get feedback on the hidden tests once you've submitted the assignment.\n",
    "\n",
    "Now on to the actual problem! We will be analyzing a dataset of how much a person's age and income affects their opinion of turtles. That's right, some people don't like turtles, and in Problem 2, we'll investigate this important issue! But, before that, we'll first learn to *standardize* the predictor variables. By the end of this problem, we will have standardized both the `age` and `income` predictors in order to begin addressing the \"crisis\".\n",
    "\n",
    "In the code cells below, we load in the data and visualize those two features with some histograms and a scatter plot. Think about what information we can gather about the two predictors just from these plots."
   ]
  },
  {
   "cell_type": "code",
   "execution_count": null,
   "metadata": {
    "deletable": false,
    "editable": false,
    "nbgrader": {
     "cell_type": "code",
     "checksum": "d5365e5f6e7b160ce86a27941e940e46",
     "grade": false,
     "grade_id": "cell-30674dde6ed47ff6",
     "locked": true,
     "schema_version": 3,
     "solution": false,
     "task": false
    }
   },
   "outputs": [],
   "source": [
    "# Load the data\n",
    "turtle.data = read.csv(\"turtle.csv\")\n",
    "head(turtle.data)"
   ]
  },
  {
   "cell_type": "code",
   "execution_count": null,
   "metadata": {
    "deletable": false,
    "editable": false,
    "nbgrader": {
     "cell_type": "code",
     "checksum": "488c032a2753ee9882f96028f87e644d",
     "grade": false,
     "grade_id": "cell-bfb1d1ed45195fdb",
     "locked": true,
     "schema_version": 3,
     "solution": false,
     "task": false
    }
   },
   "outputs": [],
   "source": [
    "# Histograms of the age and income features\n",
    "par(mfrow = c(1, 2))\n",
    "hist(turtle.data$age, col=\"#CFB87C\")\n",
    "hist(turtle.data$income, col=\"#CFB87C\")"
   ]
  },
  {
   "cell_type": "code",
   "execution_count": null,
   "metadata": {
    "deletable": false,
    "editable": false,
    "nbgrader": {
     "cell_type": "code",
     "checksum": "858930027cbecbe781b3ac486fea9865",
     "grade": false,
     "grade_id": "cell-c1d223820bbe5ba6",
     "locked": true,
     "schema_version": 3,
     "solution": false,
     "task": false
    }
   },
   "outputs": [],
   "source": [
    "g = ggplot(turtle.data, aes(x=age, y=income)) + \n",
    "    # This function adds the points for the scatterplot\n",
    "    geom_point() +\n",
    "    # This function adds the title (and potentially other labels)\n",
    "    labs(title=\"Scatterplot of Income vs. Age\")\n",
    "g"
   ]
  },
  {
   "cell_type": "markdown",
   "metadata": {
    "deletable": false,
    "editable": false,
    "nbgrader": {
     "cell_type": "markdown",
     "checksum": "d3044cb5a552df518a682e93521f0536",
     "grade": false,
     "grade_id": "cell-95603bfabceead3b",
     "locked": true,
     "schema_version": 3,
     "solution": false,
     "task": false
    }
   },
   "source": [
    "#### 1. (a) Centering the data (9 points)\n",
    "\n",
    "Well, that plot looks nice. But notice the scale of the axes. The x-axis has a range of about $[10, 90]$ and the y-axis has a range of $[20,000 , 90,000]$. These ranges raise two issues with respect to the interpretation of a regression model:\n",
    "\n",
    "1. Recall that the intercept parameter is interpreted as the mean of the response when each predictor is zero. But in this case, zero is not a meaningful value for the `age` predictor. \n",
    "\n",
    "\n",
    "2. Recall that a slope parameter in multiple linear regression is interpreted as the average change in the response for a *one-unit increase* in the value of the corresponding predictor, holding other predictors constant. But, for this problem, do we really care about how a \"one dollar increase in (yearly) salary\" impacts turtle rating? Probably not. It would be more convenient to interpret the change turtle rating with respect to bigger jumps in income, say, one thousand dollar increases. \n",
    "\n",
    "To better assess and interpret the affect of the predictors on `turtle_rating`, we can changes our scales! Let's start by centering our data, which requires setting the mean of each predictor equal to $0$ (note how that changes the interpretation of the intercept parameter!). To do this, we can subtract the mean value of each predictor from each value. So, for instance:\n",
    "\n",
    "$$ x^{centered}_{1,age} = x_{1,age} - \\bar{x}_{age} $$\n",
    "\n",
    "Center the `age` and `income` data and save the updated vectors into `age.centered` and `income.centered` respectively. Then recreate the plot above with the centered data, which should be stored in `g.centered`. Make sure to use ggplot! \n",
    "\n",
    "Tip for plotting with ggplot: The `ggplot()` function requires the data to be in a `data.frame` object. It might be useful to save your centered vectors into a data.frame with `df.centered = data.frame(age=age.centered, income=income.centered)`."
   ]
  },
  {
   "cell_type": "code",
   "execution_count": null,
   "metadata": {
    "deletable": false,
    "nbgrader": {
     "cell_type": "code",
     "checksum": "00edf84d6f8b64a8ff1e79921f703dbd",
     "grade": false,
     "grade_id": "cell-d0ecb4b0d1ce20d5",
     "locked": false,
     "schema_version": 3,
     "solution": true,
     "task": false
    }
   },
   "outputs": [],
   "source": [
    "age.centered = NA\n",
    "income.centered = NA\n",
    "\n",
    "g.centered = NA # Look at the code cell above for the basic ggplot() syntax.\n",
    "\n",
    "# your code here\n"
   ]
  },
  {
   "cell_type": "code",
   "execution_count": null,
   "metadata": {
    "deletable": false,
    "editable": false,
    "nbgrader": {
     "cell_type": "code",
     "checksum": "8c64b56c8a8d1ef24a2484b278a2c262",
     "grade": true,
     "grade_id": "cell-ca5643e18797b925",
     "locked": true,
     "points": 9,
     "schema_version": 3,
     "solution": false,
     "task": false
    }
   },
   "outputs": [],
   "source": [
    "# Test Cell\n",
    "\n",
    "if(test_that(\"Checking the class of the plot\", {expect_is(g.centered, \"ggplot\")})){\n",
    "    print(\"Good job.\")\n",
    "    print(\"Make sure your answers are correct, there are hidden tests and you won't recieve feedback on them until you submit your assignment!\")\n",
    "}else{\n",
    "    print(\"Make sure to use ggplot for your plotting.\")\n",
    "    print(\"It's annoying at first, but it's a very powerful visualization tool once you get the hang of it.\")\n",
    "}\n",
    "\n",
    "# Note: Each question may have some hidden tests!\n",
    "# Make sure you're confident in your answers!\n"
   ]
  },
  {
   "cell_type": "markdown",
   "metadata": {
    "deletable": false,
    "editable": false,
    "nbgrader": {
     "cell_type": "markdown",
     "checksum": "39b74f08a059b1dd637295899f52b51f",
     "grade": false,
     "grade_id": "cell-07f223b61185ea70",
     "locked": true,
     "schema_version": 3,
     "solution": false,
     "task": false
    }
   },
   "source": [
    "#### 1. (b) Scaling the Data (9 points)\n",
    "\n",
    "Our plot shows that both `age` and `income` are centered at $0$, which is good, since it will fix our intercept interpretation. But the range of the predictors is still very different, which means that our slope interpretations will still be awkward. How do we address that? Well, we know that the \"spread\" of a variable is represented by its standard deviation. Therefore, if we divide the centered predictors by their standard deviation, the new \"standardized\" `age` and `income` variables will both have the same spread. In math terms:\n",
    "\n",
    "$$ x^{scaled}_{i,age} = \\dfrac{x_{i,age}}{std.dev(x_{age})} $$\n",
    "\n",
    "Note that the process of both centering and scaling data is called standardizing.\n",
    "\n",
    "$$ x^{standardized}_{i,age} = \\dfrac{x^{centered}_{i,age}}{std.dev(x_{age})} = \\dfrac{x_{i,age} - \\bar{x}_{age}}{std.dev(x_{age})} $$\n",
    "\n",
    "Standardize both the `age` and `income` predictors, and save the standardized vectors into `age.stand` and `income.stand` respectively. Then plot our scaled data using ggplot. Save your plot as `g.stand`."
   ]
  },
  {
   "cell_type": "code",
   "execution_count": null,
   "metadata": {
    "deletable": false,
    "nbgrader": {
     "cell_type": "code",
     "checksum": "c2ea1459c881a2aff20a4f19ebed531c",
     "grade": false,
     "grade_id": "cell-70b6e9141c362681",
     "locked": false,
     "schema_version": 3,
     "solution": true,
     "task": false
    }
   },
   "outputs": [],
   "source": [
    "age.stand = NA\n",
    "income.stand = NA\n",
    "g.stand = NA\n",
    "\n",
    "# your code here\n"
   ]
  },
  {
   "cell_type": "code",
   "execution_count": null,
   "metadata": {
    "deletable": false,
    "editable": false,
    "nbgrader": {
     "cell_type": "code",
     "checksum": "ced193b74ac1e041fb8779863a06fc0b",
     "grade": true,
     "grade_id": "cell-d585142c0526be53",
     "locked": true,
     "points": 9,
     "schema_version": 3,
     "solution": false,
     "task": false
    }
   },
   "outputs": [],
   "source": [
    "# Test Cell\n",
    "# This cell has hidden test cases that will run after submission.\n"
   ]
  },
  {
   "cell_type": "markdown",
   "metadata": {
    "deletable": false,
    "editable": false,
    "nbgrader": {
     "cell_type": "markdown",
     "checksum": "a8e6d8a6648f7d8634063b019a66c81f",
     "grade": false,
     "grade_id": "cell-781a41edbdd5678d",
     "locked": true,
     "schema_version": 3,
     "solution": false,
     "task": false
    }
   },
   "source": [
    "Note that this should fix the interpretation of the slope parameters: if we were to use the standardized variables in a regression, a \"one-unit increase\" would be a \"one-standard deviation increase\"!"
   ]
  },
  {
   "cell_type": "markdown",
   "metadata": {
    "deletable": false,
    "editable": false,
    "nbgrader": {
     "cell_type": "markdown",
     "checksum": "4bcacf2fca4dc978bcf2bf41d11f5671",
     "grade": false,
     "grade_id": "cell-c60777796c79bc56",
     "locked": true,
     "schema_version": 3,
     "solution": false,
     "task": false
    }
   },
   "source": [
    "#### 1. (c) Wait what?\n",
    "\n",
    "So we just did a bunch of math, and now people can have a negative age and income? Of course not! Instead, we've just changed the units; the new units measure income but are centered at zero, with a \"standard\" spread. In addition, the order of the data is still preserved. Let's visualize the resulting predictors!\n",
    "\n",
    "Recall at the beginning of this problem, there were some histograms for `age` and `income`. Using ggplot, create density plots (using `geom_density()`) for the standardized versions of those two predictors. Overlay the standard normal curve onto both of these plots. Save these plots as `g.age` and `g.income`.\n",
    "\n",
    "What do you notice?"
   ]
  },
  {
   "cell_type": "code",
   "execution_count": null,
   "metadata": {
    "deletable": false,
    "nbgrader": {
     "cell_type": "code",
     "checksum": "02df42cee4a07b90a797863252bd4910",
     "grade": false,
     "grade_id": "cell-1d3a7d3a593f3f3f",
     "locked": false,
     "schema_version": 3,
     "solution": true,
     "task": false
    }
   },
   "outputs": [],
   "source": [
    "g.age = NA\n",
    "g.income = NA\n",
    "\n",
    "# your code here\n"
   ]
  },
  {
   "cell_type": "markdown",
   "metadata": {
    "deletable": false,
    "editable": false,
    "nbgrader": {
     "cell_type": "markdown",
     "checksum": "0a2352a256428db4214e7d79fd74d913",
     "grade": false,
     "grade_id": "cell-8c1f97a5aec9cbf4",
     "locked": true,
     "schema_version": 3,
     "solution": false,
     "task": false
    }
   },
   "source": [
    "# Problem 2: Using Our Standardized Data \n",
    "\n",
    "Now that we have standardized versions of the predictors, let's see how they are related to the response, `turtle_rating`.\n",
    "\n",
    "In problem 1, we made a claim that standardizing the data could affect our best fit line. Let's see if that claim is true."
   ]
  },
  {
   "cell_type": "markdown",
   "metadata": {
    "deletable": false,
    "editable": false,
    "nbgrader": {
     "cell_type": "markdown",
     "checksum": "695cf27ed83c6c9042a61eee8254c6b7",
     "grade": false,
     "grade_id": "cell-a489f84af51284d8",
     "locked": true,
     "schema_version": 3,
     "solution": false,
     "task": false
    }
   },
   "source": [
    "#### 2. (a) Slope of the Original Data (10 points)\n",
    "\n",
    "Using the original data (`turtle.data`), create a scatterplot with ggplot named `g.turtle` that has `turtle_rating` on the y-axis and `income` on the x-axis. Then add the best fit line by adding the layer `geom_smooth(method=\"lm\", se=FALSE, color=\"#CFB87C\")`.\n",
    "\n",
    "To find the exact slope of our best fit line, we can use the `lm()` function. We will be learning more about this function in future modules, but for now, all we need to know is that it calculates the best fit line. Use the form `lm(response.name~predictor.name, data=dataset.name)$coefficients[2]` to get the slope of our line. Store that value in `turtle.slope`."
   ]
  },
  {
   "cell_type": "code",
   "execution_count": null,
   "metadata": {
    "deletable": false,
    "nbgrader": {
     "cell_type": "code",
     "checksum": "bb9fa682e6b55c960d82c78ba36ab620",
     "grade": false,
     "grade_id": "cell-f9fe127ebd28c306",
     "locked": false,
     "schema_version": 3,
     "solution": true,
     "task": false
    }
   },
   "outputs": [],
   "source": [
    "g.turtle = NA\n",
    "turtle.slope = NA\n",
    "\n",
    "# your code here\n",
    "# your code here\n"
   ]
  },
  {
   "cell_type": "code",
   "execution_count": null,
   "metadata": {
    "deletable": false,
    "editable": false,
    "nbgrader": {
     "cell_type": "code",
     "checksum": "5a6801f96a0d3d0763740dcaa35d63ad",
     "grade": true,
     "grade_id": "cell-cb8e33364b933248",
     "locked": true,
     "points": 10,
     "schema_version": 3,
     "solution": false,
     "task": false
    }
   },
   "outputs": [],
   "source": [
    "# Test Cell\n",
    "if(!test_that(\"Checking class of plot\", {expect_is(g.turtle, \"ggplot\")})){\n",
    "    print(\"Make sure your plots are made in ggplot.\")\n",
    "}\n",
    "# This cell has hidden test cases that will run after submission."
   ]
  },
  {
   "cell_type": "markdown",
   "metadata": {
    "deletable": false,
    "editable": false,
    "nbgrader": {
     "cell_type": "markdown",
     "checksum": "ff6b87eae57338edcff23e6cc2b91c4a",
     "grade": false,
     "grade_id": "cell-6c15e034b52845a6",
     "locked": true,
     "schema_version": 3,
     "solution": false,
     "task": false
    }
   },
   "source": [
    "#### 2. (b) Slope of the Standardized Data (10 points)\n",
    "\n",
    "Repeat the above with the standardized income data. Store the slope in `turtle.slope.stand` and the plot in `g.turtle.stand`.\n",
    "\n",
    "Take note of whether the slope has changed with the use of the standardized predictors!"
   ]
  },
  {
   "cell_type": "code",
   "execution_count": null,
   "metadata": {
    "deletable": false,
    "nbgrader": {
     "cell_type": "code",
     "checksum": "2c10a7e2313a35a7bbc370d7e98a3b18",
     "grade": false,
     "grade_id": "cell-232e86285e103c48",
     "locked": false,
     "schema_version": 3,
     "solution": true,
     "task": false
    }
   },
   "outputs": [],
   "source": [
    "g.turtle.stand = NA\n",
    "turtle.slope.stand = NA\n",
    "\n",
    "# your code here\n",
    "\n",
    "# your code here\n"
   ]
  },
  {
   "cell_type": "code",
   "execution_count": null,
   "metadata": {
    "deletable": false,
    "editable": false,
    "nbgrader": {
     "cell_type": "code",
     "checksum": "4ebd3e1b4153ae56b4fbf9b4d5c43ab2",
     "grade": true,
     "grade_id": "cell-abe687e2a9d46235",
     "locked": true,
     "points": 10,
     "schema_version": 3,
     "solution": false,
     "task": false
    }
   },
   "outputs": [],
   "source": [
    "# Test Cell\n",
    "test_that(\"Check class of plot\", {expect_is(g.turtle.stand, \"ggplot\")})\n",
    "# This cell has hidden test cases that will run after submission.\n"
   ]
  },
  {
   "cell_type": "markdown",
   "metadata": {
    "deletable": false,
    "editable": false,
    "nbgrader": {
     "cell_type": "markdown",
     "checksum": "e2faa72d14d647786e7cc1cefabe7c61",
     "grade": false,
     "grade_id": "cell-0ca2536993ac8ada",
     "locked": true,
     "schema_version": 3,
     "solution": false,
     "task": false
    }
   },
   "source": [
    "# Problem 3: What Counts As A Linear Model? (12 points)\n",
    "\n",
    "When thinking about linear regression models, the \"linear\" term can lead to confusion. To make sure you have a strong grasp of what is and is not considered linear, please look at the following models. In the code cell below, answer `TRUE` if the corresponding model is a \"linear regression model\" and `FALSE` if it is not.\n",
    "\n",
    "1. $y_i = \\beta_0$\n",
    "2. $y_i = \\beta_0 + \\beta_1 x_{i,1} + \\beta_2^2 x_{i,2}^2$\n",
    "3. $y_i = \\beta_0 + \\beta_1^{x_i}$\n",
    "4. $y_i = \\beta_0 + \\log(\\beta_1 x_i)$\n",
    "5. $y_i = \\beta_0 \\log (\\beta_1 x_i)$\n",
    "6. $y_i = \\beta_0 + \\beta_1 \\sin(x_{i,1}) + \\beta_2 e^{x_{i_2}} + \\beta_3 \\log (x_{i,3})$"
   ]
  },
  {
   "cell_type": "code",
   "execution_count": null,
   "metadata": {
    "deletable": false,
    "nbgrader": {
     "cell_type": "code",
     "checksum": "ba5f08c940ed8c804c4cb03cef4bb3ce",
     "grade": false,
     "grade_id": "cell-b3343b502d3ea06d",
     "locked": false,
     "schema_version": 3,
     "solution": true,
     "task": false
    }
   },
   "outputs": [],
   "source": [
    "# Answer each question by replacing each NA with the corresponding boolean of TRUE or FALSE.\n",
    "prob.2.1 = NA\n",
    "\n",
    "prob.2.2 = NA\n",
    "\n",
    "prob.2.3 = NA\n",
    "\n",
    "prob.2.4 = NA\n",
    "\n",
    "prob.2.5 = NA\n",
    "\n",
    "prob.2.6 = NA\n",
    "\n",
    "# your code here\n"
   ]
  },
  {
   "cell_type": "code",
   "execution_count": null,
   "metadata": {
    "deletable": false,
    "editable": false,
    "nbgrader": {
     "cell_type": "code",
     "checksum": "887fdc384fd7aabf3fe65559fe4135a1",
     "grade": true,
     "grade_id": "cell-9958eefe50b3f5c1",
     "locked": true,
     "points": 2,
     "schema_version": 3,
     "solution": false,
     "task": false
    }
   },
   "outputs": [],
   "source": [
    "# Test Cell\n",
    "\n",
    "# Make sure the type of the answers is boolean\n",
    "if(test_that(\"Check answer types\", {expect_is(prob.2.1, \"logical\")})){\n",
    "    print(\"Answers are booleans\")\n",
    "}else{\n",
    "    print(\"Answers aren't booleans! Make sure they are, or else they will be incorrect.\")\n",
    "}\n",
    "# This cell has hidden test cases that will run after submission."
   ]
  },
  {
   "cell_type": "code",
   "execution_count": null,
   "metadata": {
    "deletable": false,
    "editable": false,
    "nbgrader": {
     "cell_type": "code",
     "checksum": "3dd1aa294e8299f084d6b014869c5036",
     "grade": true,
     "grade_id": "cell-02343a52dd1752a4",
     "locked": true,
     "points": 2,
     "schema_version": 3,
     "solution": false,
     "task": false
    }
   },
   "outputs": [],
   "source": [
    "# Test Cell\n",
    "# This cell has hidden test cases that will run after submission."
   ]
  },
  {
   "cell_type": "code",
   "execution_count": null,
   "metadata": {
    "deletable": false,
    "editable": false,
    "nbgrader": {
     "cell_type": "code",
     "checksum": "3aece9c8c54e004343287b2505f22a4a",
     "grade": true,
     "grade_id": "cell-39235ed79b165c48",
     "locked": true,
     "points": 2,
     "schema_version": 3,
     "solution": false,
     "task": false
    }
   },
   "outputs": [],
   "source": [
    "# Test Cell\n",
    "# This cell has hidden test cases that will run after submission."
   ]
  },
  {
   "cell_type": "code",
   "execution_count": null,
   "metadata": {
    "deletable": false,
    "editable": false,
    "nbgrader": {
     "cell_type": "code",
     "checksum": "f5a6aaf3b9f426db5c6e439e6ed1e10e",
     "grade": true,
     "grade_id": "cell-4f5a738f99ce9a7a",
     "locked": true,
     "points": 2,
     "schema_version": 3,
     "solution": false,
     "task": false
    }
   },
   "outputs": [],
   "source": [
    "# Test Cell\n",
    "# This cell has hidden test cases that will run after submission."
   ]
  },
  {
   "cell_type": "code",
   "execution_count": null,
   "metadata": {
    "deletable": false,
    "editable": false,
    "nbgrader": {
     "cell_type": "code",
     "checksum": "f5214e777e1d02ed14e0589a5016b00a",
     "grade": true,
     "grade_id": "cell-682096050d062b55",
     "locked": true,
     "points": 2,
     "schema_version": 3,
     "solution": false,
     "task": false
    }
   },
   "outputs": [],
   "source": [
    "# Test Cell\n",
    "# This cell has hidden test cases that will run after submission."
   ]
  },
  {
   "cell_type": "code",
   "execution_count": null,
   "metadata": {
    "deletable": false,
    "editable": false,
    "nbgrader": {
     "cell_type": "code",
     "checksum": "4c8e706bc68b811076ab472477c2fae5",
     "grade": true,
     "grade_id": "cell-9bea58d01ef96885",
     "locked": true,
     "points": 2,
     "schema_version": 3,
     "solution": false,
     "task": false
    }
   },
   "outputs": [],
   "source": [
    "# Test Cell\n",
    "# This cell has hidden test cases that will run after submission."
   ]
  }
 ],
 "metadata": {
  "kernelspec": {
   "display_name": "R",
   "language": "R",
   "name": "ir"
  },
  "language_info": {
   "codemirror_mode": "r",
   "file_extension": ".r",
   "mimetype": "text/x-r-source",
   "name": "R",
   "pygments_lexer": "r",
   "version": "3.6.3"
  }
 },
 "nbformat": 4,
 "nbformat_minor": 4
}
