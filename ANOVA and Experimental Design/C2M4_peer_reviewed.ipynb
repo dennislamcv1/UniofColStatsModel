{
 "cells": [
  {
   "cell_type": "markdown",
   "metadata": {},
   "source": [
    "# C2M4: Peer Reviewed Assignment"
   ]
  },
  {
   "cell_type": "markdown",
   "metadata": {},
   "source": [
    "### Outline:\n",
    "The objectives for this assignment:\n",
    "\n",
    "1. Get a better understanding of Experimental design patterns.\n",
    "2. Prove some of the background intuition in blocking and interblock interactions.\n",
    "3. Understand how and when to apply different model strucutres for different experimental designs.\n",
    "\n",
    "General tips:\n",
    "\n",
    "1. Read the questions carefully to understand what is being asked.\n",
    "2. This work will be reviewed by another human, so make sure that you are clear and concise in what your explanations and answers."
   ]
  },
  {
   "cell_type": "markdown",
   "metadata": {},
   "source": [
    "# Problem 1: Experimental Design\n",
    "\n",
    "This problem is to get you thinking about how experiments are designed and how data is collected, because those influence what models we end up using."
   ]
  },
  {
   "cell_type": "markdown",
   "metadata": {},
   "source": [
    "### 1. (a)\n",
    "\n",
    "In your own words, define experimental design. Describe some negative effects of making an incorrect experimental design decision."
   ]
  },
  {
   "cell_type": "markdown",
   "metadata": {},
   "source": [
    "<strong>\n",
    "\n",
    "Experimental Design refers to the process of planning an experiment to ensure that the data collected can provide valid and objective conclusions. It involves determining how the experiment will be conducted, including the selection of experimental units, the allocation of treatments, and the method of data collection. The key elements of experimental design include randomization, replication, and blocking to control for variability and ensure the results are reliable and unbiased.\n",
    "\n",
    "Negative Effects of Incorrect Experimental Design Decisions:\n",
    "\n",
    "- Confounding Variables: Poor design can lead to confounding, where the effect of the treatment is mixed with other variables, making it difficult to determine the actual cause of observed effects.\n",
    "- Bias: Non-random allocation of treatments can introduce bias, affecting the validity of the conclusions.\n",
    "- Reduced Precision: Insufficient replication or improper blocking can increase variability, reducing the precision of the results.\n",
    "- Inability to Generalize: If the experimental units are not representative of the population, the findings may not be generalizable.\n",
    "- Ethical Issues: Inappropriate design can lead to unethical practices, such as exposing subjects to unnecessary risks or providing insufficient treatment.\n",
    "\n",
    "</strong>"
   ]
  },
  {
   "cell_type": "markdown",
   "metadata": {},
   "source": [
    "### 1. (b)\n",
    "\n",
    "In your own words, describe the difference between an experimental unit and a treatment unit. Why does this distinction matter?"
   ]
  },
  {
   "cell_type": "markdown",
   "metadata": {},
   "source": [
    "<strong>\n",
    "\n",
    "Experimental Unit: An experimental unit is the smallest division of the experimental material such that any two units can receive different treatments. It is the entity to which a treatment is applied.\n",
    "\n",
    "Treatment Unit: A treatment unit refers to the different levels or types of treatment applied to the experimental units. It represents the specific interventions or conditions imposed in the experiment.\n",
    "\n",
    "Importance of Distinction:\n",
    "\n",
    "- The distinction matters because it affects the analysis and interpretation of results. Incorrectly identifying experimental units can lead to incorrect conclusions about treatment effects.\n",
    "- Understanding this distinction helps in proper randomization and replication, ensuring the validity and reliability of the experiment.\n",
    "- It ensures that the statistical analysis matches the experimental design, leading to correct estimation of treatment effects and variability.\n",
    "\n",
    "</strong>"
   ]
  },
  {
   "cell_type": "markdown",
   "metadata": {},
   "source": [
    "# Problem 2: Proving the Intuition\n",
    "\n",
    "Show that, for the randomized complete block design: $$SS_{total} = SS_{treat} + SS_{block} + SS_{R}$$"
   ]
  },
  {
   "cell_type": "code",
   "execution_count": 1,
   "metadata": {},
   "outputs": [
    {
     "name": "stderr",
     "output_type": "stream",
     "text": [
      "\n",
      "Attaching package: ‘dplyr’\n",
      "\n",
      "\n",
      "The following objects are masked from ‘package:stats’:\n",
      "\n",
      "    filter, lag\n",
      "\n",
      "\n",
      "The following objects are masked from ‘package:base’:\n",
      "\n",
      "    intersect, setdiff, setequal, union\n",
      "\n",
      "\n"
     ]
    },
    {
     "name": "stdout",
     "output_type": "stream",
     "text": [
      "SS_total: 95 \n",
      "SS_treat: 72 \n",
      "SS_block: 20.33333 \n",
      "SS_R: 2.666667 \n",
      "SS_total == SS_treat + SS_block + SS_R: TRUE \n"
     ]
    }
   ],
   "source": [
    "# Load necessary library\n",
    "library(dplyr)\n",
    "\n",
    "# Example data for RCBD\n",
    "# Assume we have 3 treatments (A, B, C) and 4 blocks (1, 2, 3, 4)\n",
    "data <- data.frame(\n",
    "  block = rep(1:4, each = 3),\n",
    "  treatment = rep(c(\"A\", \"B\", \"C\"), times = 4),\n",
    "  response = c(15, 19, 22, 17, 21, 23, 18, 20, 24, 20, 22, 25)\n",
    ")\n",
    "\n",
    "# Calculate the grand mean\n",
    "grand_mean <- mean(data$response)\n",
    "\n",
    "# Calculate the treatment means\n",
    "treatment_means <- data %>%\n",
    "  group_by(treatment) %>%\n",
    "  summarize(mean_response_treat = mean(response))\n",
    "\n",
    "# Calculate the block means\n",
    "block_means <- data %>%\n",
    "  group_by(block) %>%\n",
    "  summarize(mean_response_block = mean(response))\n",
    "\n",
    "# Calculate SS_total\n",
    "SS_total <- sum((data$response - grand_mean)^2)\n",
    "\n",
    "# Calculate SS_treat\n",
    "SS_treat <- sum((treatment_means$mean_response_treat - grand_mean)^2) * 4 # Multiply by the number of blocks\n",
    "\n",
    "# Calculate SS_block\n",
    "SS_block <- sum((block_means$mean_response_block - grand_mean)^2) * 3 # Multiply by the number of treatments\n",
    "\n",
    "# Calculate the residuals\n",
    "data <- data %>%\n",
    "  left_join(treatment_means, by = \"treatment\") %>%\n",
    "  left_join(block_means, by = \"block\")\n",
    "\n",
    "# Residuals\n",
    "data <- data %>%\n",
    "  mutate(residual = response - mean_response_treat - mean_response_block + grand_mean)\n",
    "\n",
    "# Calculate SS_R\n",
    "SS_R <- sum(data$residual^2)\n",
    "\n",
    "# Print the results\n",
    "cat(\"SS_total:\", SS_total, \"\\n\")\n",
    "cat(\"SS_treat:\", SS_treat, \"\\n\")\n",
    "cat(\"SS_block:\", SS_block, \"\\n\")\n",
    "cat(\"SS_R:\", SS_R, \"\\n\")\n",
    "cat(\"SS_total == SS_treat + SS_block + SS_R:\", all.equal(SS_total, SS_treat + SS_block + SS_R), \"\\n\")\n",
    "\n"
   ]
  },
  {
   "cell_type": "markdown",
   "metadata": {},
   "source": [
    "<strong>\n",
    "\n",
    "1. Data Preparation: We create a sample dataset with block, treatment, and response values.\n",
    "\n",
    "2. Grand Mean Calculation: Calculate the overall mean of the responses.\n",
    "\n",
    "3. Treatment Means Calculation: Calculate the mean response for each treatment.\n",
    "\n",
    "4. Block Means Calculation: Calculate the mean response for each block.\n",
    "\n",
    "5. Sum of Squares Calculations:\n",
    "\n",
    "    - SS_total: Total sum of squares of the responses from the grand mean.\n",
    "    - SS_treat: Sum of squares of the treatment means from the grand mean, multiplied by the number of blocks.\n",
    "    - SS_block: Sum of squares of the block means from the grand mean, multiplied by the number of treatments.\n",
    "    - SS_R: Sum of squares of the residuals (differences between observed and expected values).\n",
    "      \n",
    "        \n",
    "\n",
    "6. Validation: Print the sum of squares and check if $SS_{total} = SS_{treat} + SS_{block} + SS_{R}$\n",
    "\n",
    "</strong>"
   ]
  },
  {
   "cell_type": "markdown",
   "metadata": {},
   "source": [
    "# Problem 3: Interblock Interactions\n",
    "\n",
    "Describe why, in a randomized complete block design (RCBD), it is not possible to test whether interactions exist between the treatment and blocks."
   ]
  },
  {
   "cell_type": "markdown",
   "metadata": {},
   "source": [
    "<strong>\n",
    "\n",
    "In a Randomized Complete Block Design (RCBD), it is not possible to test for interactions between treatments and blocks because the primary purpose of blocking is to control for variability among experimental units by grouping similar units together within blocks. The focus in RCBD is to remove block effects to get a more accurate estimate of treatment effects.\n",
    "\n",
    "Reasons for Not Testing Interactions in RCBD:\n",
    "\n",
    "- Homogeneity Within Blocks: Blocks are created to be as homogeneous as possible, meaning the variability within blocks is minimized. This reduces the likelihood of detecting interactions between treatments and blocks because the blocks themselves are designed to be consistent.\n",
    "- Confounding Effects: The block effects are considered nuisance variables and are not of primary interest in the analysis. They are controlled to reduce variability, not to be examined for interactions. Testing for interactions would confound the main treatment effects with the block effects, making it difficult to interpret the results.\n",
    "- Model Simplicity: The RCBD model typically includes main effects for treatments and blocks but does not include interaction terms. Including interaction terms would complicate the model and potentially reduce the power to detect the main treatment effects.\n",
    "- Blocking Objective: The main objective of blocking is to reduce experimental error by accounting for known sources of variability. It is not intended to explore potential interactions between treatments and blocks.\n",
    "\n",
    "</strong>"
   ]
  },
  {
   "cell_type": "markdown",
   "metadata": {},
   "source": [
    "# Problem 4: 99 Designs for 99 Problems\n",
    "\n",
    "For each of the following design patterns, give an example (that wasn't given in the videos) for an experiment that would best lend itself to the specified design pattern. Make sure to explain why the specified design is more applicable for your experiment than the other design patterns.\n",
    "\n",
    "1. Complete Randomized Design (CRD)\n",
    "2. Complete Randomized Block Design (CRBD)\n",
    "3. Factorial Design"
   ]
  },
  {
   "cell_type": "markdown",
   "metadata": {},
   "source": [
    "<strong>\n",
    "\n",
    "\n",
    "1. Complete Randomized Design (CRD)\n",
    "\n",
    "Example: Testing the Effect of Different Fertilizers on Plant Growth\n",
    "\n",
    "Explanation:\n",
    "\n",
    "- Design: A group of plants is randomly assigned to different fertilizer treatments without considering any other factors. Each plant receives only one type of fertilizer, and the growth is measured after a specified period.\n",
    "- Reason: CRD is suitable here because it allows for a straightforward comparison of fertilizer effects. It is assumed that all other conditions (e.g., sunlight, water, soil) are uniform or have minimal impact. Random assignment helps to ensure that any other variations are evenly distributed across treatments.\n",
    "\n",
    "2. Complete Randomized Block Design (CRBD)\n",
    "\n",
    "Example: Evaluating the Effect of Different Teaching Methods on Student Performance Across Different Schools\n",
    "\n",
    "Explanation:\n",
    "\n",
    "- Design: Students within each school are grouped into blocks. Within each block (school), students are randomly assigned to different teaching methods. The performance of students is then measured.\n",
    "- Reason: CRBD is appropriate here because students within the same school are likely to have similar characteristics (e.g., socio-economic background, school resources). Blocking by school helps to control for this variability, allowing a more accurate comparison of the teaching methods.\n",
    "\n",
    "3. Factorial Design\n",
    "\n",
    "Example: Studying the Combined Effects of Exercise and Diet on Weight Loss\n",
    "\n",
    "Explanation:\n",
    "\n",
    "- Design: Participants are randomly assigned to one of several combinations of exercise levels (e.g., no exercise, moderate exercise, intense exercise) and diet types (e.g., low-carb, low-fat, balanced diet). Each combination is a treatment group, and weight loss is measured over a period.\n",
    "- Reason: Factorial design is suitable here because it allows for the investigation of both main effects and interactions between exercise and diet. It helps in understanding whether the effect of one factor (e.g., exercise) depends on the level of the other factor (e.g., diet).\n",
    "</strong>"
   ]
  }
 ],
 "metadata": {
  "kernelspec": {
   "display_name": "R",
   "language": "R",
   "name": "ir"
  },
  "language_info": {
   "codemirror_mode": "r",
   "file_extension": ".r",
   "mimetype": "text/x-r-source",
   "name": "R",
   "pygments_lexer": "r",
   "version": "3.6.3"
  }
 },
 "nbformat": 4,
 "nbformat_minor": 4
}
