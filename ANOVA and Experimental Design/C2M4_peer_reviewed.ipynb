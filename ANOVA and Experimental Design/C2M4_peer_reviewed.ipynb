{
 "cells": [
  {
   "cell_type": "markdown",
   "metadata": {},
   "source": [
    "# C2M4: Peer Reviewed Assignment"
   ]
  },
  {
   "cell_type": "markdown",
   "metadata": {},
   "source": [
    "### Outline:\n",
    "The objectives for this assignment:\n",
    "\n",
    "1. Get a better understanding of Experimental design patterns.\n",
    "2. Prove some of the background intuition in blocking and interblock interactions.\n",
    "3. Understand how and when to apply different model strucutres for different experimental designs.\n",
    "\n",
    "General tips:\n",
    "\n",
    "1. Read the questions carefully to understand what is being asked.\n",
    "2. This work will be reviewed by another human, so make sure that you are clear and concise in what your explanations and answers."
   ]
  },
  {
   "cell_type": "markdown",
   "metadata": {},
   "source": [
    "# Problem 1: Experimental Design\n",
    "\n",
    "This problem is to get you thinking about how experiments are designed and how data is collected, because those influence what models we end up using."
   ]
  },
  {
   "cell_type": "markdown",
   "metadata": {},
   "source": [
    "### 1. (a)\n",
    "\n",
    "In your own words, define experimental design. Describe some negative effects of making an incorrect experimental design decision."
   ]
  },
  {
   "cell_type": "markdown",
   "metadata": {},
   "source": []
  },
  {
   "cell_type": "markdown",
   "metadata": {},
   "source": [
    "### 1. (b)\n",
    "\n",
    "In your own words, describe the difference between an experimental unit and a treatment unit. Why does this distinction matter?"
   ]
  },
  {
   "cell_type": "markdown",
   "metadata": {},
   "source": []
  },
  {
   "cell_type": "markdown",
   "metadata": {},
   "source": [
    "# Problem 2: Proving the Intuition\n",
    "\n",
    "Show that, for the randomized complete block design: $$SS_{total} = SS_{treat} + SS_{block} + SS_{R}$$"
   ]
  },
  {
   "cell_type": "markdown",
   "metadata": {},
   "source": []
  },
  {
   "cell_type": "markdown",
   "metadata": {},
   "source": [
    "# Problem 3: Interblock Interactions\n",
    "\n",
    "Describe why, in a randomized complete block design (RCBD), it is not possible to test whether interactions exist between the treatment and blocks."
   ]
  },
  {
   "cell_type": "markdown",
   "metadata": {},
   "source": []
  },
  {
   "cell_type": "markdown",
   "metadata": {},
   "source": [
    "# Problem 4: 99 Designs for 99 Problems\n",
    "\n",
    "For each of the following design patterns, give an example (that wasn't given in the videos) for an experiment that would best lend itself to the specified design pattern. Make sure to explain why the specified design is more applicable for your experiment than the other design patterns.\n",
    "\n",
    "1. Complete Randomized Design (CRD)\n",
    "2. Complete Randomized Block Design (CRBD)\n",
    "3. Factorial Design"
   ]
  },
  {
   "cell_type": "markdown",
   "metadata": {},
   "source": []
  }
 ],
 "metadata": {
  "kernelspec": {
   "display_name": "R",
   "language": "R",
   "name": "ir"
  },
  "language_info": {
   "codemirror_mode": "r",
   "file_extension": ".r",
   "mimetype": "text/x-r-source",
   "name": "R",
   "pygments_lexer": "r",
   "version": "3.6.3"
  }
 },
 "nbformat": 4,
 "nbformat_minor": 4
}
