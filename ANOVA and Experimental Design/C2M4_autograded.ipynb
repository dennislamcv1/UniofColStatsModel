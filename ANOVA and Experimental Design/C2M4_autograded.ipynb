{
 "cells": [
  {
   "cell_type": "markdown",
   "metadata": {
    "deletable": false,
    "editable": false,
    "nbgrader": {
     "cell_type": "markdown",
     "checksum": "5b49911371c515f77a252a945c99d59a",
     "grade": false,
     "grade_id": "cell-2a8b6e96f4404a65",
     "locked": true,
     "schema_version": 3,
     "solution": false,
     "task": false
    }
   },
   "source": [
    "# Module 4 - Autograded"
   ]
  },
  {
   "cell_type": "markdown",
   "metadata": {
    "ExecuteTime": {
     "end_time": "2020-12-12T17:56:56.835854Z",
     "start_time": "2020-12-12T17:56:56.779Z"
    },
    "deletable": false,
    "editable": false,
    "nbgrader": {
     "cell_type": "markdown",
     "checksum": "c9ec15aa7fa66cb38586e5d8fef3dbb3",
     "grade": false,
     "grade_id": "cell-56f78762732e7489",
     "locked": true,
     "schema_version": 3,
     "solution": false,
     "task": false
    }
   },
   "source": [
    "### Outline:\n",
    "**Here are the objectives of this assignment:**\n",
    "\n",
    "1.\n",
    "\n",
    "**Here are some general tips:**\n",
    "\n",
    "1. Read the questions carefully to understand what is being asked.\n",
    "2. When you feel that your work is completed, feel free to hit the ```Validate``` button to see your results on the *visible* unit tests. If you have questions about unit testing, please refer to the \"Module 0: Introduction\" notebook provided as an optional resource for this course. In this assignment, there are hidden unit tests that check your code. **Do not misinterpret the feedback from visible unit tests as all possible tests for a given question--write your code carefully!**\n",
    "3. Before submitting, we recommend restarting the kernel and running all the cells in order that they appear to make sure that there are no additional bugs in your code."
   ]
  },
  {
   "cell_type": "code",
   "execution_count": null,
   "metadata": {
    "deletable": false,
    "editable": false,
    "nbgrader": {
     "cell_type": "code",
     "checksum": "565314ed4f0fec4e0d506738392ffd82",
     "grade": false,
     "grade_id": "cell-c1a8ac513599a910",
     "locked": true,
     "schema_version": 3,
     "solution": false,
     "task": false
    }
   },
   "outputs": [],
   "source": [
    "# Load Required Libraries\n",
    "library(testthat)"
   ]
  },
  {
   "cell_type": "markdown",
   "metadata": {
    "deletable": false,
    "editable": false,
    "nbgrader": {
     "cell_type": "markdown",
     "checksum": "36f622c7a779d9d928f99f947f4e9fb0",
     "grade": false,
     "grade_id": "cell-1de351c6a8efb93d",
     "locked": true,
     "schema_version": 3,
     "solution": false,
     "task": false
    }
   },
   "source": [
    "# Problem 1\n",
    "\n",
    "This question is to get you thinking about different parts of each experiment. You will answer multiple choice questions about \n",
    "a hypothetical situation. For each question #, fill in the corresponding `prob.1.#` with the correct corresponding answer number. Consider a the following experiment:\n",
    "\n",
    "You want to evaluate the effects of water from different streams on fish lesions. You set up 2 sets of 3 aquaria (6 total), each with 50 fish. One set of 3 aquaria will have Red Fish, and the other set of 3 aquaria will have Blue fish. Other than the type of fish, the sets are identical. You randomly assign a water treatment (Stream A vs. Stream B vs. control) to each of the aquaria in each set. After 1 month, you catch 10 fish from each aquarium and count the number of lesions. "
   ]
  },
  {
   "cell_type": "markdown",
   "metadata": {
    "deletable": false,
    "editable": false,
    "nbgrader": {
     "cell_type": "markdown",
     "checksum": "c8b2e09d68ef5128a87eae8d78c0e4b9",
     "grade": false,
     "grade_id": "cell-03e0b482c2bcc3a8",
     "locked": true,
     "schema_version": 3,
     "solution": false,
     "task": false
    }
   },
   "source": [
    "### 1. (a) Experimental Unit\n",
    "\n",
    "In the above experiment, what is the experimental unit? \n",
    "\n",
    "1. A fish\n",
    "2. An aquarium\n",
    "3. The water used\n",
    "4. 10 fish\n",
    "5. None of the above"
   ]
  },
  {
   "cell_type": "code",
   "execution_count": null,
   "metadata": {
    "deletable": false,
    "nbgrader": {
     "cell_type": "code",
     "checksum": "af9809e7ead9ddac266919cb38f802ef",
     "grade": false,
     "grade_id": "cell-f15103191109770f",
     "locked": false,
     "schema_version": 3,
     "solution": true,
     "task": false
    }
   },
   "outputs": [],
   "source": [
    "prob.1.a = NA\n",
    "\n",
    "# your code here\n"
   ]
  },
  {
   "cell_type": "code",
   "execution_count": null,
   "metadata": {
    "deletable": false,
    "editable": false,
    "nbgrader": {
     "cell_type": "code",
     "checksum": "c7966305f9d2f65e4d074dd1e22e4d24",
     "grade": true,
     "grade_id": "cell-dd4a3a9f25bd891c",
     "locked": true,
     "points": 6,
     "schema_version": 3,
     "solution": false,
     "task": false
    }
   },
   "outputs": [],
   "source": [
    "# Test Cell\n",
    "if (!expect_is(prob.1.a, \"numeric\")){\n",
    "    print(\"Make sure your answers are numeric.\")\n",
    "}\n",
    "# This cell has hidden test cases that will run after submission."
   ]
  },
  {
   "cell_type": "markdown",
   "metadata": {
    "deletable": false,
    "editable": false,
    "nbgrader": {
     "cell_type": "markdown",
     "checksum": "bf606f9ab7a8d811289a39a821616b11",
     "grade": false,
     "grade_id": "cell-389a6004dd17fdd6",
     "locked": true,
     "schema_version": 3,
     "solution": false,
     "task": false
    }
   },
   "source": [
    "### 1. (b) Sample Unit\n",
    "\n",
    "What is the sample unit in the experiment?\n",
    "\n",
    "1. A fish\n",
    "2. An aquarium\n",
    "3. The water used\n",
    "4. 10 fish\n",
    "5. None of the above"
   ]
  },
  {
   "cell_type": "code",
   "execution_count": null,
   "metadata": {
    "deletable": false,
    "nbgrader": {
     "cell_type": "code",
     "checksum": "ddce6467eb7d0638cbc68e45ae58deaa",
     "grade": false,
     "grade_id": "cell-40921a3709de7e83",
     "locked": false,
     "schema_version": 3,
     "solution": true,
     "task": false
    }
   },
   "outputs": [],
   "source": [
    "prob.1.b = NA\n",
    "\n",
    "# your code here\n"
   ]
  },
  {
   "cell_type": "code",
   "execution_count": null,
   "metadata": {
    "deletable": false,
    "editable": false,
    "nbgrader": {
     "cell_type": "code",
     "checksum": "58082fc287385e92db140a230d3ac466",
     "grade": true,
     "grade_id": "cell-d99808b1bd5351fa",
     "locked": true,
     "points": 6,
     "schema_version": 3,
     "solution": false,
     "task": false
    }
   },
   "outputs": [],
   "source": [
    "# Test Cell\n",
    "# This cell has hidden test cases that will run after submission."
   ]
  },
  {
   "cell_type": "markdown",
   "metadata": {
    "deletable": false,
    "editable": false,
    "nbgrader": {
     "cell_type": "markdown",
     "checksum": "90ece95f502743a7daeff5344413c216",
     "grade": false,
     "grade_id": "cell-195a6c870848c7e7",
     "locked": true,
     "schema_version": 3,
     "solution": false,
     "task": false
    }
   },
   "source": [
    "### 1. (c) Replication\n",
    "\n",
    "How many times was this experiment replicated?\n",
    "\n",
    "1. 1 time\n",
    "2. 2 times\n",
    "3. 3 times\n",
    "4. 0 times.\n",
    "5. None of the above."
   ]
  },
  {
   "cell_type": "code",
   "execution_count": null,
   "metadata": {
    "deletable": false,
    "nbgrader": {
     "cell_type": "code",
     "checksum": "ddf67c4ad4f8d9f28561fc1ee8126d5d",
     "grade": false,
     "grade_id": "cell-63c02f42f52fcc26",
     "locked": false,
     "schema_version": 3,
     "solution": true,
     "task": false
    }
   },
   "outputs": [],
   "source": [
    "prob.1.c = NA\n",
    "\n",
    "# your code here\n"
   ]
  },
  {
   "cell_type": "code",
   "execution_count": null,
   "metadata": {
    "deletable": false,
    "editable": false,
    "nbgrader": {
     "cell_type": "code",
     "checksum": "c6a6f4cfce04056d9d3174a3364fd924",
     "grade": true,
     "grade_id": "cell-09dc10d0fa5504c1",
     "locked": true,
     "points": 6,
     "schema_version": 3,
     "solution": false,
     "task": false
    }
   },
   "outputs": [],
   "source": [
    "# Test Cell\n",
    "# This cell has hidden test cases that will run after submission."
   ]
  },
  {
   "cell_type": "markdown",
   "metadata": {
    "deletable": false,
    "editable": false,
    "nbgrader": {
     "cell_type": "markdown",
     "checksum": "b375a415d8cba03be1f255de550597cf",
     "grade": false,
     "grade_id": "cell-266c89ebb63135b3",
     "locked": true,
     "schema_version": 3,
     "solution": false,
     "task": false
    }
   },
   "source": [
    "### 1. (d) Experimental Design\n",
    "\n",
    "What kind of experiment is this?\n",
    "\n",
    "1. Completely Randomized Design\n",
    "2. Randomized Complete Block Design\n",
    "3. Factorial Design\n",
    "4. None of the above"
   ]
  },
  {
   "cell_type": "code",
   "execution_count": null,
   "metadata": {
    "deletable": false,
    "nbgrader": {
     "cell_type": "code",
     "checksum": "086be423745a445405b46ebe81cb0e99",
     "grade": false,
     "grade_id": "cell-f204cedae85da966",
     "locked": false,
     "schema_version": 3,
     "solution": true,
     "task": false
    }
   },
   "outputs": [],
   "source": [
    "prob.1.d = NA\n",
    "\n",
    "# your code here\n"
   ]
  },
  {
   "cell_type": "code",
   "execution_count": null,
   "metadata": {
    "deletable": false,
    "editable": false,
    "nbgrader": {
     "cell_type": "code",
     "checksum": "f01e18bd388625d4dd83196ddc94795e",
     "grade": true,
     "grade_id": "cell-c560ae97df56221c",
     "locked": true,
     "points": 6,
     "schema_version": 3,
     "solution": false,
     "task": false
    }
   },
   "outputs": [],
   "source": [
    "# Test Cell\n",
    "# This cell has hidden test cases that will run after submission."
   ]
  },
  {
   "cell_type": "markdown",
   "metadata": {
    "deletable": false,
    "editable": false,
    "nbgrader": {
     "cell_type": "markdown",
     "checksum": "48c1ab5dc3c8855257fb1631c8ccb43a",
     "grade": false,
     "grade_id": "cell-81c972bb4b03673f",
     "locked": true,
     "schema_version": 3,
     "solution": false,
     "task": false
    }
   },
   "source": [
    "# Problem 2\n",
    "\n",
    "In the 1800's, some physicists proposed that all electromagnetic and graviational forces required a \"medium\" for the forces to be applied through. This medium was called \"the aether\" and filled all space. The Michelson-Morley experiment was one of the first experiments that aimed to test this theory. In the experiment, the scientists measured the speed of light shown in perpendicular directions, one in the direction of the aether and one against the aether. We can can use their data, along with our new understanding of blocking, to determine if there actually is an aether!\n",
    "\n",
    "The data from that experiment is loading in below. Information about this dataset can be found [here](https://www.rdocumentation.org/packages/datasets/versions/3.6.2/topics/morley)."
   ]
  },
  {
   "cell_type": "code",
   "execution_count": null,
   "metadata": {
    "deletable": false,
    "editable": false,
    "nbgrader": {
     "cell_type": "code",
     "checksum": "64b31d625b16b389493c6244a966ffe4",
     "grade": false,
     "grade_id": "cell-127eb392df420f0e",
     "locked": true,
     "schema_version": 3,
     "solution": false,
     "task": false
    }
   },
   "outputs": [],
   "source": [
    "# Load in and clean the data\n",
    "data(morley)\n",
    "head(morley)\n",
    "\n",
    "morley$Expt = as.factor(morley$Expt)\n",
    "morley$Run = as.factor(morley$Run)"
   ]
  },
  {
   "cell_type": "markdown",
   "metadata": {
    "deletable": false,
    "editable": false,
    "nbgrader": {
     "cell_type": "markdown",
     "checksum": "b4f22f33214e4de39af2134e1cf06edd",
     "grade": false,
     "grade_id": "cell-bb121c5833bb5c93",
     "locked": true,
     "schema_version": 3,
     "solution": false,
     "task": false
    }
   },
   "source": [
    "### 2. (a) Testing Aether Thoery\n",
    "\n",
    "The Michelson-Morley data can be viewed as a randomized block experiment with `Run` as the treatment factor and `Expt` as the blocking factor. Model this relationship and store your model as `morley.lmod`.\n",
    "\n",
    "Determine if there is a difference between the speed of light among different runs. Save your answer in `is.different`, being `TRUE` if there is a noticable difference among runs and `FALSE` if there is not."
   ]
  },
  {
   "cell_type": "code",
   "execution_count": null,
   "metadata": {
    "ExecuteTime": {
     "end_time": "2020-04-14T15:14:23.373017Z",
     "start_time": "2020-04-14T15:14:21.935Z"
    },
    "deletable": false,
    "nbgrader": {
     "cell_type": "code",
     "checksum": "f9ad6446ad1c1125d1782c6e5f9ee8b7",
     "grade": false,
     "grade_id": "cell-f7a501edbd633e3d",
     "locked": false,
     "schema_version": 3,
     "solution": true,
     "task": false
    }
   },
   "outputs": [],
   "source": [
    "morley.lmod = NA\n",
    "is.different = NA\n",
    "\n",
    "# your code here\n"
   ]
  },
  {
   "cell_type": "code",
   "execution_count": null,
   "metadata": {
    "ExecuteTime": {
     "end_time": "2020-04-14T15:14:23.374590Z",
     "start_time": "2020-04-14T15:14:21.938Z"
    },
    "deletable": false,
    "editable": false,
    "nbgrader": {
     "cell_type": "code",
     "checksum": "3e46611b1397f58ddb4a6305f8fce796",
     "grade": true,
     "grade_id": "cell-4c55324751eb7fbd",
     "locked": true,
     "points": 10,
     "schema_version": 3,
     "solution": false,
     "task": false
    }
   },
   "outputs": [],
   "source": [
    "# Test Cell\n",
    "# This cell has hidden test cases that will run after submission."
   ]
  },
  {
   "cell_type": "markdown",
   "metadata": {
    "deletable": false,
    "editable": false,
    "nbgrader": {
     "cell_type": "markdown",
     "checksum": "c2133af17908e37f0f062d5022bbe42e",
     "grade": false,
     "grade_id": "cell-060b16ea7683360c",
     "locked": true,
     "schema_version": 3,
     "solution": false,
     "task": false
    }
   },
   "source": [
    "### 2. (b) Relative Efficiency\n",
    "\n",
    "Relative efficiency is defined as:\n",
    "\n",
    "$$e = \\widehat\\sigma^2_{CRD}\\bigg/\\widehat\\sigma^2_{RCBD}$$\n",
    "\n",
    "This value tells us how many more observations we would need for a CRD to obtain the same level of precision as a RCBD. For example, if $e = 1.66$, then a CRD would require 66% more observations to obtain the same level of precision as an RCBD. \n",
    "\n",
    "Calculate the the relative efficiency for your model. Store your answer in a variable called e."
   ]
  },
  {
   "cell_type": "code",
   "execution_count": null,
   "metadata": {
    "ExecuteTime": {
     "end_time": "2020-04-19T20:41:21.083353Z",
     "start_time": "2020-04-19T20:41:21.072Z"
    },
    "deletable": false,
    "nbgrader": {
     "cell_type": "code",
     "checksum": "37a836a7e067c3f385c74691b8d96907",
     "grade": false,
     "grade_id": "cell-5296593a1f356ecc",
     "locked": false,
     "schema_version": 3,
     "solution": true,
     "task": false
    }
   },
   "outputs": [],
   "source": [
    "e = NA\n",
    "\n",
    "# your code here\n"
   ]
  },
  {
   "cell_type": "code",
   "execution_count": null,
   "metadata": {
    "ExecuteTime": {
     "end_time": "2020-04-14T15:14:23.378504Z",
     "start_time": "2020-04-14T15:14:21.942Z"
    },
    "deletable": false,
    "editable": false,
    "nbgrader": {
     "cell_type": "code",
     "checksum": "9eeff94c11d75947bded92cd70abd76c",
     "grade": true,
     "grade_id": "cell-49c84582e48002f3",
     "locked": true,
     "points": 10,
     "schema_version": 3,
     "solution": false,
     "task": false
    }
   },
   "outputs": [],
   "source": [
    "# Test Cell\n",
    "# This cell has hidden test cases that will run after submission."
   ]
  }
 ],
 "metadata": {
  "kernelspec": {
   "display_name": "R",
   "language": "R",
   "name": "ir"
  },
  "language_info": {
   "codemirror_mode": "r",
   "file_extension": ".r",
   "mimetype": "text/x-r-source",
   "name": "R",
   "pygments_lexer": "r",
   "version": "3.6.3"
  }
 },
 "nbformat": 4,
 "nbformat_minor": 2
}
