{
 "cells": [
  {
   "cell_type": "markdown",
   "metadata": {},
   "source": [
    "# C2M2: Peer Reviewed Assignment"
   ]
  },
  {
   "cell_type": "markdown",
   "metadata": {},
   "source": [
    "### Outline:\n",
    "The objectives for this assignment:\n",
    "\n",
    "1. Utilize contrasts to see how different pairwise comparison tests can be conducted.\n",
    "2. Understand power and why it's important to statistical conclusions.\n",
    "3. Understand the different kinds of post-hoc tests and when they should be used.\n",
    "\n",
    "General tips:\n",
    "\n",
    "1. Read the questions carefully to understand what is being asked.\n",
    "2. This work will be reviewed by another human, so make sure that you are clear and concise in what your explanations and answers."
   ]
  },
  {
   "cell_type": "markdown",
   "metadata": {},
   "source": [
    "# Problem 1: Contrasts and Coupons\n",
    "\n",
    "Consider a hardness testing machine that presses a rod with a pointed tip into a metal specimen with a known force. By measuring the depth of the depression caused by the tip, the hardness of the specimen is determined.\n",
    "\n",
    "Suppose we wish to determine whether or not four different tips produce different readings on a hardness testing machine. The experimenter has decided to obtain four observations on Rockwell C-scale hardness for each tip. There is only one factor - tip type - and a completely randomized single-factor design would consist of randomly assigning each one of the  4×4=16  runs to an experimental unit, that is, a metal coupon, and observing the hardness reading that results. Thus, 16 different metal test coupons would be required in this experiment, one for each run in the design."
   ]
  },
  {
   "cell_type": "code",
   "execution_count": 1,
   "metadata": {},
   "outputs": [
    {
     "data": {
      "text/html": [
       "<table>\n",
       "<caption>A data.frame: 16 × 3</caption>\n",
       "<thead>\n",
       "\t<tr><th scope=col>y</th><th scope=col>tip</th><th scope=col>coupon</th></tr>\n",
       "\t<tr><th scope=col>&lt;dbl&gt;</th><th scope=col>&lt;fct&gt;</th><th scope=col>&lt;fct&gt;</th></tr>\n",
       "</thead>\n",
       "<tbody>\n",
       "\t<tr><td> 9.3</td><td>1</td><td>1</td></tr>\n",
       "\t<tr><td> 9.4</td><td>1</td><td>2</td></tr>\n",
       "\t<tr><td> 9.6</td><td>1</td><td>3</td></tr>\n",
       "\t<tr><td>10.0</td><td>1</td><td>4</td></tr>\n",
       "\t<tr><td> 9.4</td><td>2</td><td>1</td></tr>\n",
       "\t<tr><td> 9.3</td><td>2</td><td>2</td></tr>\n",
       "\t<tr><td> 9.8</td><td>2</td><td>3</td></tr>\n",
       "\t<tr><td> 9.9</td><td>2</td><td>4</td></tr>\n",
       "\t<tr><td> 9.2</td><td>3</td><td>1</td></tr>\n",
       "\t<tr><td> 9.4</td><td>3</td><td>2</td></tr>\n",
       "\t<tr><td> 9.5</td><td>3</td><td>3</td></tr>\n",
       "\t<tr><td> 9.7</td><td>3</td><td>4</td></tr>\n",
       "\t<tr><td> 9.7</td><td>4</td><td>1</td></tr>\n",
       "\t<tr><td> 9.6</td><td>4</td><td>2</td></tr>\n",
       "\t<tr><td>10.0</td><td>4</td><td>3</td></tr>\n",
       "\t<tr><td>10.2</td><td>4</td><td>4</td></tr>\n",
       "</tbody>\n",
       "</table>\n"
      ],
      "text/latex": [
       "A data.frame: 16 × 3\n",
       "\\begin{tabular}{lll}\n",
       " y & tip & coupon\\\\\n",
       " <dbl> & <fct> & <fct>\\\\\n",
       "\\hline\n",
       "\t  9.3 & 1 & 1\\\\\n",
       "\t  9.4 & 1 & 2\\\\\n",
       "\t  9.6 & 1 & 3\\\\\n",
       "\t 10.0 & 1 & 4\\\\\n",
       "\t  9.4 & 2 & 1\\\\\n",
       "\t  9.3 & 2 & 2\\\\\n",
       "\t  9.8 & 2 & 3\\\\\n",
       "\t  9.9 & 2 & 4\\\\\n",
       "\t  9.2 & 3 & 1\\\\\n",
       "\t  9.4 & 3 & 2\\\\\n",
       "\t  9.5 & 3 & 3\\\\\n",
       "\t  9.7 & 3 & 4\\\\\n",
       "\t  9.7 & 4 & 1\\\\\n",
       "\t  9.6 & 4 & 2\\\\\n",
       "\t 10.0 & 4 & 3\\\\\n",
       "\t 10.2 & 4 & 4\\\\\n",
       "\\end{tabular}\n"
      ],
      "text/markdown": [
       "\n",
       "A data.frame: 16 × 3\n",
       "\n",
       "| y &lt;dbl&gt; | tip &lt;fct&gt; | coupon &lt;fct&gt; |\n",
       "|---|---|---|\n",
       "|  9.3 | 1 | 1 |\n",
       "|  9.4 | 1 | 2 |\n",
       "|  9.6 | 1 | 3 |\n",
       "| 10.0 | 1 | 4 |\n",
       "|  9.4 | 2 | 1 |\n",
       "|  9.3 | 2 | 2 |\n",
       "|  9.8 | 2 | 3 |\n",
       "|  9.9 | 2 | 4 |\n",
       "|  9.2 | 3 | 1 |\n",
       "|  9.4 | 3 | 2 |\n",
       "|  9.5 | 3 | 3 |\n",
       "|  9.7 | 3 | 4 |\n",
       "|  9.7 | 4 | 1 |\n",
       "|  9.6 | 4 | 2 |\n",
       "| 10.0 | 4 | 3 |\n",
       "| 10.2 | 4 | 4 |\n",
       "\n"
      ],
      "text/plain": [
       "   y    tip coupon\n",
       "1   9.3 1   1     \n",
       "2   9.4 1   2     \n",
       "3   9.6 1   3     \n",
       "4  10.0 1   4     \n",
       "5   9.4 2   1     \n",
       "6   9.3 2   2     \n",
       "7   9.8 2   3     \n",
       "8   9.9 2   4     \n",
       "9   9.2 3   1     \n",
       "10  9.4 3   2     \n",
       "11  9.5 3   3     \n",
       "12  9.7 3   4     \n",
       "13  9.7 4   1     \n",
       "14  9.6 4   2     \n",
       "15 10.0 4   3     \n",
       "16 10.2 4   4     "
      ]
     },
     "metadata": {},
     "output_type": "display_data"
    }
   ],
   "source": [
    "tip    <- factor(rep(1:4, each = 4))\n",
    "coupon <- factor(rep(1:4, times = 4))\n",
    "y <- c(9.3, 9.4, 9.6, 10,\n",
    "       9.4, 9.3, 9.8, 9.9,\n",
    "       9.2, 9.4, 9.5, 9.7,\n",
    "       9.7, 9.6, 10, 10.2)\n",
    "hardness <- data.frame(y, tip, coupon)\n",
    "hardness"
   ]
  },
  {
   "cell_type": "markdown",
   "metadata": {},
   "source": [
    "### 1. (a) Visualize the Groups\n",
    "\n",
    "Before we start throwing math at anything, let's visualize our data to get an idea of what to expect from the eventual results.\n",
    "\n",
    "Construct interaction plots for `tip` and `coupon` using ggplot(). Be sure to explain what you can from the plots."
   ]
  },
  {
   "cell_type": "code",
   "execution_count": 2,
   "metadata": {},
   "outputs": [
    {
     "data": {
      "image/png": "[encoded data removed]",
      "text/plain": [
       "plot without title"
      ]
     },
     "metadata": {
      "image/png": {
       "height": 420,
       "width": 420
      },
      "text/plain": {
       "height": 420,
       "width": 420
      }
     },
     "output_type": "display_data"
    }
   ],
   "source": [
    "# Load necessary libraries\n",
    "library(ggplot2)\n",
    "\n",
    "# Interaction plot\n",
    "ggplot(hardness, aes(x = tip, y = y, color = coupon, group = coupon)) +\n",
    "  geom_line() +\n",
    "  geom_point() +\n",
    "  labs(title = \"Interaction Plot of Tip and Coupon\",\n",
    "       x = \"Tip\",\n",
    "       y = \"Hardness Reading\") +\n",
    "  theme_minimal()"
   ]
  },
  {
   "cell_type": "markdown",
   "metadata": {},
   "source": [
    "The interaction plot of Tip and Coupon is displayed above. Here's an interpretation:\n",
    "\n",
    "- Interaction Lines: Each line represents the hardness readings for a specific coupon across different tips.\n",
    "- Non-parallel Lines: The non-parallel nature of the lines suggests that there might be an interaction effect between the tip and coupon. If the lines were parallel, it would indicate no interaction.\n",
    "\n",
    "In this plot, it is observed that the hardness readings for each coupon change differently across the different tips. For example:\n",
    "\n",
    "- Coupon 4 (purple line) shows a significant increase in hardness from Tip 1 to Tip 4.\n",
    "- Coupon 3 (cyan line) shows a decrease from Tip 2 to Tip 3 and then an increase to Tip 4.\n",
    "- Coupon 1 and 2 show less variation compared to Coupons 3 and 4.\n",
    "\n",
    "This suggests that the effect of the tip on hardness might depend on which coupon is used, indicating a potential interaction."
   ]
  },
  {
   "cell_type": "markdown",
   "metadata": {},
   "source": [
    "### 1. (b) Interactions\n",
    "\n",
    "Should we test for interactions between `tip` and `coupon`? Maybe there is an interaction between the different metals that goes beyond our current scientific understanding!\n",
    "\n",
    "Fit a linear model to the data with predictors `tip` and `coupon`, and an interaction between the two. Display the summary and explain why (or why not) an interaction term makes sense for this data."
   ]
  },
  {
   "cell_type": "code",
   "execution_count": 3,
   "metadata": {},
   "outputs": [
    {
     "data": {
      "text/plain": [
       "\n",
       "Call:\n",
       "lm(formula = y ~ tip * coupon, data = hardness)\n",
       "\n",
       "Residuals:\n",
       "ALL 16 residuals are 0: no residual degrees of freedom!\n",
       "\n",
       "Coefficients:\n",
       "               Estimate Std. Error t value Pr(>|t|)\n",
       "(Intercept)   9.300e+00         NA      NA       NA\n",
       "tip2          1.000e-01         NA      NA       NA\n",
       "tip3         -1.000e-01         NA      NA       NA\n",
       "tip4          4.000e-01         NA      NA       NA\n",
       "coupon2       1.000e-01         NA      NA       NA\n",
       "coupon3       3.000e-01         NA      NA       NA\n",
       "coupon4       7.000e-01         NA      NA       NA\n",
       "tip2:coupon2 -2.000e-01         NA      NA       NA\n",
       "tip3:coupon2  1.000e-01         NA      NA       NA\n",
       "tip4:coupon2 -2.000e-01         NA      NA       NA\n",
       "tip2:coupon3  1.000e-01         NA      NA       NA\n",
       "tip3:coupon3 -3.758e-15         NA      NA       NA\n",
       "tip4:coupon3 -3.869e-15         NA      NA       NA\n",
       "tip2:coupon4 -2.000e-01         NA      NA       NA\n",
       "tip3:coupon4 -2.000e-01         NA      NA       NA\n",
       "tip4:coupon4 -2.000e-01         NA      NA       NA\n",
       "\n",
       "Residual standard error: NaN on 0 degrees of freedom\n",
       "Multiple R-squared:      1,\tAdjusted R-squared:    NaN \n",
       "F-statistic:   NaN on 15 and 0 DF,  p-value: NA\n"
      ]
     },
     "metadata": {},
     "output_type": "display_data"
    }
   ],
   "source": [
    "# Fit linear model with interaction\n",
    "lmod_interaction <- lm(y ~ tip * coupon, data = hardness)\n",
    "summary(lmod_interaction)\n"
   ]
  },
  {
   "cell_type": "markdown",
   "metadata": {},
   "source": [
    "Interpretation\n",
    "\n",
    "- **Perfect Fit**: The model has perfectly fitted the data, which is suspicious because real-world data almost never results in a perfect fit. This suggests that the model might be overfitted, especially given the limited number of observations (16 observations with a complex model).\n",
    "\n",
    "- **Interaction Terms**: Despite the apparent perfect fit, the lack of standard errors and p-values prevents us from determining the statistical significance of the interaction terms.\n",
    "\n",
    "- **Practical Significance**: Given the non-parallel lines observed in the interaction plot, there could be a potential interaction between tip and coupon. However, due to the limitations in the model summary (i.e., NA values for standard errors and p-values), we cannot conclusively determine the statistical significance of these interactions."
   ]
  },
  {
   "cell_type": "markdown",
   "metadata": {},
   "source": [
    "### 1. (c) Contrasts\n",
    "\n",
    "Let's take a look at the use of contrasts. Recall that a contrast takes the form \n",
    "\n",
    "$$\\sum_{i=1}^t c_i\\mu_i = 0,$$\n",
    "\n",
    "where $\\mathbf{c} = (c_1,...,c_t)$ is a constant vector and $\\mathbf{\\mu} = (\\mu_1,...,\\mu_t)$ is a parameter vector (e.g., $\\mu_1$ is the mean of the $i^{th}$ group). \n",
    "\n",
    "We can note that $\\mathbf{c} = (1,-1,0,0)$ corresponds to the null hypothesis $H_0: \\mu_2 - \\mu_1 = 0$, where $\\mu_1$ is the mean associated with tip1 and $\\mu_2$ is the mean associated with tip2. The code below tests this hypothesis. \n",
    "\n",
    "Repeat this test for the hypothesis $H_0: \\mu_4 - \\mu_3 = 0$. Interpret the results. What are your conclusions?"
   ]
  },
  {
   "cell_type": "code",
   "execution_count": 4,
   "metadata": {},
   "outputs": [
    {
     "name": "stderr",
     "output_type": "stream",
     "text": [
      "Loading required package: mvtnorm\n",
      "\n",
      "Loading required package: survival\n",
      "\n",
      "Loading required package: TH.data\n",
      "\n",
      "Loading required package: MASS\n",
      "\n",
      "\n",
      "Attaching package: ‘TH.data’\n",
      "\n",
      "\n",
      "The following object is masked from ‘package:MASS’:\n",
      "\n",
      "    geyser\n",
      "\n",
      "\n"
     ]
    },
    {
     "data": {
      "text/html": [
       "0.0250000000000021"
      ],
      "text/latex": [
       "0.0250000000000021"
      ],
      "text/markdown": [
       "0.0250000000000021"
      ],
      "text/plain": [
       "[1] 0.025"
      ]
     },
     "metadata": {},
     "output_type": "display_data"
    }
   ],
   "source": [
    "library(multcomp)\n",
    "lmod = lm(y~tip+coupon, data=hardness)\n",
    "fit.gh2 = glht(lmod, linfctb = mcp(tip = c(1,-1,0,0)))\n",
    "\n",
    "#estimate of mu_2 - mu_1\n",
    "with(hardness, sum(y[tip == 2])/length(y[tip == 2]) - \n",
    "     sum(y[tip == 1])/length(y[tip == 1])) "
   ]
  },
  {
   "cell_type": "code",
   "execution_count": 5,
   "metadata": {},
   "outputs": [
    {
     "data": {
      "text/plain": [
       "\n",
       "\t Simultaneous Tests for General Linear Hypotheses\n",
       "\n",
       "Multiple Comparisons of Means: User-defined Contrasts\n",
       "\n",
       "\n",
       "Fit: lm(formula = y ~ tip + coupon, data = hardness)\n",
       "\n",
       "Linear Hypotheses:\n",
       "               Estimate Std. Error t value Pr(>|t|)    \n",
       "mu4 - mu3 == 0  0.42500    0.06667   6.375 0.000129 ***\n",
       "---\n",
       "Signif. codes:  0 ‘***’ 0.001 ‘**’ 0.01 ‘*’ 0.05 ‘.’ 0.1 ‘ ’ 1\n",
       "(Adjusted p values reported -- single-step method)\n"
      ]
     },
     "metadata": {},
     "output_type": "display_data"
    },
    {
     "data": {
      "text/html": [
       "0.425000000000001"
      ],
      "text/latex": [
       "0.425000000000001"
      ],
      "text/markdown": [
       "0.425000000000001"
      ],
      "text/plain": [
       "[1] 0.425"
      ]
     },
     "metadata": {},
     "output_type": "display_data"
    }
   ],
   "source": [
    "# Load necessary library\n",
    "library(multcomp)\n",
    "\n",
    "# Fit linear model without interaction\n",
    "lmod <- lm(y ~ tip + coupon, data = hardness)\n",
    "\n",
    "# Test for the hypothesis H0: mu4 - mu3 = 0\n",
    "contrast_matrix <- rbind(\"mu4 - mu3\" = c(0, 0, -1, 1))\n",
    "fit.gh2 <- glht(lmod, linfct = mcp(tip = contrast_matrix))\n",
    "summary(fit.gh2)\n",
    "\n",
    "# Estimate of mu4 - mu3\n",
    "estimate_mu4_mu3 <- with(hardness, mean(y[tip == 4]) - mean(y[tip == 3]))\n",
    "estimate_mu4_mu3\n",
    "\n"
   ]
  },
  {
   "cell_type": "markdown",
   "metadata": {},
   "source": [
    "The significant difference between tips 3 and 4 suggests that the choice of tip does impact the hardness readings significantly for these specific tips. The lack of a significant difference between tips 1 and 2 suggests that these tips produce similar hardness readings. This information can be useful for understanding which tips might be more consistent or suitable for specific measurements."
   ]
  },
  {
   "cell_type": "markdown",
   "metadata": {},
   "source": [
    "### 1. (d) All Pairwise Comparisons\n",
    "\n",
    "What if we want to test all possible pairwise comparisons between treatments. This can be done by setting the treatment factor (`tip`) to \"Tukey\". Notice that the p-values are adjusted (because we are conducting multiple hypotheses!).\n",
    "\n",
    "Perform all possible Tukey Pairwise tests. What are your conclusions?"
   ]
  },
  {
   "cell_type": "code",
   "execution_count": 6,
   "metadata": {},
   "outputs": [],
   "source": [
    "anova_model <- aov(y ~ tip + coupon, data = hardness)"
   ]
  },
  {
   "cell_type": "code",
   "execution_count": 7,
   "metadata": {},
   "outputs": [],
   "source": [
    "tukey_result <- TukeyHSD(anova_model)"
   ]
  },
  {
   "cell_type": "code",
   "execution_count": 8,
   "metadata": {},
   "outputs": [
    {
     "name": "stdout",
     "output_type": "stream",
     "text": [
      "  Tukey multiple comparisons of means\n",
      "    95% family-wise confidence level\n",
      "\n",
      "Fit: aov(formula = y ~ tip + coupon, data = hardness)\n",
      "\n",
      "$tip\n",
      "      diff         lwr        upr     p adj\n",
      "2-1  0.025 -0.18311992 0.23311992 0.9809005\n",
      "3-1 -0.125 -0.33311992 0.08311992 0.3027563\n",
      "4-1  0.300  0.09188008 0.50811992 0.0066583\n",
      "3-2 -0.150 -0.35811992 0.05811992 0.1815907\n",
      "4-2  0.275  0.06688008 0.48311992 0.0113284\n",
      "4-3  0.425  0.21688008 0.63311992 0.0006061\n",
      "\n",
      "$coupon\n",
      "     diff         lwr       upr     p adj\n",
      "2-1 0.025 -0.18311992 0.2331199 0.9809005\n",
      "3-1 0.325  0.11688008 0.5331199 0.0039797\n",
      "4-1 0.550  0.34188008 0.7581199 0.0000830\n",
      "3-2 0.300  0.09188008 0.5081199 0.0066583\n",
      "4-2 0.525  0.31688008 0.7331199 0.0001200\n",
      "4-3 0.225  0.01688008 0.4331199 0.0341762\n",
      "\n"
     ]
    }
   ],
   "source": [
    "print(tukey_result)"
   ]
  },
  {
   "cell_type": "markdown",
   "metadata": {},
   "source": [
    "Based on the Tukey multiple comparisons of means at a 95% family-wise confidence level for your `hardness` dataset, here are the conclusions:\n",
    "\n",
    "### Comparison by `tip` (Treatment Levels):\n",
    "\n",
    "- **2 vs 1**: The difference in means (`diff`) is 0.025, with a confidence interval (`lwr` to `upr`) ranging from -0.183 to 0.233. The adjusted p-value (`p adj`) is 0.9809, indicating no significant difference between these two groups.\n",
    "  \n",
    "- **3 vs 1**: The difference is -0.125, with a confidence interval from -0.333 to 0.083. The adjusted p-value is 0.3028, indicating no significant difference.\n",
    "  \n",
    "- **4 vs 1**: The difference is 0.300, with a confidence interval from 0.092 to 0.508. The adjusted p-value is 0.0067, indicating a significant difference.\n",
    "  \n",
    "- **3 vs 2**: The difference is -0.150, with a confidence interval from -0.358 to 0.058. The adjusted p-value is 0.1816, indicating no significant difference.\n",
    "  \n",
    "- **4 vs 2**: The difference is 0.275, with a confidence interval from 0.067 to 0.483. The adjusted p-value is 0.0113, indicating a significant difference.\n",
    "  \n",
    "- **4 vs 3**: The difference is 0.425, with a confidence interval from 0.217 to 0.633. The adjusted p-value is 0.0006, indicating a significant difference.\n",
    "\n",
    "### Comparison by `coupon`:\n",
    "\n",
    "- **2 vs 1**: The difference is 0.025, with a confidence interval from -0.183 to 0.233. The adjusted p-value is 0.9809, indicating no significant difference.\n",
    "  \n",
    "- **3 vs 1**: The difference is 0.325, with a confidence interval from 0.117 to 0.533. The adjusted p-value is 0.0040, indicating a significant difference.\n",
    "  \n",
    "- **4 vs 1**: The difference is 0.550, with a confidence interval from 0.342 to 0.758. The adjusted p-value is 0.0001, indicating a significant difference.\n",
    "  \n",
    "- **3 vs 2**: The difference is 0.300, with a confidence interval from 0.092 to 0.508. The adjusted p-value is 0.0067, indicating a significant difference.\n",
    "  \n",
    "- **4 vs 2**: The difference is 0.525, with a confidence interval from 0.317 to 0.733. The adjusted p-value is 0.0001, indicating a significant difference.\n",
    "  \n",
    "- **4 vs 3**: The difference is 0.225, with a confidence interval from 0.017 to 0.433. The adjusted p-value is 0.0342, indicating a significant difference.\n",
    "\n",
    "### Summary:\n",
    "\n",
    "- **Treatment (`tip`)**: Significant differences exist between levels 1 and 4, levels 2 and 4, and levels 3 and 4. No significant differences were found between levels 1 and 2, levels 1 and 3, and levels 2 and 3.\n",
    "  \n",
    "- **Coupon (`coupon`)**: Significant differences exist between levels 1 and 3, levels 1 and 4, levels 2 and 4, and levels 3 and 4. No significant difference was found between levels 1 and 2, and levels 2 and 3.\n",
    "\n",
    "These conclusions help identify which specific treatment groups or coupon types significantly differ from each other in terms of their mean responses (`y`) in your dataset. If you have any further questions or need more detailed analysis, feel free to ask!"
   ]
  },
  {
   "cell_type": "markdown",
   "metadata": {},
   "source": [
    "# Problem 2: Ethics in my Math Class!\n",
    "\n",
    "In your own words, answer the following questions:\n",
    "\n",
    "* What is power, in the statistical context?\n",
    "* Why is power important?\n",
    "* What are potential consequences of ignoring/not including power calculations in statistical analyses?"
   ]
  },
  {
   "cell_type": "markdown",
   "metadata": {},
   "source": [
    "### What is power, in the statistical context?\n",
    "\n",
    "**Power** in the statistical context refers to the probability that a statistical test will correctly reject the null hypothesis when the alternative hypothesis is true. In simpler terms, it is the likelihood of finding a statistically significant result when a true effect exists in the population. Mathematically, power is calculated as \\( 1 - \\beta \\), where \\( \\beta \\) (beta) is the probability of a Type II error, which is failing to reject the null hypothesis when it is actually false.\n",
    "\n",
    "### Why is power important?\n",
    "\n",
    "Power is crucial because it determines the ability of a study to detect a true effect if it exists. A study with low power increases the likelihood of a Type II error, meaning it might fail to identify an effect that is genuinely present. This can lead to misleading conclusions and wasted resources.\n",
    "\n",
    "### What are potential consequences of ignoring/not including power calculations in statistical analyses?\n",
    "\n",
    "Ignoring or not including power calculations in statistical analyses can have several consequences:\n",
    "\n",
    "1. **Increased Type II Errors**: Studies with low power are more likely to fail to detect real effects, leading to false conclusions of non-significance when there is a true effect in the population.\n",
    "\n",
    "2. **Wasted Resources**: Conducting studies with insufficient power means investing resources (time, money, effort) into research that may not yield meaningful or interpretable results.\n",
    "\n",
    "3. **Reduced Reproducibility**: Studies with low power are less likely to produce consistent results upon replication, contributing to issues with reproducibility in scientific research.\n",
    "\n",
    "4. **Ethical Concerns**: Low-powered studies may lead to unjustified conclusions or ineffective policies based on incomplete or misleading data, which can have ethical implications if decisions affect individuals or communities.\n",
    "\n",
    "5. **Impact on Scientific Progress**: Inadequate power can slow down scientific progress by hindering the accumulation of reliable evidence and preventing the advancement of knowledge in a field.\n",
    "\n",
    "In summary, considering power in statistical analyses is essential for ensuring the reliability and validity of research findings, minimizing errors, and making informed decisions based on robust evidence."
   ]
  },
  {
   "cell_type": "markdown",
   "metadata": {},
   "source": [
    "# Problem 3: Post-Hoc Tests\n",
    "\n",
    "There's so many different post-hoc tests! Let's try to understand them better. Answer the following questsions in the markdown cell:\n",
    "\n",
    "* Why are there multiple post-hoc tests?\n",
    "* When would we choose to use Tukey's Method over the Bonferroni correction, and vice versa?\n",
    "* Do some outside research on other post-hoc tests. Explain what the method is and when it would be used."
   ]
  },
  {
   "cell_type": "markdown",
   "metadata": {},
   "source": [
    "### Why are there multiple post-hoc tests?\n",
    "\n",
    "Multiple post-hoc tests exist because different tests are designed to address different aspects of the comparison problem after conducting an analysis of variance (ANOVA) or a similar test. These tests vary in terms of their assumptions, stringency in controlling Type I error rates, and sensitivity to different types of differences among groups. Researchers select post-hoc tests based on the specific characteristics of their data and the hypotheses they wish to test.\n",
    "\n",
    "### When would we choose to use Tukey's Method over the Bonferroni correction, and vice versa?\n",
    "\n",
    "- **Tukey's Method**: Tukey's Honestly Significant Difference (HSD) test is preferred when the primary concern is to compare all possible pairs of group means while controlling the overall Type I error rate. It is conservative and maintains a good balance between Type I and Type II error rates. Tukey's method is suitable when you have a moderate number of groups (3 or more) and want to conduct comprehensive pairwise comparisons.\n",
    "\n",
    "- **Bonferroni Correction**: The Bonferroni correction is more conservative than Tukey's method and is used when you want to control the family-wise error rate (FWER) across multiple comparisons. It adjusts the significance level for each individual comparison to maintain an overall alpha level. Bonferroni correction is appropriate when performing a large number of pairwise comparisons or when the assumptions of Tukey's method are not met (e.g., unequal variances).\n",
    "\n",
    "### Other Post-hoc Tests\n",
    "\n",
    "#### Scheffé's Method:\n",
    "- **Method**: Scheffé's method is a conservative post-hoc test that controls the family-wise error rate. It involves computing simultaneous confidence intervals for all pairwise comparisons. This method is very robust and can be used with any number of comparisons and any type of experimental design.\n",
    "- **When to use**: Scheffé's method is typically used when you have unequal sample sizes or variances across groups, and when you need to control the overall Type I error rate at a stricter level.\n",
    "\n",
    "#### Dunnett's Test:\n",
    "- **Method**: Dunnett's test compares each treatment group mean with a control group mean (or a reference group) rather than all pairwise comparisons. It adjusts for multiple comparisons using a single control group.\n",
    "- **When to use**: Dunnett's test is suitable when you have a control group and want to compare multiple treatment groups against this control while controlling the overall Type I error rate. It is commonly used in clinical trials or experiments where a baseline or standard treatment exists.\n",
    "\n",
    "#### Games-Howell Test:\n",
    "- **Method**: The Games-Howell test is a non-parametric post-hoc test that does not assume equal variances across groups. It compares all possible pairwise differences in means, adjusting for multiple comparisons using a modified approach that accounts for unequal variances.\n",
    "- **When to use**: This test is useful when the assumption of equal variances (homoscedasticity) is violated, which would invalidate the use of Tukey's or Scheffé's methods. It is robust in such situations and provides valid comparisons without assuming equal variances.\n",
    "\n",
    "### Summary\n",
    "\n",
    "Different post-hoc tests offer various advantages depending on the study design, assumptions, and specific hypotheses being tested. Researchers choose a post-hoc test based on the nature of their data, the number of comparisons needed, the presence of a control group, and the desired control over Type I error rates. Each test has its strengths and limitations, and selecting the appropriate test ensures valid and reliable statistical conclusions."
   ]
  },
  {
   "cell_type": "code",
   "execution_count": null,
   "metadata": {},
   "outputs": [],
   "source": []
  }
 ],
 "metadata": {
  "kernelspec": {
   "display_name": "R",
   "language": "R",
   "name": "ir"
  },
  "language_info": {
   "codemirror_mode": "r",
   "file_extension": ".r",
   "mimetype": "text/x-r-source",
   "name": "R",
   "pygments_lexer": "r",
   "version": "3.6.3"
  }
 },
 "nbformat": 4,
 "nbformat_minor": 4
}
