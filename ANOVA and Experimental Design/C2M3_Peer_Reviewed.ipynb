{
 "cells": [
  {
   "cell_type": "markdown",
   "metadata": {},
   "source": [
    "# C2M3: Peer Reviewed Assignment"
   ]
  },
  {
   "cell_type": "markdown",
   "metadata": {},
   "source": [
    "### Outline:\n",
    "The objectives for this assignment:\n",
    "\n",
    "1. Motivate the use of two-way ANOVA through real data analysis examples.\n",
    "\n",
    "2. Interpret the two-way ANOVA model, with and without interaction terms.\n",
    "\n",
    "3. Construct and interpret interaction plots to visually assess the importance of an interaction term.\n",
    "\n",
    "4. Conduct hypothesis tests to decide whether a two-way ANOVA interaction term is statistically significant.\n",
    "\n",
    "5. Use the two-way ANOVA and ANCOVA models to answer research questions using real data.\n",
    "\n",
    "\n",
    "General tips:\n",
    "\n",
    "1. Read the questions carefully to understand what is being asked.\n",
    "2. This work will be reviewed by another human, so make sure that you are clear and concise in what your explanations and answers."
   ]
  },
  {
   "cell_type": "code",
   "execution_count": 2,
   "metadata": {},
   "outputs": [],
   "source": [
    "# Load Required Packages\n",
    "library(tidyverse)\n",
    "library(ggplot2) # a package for nice plots!\n",
    "library(dplyr)\n",
    "library(emmeans)"
   ]
  },
  {
   "cell_type": "markdown",
   "metadata": {},
   "source": [
    "# Problem 1: e-reader data\n",
    "\n",
    "In this assignment, we learn to answer our two-way ANOVA research questions through the analysis of real data. We will use the ereader data. The study that generated these data can be found here: [P.-C. Chang, S.-Y. Chou, K.-K. Shieh (2013). \"Reading Performance and Visual Fatigue When Using Electronic Displays in Long-Duration Reading Tasks Under Various Lighting Conditions,\" Displays, Vol. 34,\n",
    "pp. 208-214.](http://users.stat.ufl.edu/~winner/data/ereader1.txt)) \n",
    "\n",
    "Electronic paper display devices, such as the Amazon Kindle have changed the way that people read. But has it changed for the better? In a 2013 study titled \"Reading Performance and Visual Fatigue When Using Electronic Displays in Long-Duration Reading Tasks Under Various Lighting Conditions\", researchers set out to ask whether reading speed (a continuous variable) differed across different electronic paper displays. In addition, they were also interested in whether different lighting conditions impacted reading speed. As such, this experiment had one response with two different factors:\n",
    "\n",
    "1. Device type: three different types.\n",
    "    1. Sony PRS-700 with a 6-in. display, $800 \\times 600$ resolution; \n",
    "    2. Amazon Kindle DX with a 9.7-in. display, $1200 \\times 824$ resolution; and \n",
    "    3. iRex 1000S with a 10.2-in. display, $1024 \\times 1280$ resolution.\n",
    "\n",
    "\n",
    "2. Lighting Condition: four different conditions (200Lx,500Lx, 1000Lx, 1500Lx), Lx = lux, one lumen per square meter\n",
    "\n",
    "\n",
    "3. Reading Time: measured in seconds.\n",
    "\n",
    "With these data, we might ask the following **research questions**:\n",
    "\n",
    "1. Are the effects of device type significant? That is, is there evidence that suggests that individuals read at different speeds based on the device that they are using?\n",
    "\n",
    "\n",
    "2. Are the effects of lighting conditions significant? That is, is there evidence that suggests that individuals read at different speeds based on the reading lighting conditions?\n",
    "\n",
    "\n",
    "3. Do device type and lighting conditions *interact*? For example, Suppose that, on average, people can read for longer on device A than on device B, in low light. Is that trend the same in medium light, or bright light? If not, for example, if B is better than A in bright light, then type and lighting interact.\n",
    "\n",
    "Through this entire analysis, let's set $\\alpha = 0.05$. \n",
    "\n",
    "**First, let's read in the data, and store the appropriate variables as factors.**"
   ]
  },
  {
   "cell_type": "code",
   "execution_count": 6,
   "metadata": {},
   "outputs": [
    {
     "data": {
      "text/plain": [
       " device    light         time       \n",
       " 1:19   200Lx :14   Min.   : 543.8  \n",
       " 2:20   500Lx :15   1st Qu.: 861.4  \n",
       " 3:20   1000Lx:15   Median :1105.4  \n",
       "        1500Lx:15   Mean   :1090.2  \n",
       "                    3rd Qu.:1300.0  \n",
       "                    Max.   :1797.2  "
      ]
     },
     "metadata": {},
     "output_type": "display_data"
    }
   ],
   "source": [
    "# Load the data\n",
    "read = read.csv(\"ereader.txt\", sep=\"\\t\")\n",
    "\n",
    "names(read) = c(\"device\", \"light\", \"time\")\n",
    "read$device = as_factor(read$device)\n",
    "read$light = as.factor(read$light)\n",
    "read$light = recode(read$light, \"1\" = \"200Lx\", \"2\" = \"500Lx\", \"3\" = \"1000Lx\", \"4\" = \"1500Lx\") \n",
    "\n",
    "summary(read)"
   ]
  },
  {
   "cell_type": "markdown",
   "metadata": {},
   "source": [
    "**1.(a) Construct interaction plots, and visually assess and comment on whether interactions are present.**"
   ]
  },
  {
   "cell_type": "code",
   "execution_count": null,
   "metadata": {
    "scrolled": false
   },
   "outputs": [],
   "source": [
    "# Your Code Here"
   ]
  },
  {
   "cell_type": "markdown",
   "metadata": {},
   "source": []
  },
  {
   "cell_type": "markdown",
   "metadata": {},
   "source": [
    "**1.(b) Now, let's formally test for an interaction. Fit a model with an interaction, and one without, and conduct an F-test. State the appropriate decision for the test.**"
   ]
  },
  {
   "cell_type": "code",
   "execution_count": null,
   "metadata": {},
   "outputs": [],
   "source": [
    "# Your Code Here"
   ]
  },
  {
   "cell_type": "markdown",
   "metadata": {},
   "source": []
  },
  {
   "cell_type": "markdown",
   "metadata": {},
   "source": [
    "**1.(c) Before we interpret this model with respect to research question #1 above (just below the data description), let's decide whether the differences that the model reports are statistically significant.**   \n",
    "\n",
    "**Investigate this question using Bonferroni post hoc comparisons. That is, conduct all pairwise post hoc comparisons for device type using a Bonferroni correction and an overall type I error rate of $\\alpha = 0.05$. Comment on the results.**"
   ]
  },
  {
   "cell_type": "code",
   "execution_count": 1,
   "metadata": {},
   "outputs": [
    {
     "name": "stderr",
     "output_type": "stream",
     "text": [
      "Loading required package: emmeans\n",
      "The 'lsmeans' package is now basically a front end for 'emmeans'.\n",
      "Users are encouraged to switch the rest of the way.\n",
      "See help('transition') for more information, including how to\n",
      "convert old 'lsmeans' objects and scripts to work with 'emmeans'.\n"
     ]
    }
   ],
   "source": [
    "# Your Code Here"
   ]
  },
  {
   "cell_type": "markdown",
   "metadata": {},
   "source": []
  },
  {
   "cell_type": "markdown",
   "metadata": {},
   "source": [
    "**1.(d) Using the post hoc comparisons from above, let's focus on research question #1 from above: Are the effects of device type significant? That is, is there any evidence that suggests that individuals read faster or slower based on the device that they are using**"
   ]
  },
  {
   "cell_type": "markdown",
   "metadata": {},
   "source": []
  },
  {
   "cell_type": "code",
   "execution_count": null,
   "metadata": {},
   "outputs": [],
   "source": [
    "# Your Code Here"
   ]
  }
 ],
 "metadata": {
  "kernelspec": {
   "display_name": "R",
   "language": "R",
   "name": "ir"
  }
 },
 "nbformat": 4,
 "nbformat_minor": 2
}
