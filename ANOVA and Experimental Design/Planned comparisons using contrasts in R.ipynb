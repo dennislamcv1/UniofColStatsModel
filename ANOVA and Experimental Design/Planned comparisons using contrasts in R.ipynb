{
 "cells": [
  {
   "cell_type": "markdown",
   "metadata": {
    "nbgrader": {
     "grade": false,
     "grade_id": "cell-afa2ffdb3391a63a",
     "locked": true,
     "schema_version": 3,
     "solution": false,
     "task": false
    }
   },
   "source": [
    "# Planned comparisons using contrasts in R"
   ]
  },
  {
   "cell_type": "code",
   "execution_count": 5,
   "metadata": {},
   "outputs": [
    {
     "name": "stderr",
     "output_type": "stream",
     "text": [
      "── \u001b[1mAttaching packages\u001b[22m ─────────────────────────────────────── tidyverse 1.3.0 ──\n",
      "\n",
      "\u001b[32m✔\u001b[39m \u001b[34mggplot2\u001b[39m 3.3.0     \u001b[32m✔\u001b[39m \u001b[34mpurrr  \u001b[39m 0.3.4\n",
      "\u001b[32m✔\u001b[39m \u001b[34mtibble \u001b[39m 3.0.1     \u001b[32m✔\u001b[39m \u001b[34mdplyr  \u001b[39m 0.8.5\n",
      "\u001b[32m✔\u001b[39m \u001b[34mtidyr  \u001b[39m 1.0.2     \u001b[32m✔\u001b[39m \u001b[34mstringr\u001b[39m 1.4.0\n",
      "\u001b[32m✔\u001b[39m \u001b[34mreadr  \u001b[39m 1.3.1     \u001b[32m✔\u001b[39m \u001b[34mforcats\u001b[39m 0.5.0\n",
      "\n",
      "── \u001b[1mConflicts\u001b[22m ────────────────────────────────────────── tidyverse_conflicts() ──\n",
      "\u001b[31m✖\u001b[39m \u001b[34mdplyr\u001b[39m::\u001b[32mfilter()\u001b[39m masks \u001b[34mstats\u001b[39m::filter()\n",
      "\u001b[31m✖\u001b[39m \u001b[34mdplyr\u001b[39m::\u001b[32mlag()\u001b[39m    masks \u001b[34mstats\u001b[39m::lag()\n",
      "\n"
     ]
    }
   ],
   "source": [
    "# Load needed packages\n",
    "library(tidyverse)\n",
    "library(ggplot2)"
   ]
  },
  {
   "cell_type": "markdown",
   "metadata": {
    "nbgrader": {
     "grade": false,
     "grade_id": "cell-5c79961677f42184",
     "locked": true,
     "schema_version": 3,
     "solution": false,
     "task": false
    }
   },
   "source": [
    "This module uses data simulated to match means and SDs of data analyzed in A. Parenti, L. Guerrini, P. Masella, S. Spinelli, L. Calamai, P. Spugnoli (2014). \"Comparison of Espresso Coffee Brewing Techniques,\" *Journal of Food Engineering*, Vol. 121, pp. 112-117.\n",
    "\n",
    "The goal of this experiment in Parenti et al. is to \"evaluate and compare the differences in terms of quality between espresso coffee made using three different extraction procedures.\" Quality, in this exercise, is measured in terms of the \"foam index\". Foam, according to the authors of this study, is a \"distinctive feature of espresso coffee, as it is absent in other coffee brews and is required for consumer acceptance.\"\n",
    "\n",
    "More compactly, here are the variables in our experimental data set: \n",
    "\n",
    " 1. foamIndx: The foam index is defined as the ratio between the foam and liquid volume (vol vol$􏰀^{-1}\\%$) measured 30 seconds after extraction\n",
    "\n",
    " 2. method: Three methods were studied: \n",
    "        a. Method 1=Bar Machine(BM); \n",
    "        b. Method 2=Hyper-Espresso Method (HIP); and \n",
    "        c. Method 3= I-Espresso System (IT).\n",
    "        \n",
    "        \n",
    "\n",
    "Suppose that, in our espresso study, we pre-planned to study the hypothesis test:\n",
    "\n",
    "\\begin{align*}\n",
    "        H_0: \\mu_{2} &= \\frac{1}{2}\\big(\\mu_{1} + \\mu_{3} \\big)  \\\\\n",
    "        H_1: \\mu_{2} &> \\frac{1}{2}\\big(\\mu_{1} + \\mu_{3} \\big)  \n",
    "    \\end{align*}\n",
    "   "
   ]
  },
  {
   "cell_type": "code",
   "execution_count": 6,
   "metadata": {
    "nbgrader": {
     "grade": false,
     "grade_id": "cell-ad1b62d6fc41741a",
     "locked": true,
     "schema_version": 3,
     "solution": false,
     "task": false
    }
   },
   "outputs": [
    {
     "data": {
      "text/plain": [
       "    foamIndx                       method \n",
       " Min.   :21.02   Bar Machine          :9  \n",
       " 1st Qu.:35.66   Hyper-Espresso Method:9  \n",
       " Median :38.52   I-Espresso System    :9  \n",
       " Mean   :44.47                            \n",
       " 3rd Qu.:55.23                            \n",
       " Max.   :73.19                            "
      ]
     },
     "metadata": {},
     "output_type": "display_data"
    },
    {
     "data": {
      "text/plain": [
       "\n",
       "Call:\n",
       "lm(formula = foamIndx ~ method, data = esp)\n",
       "\n",
       "Residuals:\n",
       "   Min     1Q Median     3Q    Max \n",
       "-14.62  -6.60   0.41   5.73  16.49 \n",
       "\n",
       "Coefficients:\n",
       "                            Estimate Std. Error t value Pr(>|t|)    \n",
       "(Intercept)                   32.400      2.819  11.492 3.04e-11 ***\n",
       "methodHyper-Espresso Method   28.900      3.987   7.248 1.73e-07 ***\n",
       "methodI-Espresso System        7.300      3.987   1.831   0.0796 .  \n",
       "---\n",
       "Signif. codes:  0 ‘***’ 0.001 ‘**’ 0.01 ‘*’ 0.05 ‘.’ 0.1 ‘ ’ 1\n",
       "\n",
       "Residual standard error: 8.458 on 24 degrees of freedom\n",
       "Multiple R-squared:  0.7031,\tAdjusted R-squared:  0.6783 \n",
       "F-statistic: 28.41 on 2 and 24 DF,  p-value: 4.699e-07\n"
      ]
     },
     "metadata": {},
     "output_type": "display_data"
    }
   ],
   "source": [
    "# Load the data\n",
    "esp = read.csv(\"espresso1.txt\", sep=\"\\t\")\n",
    "\n",
    "esp$method = as_factor(esp$method) \n",
    "esp$method = recode(esp$method, \"1\" = \"Bar Machine\", \"2\" = \"Hyper-Espresso Method\", \"3\" = \"I-Espresso System\") \n",
    "\n",
    "summary(esp)\n",
    "\n",
    "lmod = lm(foamIndx ~ method, data = esp)\n",
    "summary(lmod)"
   ]
  },
  {
   "cell_type": "markdown",
   "metadata": {
    "nbgrader": {
     "grade": false,
     "grade_id": "cell-b7d90158ab488057",
     "locked": true,
     "schema_version": 3,
     "solution": false,
     "task": false
    }
   },
   "source": [
    "Note that:\n",
    "\n",
    "1. The test was pre-planned.\n",
    "\n",
    "\n",
    "2. The full F-test is significant (p-value: $4.7 \\times 10^{-7}$)\n",
    "\n",
    "\n",
    "3. & 4. There is only one contrast, so we've met the conditions of orthogonality.\n",
    "\n",
    "Let's first \"hard code\" our contrast hypothesis test. Then, we'll use an R package to perform the test automatically."
   ]
  },
  {
   "cell_type": "code",
   "execution_count": 3,
   "metadata": {
    "nbgrader": {
     "grade": false,
     "grade_id": "cell-acc8a81f40c50397",
     "locked": true,
     "schema_version": 3,
     "solution": false,
     "task": false
    }
   },
   "outputs": [
    {
     "data": {
      "text/html": [
       "3"
      ],
      "text/latex": [
       "3"
      ],
      "text/markdown": [
       "3"
      ],
      "text/plain": [
       "[1] 3"
      ]
     },
     "metadata": {},
     "output_type": "display_data"
    },
    {
     "data": {
      "text/html": [
       "<strong>(Intercept):</strong> 25.25"
      ],
      "text/latex": [
       "\\textbf{(Intercept):} 25.25"
      ],
      "text/markdown": [
       "**(Intercept):** 25.25"
      ],
      "text/plain": [
       "(Intercept) \n",
       "      25.25 "
      ]
     },
     "metadata": {},
     "output_type": "display_data"
    },
    {
     "name": "stdout",
     "output_type": "stream",
     "text": [
      "The estimate of the contrast is is 25.25. The test statistic is  7.312531 . The p value for the test is 1.311173e-13 ."
     ]
    }
   ],
   "source": [
    "c = c(-0.5, 1, -0.5) #constants in the contrast specified above\n",
    "\n",
    "b = coef(lmod); #ANOVA regression model coefficients\n",
    "n =  length(resid(lmod)) #total number of espressos brewed\n",
    "n_method = with(esp, c(length(foamIndx[method == \"Bar Machine\"]),\n",
    "            length(foamIndx[method == \"Hyper-Espresso Method\"]),\n",
    "            length(foamIndx[method == \"I-Espresso System\"]))) \n",
    "            #vector with number of espressos brewed by each method\n",
    "J = length(unique(esp$method)); J\n",
    "\n",
    "ybar = c(b[1], b[1] + b[2],b[1] + b[3]); #vector of sample means of foam index for each method\n",
    "ybar[2] - 0.5*(ybar[1] + ybar[3])\n",
    "rss = sum(resid(lmod)^2); #residual sum of squares\n",
    "sighat = sqrt(rss/(n-J)); #estimate of sigma^2 hat\n",
    "gammahat = ybar[2] - 0.5*(ybar[1] + ybar[3]); \n",
    "cat(\"The estimate of the contrast is is\", as.numeric(gammahat))\n",
    "se = (sqrt(sighat^2*(1/(4*n_method[1]) + 1/(n_method[2]) + 1/(4*n_method[3])))) #standard error of gamma hat\n",
    "z = gammahat/se # test statistic\n",
    "pval = 1-pnorm(z) #p-value for upper tailed test\n",
    "\n",
    "cat(\". The test statistic is \", as.numeric(z), \". The p value for the test is\", pval,\".\")\n"
   ]
  },
  {
   "cell_type": "markdown",
   "metadata": {
    "nbgrader": {
     "grade": false,
     "grade_id": "cell-6327300d017e3335",
     "locked": true,
     "schema_version": 3,
     "solution": false,
     "task": false
    }
   },
   "source": [
    "Luckily, R has a function that will compute contrasts for us. This isn't a substitution for understanding contrasts, but it is helpful in saving time! The ${\\tt glht()}$ function will allow us to conduct \"general linear hypotheses and multiple comparisons for parametric models, including [ANOVA] generalized linear models, linear mixed effects models, and survival models.\""
   ]
  },
  {
   "cell_type": "code",
   "execution_count": 3,
   "metadata": {
    "nbgrader": {
     "grade": false,
     "grade_id": "cell-5f2813c26910f080",
     "locked": true,
     "schema_version": 3,
     "solution": false,
     "task": false
    }
   },
   "outputs": [
    {
     "name": "stderr",
     "output_type": "stream",
     "text": [
      "Loading required package: mvtnorm\n",
      "Loading required package: survival\n",
      "Loading required package: TH.data\n",
      "Loading required package: MASS\n",
      "\n",
      "Attaching package: ‘MASS’\n",
      "\n",
      "The following object is masked from ‘package:dplyr’:\n",
      "\n",
      "    select\n",
      "\n",
      "\n",
      "Attaching package: ‘TH.data’\n",
      "\n",
      "The following object is masked from ‘package:MASS’:\n",
      "\n",
      "    geyser\n",
      "\n"
     ]
    },
    {
     "data": {
      "text/plain": [
       "\n",
       "\t Simultaneous Tests for General Linear Hypotheses\n",
       "\n",
       "Multiple Comparisons of Means: User-defined Contrasts\n",
       "\n",
       "\n",
       "Fit: lm(formula = foamIndx ~ method, data = esp)\n",
       "\n",
       "Linear Hypotheses:\n",
       "       Estimate Std. Error t value Pr(>|t|)    \n",
       "1 == 0   25.250      3.453   7.313 1.49e-07 ***\n",
       "---\n",
       "Signif. codes:  0 ‘***’ 0.001 ‘**’ 0.01 ‘*’ 0.05 ‘.’ 0.1 ‘ ’ 1\n",
       "(Adjusted p values reported -- single-step method)\n"
      ]
     },
     "metadata": {},
     "output_type": "display_data"
    }
   ],
   "source": [
    "#install.packages(\"multcomp\") #if we need to install the multcomp package\n",
    "library(multcomp) #load the multicomp package\n",
    "\n",
    "contrast = glht(lmod, linfct = mcp(method = c(-0.5, 1, -0.5))) #glht = generalized linear hypothesis test\n",
    "summary(contrast)"
   ]
  },
  {
   "cell_type": "code",
   "execution_count": null,
   "metadata": {},
   "outputs": [],
   "source": []
  }
 ],
 "metadata": {
  "celltoolbar": "Create Assignment",
  "kernelspec": {
   "display_name": "R",
   "language": "R",
   "name": "ir"
  }
 },
 "nbformat": 4,
 "nbformat_minor": 2
}
