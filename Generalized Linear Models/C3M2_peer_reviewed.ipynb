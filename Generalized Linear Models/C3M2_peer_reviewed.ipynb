{
 "cells": [
  {
   "cell_type": "markdown",
   "metadata": {},
   "source": [
    "# C3M2: Peer Reviewed Assignment"
   ]
  },
  {
   "cell_type": "markdown",
   "metadata": {},
   "source": [
    "### Outline:\n",
    "The objectives for this assignment:\n",
    "\n",
    "1. Apply Poisson Regression to real data.\n",
    "2. Learn and practice working with and interpreting Poisson Regression Models.\n",
    "3. Understand deviance and how to conduct hypothesis tests with Poisson Regression.\n",
    "4. Recognize when a model shows signs of overdispersion.\n",
    "\n",
    "General tips:\n",
    "\n",
    "1. Read the questions carefully to understand what is being asked.\n",
    "2. This work will be reviewed by another human, so make sure that you are clear and concise in what your explanations and answers."
   ]
  },
  {
   "cell_type": "code",
   "execution_count": 3,
   "metadata": {},
   "outputs": [],
   "source": [
    "# Load the required packages\n",
    "library(MASS)"
   ]
  },
  {
   "cell_type": "markdown",
   "metadata": {},
   "source": [
    "# Problem 1: Poisson Estimators\n",
    "\n",
    "Let $Y_1,...,Y_n \\overset{i}{\\sim} Poisson(\\lambda_i)$. Show that, if $\\eta_i = \\beta_0$, then the maximum likelihood estimator of $\\lambda_i$ is $\\widehat\\lambda_i = \\bar{Y}$, for all $i=1,...,n$."
   ]
  },
  {
   "cell_type": "markdown",
   "metadata": {},
   "source": []
  },
  {
   "cell_type": "markdown",
   "metadata": {},
   "source": [
    "# Problem 2: Ships data\n",
    "\n",
    "The ships dataset gives the number of damage incidents and aggregate months of service for different types of ships broken down by year of construction and period of operation. \n",
    "\n",
    "The code below splits the data into a training set (80% of the data) and a test set (the remaining 20%)."
   ]
  },
  {
   "cell_type": "code",
   "execution_count": 4,
   "metadata": {},
   "outputs": [
    {
     "data": {
      "text/html": [
       "<table>\n",
       "<thead><tr><th></th><th scope=col>type</th><th scope=col>year</th><th scope=col>period</th><th scope=col>service</th><th scope=col>incidents</th></tr></thead>\n",
       "<tbody>\n",
       "\t<tr><th scope=row>40</th><td>E   </td><td>75  </td><td>75  </td><td> 542</td><td>1   </td></tr>\n",
       "\t<tr><th scope=row>28</th><td>D   </td><td>65  </td><td>75  </td><td> 192</td><td>0   </td></tr>\n",
       "\t<tr><th scope=row>18</th><td>C   </td><td>60  </td><td>75  </td><td> 552</td><td>1   </td></tr>\n",
       "\t<tr><th scope=row>19</th><td>C   </td><td>65  </td><td>60  </td><td> 781</td><td>0   </td></tr>\n",
       "\t<tr><th scope=row>5</th><td>A   </td><td>70  </td><td>60  </td><td>1512</td><td>6   </td></tr>\n",
       "\t<tr><th scope=row>32</th><td>D   </td><td>75  </td><td>75  </td><td>2051</td><td>4   </td></tr>\n",
       "</tbody>\n",
       "</table>\n"
      ],
      "text/latex": [
       "\\begin{tabular}{r|lllll}\n",
       "  & type & year & period & service & incidents\\\\\n",
       "\\hline\n",
       "\t40 & E    & 75   & 75   &  542 & 1   \\\\\n",
       "\t28 & D    & 65   & 75   &  192 & 0   \\\\\n",
       "\t18 & C    & 60   & 75   &  552 & 1   \\\\\n",
       "\t19 & C    & 65   & 60   &  781 & 0   \\\\\n",
       "\t5 & A    & 70   & 60   & 1512 & 6   \\\\\n",
       "\t32 & D    & 75   & 75   & 2051 & 4   \\\\\n",
       "\\end{tabular}\n"
      ],
      "text/markdown": [
       "\n",
       "| <!--/--> | type | year | period | service | incidents |\n",
       "|---|---|---|---|---|---|\n",
       "| 40 | E    | 75   | 75   |  542 | 1    |\n",
       "| 28 | D    | 65   | 75   |  192 | 0    |\n",
       "| 18 | C    | 60   | 75   |  552 | 1    |\n",
       "| 19 | C    | 65   | 60   |  781 | 0    |\n",
       "| 5 | A    | 70   | 60   | 1512 | 6    |\n",
       "| 32 | D    | 75   | 75   | 2051 | 4    |\n",
       "\n"
      ],
      "text/plain": [
       "   type year period service incidents\n",
       "40 E    75   75      542    1        \n",
       "28 D    65   75      192    0        \n",
       "18 C    60   75      552    1        \n",
       "19 C    65   60      781    0        \n",
       "5  A    70   60     1512    6        \n",
       "32 D    75   75     2051    4        "
      ]
     },
     "metadata": {},
     "output_type": "display_data"
    },
    {
     "data": {
      "text/plain": [
       " type  year   period     service          incidents    \n",
       " A:5   60:7   60:11   Min.   :   45.0   Min.   : 0.00  \n",
       " B:5   65:8   75:16   1st Qu.:  318.5   1st Qu.: 0.50  \n",
       " C:6   70:8           Median : 1095.0   Median : 2.00  \n",
       " D:7   75:4           Mean   : 5012.2   Mean   :10.63  \n",
       " E:4                  3rd Qu.: 2202.5   3rd Qu.:11.50  \n",
       "                      Max.   :44882.0   Max.   :58.00  "
      ]
     },
     "metadata": {},
     "output_type": "display_data"
    }
   ],
   "source": [
    "data(ships)\n",
    "ships = ships[ships$service != 0,]\n",
    "ships$year = as.factor(ships$year)\n",
    "ships$period = as.factor(ships$period)\n",
    "\n",
    "set.seed(11)\n",
    "n = floor(0.8 * nrow(ships))\n",
    "index = sample(seq_len(nrow(ships)), size = n)\n",
    "\n",
    "train = ships[index, ]\n",
    "test = ships[-index, ]\n",
    "head(train)\n",
    "summary(train)"
   ]
  },
  {
   "cell_type": "markdown",
   "metadata": {},
   "source": [
    "### 2. (a) Poisson Regression Fitting\n",
    "\n",
    "Use the training set to develop an appropriate regression model for `incidents`, using `type`, `period`, and `year` as predictors (HINT: is this a count model or a rate model?).\n",
    "\n",
    "Calculate the mean squared prediction error (MSPE) for the test set. Display your results."
   ]
  },
  {
   "cell_type": "code",
   "execution_count": 1,
   "metadata": {},
   "outputs": [],
   "source": [
    "# Your Code Here"
   ]
  },
  {
   "cell_type": "markdown",
   "metadata": {},
   "source": []
  },
  {
   "cell_type": "markdown",
   "metadata": {},
   "source": [
    "### 2. (b) Poisson Regression Model Selection\n",
    "\n",
    "Do we really need all of these predictors? Construct a new regression model leaving out `year` and calculate the MSE for this second model. \n",
    "\n",
    "Decide which model is better. Explain why you chose the model that you did."
   ]
  },
  {
   "cell_type": "code",
   "execution_count": 2,
   "metadata": {},
   "outputs": [],
   "source": [
    "# Your Code Here"
   ]
  },
  {
   "cell_type": "code",
   "execution_count": 3,
   "metadata": {},
   "outputs": [],
   "source": [
    "# Can compare nested poisson models with a chi-squared \n"
   ]
  },
  {
   "cell_type": "markdown",
   "metadata": {},
   "source": []
  },
  {
   "cell_type": "markdown",
   "metadata": {},
   "source": [
    "### 2. (c) Deviance\n",
    "\n",
    "How do we determine if our model is explaining anything? With linear regression, we had a F-test, but we can't do that for Poisson Regression. If we want to check if our model is better than the null model, then we're going to have to check directly. In particular, we need to compare the deviances of the models to see if they're significantly different.\n",
    "\n",
    "Conduct two $\\chi^2$ tests (using the deviance). Let $\\alpha = 0.05$: \n",
    "\n",
    "1. Test the adequacy of null model.\n",
    "\n",
    "2. Test the adequacy of your chosen model agaisnt the saturated model (the model fit to all predictors). \n",
    "\n",
    "What conclusions should you draw from these tests?"
   ]
  },
  {
   "cell_type": "code",
   "execution_count": 4,
   "metadata": {},
   "outputs": [],
   "source": [
    "# Your Code Here\n",
    "# Test if the model is better than the null model\n",
    "\n",
    "# Test chi_sq stat\n",
    "\n",
    "# Test against the saturated model\n"
   ]
  },
  {
   "cell_type": "markdown",
   "metadata": {},
   "source": []
  },
  {
   "cell_type": "markdown",
   "metadata": {},
   "source": [
    "### 2. (d) Poisson Regression Visualizations\n",
    "\n",
    "Just like with linear regression, we can use visualizations to assess the fit and appropriateness of our model. Is it maintaining the assumptions that it should be? Is there a discernable structure that isn't being accounted for? And, again like linear regression, it can be up to the user's interpretation what is an isn't a good model.\n",
    "\n",
    "Plot the deviance residuals against the linear predictor $\\eta$. Interpret this plot."
   ]
  },
  {
   "cell_type": "code",
   "execution_count": 5,
   "metadata": {},
   "outputs": [],
   "source": [
    "# Your Code Here\n"
   ]
  },
  {
   "cell_type": "markdown",
   "metadata": {},
   "source": []
  },
  {
   "cell_type": "markdown",
   "metadata": {},
   "source": [
    "### 2. (e) Overdispersion\n",
    "\n",
    "For linear regression, the variance of the data is controlled through the standard deviation $\\sigma$, which is independent of the other parameters like the mean $\\mu$. However, some GLMs do not have this independence, which can lead to a problem called overdispersion. Overdispersion occurs when the observed data's variance is higher than expected, if the model is correct. \n",
    "\n",
    "For Poisson Regression, we expect that the mean of the data should equal the variance. If overdispersion is present, then the assumptions of the model are not being met and we can not trust its output (or our beloved p-values)!\n",
    "\n",
    "Explore the two models fit in the beginning of this question for evidence of overdisperion. If you find evidence of overdispersion, you do not need to fix it (but it would be useful for you to know how to). Describe your process and conclusions."
   ]
  },
  {
   "cell_type": "code",
   "execution_count": 6,
   "metadata": {},
   "outputs": [],
   "source": [
    "# Your Code Here\n"
   ]
  },
  {
   "cell_type": "markdown",
   "metadata": {},
   "source": []
  }
 ],
 "metadata": {
  "kernelspec": {
   "display_name": "R",
   "language": "R",
   "name": "ir"
  },
  "language_info": {
   "codemirror_mode": "r",
   "file_extension": ".r",
   "mimetype": "text/x-r-source",
   "name": "R",
   "pygments_lexer": "r",
   "version": "3.6.1"
  }
 },
 "nbformat": 4,
 "nbformat_minor": 4
}
