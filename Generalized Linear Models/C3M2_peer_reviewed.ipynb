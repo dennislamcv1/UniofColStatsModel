{
 "cells": [
  {
   "cell_type": "markdown",
   "metadata": {},
   "source": [
    "# C3M2: Peer Reviewed Assignment"
   ]
  },
  {
   "cell_type": "markdown",
   "metadata": {},
   "source": [
    "### Outline:\n",
    "The objectives for this assignment:\n",
    "\n",
    "1. Apply Poisson Regression to real data.\n",
    "2. Learn and practice working with and interpreting Poisson Regression Models.\n",
    "3. Understand deviance and how to conduct hypothesis tests with Poisson Regression.\n",
    "4. Recognize when a model shows signs of overdispersion.\n",
    "\n",
    "General tips:\n",
    "\n",
    "1. Read the questions carefully to understand what is being asked.\n",
    "2. This work will be reviewed by another human, so make sure that you are clear and concise in what your explanations and answers."
   ]
  },
  {
   "cell_type": "code",
   "execution_count": 1,
   "metadata": {},
   "outputs": [],
   "source": [
    "# Load the required packages\n",
    "library(MASS)"
   ]
  },
  {
   "cell_type": "markdown",
   "metadata": {},
   "source": [
    "# Problem 1: Poisson Estimators\n",
    "\n",
    "Let $Y_1,...,Y_n \\overset{i}{\\sim} Poisson(\\lambda_i)$. Show that, if $\\eta_i = \\beta_0$, then the maximum likelihood estimator of $\\lambda_i$ is $\\widehat\\lambda_i = \\bar{Y}$, for all $i=1,...,n$."
   ]
  },
  {
   "cell_type": "markdown",
   "metadata": {},
   "source": [
    "<strong>\n",
    "\n",
    "### Step 1: Define the Likelihood Function\n",
    "\n",
    "Given $Y_1, Y_2, ..., Y_n \\overset{i.i.d.}{\\sim} \\text{Poisson}(\\lambda_i)$, the probability mass function of a Poisson random variable $(Y_i)$  with parameter $(\\lambda_i) $ is:\n",
    "\n",
    "$\n",
    "P(Y_i = y_i) = \\frac{e^{-\\lambda_i} \\lambda_i^{y_i}}{y_i!}\n",
    "$\n",
    "\n",
    "The likelihood function $L(\\lambda_1, \\lambda_2, ..., \\lambda_n)$ for the sample $Y_1, Y_2, ..., Y_n$ is the joint probability of observing these values, assuming they are independent:\n",
    "\n",
    "$\n",
    "L(\\lambda_1, \\lambda_2, ..., \\lambda_n) = \\prod_{i=1}^{n} P(Y_i = y_i) = \\prod_{i=1}^{n} \\frac{e^{-\\lambda_i} \\lambda_i^{y_i}}{y_i!}\n",
    "$\n",
    "\n",
    "### Step 2: Simplify the Likelihood Function Using $(\\eta_i = \\beta_0)$\n",
    "\n",
    "If $eta_i = \\beta_0$ and $(\\eta_i = \\log(\\lambda_i)$, we get:\n",
    "\n",
    "$\\lambda_i = e^{\\beta_0}$\n",
    "\n",
    "Since $\\lambda_i$ is constant across all i, we can write $\\lambda_i$ = $\\lambda$. Thus, the likelihood function simplifies to:\n",
    "\n",
    "$\n",
    "L(\\lambda) = \\prod_{i=1}^{n} \\frac{e^{-\\lambda} \\lambda^{y_i}}{y_i!} = \\frac{e^{-n\\lambda} \\lambda^{\\sum_{i=1}^n y_i}}{\\prod_{i=1}^n y_i!}\n",
    "$\n",
    "\n",
    "### Step 3: Log-Likelihood Function\n",
    "\n",
    "The log-likelihood function is more convenient for maximization:\n",
    "\n",
    "$\n",
    "\\log L(\\lambda) = \\log \\left( \\frac{e^{-n\\lambda} \\lambda^{\\sum_{i=1}^n y_i}}{\\prod_{i=1}^n y_i!} \\right) = -n\\lambda + \\left( \\sum_{i=1}^n y_i \\right) \\log \\lambda - \\sum_{i=1}^n \\log(y_i!)\n",
    "$\n",
    "\n",
    "### Step 4: Differentiate and Find the MLE\n",
    "\n",
    "To find the MLE, we differentiate the log-likelihood function with respect to \\(\\lambda\\) and set the derivative to zero:\n",
    "\n",
    "$\n",
    "\\frac{d}{d\\lambda} \\log L(\\lambda) = -n + \\frac{\\sum_{i=1}^n y_i}{\\lambda} = 0\n",
    "$\n",
    "\n",
    "Solving for $\\lambda$:\n",
    "\n",
    "$\n",
    "-n + \\frac{\\sum_{i=1}^n y_i}{\\lambda} = 0 \\quad \\Rightarrow \\quad \\lambda = \\frac{\\sum_{i=1}^n y_i}{n}\n",
    "$\n",
    "\n",
    "### Step 5: Conclusion\n",
    "\n",
    "The MLE for $(\\lambda$) is:\n",
    "\n",
    "$\n",
    "\\hat{\\lambda} = \\frac{\\sum_{i=1}^n y_i}{n} = \\bar{Y}\n",
    "$\n",
    "\n",
    "Thus, the maximum likelihood estimator of $\\lambda_i$ is $(\\bar{Y})$ for all $(i = 1, ..., n)$\n",
    "\n",
    "### Summary\n",
    "\n",
    "To summarize, under the assumption that $(\\eta_i = \\beta_0)$, we showed that the MLE for $(\\lambda_i)$ in the Poisson model is indeed $(\\bar{Y}$), the sample mean. This derivation highlights the key steps of forming the likelihood, taking the log, differentiating, and solving for the parameter.\n",
    "\n",
    "<strong>"
   ]
  },
  {
   "cell_type": "markdown",
   "metadata": {},
   "source": [
    "# Problem 2: Ships data\n",
    "\n",
    "The ships dataset gives the number of damage incidents and aggregate months of service for different types of ships broken down by year of construction and period of operation. \n",
    "\n",
    "The code below splits the data into a training set (80% of the data) and a test set (the remaining 20%)."
   ]
  },
  {
   "cell_type": "code",
   "execution_count": 2,
   "metadata": {},
   "outputs": [
    {
     "data": {
      "text/html": [
       "<table>\n",
       "<caption>A data.frame: 6 × 5</caption>\n",
       "<thead>\n",
       "\t<tr><th></th><th scope=col>type</th><th scope=col>year</th><th scope=col>period</th><th scope=col>service</th><th scope=col>incidents</th></tr>\n",
       "\t<tr><th></th><th scope=col>&lt;fct&gt;</th><th scope=col>&lt;fct&gt;</th><th scope=col>&lt;fct&gt;</th><th scope=col>&lt;int&gt;</th><th scope=col>&lt;int&gt;</th></tr>\n",
       "</thead>\n",
       "<tbody>\n",
       "\t<tr><th scope=row>40</th><td>E</td><td>75</td><td>75</td><td> 542</td><td>1</td></tr>\n",
       "\t<tr><th scope=row>28</th><td>D</td><td>65</td><td>75</td><td> 192</td><td>0</td></tr>\n",
       "\t<tr><th scope=row>18</th><td>C</td><td>60</td><td>75</td><td> 552</td><td>1</td></tr>\n",
       "\t<tr><th scope=row>19</th><td>C</td><td>65</td><td>60</td><td> 781</td><td>0</td></tr>\n",
       "\t<tr><th scope=row>5</th><td>A</td><td>70</td><td>60</td><td>1512</td><td>6</td></tr>\n",
       "\t<tr><th scope=row>32</th><td>D</td><td>75</td><td>75</td><td>2051</td><td>4</td></tr>\n",
       "</tbody>\n",
       "</table>\n"
      ],
      "text/latex": [
       "A data.frame: 6 × 5\n",
       "\\begin{tabular}{r|lllll}\n",
       "  & type & year & period & service & incidents\\\\\n",
       "  & <fct> & <fct> & <fct> & <int> & <int>\\\\\n",
       "\\hline\n",
       "\t40 & E & 75 & 75 &  542 & 1\\\\\n",
       "\t28 & D & 65 & 75 &  192 & 0\\\\\n",
       "\t18 & C & 60 & 75 &  552 & 1\\\\\n",
       "\t19 & C & 65 & 60 &  781 & 0\\\\\n",
       "\t5 & A & 70 & 60 & 1512 & 6\\\\\n",
       "\t32 & D & 75 & 75 & 2051 & 4\\\\\n",
       "\\end{tabular}\n"
      ],
      "text/markdown": [
       "\n",
       "A data.frame: 6 × 5\n",
       "\n",
       "| <!--/--> | type &lt;fct&gt; | year &lt;fct&gt; | period &lt;fct&gt; | service &lt;int&gt; | incidents &lt;int&gt; |\n",
       "|---|---|---|---|---|---|\n",
       "| 40 | E | 75 | 75 |  542 | 1 |\n",
       "| 28 | D | 65 | 75 |  192 | 0 |\n",
       "| 18 | C | 60 | 75 |  552 | 1 |\n",
       "| 19 | C | 65 | 60 |  781 | 0 |\n",
       "| 5 | A | 70 | 60 | 1512 | 6 |\n",
       "| 32 | D | 75 | 75 | 2051 | 4 |\n",
       "\n"
      ],
      "text/plain": [
       "   type year period service incidents\n",
       "40 E    75   75      542    1        \n",
       "28 D    65   75      192    0        \n",
       "18 C    60   75      552    1        \n",
       "19 C    65   60      781    0        \n",
       "5  A    70   60     1512    6        \n",
       "32 D    75   75     2051    4        "
      ]
     },
     "metadata": {},
     "output_type": "display_data"
    },
    {
     "data": {
      "text/plain": [
       " type  year   period     service          incidents    \n",
       " A:5   60:7   60:11   Min.   :   45.0   Min.   : 0.00  \n",
       " B:5   65:8   75:16   1st Qu.:  318.5   1st Qu.: 0.50  \n",
       " C:6   70:8           Median : 1095.0   Median : 2.00  \n",
       " D:7   75:4           Mean   : 5012.2   Mean   :10.63  \n",
       " E:4                  3rd Qu.: 2202.5   3rd Qu.:11.50  \n",
       "                      Max.   :44882.0   Max.   :58.00  "
      ]
     },
     "metadata": {},
     "output_type": "display_data"
    }
   ],
   "source": [
    "data(ships)\n",
    "ships = ships[ships$service != 0,]\n",
    "ships$year = as.factor(ships$year)\n",
    "ships$period = as.factor(ships$period)\n",
    "\n",
    "set.seed(11)\n",
    "n = floor(0.8 * nrow(ships))\n",
    "index = sample(seq_len(nrow(ships)), size = n)\n",
    "\n",
    "train = ships[index, ]\n",
    "test = ships[-index, ]\n",
    "head(train)\n",
    "summary(train)"
   ]
  },
  {
   "cell_type": "markdown",
   "metadata": {},
   "source": [
    "### 2. (a) Poisson Regression Fitting\n",
    "\n",
    "Use the training set to develop an appropriate regression model for `incidents`, using `type`, `period`, and `year` as predictors (HINT: is this a count model or a rate model?).\n",
    "\n",
    "Calculate the mean squared prediction error (MSPE) for the test set. Display your results."
   ]
  },
  {
   "cell_type": "code",
   "execution_count": 3,
   "metadata": {},
   "outputs": [
    {
     "data": {
      "text/plain": [
       "\n",
       "Call:\n",
       "glm(formula = incidents ~ type + period + year + offset(log(service)), \n",
       "    family = poisson, data = train)\n",
       "\n",
       "Deviance Residuals: \n",
       "    Min       1Q   Median       3Q      Max  \n",
       "-1.3870  -0.7433  -0.4650   0.5890   2.1258  \n",
       "\n",
       "Coefficients:\n",
       "            Estimate Std. Error z value Pr(>|z|)    \n",
       "(Intercept) -6.38886    0.25459 -25.094  < 2e-16 ***\n",
       "typeB       -0.65383    0.20405  -3.204 0.001354 ** \n",
       "typeC       -1.32288    0.44535  -2.970 0.002974 ** \n",
       "typeD       -0.09046    0.29678  -0.305 0.760504    \n",
       "typeE        0.14478    0.28070   0.516 0.606012    \n",
       "period75     0.42114    0.14581   2.888 0.003873 ** \n",
       "year65       0.76182    0.19451   3.917 8.98e-05 ***\n",
       "year70       0.84812    0.22589   3.755 0.000174 ***\n",
       "year75       0.32103    0.36320   0.884 0.376760    \n",
       "---\n",
       "Signif. codes:  0 ‘***’ 0.001 ‘**’ 0.01 ‘*’ 0.05 ‘.’ 0.1 ‘ ’ 1\n",
       "\n",
       "(Dispersion parameter for poisson family taken to be 1)\n",
       "\n",
       "    Null deviance: 124.731  on 26  degrees of freedom\n",
       "Residual deviance:  22.824  on 18  degrees of freedom\n",
       "AIC: 114.53\n",
       "\n",
       "Number of Fisher Scoring iterations: 5\n"
      ]
     },
     "metadata": {},
     "output_type": "display_data"
    },
    {
     "name": "stdout",
     "output_type": "stream",
     "text": [
      "[1] \"MSPE for full model: 15.2559601848101\"\n"
     ]
    }
   ],
   "source": [
    "# Fit Poisson regression model\n",
    "poisson_model <- glm(incidents ~ type + period + year + offset(log(service)), family = poisson, data = train)\n",
    "\n",
    "# Display model summary\n",
    "summary(poisson_model)\n",
    "\n",
    "# Predict incidents on the test set\n",
    "predictions <- predict(poisson_model, newdata = test, type = \"response\")\n",
    "\n",
    "# Calculate Mean Squared Prediction Error (MSPE)\n",
    "mspe <- mean((test$incidents - predictions)^2)\n",
    "print(paste(\"MSPE for full model:\", mspe))"
   ]
  },
  {
   "cell_type": "markdown",
   "metadata": {},
   "source": []
  },
  {
   "cell_type": "markdown",
   "metadata": {},
   "source": [
    "### 2. (b) Poisson Regression Model Selection\n",
    "\n",
    "Do we really need all of these predictors? Construct a new regression model leaving out `year` and calculate the MSPE for this second model. \n",
    "\n",
    "Decide which model is better. Explain why you chose the model that you did."
   ]
  },
  {
   "cell_type": "code",
   "execution_count": 4,
   "metadata": {},
   "outputs": [
    {
     "data": {
      "text/plain": [
       "\n",
       "Call:\n",
       "glm(formula = incidents ~ type + period + offset(log(service)), \n",
       "    family = poisson, data = train)\n",
       "\n",
       "Deviance Residuals: \n",
       "    Min       1Q   Median       3Q      Max  \n",
       "-3.1064  -0.9808  -0.3833   0.7760   2.7743  \n",
       "\n",
       "Coefficients:\n",
       "            Estimate Std. Error z value Pr(>|z|)    \n",
       "(Intercept)  -5.9310     0.1937 -30.616  < 2e-16 ***\n",
       "typeB        -0.6578     0.1825  -3.605 0.000312 ***\n",
       "typeC        -1.3924     0.4393  -3.170 0.001527 ** \n",
       "typeD        -0.2525     0.2919  -0.865 0.387133    \n",
       "typeE         0.1416     0.2772   0.511 0.609524    \n",
       "period75      0.7263     0.1295   5.610 2.03e-08 ***\n",
       "---\n",
       "Signif. codes:  0 ‘***’ 0.001 ‘**’ 0.01 ‘*’ 0.05 ‘.’ 0.1 ‘ ’ 1\n",
       "\n",
       "(Dispersion parameter for poisson family taken to be 1)\n",
       "\n",
       "    Null deviance: 124.731  on 26  degrees of freedom\n",
       "Residual deviance:  45.122  on 21  degrees of freedom\n",
       "AIC: 130.83\n",
       "\n",
       "Number of Fisher Scoring iterations: 5\n"
      ]
     },
     "metadata": {},
     "output_type": "display_data"
    },
    {
     "name": "stdout",
     "output_type": "stream",
     "text": [
      "[1] \"MSPE for reduced model: 65.1990873217216\"\n"
     ]
    }
   ],
   "source": [
    "# Fit Poisson regression model without 'year'\n",
    "poisson_model_reduced <- glm(incidents ~ type + period + offset(log(service)), family = poisson, data = train)\n",
    "\n",
    "# Display model summary\n",
    "summary(poisson_model_reduced)\n",
    "\n",
    "# Predict incidents on the test set with the reduced model\n",
    "predictions_reduced <- predict(poisson_model_reduced, newdata = test, type = \"response\")\n",
    "\n",
    "# Calculate Mean Squared Prediction Error (MSPE) for the reduced model\n",
    "mspe_reduced <- mean((test$incidents - predictions_reduced)^2)\n",
    "print(paste(\"MSPE for reduced model:\", mspe_reduced))\n"
   ]
  },
  {
   "cell_type": "code",
   "execution_count": 5,
   "metadata": {},
   "outputs": [
    {
     "name": "stdout",
     "output_type": "stream",
     "text": [
      "[1] \"MSPE for full model: 15.2559601848101\"\n",
      "[1] \"MSPE for reduced model: 65.1990873217216\"\n"
     ]
    }
   ],
   "source": [
    "print(paste(\"MSPE for full model:\", mspe))\n",
    "print(paste(\"MSPE for reduced model:\", mspe_reduced))\n"
   ]
  },
  {
   "cell_type": "markdown",
   "metadata": {},
   "source": [
    "<strong>\n",
    "If the MSPE for the reduced model is significantly lower than the full model, the reduced model is preferred for its simplicity and potentially better generalization.\n",
    "\n",
    "If the MSPE for the full model is lower, the additional predictor (year) improves the model's accuracy and should be retained.\n",
    "<strong>"
   ]
  },
  {
   "cell_type": "markdown",
   "metadata": {},
   "source": [
    "### 2. (c) Deviance\n",
    "\n",
    "How do we determine if our model is explaining anything? With linear regression, we had a F-test, but we can't do that for Poisson Regression. If we want to check if our model is better than the null model, then we're going to have to check directly. In particular, we need to compare the deviances of the models to see if they're significantly different.\n",
    "\n",
    "Conduct two $\\chi^2$ tests (using the deviance). Let $\\alpha = 0.05$: \n",
    "\n",
    "1. Test the adequacy of null model.\n",
    "\n",
    "2. Test the adequacy of your chosen model against the full model (the model fit to all predictors). \n",
    "\n",
    "What conclusions should you draw from these tests?"
   ]
  },
  {
   "cell_type": "code",
   "execution_count": 6,
   "metadata": {},
   "outputs": [
    {
     "name": "stdout",
     "output_type": "stream",
     "text": [
      "Chi-squared test for null model vs full model:\n",
      "Chi-squared statistic: 101.9071 \n",
      "p-value: 0 \n",
      "\n",
      "Chi-squared test for reduced model vs full model:\n",
      "Chi-squared statistic: 22.2978 \n",
      "p-value: 5.655547e-05 \n"
     ]
    }
   ],
   "source": [
    "# Fit the null model\n",
    "null_model <- glm(incidents ~ 1 + offset(log(service)), family = poisson, data = train)\n",
    "\n",
    "# Deviances for the models\n",
    "dev_full <- deviance(poisson_model)\n",
    "dev_null <- deviance(null_model)\n",
    "dev_reduced <- deviance(poisson_model_reduced)\n",
    "\n",
    "# Degrees of freedom\n",
    "df_full <- df.residual(poisson_model)\n",
    "df_null <- df.residual(null_model)\n",
    "df_reduced <- df.residual(poisson_model_reduced)\n",
    "\n",
    "# Chi-square test for null model vs full model\n",
    "chi_sq_stat_null_vs_full <- dev_null - dev_full\n",
    "p_value_null_vs_full <- 1 - pchisq(chi_sq_stat_null_vs_full, df_null - df_full)\n",
    "\n",
    "# Chi-square test for reduced model vs full model\n",
    "chi_sq_stat_reduced_vs_full <- dev_reduced - dev_full\n",
    "p_value_reduced_vs_full <- 1 - pchisq(chi_sq_stat_reduced_vs_full, df_reduced - df_full)\n",
    "\n",
    "# Output results\n",
    "cat(\"Chi-squared test for null model vs full model:\\n\")\n",
    "cat(\"Chi-squared statistic:\", chi_sq_stat_null_vs_full, \"\\n\")\n",
    "cat(\"p-value:\", p_value_null_vs_full, \"\\n\\n\")\n",
    "\n",
    "cat(\"Chi-squared test for reduced model vs full model:\\n\")\n",
    "cat(\"Chi-squared statistic:\", chi_sq_stat_reduced_vs_full, \"\\n\")\n",
    "cat(\"p-value:\", p_value_reduced_vs_full, \"\\n\")\n",
    "\n"
   ]
  },
  {
   "cell_type": "markdown",
   "metadata": {},
   "source": [
    "<strong>\n",
    "\n",
    "Interpretation of Deviance Tests:\n",
    "\n",
    "- Null model vs Full model:\n",
    "        If the p-value is less than 0.05, we reject the null hypothesis that the null model is adequate. This means the full model explains significantly more variation in the data than the null model.\n",
    "\n",
    "- Reduced model vs Full model:\n",
    "        If the p-value is greater than 0.05, we do not reject the null hypothesis that the reduced model is adequate compared to the full model. This means that the reduced model is not significantly worse than the full model, and we might prefer it due to its simplicity.\n",
    "\n",
    "\n",
    "<strong>"
   ]
  },
  {
   "cell_type": "markdown",
   "metadata": {},
   "source": [
    "### 2. (d) Poisson Regression Visualizations\n",
    "\n",
    "Just like with linear regression, we can use visualizations to assess the fit and appropriateness of our model. Is it maintaining the assumptions that it should be? Is there a discernable structure that isn't being accounted for? And, again like linear regression, it can be up to the user's interpretation what is an isn't a good model.\n",
    "\n",
    "Plot the deviance residuals against the linear predictor $\\eta$. Interpret this plot."
   ]
  },
  {
   "cell_type": "code",
   "execution_count": 7,
   "metadata": {},
   "outputs": [
    {
     "data": {
      "image/png": "[encoded data removed]",
      "text/plain": [
       "Plot with title “Deviance Residuals vs Linear Predictor”"
      ]
     },
     "metadata": {
      "image/png": {
       "height": 420,
       "width": 420
      },
      "text/plain": {
       "height": 420,
       "width": 420
      }
     },
     "output_type": "display_data"
    }
   ],
   "source": [
    "# Plot deviance residuals against linear predictor\n",
    "plot(predict(poisson_model, type = \"link\"), residuals(poisson_model, type = \"deviance\"), \n",
    "     xlab = \"Linear Predictor (eta)\", ylab = \"Deviance Residuals\", \n",
    "     main = \"Deviance Residuals vs Linear Predictor\")\n",
    "abline(h = 0, col = \"red\")\n",
    "\n"
   ]
  },
  {
   "cell_type": "markdown",
   "metadata": {},
   "source": [
    "**The deviance residuals show no clear pattern and are roughly symmetrically distributed around zero, the model is likely appropriate.**"
   ]
  },
  {
   "cell_type": "markdown",
   "metadata": {},
   "source": [
    "### 2. (e) Overdispersion\n",
    "\n",
    "For linear regression, the variance of the data is controlled through the standard deviation $\\sigma$, which is independent of the other parameters like the mean $\\mu$. However, some GLMs do not have this independence, which can lead to a problem called overdispersion. Overdispersion occurs when the observed data's variance is higher than expected, if the model is correct. \n",
    "\n",
    "For Poisson Regression, we expect that the mean of the data should equal the variance. If overdispersion is present, then the assumptions of the model are not being met and we can not trust its output (or our beloved p-values)!\n",
    "\n",
    "Explore the two models fit in the beginning of this question for evidence of overdisperion. If you find evidence of overdispersion, you do not need to fix it (but it would be useful for you to know how to). Describe your process and conclusions."
   ]
  },
  {
   "cell_type": "code",
   "execution_count": 8,
   "metadata": {},
   "outputs": [
    {
     "name": "stdout",
     "output_type": "stream",
     "text": [
      "Overdispersion check for full model:\n",
      "Residual deviance: 22.82433 \n",
      "Degrees of freedom: 18 \n",
      "Ratio (should be close to 1): 1.268018 \n",
      "\n",
      "Overdispersion check for reduced model:\n",
      "Residual deviance: 45.12213 \n",
      "Degrees of freedom: 21 \n",
      "Ratio (should be close to 1): 2.148673 \n"
     ]
    }
   ],
   "source": [
    "# Check for overdispersion in the full model\n",
    "resid_deviance_full <- deviance(poisson_model)\n",
    "df_resid_full <- df.residual(poisson_model)\n",
    "overdispersion_full <- resid_deviance_full / df_resid_full\n",
    "\n",
    "# Check for overdispersion in the reduced model\n",
    "resid_deviance_reduced <- deviance(poisson_model_reduced)\n",
    "df_resid_reduced <- df.residual(poisson_model_reduced)\n",
    "overdispersion_reduced <- resid_deviance_reduced / df_resid_reduced\n",
    "\n",
    "# Output results\n",
    "cat(\"Overdispersion check for full model:\\n\")\n",
    "cat(\"Residual deviance:\", resid_deviance_full, \"\\n\")\n",
    "cat(\"Degrees of freedom:\", df_resid_full, \"\\n\")\n",
    "cat(\"Ratio (should be close to 1):\", overdispersion_full, \"\\n\\n\")\n",
    "\n",
    "cat(\"Overdispersion check for reduced model:\\n\")\n",
    "cat(\"Residual deviance:\", resid_deviance_reduced, \"\\n\")\n",
    "cat(\"Degrees of freedom:\", df_resid_reduced, \"\\n\")\n",
    "cat(\"Ratio (should be close to 1):\", overdispersion_reduced, \"\\n\")\n",
    "\n"
   ]
  },
  {
   "cell_type": "markdown",
   "metadata": {},
   "source": [
    "<strong>\n",
    "\n",
    "If the ratio of the residual deviance to the degrees of freedom is close to 1, the model is not overdispersed.\n",
    "\n",
    "If the ratio is much greater than 1, overdispersion is present, indicating that the model's variance assumptions are not met.\n",
    "\n",
    "<strong>"
   ]
  }
 ],
 "metadata": {
  "kernelspec": {
   "display_name": "R",
   "language": "R",
   "name": "ir"
  },
  "language_info": {
   "codemirror_mode": "r",
   "file_extension": ".r",
   "mimetype": "text/x-r-source",
   "name": "R",
   "pygments_lexer": "r",
   "version": "3.6.3"
  }
 },
 "nbformat": 4,
 "nbformat_minor": 4
}
