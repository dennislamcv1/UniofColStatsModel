{
 "cells": [
  {
   "cell_type": "markdown",
   "metadata": {
    "deletable": false,
    "editable": false,
    "nbgrader": {
     "cell_type": "markdown",
     "checksum": "c2198530448ed7287a029819aed5943a",
     "grade": false,
     "grade_id": "cell-c66263f4ea9092d7",
     "locked": true,
     "schema_version": 3,
     "solution": false,
     "task": false
    }
   },
   "source": [
    "# C3M1: Autograded Assignment"
   ]
  },
  {
   "cell_type": "markdown",
   "metadata": {
    "deletable": false,
    "editable": false,
    "nbgrader": {
     "cell_type": "markdown",
     "checksum": "82e556abc62485ec8b712966decf6c3f",
     "grade": false,
     "grade_id": "cell-bf71a5a5373f5dda",
     "locked": true,
     "schema_version": 3,
     "solution": false,
     "task": false
    }
   },
   "source": [
    "### Outline:\n",
    "**Here are the objectives of this assignment:**\n",
    "\n",
    "1. Familiarize yourself with odds and how they convert to probabilities.\n",
    "2. Review Maximum Likelihood Estimates.\n",
    "3. Understand the difference between Binomial Regression and Logistic Regression.\n",
    "4. Get a basic understanding of Logistic regression models and properties.\n",
    "5. Apply Logistic Regression techniques to real data.\n",
    "\n",
    "**Here are some general tips:**\n",
    "\n",
    "1. Read the questions carefully to understand what is being asked.\n",
    "2. When you feel that your work is completed, feel free to hit the ```Validate``` button to see your results on the *visible* unit tests. If you have questions about unit testing, please refer to the \"Module 0: Introduction\" notebook provided as an optional resource for this course. In this assignment, there are hidden unit tests that check your code. You will not recieve any feedback for failed hidden unit tests until the assignment is submitted. **Do not misinterpret the feedback from visible unit tests as all possible tests for a given question--write your code carefully!**\n",
    "3. Before submitting, we recommend restarting the kernel and running all the cells in order that they appear to make sure that there are no additional bugs in your code."
   ]
  },
  {
   "cell_type": "code",
   "execution_count": 1,
   "metadata": {
    "deletable": false,
    "editable": false,
    "nbgrader": {
     "cell_type": "code",
     "checksum": "b4b90ccc1b2f377730d90c4677f78d38",
     "grade": false,
     "grade_id": "cell-0f10a1b79e686e03",
     "locked": true,
     "schema_version": 3,
     "solution": false,
     "task": false
    }
   },
   "outputs": [
    {
     "name": "stderr",
     "output_type": "stream",
     "text": [
      "── \u001b[1mAttaching packages\u001b[22m ─────────────────────────────────────── tidyverse 1.3.0 ──\n",
      "\n",
      "\u001b[32m✔\u001b[39m \u001b[34mggplot2\u001b[39m 3.3.0     \u001b[32m✔\u001b[39m \u001b[34mpurrr  \u001b[39m 0.3.4\n",
      "\u001b[32m✔\u001b[39m \u001b[34mtibble \u001b[39m 3.2.1     \u001b[32m✔\u001b[39m \u001b[34mdplyr  \u001b[39m 1.1.2\n",
      "\u001b[32m✔\u001b[39m \u001b[34mtidyr  \u001b[39m 1.0.2     \u001b[32m✔\u001b[39m \u001b[34mstringr\u001b[39m 1.4.0\n",
      "\u001b[32m✔\u001b[39m \u001b[34mreadr  \u001b[39m 1.3.1     \u001b[32m✔\u001b[39m \u001b[34mforcats\u001b[39m 0.5.0\n",
      "\n",
      "── \u001b[1mConflicts\u001b[22m ────────────────────────────────────────── tidyverse_conflicts() ──\n",
      "\u001b[31m✖\u001b[39m \u001b[34mdplyr\u001b[39m::\u001b[32mfilter()\u001b[39m  masks \u001b[34mstats\u001b[39m::filter()\n",
      "\u001b[31m✖\u001b[39m \u001b[34mpurrr\u001b[39m::\u001b[32mis_null()\u001b[39m masks \u001b[34mtestthat\u001b[39m::is_null()\n",
      "\u001b[31m✖\u001b[39m \u001b[34mdplyr\u001b[39m::\u001b[32mlag()\u001b[39m     masks \u001b[34mstats\u001b[39m::lag()\n",
      "\u001b[31m✖\u001b[39m \u001b[34mdplyr\u001b[39m::\u001b[32mmatches()\u001b[39m masks \u001b[34mtidyr\u001b[39m::matches(), \u001b[34mtestthat\u001b[39m::matches()\n",
      "\n",
      "\n",
      "Attaching package: ‘MASS’\n",
      "\n",
      "\n",
      "The following object is masked from ‘package:dplyr’:\n",
      "\n",
      "    select\n",
      "\n",
      "\n"
     ]
    }
   ],
   "source": [
    "# Load necesary libraries\n",
    "library(testthat)\n",
    "library(tidyverse)\n",
    "library(MASS)"
   ]
  },
  {
   "cell_type": "markdown",
   "metadata": {
    "deletable": false,
    "editable": false,
    "nbgrader": {
     "cell_type": "markdown",
     "checksum": "bff9a1d9b544c252fc0f1f99411673f5",
     "grade": false,
     "grade_id": "cell-32a71129898a1ded",
     "locked": true,
     "schema_version": 3,
     "solution": false,
     "task": false
    }
   },
   "source": [
    "# Problem 1: Logistic Regression Basics\n",
    "\n",
    "Welcome to your first autograded assignment for Generalize Linear Models and Nonparametric Regression. Instead of throwing you directly into the code, let's start off slow with some conceptual questions. We will get to the actual coding part shortly."
   ]
  },
  {
   "cell_type": "markdown",
   "metadata": {
    "deletable": false,
    "editable": false,
    "nbgrader": {
     "cell_type": "markdown",
     "checksum": "6773a60ff1e947bb1265164b9cbb9a8a",
     "grade": false,
     "grade_id": "cell-9b8ab7a03080a667",
     "locked": true,
     "schema_version": 3,
     "solution": false,
     "task": false
    }
   },
   "source": [
    "### 1. (a) Odds and Ends\n",
    "\n",
    "For each of the following questions, save your answer in the respecitve variable for that problem. You don't need to show your work, just submit your final answer.\n",
    "\n",
    "\n",
    "1. What is the equivalent odds for the probability $0.25$?\n",
    "2. You are testing a new drug and have gathered binary data on whether the drug performed its desired effects. From the control trial, 102 people saw improvement with a placebo and 241 did not. With the drug, 67 people saw improvement and 82 did not. What is the odds ratio of these results?\n",
    "3. You've decided to determine the probability of a picture containing an animal on social media. On 6 different days, you look at 10 random pictures and record the number of pictures that contain at least one animal, and get the values $\\{6, 10, 7, 9, 5, 9\\}$. Given these results, what is the MLE for the probability of a picture containing an animal?"
   ]
  },
  {
   "cell_type": "code",
   "execution_count": 2,
   "metadata": {
    "deletable": false,
    "nbgrader": {
     "cell_type": "code",
     "checksum": "e709cee883b82f26c2890e23db739830",
     "grade": false,
     "grade_id": "cell-ebd6747b8d9df577",
     "locked": false,
     "schema_version": 3,
     "solution": true,
     "task": false
    }
   },
   "outputs": [],
   "source": [
    "# Answer each with the correct numeric value.\n",
    "prob.1.a.1 = 1/3\n",
    "\n",
    "prob.1.a.2 = (67/82)/(102/241)\n",
    "\n",
    "prob.1.a.3 = 1\n"
   ]
  },
  {
   "cell_type": "code",
   "execution_count": 3,
   "metadata": {
    "deletable": false,
    "editable": false,
    "nbgrader": {
     "cell_type": "code",
     "checksum": "24c55383bc84409e420b5c7faf0151a1",
     "grade": true,
     "grade_id": "cell-40045dbf4a1fac9f",
     "locked": true,
     "points": 15,
     "schema_version": 3,
     "solution": false,
     "task": false
    }
   },
   "outputs": [],
   "source": [
    "# Test Cell \n",
    "# Be aware, there may be hidden tests that you don't see the answer to. \n",
    "# Even if your answers pass all the visible tests, there may be hidden tests that you're not passing."
   ]
  },
  {
   "cell_type": "markdown",
   "metadata": {
    "deletable": false,
    "editable": false,
    "nbgrader": {
     "cell_type": "markdown",
     "checksum": "b6001eb9a724ad5b7cf5e3678bb047b4",
     "grade": false,
     "grade_id": "cell-e4f7d84c6dfa529e",
     "locked": true,
     "schema_version": 3,
     "solution": false,
     "task": false
    }
   },
   "source": [
    "### 1. (b) Logistic Regression TRUE/FALSE\n",
    "\n",
    "For each of the following questions, save the boolean `TRUE` or `FALSE` (case sensitive) in the corresponding variable. \n",
    "\n",
    "1. Accuracy, Log-Loss and Mean-Squared Error are all evaulation metrics that can be used with Logistic Regression.\n",
    "2. The Logit link function is defined as the log of the odds function. Therefor, the Logit function has a range of $[0, \\infty]$.\n",
    "3. Suppose you fit a Logistic Regression classifier to a response variable $\\in \\{0, 1\\}$ and get $y = g(\\beta_0 + \\beta_1x_1 + \\beta_2x_2)$ where $\\beta_0 = 4, \\beta_1=1, \\beta_2=-2$ and $g()$ is the link function. Then the input $x_i=(1, 3)$ would be classified as $0$."
   ]
  },
  {
   "cell_type": "code",
   "execution_count": 4,
   "metadata": {
    "deletable": false,
    "nbgrader": {
     "cell_type": "code",
     "checksum": "eda6c4136ddd0b2d5243f52ed476b97e",
     "grade": false,
     "grade_id": "cell-67f4b99147834407",
     "locked": false,
     "schema_version": 3,
     "solution": true,
     "task": false
    }
   },
   "outputs": [],
   "source": [
    "# Answer each with either TRUE or FALSE.\n",
    "prob.1.b.1 = FALSE\n",
    "\n",
    "prob.1.b.2 = FALSE\n",
    "\n",
    "prob.1.b.3 = TRUE\n"
   ]
  },
  {
   "cell_type": "code",
   "execution_count": 5,
   "metadata": {
    "deletable": false,
    "editable": false,
    "nbgrader": {
     "cell_type": "code",
     "checksum": "7e6f58dc84755d6fcec33acd9810b1eb",
     "grade": true,
     "grade_id": "cell-3356b8377261c954",
     "locked": true,
     "points": 15,
     "schema_version": 3,
     "solution": false,
     "task": false
    }
   },
   "outputs": [],
   "source": [
    "# Test Cell\n",
    "if(!test_that(\"Checking answer type\", expect_is(prob.1.b.1, 'logical'))){\n",
    "    print(\"Make sure your answers are booleans!\")\n",
    "}"
   ]
  },
  {
   "cell_type": "markdown",
   "metadata": {
    "deletable": false,
    "editable": false,
    "nbgrader": {
     "cell_type": "markdown",
     "checksum": "284b7cf4f89ac881e40a059f0b4b3bcb",
     "grade": false,
     "grade_id": "cell-a251c086420d4b5e",
     "locked": true,
     "schema_version": 3,
     "solution": false,
     "task": false
    }
   },
   "source": [
    "# Problem 2: Bacteria growth in apple juice\n",
    "\n",
    "Apparently, other organisms like apple juice too. So much so that some researchers decided to measure the growth of certain bacteria in different apple juice solutions. They measured whether different pH, temperature and molecular concentrations affected the growth of Alicyclobacillus Acidoterrestris CRA7152. \n",
    "\n",
    "Lets use their data to practice our Binomial (Logistic) modelling skills. We use the code cell below to load in the data."
   ]
  },
  {
   "cell_type": "code",
   "execution_count": 6,
   "metadata": {
    "deletable": false,
    "editable": false,
    "nbgrader": {
     "cell_type": "code",
     "checksum": "b4762037cd99688d447e71ab81cb8879",
     "grade": false,
     "grade_id": "cell-71a09113c758e9d1",
     "locked": true,
     "schema_version": 3,
     "solution": false,
     "task": false
    }
   },
   "outputs": [
    {
     "data": {
      "text/html": [
       "<table>\n",
       "<caption>A data.frame: 6 × 5</caption>\n",
       "<thead>\n",
       "\t<tr><th></th><th scope=col>pH</th><th scope=col>nisin</th><th scope=col>temp</th><th scope=col>brix</th><th scope=col>growth</th></tr>\n",
       "\t<tr><th></th><th scope=col>&lt;dbl&gt;</th><th scope=col>&lt;int&gt;</th><th scope=col>&lt;int&gt;</th><th scope=col>&lt;int&gt;</th><th scope=col>&lt;fct&gt;</th></tr>\n",
       "</thead>\n",
       "<tbody>\n",
       "\t<tr><th scope=row>1</th><td>5.5</td><td>70</td><td>43</td><td>19</td><td>0</td></tr>\n",
       "\t<tr><th scope=row>2</th><td>5.5</td><td>50</td><td>43</td><td>13</td><td>1</td></tr>\n",
       "\t<tr><th scope=row>3</th><td>5.5</td><td>50</td><td>35</td><td>15</td><td>1</td></tr>\n",
       "\t<tr><th scope=row>4</th><td>5.5</td><td>30</td><td>35</td><td>13</td><td>1</td></tr>\n",
       "\t<tr><th scope=row>5</th><td>5.5</td><td>30</td><td>25</td><td>11</td><td>0</td></tr>\n",
       "\t<tr><th scope=row>6</th><td>5.5</td><td> 0</td><td>50</td><td>19</td><td>0</td></tr>\n",
       "</tbody>\n",
       "</table>\n"
      ],
      "text/latex": [
       "A data.frame: 6 × 5\n",
       "\\begin{tabular}{r|lllll}\n",
       "  & pH & nisin & temp & brix & growth\\\\\n",
       "  & <dbl> & <int> & <int> & <int> & <fct>\\\\\n",
       "\\hline\n",
       "\t1 & 5.5 & 70 & 43 & 19 & 0\\\\\n",
       "\t2 & 5.5 & 50 & 43 & 13 & 1\\\\\n",
       "\t3 & 5.5 & 50 & 35 & 15 & 1\\\\\n",
       "\t4 & 5.5 & 30 & 35 & 13 & 1\\\\\n",
       "\t5 & 5.5 & 30 & 25 & 11 & 0\\\\\n",
       "\t6 & 5.5 &  0 & 50 & 19 & 0\\\\\n",
       "\\end{tabular}\n"
      ],
      "text/markdown": [
       "\n",
       "A data.frame: 6 × 5\n",
       "\n",
       "| <!--/--> | pH &lt;dbl&gt; | nisin &lt;int&gt; | temp &lt;int&gt; | brix &lt;int&gt; | growth &lt;fct&gt; |\n",
       "|---|---|---|---|---|---|\n",
       "| 1 | 5.5 | 70 | 43 | 19 | 0 |\n",
       "| 2 | 5.5 | 50 | 43 | 13 | 1 |\n",
       "| 3 | 5.5 | 50 | 35 | 15 | 1 |\n",
       "| 4 | 5.5 | 30 | 35 | 13 | 1 |\n",
       "| 5 | 5.5 | 30 | 25 | 11 | 0 |\n",
       "| 6 | 5.5 |  0 | 50 | 19 | 0 |\n",
       "\n"
      ],
      "text/plain": [
       "  pH  nisin temp brix growth\n",
       "1 5.5 70    43   19   0     \n",
       "2 5.5 50    43   13   1     \n",
       "3 5.5 50    35   15   1     \n",
       "4 5.5 30    35   13   1     \n",
       "5 5.5 30    25   11   0     \n",
       "6 5.5  0    50   19   0     "
      ]
     },
     "metadata": {},
     "output_type": "display_data"
    }
   ],
   "source": [
    "library(ggplot2)\n",
    "\n",
    "apple.data = read.csv(url(paste0(\"https://raw.githubusercontent.com/bzaharatos\",\n",
    "                                 \"/-Statistical-Modeling-for-Data-Science-Applications/\",\n",
    "                                 \"master/Generalized%20Linear%20Models%20and%20Nonparametric%20Regression/\",\n",
    "                                 \"Datasets/apple_juice.dat\")), sep = \"\")\n",
    "    \n",
    "names(apple.data) = c(\"pH\", \"nisin\", \"temp\", \"brix\", \"growth\")\n",
    "apple.data$growth = as.factor(apple.data$growth)\n",
    "\n",
    "head(apple.data)"
   ]
  },
  {
   "cell_type": "code",
   "execution_count": 7,
   "metadata": {},
   "outputs": [
    {
     "name": "stdout",
     "output_type": "stream",
     "text": [
      "'data.frame':\t73 obs. of  5 variables:\n",
      " $ pH    : num  5.5 5.5 5.5 5.5 5.5 5.5 5.5 3.5 3.5 3.5 ...\n",
      " $ nisin : int  70 50 50 30 30 0 0 70 70 50 ...\n",
      " $ temp  : int  43 43 35 35 25 50 25 43 35 50 ...\n",
      " $ brix  : int  19 13 15 13 11 19 15 15 11 13 ...\n",
      " $ growth: Factor w/ 2 levels \"0\",\"1\": 1 2 2 2 1 1 2 1 1 1 ...\n"
     ]
    }
   ],
   "source": [
    "str(apple.data)"
   ]
  },
  {
   "cell_type": "markdown",
   "metadata": {
    "deletable": false,
    "editable": false,
    "nbgrader": {
     "cell_type": "markdown",
     "checksum": "446f13cc9fd269f3070c4ab8bc7b824a",
     "grade": false,
     "grade_id": "cell-fa4fa6defd408bf2",
     "locked": true,
     "schema_version": 3,
     "solution": false,
     "task": false
    }
   },
   "source": [
    "### 2. (a) Creating the Model\n",
    "\n",
    "Fit a logistic regression model to the data, with `growth` as the response and all other variables as the predictors. Save this model as `glmod.apple`. Further, save $\\widehat\\beta_{temp}$, the parameter estimate for `temp`, in `beta_temp`."
   ]
  },
  {
   "cell_type": "code",
   "execution_count": 8,
   "metadata": {
    "deletable": false,
    "nbgrader": {
     "cell_type": "code",
     "checksum": "f4c87e2c04600e906dd5d576670fdfb4",
     "grade": false,
     "grade_id": "cell-024af41fd5a18784",
     "locked": false,
     "schema_version": 3,
     "solution": true,
     "task": false
    }
   },
   "outputs": [
    {
     "data": {
      "text/plain": [
       "\n",
       "Call:\n",
       "glm(formula = growth ~ pH + nisin + temp + brix, family = binomial, \n",
       "    data = apple.data)\n",
       "\n",
       "Deviance Residuals: \n",
       "    Min       1Q   Median       3Q      Max  \n",
       "-2.3245  -0.4325  -0.1415   0.5308   1.5593  \n",
       "\n",
       "Coefficients:\n",
       "            Estimate Std. Error z value Pr(>|z|)    \n",
       "(Intercept) -7.68363    3.28201  -2.341 0.019225 *  \n",
       "pH           2.04908    0.57481   3.565 0.000364 ***\n",
       "nisin       -0.06273    0.01910  -3.283 0.001026 ** \n",
       "temp         0.12532    0.05079   2.467 0.013614 *  \n",
       "brix        -0.38000    0.15909  -2.389 0.016915 *  \n",
       "---\n",
       "Signif. codes:  0 ‘***’ 0.001 ‘**’ 0.01 ‘*’ 0.05 ‘.’ 0.1 ‘ ’ 1\n",
       "\n",
       "(Dispersion parameter for binomial family taken to be 1)\n",
       "\n",
       "    Null deviance: 95.072  on 72  degrees of freedom\n",
       "Residual deviance: 49.844  on 68  degrees of freedom\n",
       "AIC: 59.844\n",
       "\n",
       "Number of Fisher Scoring iterations: 6\n"
      ]
     },
     "metadata": {},
     "output_type": "display_data"
    },
    {
     "data": {
      "text/html": [
       "<strong>temp:</strong> 0.125315856246181"
      ],
      "text/latex": [
       "\\textbf{temp:} 0.125315856246181"
      ],
      "text/markdown": [
       "**temp:** 0.125315856246181"
      ],
      "text/plain": [
       "     temp \n",
       "0.1253159 "
      ]
     },
     "metadata": {},
     "output_type": "display_data"
    }
   ],
   "source": [
    "# Fit the logistic regression model\n",
    "glmod.apple <- glm(growth ~ pH + nisin + temp + brix, data = apple.data, family = binomial)\n",
    "\n",
    "# Extract the parameter estimate for `temp`\n",
    "beta_temp <- coef(glmod.apple)[\"temp\"]\n",
    "\n",
    "# Display the model summary\n",
    "summary(glmod.apple)\n",
    "\n",
    "# Display the value of beta_temp\n",
    "beta_temp\n"
   ]
  },
  {
   "cell_type": "code",
   "execution_count": 9,
   "metadata": {
    "deletable": false,
    "editable": false,
    "nbgrader": {
     "cell_type": "code",
     "checksum": "71e1ca28410e48c43dfbb0ecda96f202",
     "grade": true,
     "grade_id": "cell-5080653dd9a6d6b8",
     "locked": true,
     "points": 10,
     "schema_version": 3,
     "solution": false,
     "task": false
    }
   },
   "outputs": [],
   "source": [
    "# Test Cell"
   ]
  },
  {
   "cell_type": "markdown",
   "metadata": {
    "deletable": false,
    "editable": false,
    "nbgrader": {
     "cell_type": "markdown",
     "checksum": "333db17b3b20d5e9e1710285661284bc",
     "grade": false,
     "grade_id": "cell-c62f1c606555313e",
     "locked": true,
     "schema_version": 3,
     "solution": false,
     "task": false
    }
   },
   "source": [
    "### 2. (b) The Effects of Temperature\n",
    "\n",
    "How might we understand the relationship between a specific predictor in the model, say, temperature, and the odds of growth? \n",
    "\n",
    "- Our model gives us one answer to this question. Recall that $\\widehat\\beta_{temp}$ can be interpreted as the (additive) change in the log odds of success for a one-unit increase in temperature, holding all other predictors constant. \n",
    "\n",
    "- Similarly, $e^{\\widehat\\beta_{temp}}$ can be interpreted as the *multiplicitive* change in the odds of success for a one-unit increase in temperature, holding all other predictors constant. \n",
    "\n",
    "Let's verify the interpretation of $e^{\\widehat\\beta_{temp}}$ using the following steps:\n",
    "\n",
    "1. Calculate the mean of each predictor column. Store those means in a ($1 \\times 4$) data frame named `df_means`. Make sure that the columns of `df_means` are named the same as the predictors in the data frame. \n",
    "\n",
    "\n",
    "2. Using `df_means`, compute the odds of growth at the mean value for each predictor. Store this value in `e1`. HINT: `predict(glmod.apple, new = df_means)` will give this answer on the log-odds scale.\n",
    "\n",
    "\n",
    "3. Compute `beta_temp*e1`, using `beta_temp` from part (a).\n",
    "\n",
    "\n",
    "4. Now, construct a new data frame, `df_means1`, that is the same as `df_means` except that the `temp` value is one-unit larger than its mean (all other columns should remain at their mean data value).\n",
    "\n",
    "\n",
    "5. Compute the odds of growth at the predictor values given in `df_means1`. Store this computation in `e2`.\n",
    "\n",
    "Note that `e2` should equal `beta_temp*e1`!"
   ]
  },
  {
   "cell_type": "code",
   "execution_count": 10,
   "metadata": {
    "deletable": false,
    "nbgrader": {
     "cell_type": "code",
     "checksum": "5788e7a6bca81902604a65b9593d59b6",
     "grade": false,
     "grade_id": "cell-7414765f9a299f1f",
     "locked": false,
     "schema_version": 3,
     "solution": true,
     "task": false
    }
   },
   "outputs": [
    {
     "data": {
      "text/html": [
       "<table>\n",
       "<caption>A data.frame: 1 × 4</caption>\n",
       "<thead>\n",
       "\t<tr><th scope=col>pH</th><th scope=col>nisin</th><th scope=col>temp</th><th scope=col>brix</th></tr>\n",
       "\t<tr><th scope=col>&lt;dbl&gt;</th><th scope=col>&lt;dbl&gt;</th><th scope=col>&lt;dbl&gt;</th><th scope=col>&lt;dbl&gt;</th></tr>\n",
       "</thead>\n",
       "<tbody>\n",
       "\t<tr><td>4.472603</td><td>34.65753</td><td>38.21918</td><td>14.28767</td></tr>\n",
       "</tbody>\n",
       "</table>\n"
      ],
      "text/latex": [
       "A data.frame: 1 × 4\n",
       "\\begin{tabular}{llll}\n",
       " pH & nisin & temp & brix\\\\\n",
       " <dbl> & <dbl> & <dbl> & <dbl>\\\\\n",
       "\\hline\n",
       "\t 4.472603 & 34.65753 & 38.21918 & 14.28767\\\\\n",
       "\\end{tabular}\n"
      ],
      "text/markdown": [
       "\n",
       "A data.frame: 1 × 4\n",
       "\n",
       "| pH &lt;dbl&gt; | nisin &lt;dbl&gt; | temp &lt;dbl&gt; | brix &lt;dbl&gt; |\n",
       "|---|---|---|---|\n",
       "| 4.472603 | 34.65753 | 38.21918 | 14.28767 |\n",
       "\n"
      ],
      "text/plain": [
       "  pH       nisin    temp     brix    \n",
       "1 4.472603 34.65753 38.21918 14.28767"
      ]
     },
     "metadata": {},
     "output_type": "display_data"
    },
    {
     "data": {
      "text/html": [
       "<table>\n",
       "<caption>A data.frame: 1 × 4</caption>\n",
       "<thead>\n",
       "\t<tr><th scope=col>pH</th><th scope=col>nisin</th><th scope=col>temp</th><th scope=col>brix</th></tr>\n",
       "\t<tr><th scope=col>&lt;dbl&gt;</th><th scope=col>&lt;dbl&gt;</th><th scope=col>&lt;dbl&gt;</th><th scope=col>&lt;dbl&gt;</th></tr>\n",
       "</thead>\n",
       "<tbody>\n",
       "\t<tr><td>4.472603</td><td>34.65753</td><td>39.21918</td><td>14.28767</td></tr>\n",
       "</tbody>\n",
       "</table>\n"
      ],
      "text/latex": [
       "A data.frame: 1 × 4\n",
       "\\begin{tabular}{llll}\n",
       " pH & nisin & temp & brix\\\\\n",
       " <dbl> & <dbl> & <dbl> & <dbl>\\\\\n",
       "\\hline\n",
       "\t 4.472603 & 34.65753 & 39.21918 & 14.28767\\\\\n",
       "\\end{tabular}\n"
      ],
      "text/markdown": [
       "\n",
       "A data.frame: 1 × 4\n",
       "\n",
       "| pH &lt;dbl&gt; | nisin &lt;dbl&gt; | temp &lt;dbl&gt; | brix &lt;dbl&gt; |\n",
       "|---|---|---|---|\n",
       "| 4.472603 | 34.65753 | 39.21918 | 14.28767 |\n",
       "\n"
      ],
      "text/plain": [
       "  pH       nisin    temp     brix    \n",
       "1 4.472603 34.65753 39.21918 14.28767"
      ]
     },
     "metadata": {},
     "output_type": "display_data"
    },
    {
     "data": {
      "text/html": [
       "<strong>1:</strong> 0.263776544055947"
      ],
      "text/latex": [
       "\\textbf{1:} 0.263776544055947"
      ],
      "text/markdown": [
       "**1:** 0.263776544055947"
      ],
      "text/plain": [
       "        1 \n",
       "0.2637765 "
      ]
     },
     "metadata": {},
     "output_type": "display_data"
    },
    {
     "data": {
      "text/html": [
       "<strong>temp:</strong> 0.0330553834760295"
      ],
      "text/latex": [
       "\\textbf{temp:} 0.0330553834760295"
      ],
      "text/markdown": [
       "**temp:** 0.0330553834760295"
      ],
      "text/plain": [
       "      temp \n",
       "0.03305538 "
      ]
     },
     "metadata": {},
     "output_type": "display_data"
    },
    {
     "data": {
      "text/html": [
       "<strong>1:</strong> 0.298992406558538"
      ],
      "text/latex": [
       "\\textbf{1:} 0.298992406558538"
      ],
      "text/markdown": [
       "**1:** 0.298992406558538"
      ],
      "text/plain": [
       "        1 \n",
       "0.2989924 "
      ]
     },
     "metadata": {},
     "output_type": "display_data"
    }
   ],
   "source": [
    "# Step 1: Calculate the mean of each predictor column and store them in a data frame named df_means\n",
    "df_means <- data.frame(\n",
    "  pH = mean(apple.data$pH),\n",
    "  nisin = mean(apple.data$nisin),\n",
    "  temp = mean(apple.data$temp),\n",
    "  brix = mean(apple.data$brix)\n",
    ")\n",
    "\n",
    "# Step 2: Compute the odds of growth at the mean value for each predictor, stored in e1\n",
    "log_odds_e1 <- predict(glmod.apple, newdata = df_means)\n",
    "e1 <- exp(log_odds_e1)\n",
    "\n",
    "# Step 3: Compute beta_temp * e1\n",
    "beta_temp_e1 <- beta_temp * e1\n",
    "\n",
    "# Step 4: Construct a new data frame df_means1 where temp is one unit larger than its mean\n",
    "df_means1 <- df_means\n",
    "df_means1$temp <- df_means$temp + 1\n",
    "\n",
    "# Step 5: Compute the odds of growth at the predictor values given in df_means1, stored in e2\n",
    "log_odds_e2 <- predict(glmod.apple, newdata = df_means1)\n",
    "e2 <- exp(log_odds_e2)\n",
    "\n",
    "# Display the results\n",
    "df_means\n",
    "df_means1\n",
    "e1\n",
    "beta_temp_e1\n",
    "e2\n",
    "\n"
   ]
  },
  {
   "cell_type": "code",
   "execution_count": 11,
   "metadata": {
    "deletable": false,
    "editable": false,
    "nbgrader": {
     "cell_type": "code",
     "checksum": "ca862f8d69b4c4cc6cf5f7f78c370186",
     "grade": true,
     "grade_id": "cell-0e18086c3f9e42d0",
     "locked": true,
     "points": 5,
     "schema_version": 3,
     "solution": false,
     "task": false
    }
   },
   "outputs": [],
   "source": [
    "# Test Cell"
   ]
  },
  {
   "cell_type": "markdown",
   "metadata": {
    "deletable": false,
    "editable": false,
    "nbgrader": {
     "cell_type": "markdown",
     "checksum": "8beecf4ac3891407444a1be56c775772",
     "grade": false,
     "grade_id": "cell-b037a14ce17528f2",
     "locked": true,
     "schema_version": 3,
     "solution": false,
     "task": false
    }
   },
   "source": [
    "### 2. (c) Quantifying uncertainty in parameters\n",
    "\n",
    "Remember, in our logistic regression model, we assume that our response data come from a binomial distribution, which means that there is some inherent randomness in our measurements. Thus, a point estimate of a parameter is only so helpful. We might also want to quantify our uncertainty in a given parameter.\n",
    "\n",
    "Calculate the $95\\%$ confidence interval for $\\beta_{temp}$. Use the assumption that $\\widehat\\beta_{temp} \\overset{\\text{approx}}{\\sim} N(\\beta_{temp}, se^2)$, where $se = 0.05079$ is the standard error in the summary table from part (a). Store the lower bound in `beta_temp_lower` and the upper bound in `beta_temp_upper`."
   ]
  },
  {
   "cell_type": "code",
   "execution_count": 12,
   "metadata": {
    "deletable": false,
    "nbgrader": {
     "cell_type": "code",
     "checksum": "a3628d02fc7f6d4ce379c10182d033d0",
     "grade": false,
     "grade_id": "cell-6df5ad02ad051c85",
     "locked": false,
     "schema_version": 3,
     "solution": true,
     "task": false
    }
   },
   "outputs": [
    {
     "data": {
      "text/html": [
       "<strong>temp:</strong> 0.0257674562461811"
      ],
      "text/latex": [
       "\\textbf{temp:} 0.0257674562461811"
      ],
      "text/markdown": [
       "**temp:** 0.0257674562461811"
      ],
      "text/plain": [
       "      temp \n",
       "0.02576746 "
      ]
     },
     "metadata": {},
     "output_type": "display_data"
    },
    {
     "data": {
      "text/html": [
       "<strong>temp:</strong> 0.224864256246181"
      ],
      "text/latex": [
       "\\textbf{temp:} 0.224864256246181"
      ],
      "text/markdown": [
       "**temp:** 0.224864256246181"
      ],
      "text/plain": [
       "     temp \n",
       "0.2248643 "
      ]
     },
     "metadata": {},
     "output_type": "display_data"
    }
   ],
   "source": [
    "# Given values\n",
    "se <- 0.05079\n",
    "\n",
    "# Calculate the lower and upper bounds of the 95% confidence interval\n",
    "beta_temp_lower <- beta_temp - 1.96 * se\n",
    "beta_temp_upper <- beta_temp + 1.96 * se\n",
    "\n",
    "# Display the results\n",
    "beta_temp_lower\n",
    "beta_temp_upper\n"
   ]
  },
  {
   "cell_type": "code",
   "execution_count": 13,
   "metadata": {
    "deletable": false,
    "editable": false,
    "nbgrader": {
     "cell_type": "code",
     "checksum": "56b3fee2b4351fbd70dbb1158455dd05",
     "grade": true,
     "grade_id": "cell-c75bdb140f6fe1e7",
     "locked": true,
     "points": 10,
     "schema_version": 3,
     "solution": false,
     "task": false
    }
   },
   "outputs": [],
   "source": [
    "# Test Cell"
   ]
  },
  {
   "cell_type": "code",
   "execution_count": null,
   "metadata": {},
   "outputs": [],
   "source": []
  }
 ],
 "metadata": {
  "kernelspec": {
   "display_name": "R",
   "language": "R",
   "name": "ir"
  },
  "language_info": {
   "codemirror_mode": "r",
   "file_extension": ".r",
   "mimetype": "text/x-r-source",
   "name": "R",
   "pygments_lexer": "r",
   "version": "3.6.3"
  }
 },
 "nbformat": 4,
 "nbformat_minor": 4
}
