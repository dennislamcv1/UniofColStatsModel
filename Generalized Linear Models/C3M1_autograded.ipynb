{
 "cells": [
  {
   "cell_type": "markdown",
   "metadata": {
    "deletable": false,
    "editable": false,
    "nbgrader": {
     "cell_type": "markdown",
     "checksum": "c2198530448ed7287a029819aed5943a",
     "grade": false,
     "grade_id": "cell-c66263f4ea9092d7",
     "locked": true,
     "schema_version": 3,
     "solution": false,
     "task": false
    }
   },
   "source": [
    "# C3M1: Autograded Assignment"
   ]
  },
  {
   "cell_type": "markdown",
   "metadata": {
    "deletable": false,
    "editable": false,
    "nbgrader": {
     "cell_type": "markdown",
     "checksum": "82e556abc62485ec8b712966decf6c3f",
     "grade": false,
     "grade_id": "cell-bf71a5a5373f5dda",
     "locked": true,
     "schema_version": 3,
     "solution": false,
     "task": false
    }
   },
   "source": [
    "### Outline:\n",
    "**Here are the objectives of this assignment:**\n",
    "\n",
    "1. Familiarize yourself with odds and how they convert to probabilities.\n",
    "2. Review Maximum Likelihood Estimates.\n",
    "3. Understand the difference between Binomial Regression and Logistic Regression.\n",
    "4. Get a basic understanding of Logistic regression models and properties.\n",
    "5. Apply Logistic Regression techniques to real data.\n",
    "\n",
    "**Here are some general tips:**\n",
    "\n",
    "1. Read the questions carefully to understand what is being asked.\n",
    "2. When you feel that your work is completed, feel free to hit the ```Validate``` button to see your results on the *visible* unit tests. If you have questions about unit testing, please refer to the \"Module 0: Introduction\" notebook provided as an optional resource for this course. In this assignment, there are hidden unit tests that check your code. You will not recieve any feedback for failed hidden unit tests until the assignment is submitted. **Do not misinterpret the feedback from visible unit tests as all possible tests for a given question--write your code carefully!**\n",
    "3. Before submitting, we recommend restarting the kernel and running all the cells in order that they appear to make sure that there are no additional bugs in your code."
   ]
  },
  {
   "cell_type": "code",
   "execution_count": null,
   "metadata": {
    "deletable": false,
    "editable": false,
    "nbgrader": {
     "cell_type": "code",
     "checksum": "29ac22761e06ea50210ebda316f7156f",
     "grade": false,
     "grade_id": "cell-0f10a1b79e686e03",
     "locked": true,
     "schema_version": 3,
     "solution": false,
     "task": false
    }
   },
   "outputs": [],
   "source": [
    "# Load necesary libraries\n",
    "library(testthat)\n",
    "library(tidyverse)\n",
    "library(MASS)\n",
    "library(ggplot2)"
   ]
  },
  {
   "cell_type": "markdown",
   "metadata": {
    "deletable": false,
    "editable": false,
    "nbgrader": {
     "cell_type": "markdown",
     "checksum": "bff9a1d9b544c252fc0f1f99411673f5",
     "grade": false,
     "grade_id": "cell-32a71129898a1ded",
     "locked": true,
     "schema_version": 3,
     "solution": false,
     "task": false
    }
   },
   "source": [
    "# Problem 1: Logistic Regression Basics\n",
    "\n",
    "Welcome to your first autograded assignment for Generalize Linear Models and Nonparametric Regression. Instead of throwing you directly into the code, let's start off slow with some conceptual questions. We will get to the actual coding part shortly."
   ]
  },
  {
   "cell_type": "markdown",
   "metadata": {
    "deletable": false,
    "editable": false,
    "nbgrader": {
     "cell_type": "markdown",
     "checksum": "98f8f86ca4721ebd79486c671defc08c",
     "grade": false,
     "grade_id": "cell-9b8ab7a03080a667",
     "locked": true,
     "schema_version": 3,
     "solution": false,
     "task": false
    }
   },
   "source": [
    "### 1. (a) Odds and Ends (5 points each)\n",
    "\n",
    "For each of the following questions, save your answer in the respecitve variable for that problem. You don't need to show your work, just submit your final answer.\n",
    "\n",
    "\n",
    "1. What is the equivalent odds for the probability $0.25$?\n",
    "2. You are testing a new drug and have gathered binary data on whether the drug performed its desired effects. From the control trial, 102 people saw improvement with a placebo and 241 did not. With the drug, 67 people saw improvement and 82 did not. What is the odds ratio of these results?\n",
    "3. You've decided to determine the probability of a picture containing an animal on social media. On 6 different days, you look at 10 random pictures and record the number of pictures that contain at least one animal, and get the values $\\{6, 10, 7, 9, 5, 9\\}$. Given these results, what is the MLE for the probability of a picture containing an animal?"
   ]
  },
  {
   "cell_type": "code",
   "execution_count": null,
   "metadata": {
    "deletable": false,
    "nbgrader": {
     "cell_type": "code",
     "checksum": "e709cee883b82f26c2890e23db739830",
     "grade": false,
     "grade_id": "cell-ebd6747b8d9df577",
     "locked": false,
     "schema_version": 3,
     "solution": true,
     "task": false
    }
   },
   "outputs": [],
   "source": [
    "# Answer each with the correct numeric value.\n",
    "prob.1.a.1 = NA\n",
    "\n",
    "prob.1.a.2 = NA\n",
    "\n",
    "prob.1.a.3 = NA\n",
    "\n",
    "# your code here\n"
   ]
  },
  {
   "cell_type": "code",
   "execution_count": null,
   "metadata": {
    "deletable": false,
    "editable": false,
    "nbgrader": {
     "cell_type": "code",
     "checksum": "2e7d17365323b3bfa7457ee90963a4a4",
     "grade": true,
     "grade_id": "cell-40045dbf4a1fac9f",
     "locked": true,
     "points": 4,
     "schema_version": 3,
     "solution": false,
     "task": false
    }
   },
   "outputs": [],
   "source": [
    "# Test Cell \n",
    "# Be aware, there may be hidden tests that you don't see the answer to. \n",
    "# Even if your answers pass all the visible tests, there may be hidden tests that you're not passing."
   ]
  },
  {
   "cell_type": "code",
   "execution_count": null,
   "metadata": {
    "deletable": false,
    "editable": false,
    "nbgrader": {
     "cell_type": "code",
     "checksum": "b9fa8316b92eea90df8d3967f452b1b5",
     "grade": true,
     "grade_id": "cell-cf8e40695a129f16",
     "locked": true,
     "points": 4,
     "schema_version": 3,
     "solution": false,
     "task": false
    }
   },
   "outputs": [],
   "source": [
    "# Test Cell \n",
    "# Be aware, there may be hidden tests that you don't see the answer to. \n",
    "# Even if your answers pass all the visible tests, there may be hidden tests that you're not passing."
   ]
  },
  {
   "cell_type": "code",
   "execution_count": null,
   "metadata": {
    "deletable": false,
    "editable": false,
    "nbgrader": {
     "cell_type": "code",
     "checksum": "e13ce536b444998456f172b0ed7cd076",
     "grade": true,
     "grade_id": "cell-1ac4cc2055a0166b",
     "locked": true,
     "points": 4,
     "schema_version": 3,
     "solution": false,
     "task": false
    }
   },
   "outputs": [],
   "source": [
    "# Test Cell \n",
    "# Be aware, there may be hidden tests that you don't see the answer to. \n",
    "# Even if your answers pass all the visible tests, there may be hidden tests that you're not passing."
   ]
  },
  {
   "cell_type": "markdown",
   "metadata": {
    "deletable": false,
    "editable": false,
    "nbgrader": {
     "cell_type": "markdown",
     "checksum": "b6001eb9a724ad5b7cf5e3678bb047b4",
     "grade": false,
     "grade_id": "cell-e4f7d84c6dfa529e",
     "locked": true,
     "schema_version": 3,
     "solution": false,
     "task": false
    }
   },
   "source": [
    "### 1. (b) Logistic Regression TRUE/FALSE\n",
    "\n",
    "For each of the following questions, save the boolean `TRUE` or `FALSE` (case sensitive) in the corresponding variable. \n",
    "\n",
    "1. Accuracy, Log-Loss and Mean-Squared Error are all evaulation metrics that can be used with Logistic Regression.\n",
    "2. The Logit link function is defined as the log of the odds function. Therefor, the Logit function has a range of $[0, \\infty]$.\n",
    "3. Suppose you fit a Logistic Regression classifier to a response variable $\\in \\{0, 1\\}$ and get $y = g(\\beta_0 + \\beta_1x_1 + \\beta_2x_2)$ where $\\beta_0 = 4, \\beta_1=1, \\beta_2=-2$ and $g()$ is the link function. Then the input $x_i=(1, 3)$ would be classified as $0$."
   ]
  },
  {
   "cell_type": "code",
   "execution_count": null,
   "metadata": {
    "deletable": false,
    "nbgrader": {
     "cell_type": "code",
     "checksum": "eda6c4136ddd0b2d5243f52ed476b97e",
     "grade": false,
     "grade_id": "cell-67f4b99147834407",
     "locked": false,
     "schema_version": 3,
     "solution": true,
     "task": false
    }
   },
   "outputs": [],
   "source": [
    "# Answer each with either TRUE or FALSE.\n",
    "prob.1.b.1 = NA\n",
    "\n",
    "prob.1.b.2 = NA\n",
    "\n",
    "prob.1.b.3 = NA\n",
    "\n",
    "# your code here\n"
   ]
  },
  {
   "cell_type": "code",
   "execution_count": null,
   "metadata": {
    "deletable": false,
    "editable": false,
    "nbgrader": {
     "cell_type": "code",
     "checksum": "1db0623daf1fa1bca8f403e95bb5b1be",
     "grade": true,
     "grade_id": "cell-3356b8377261c954",
     "locked": true,
     "points": 5,
     "schema_version": 3,
     "solution": false,
     "task": false
    }
   },
   "outputs": [],
   "source": [
    "# Test Cell\n",
    "\n",
    "# This cell has hidden test cases that will run after submission."
   ]
  },
  {
   "cell_type": "code",
   "execution_count": null,
   "metadata": {
    "deletable": false,
    "editable": false,
    "nbgrader": {
     "cell_type": "code",
     "checksum": "48aff908361422bb05b140ae760b6f1d",
     "grade": true,
     "grade_id": "cell-798322a0cb819072",
     "locked": true,
     "points": 5,
     "schema_version": 3,
     "solution": false,
     "task": false
    }
   },
   "outputs": [],
   "source": [
    "# Test Cell\n",
    "# This cell has hidden test cases that will run after submission."
   ]
  },
  {
   "cell_type": "code",
   "execution_count": null,
   "metadata": {
    "deletable": false,
    "editable": false,
    "nbgrader": {
     "cell_type": "code",
     "checksum": "4b71ed1406e69516b61d23d5c3b8ab5d",
     "grade": true,
     "grade_id": "cell-95dd05f95c82320c",
     "locked": true,
     "points": 5,
     "schema_version": 3,
     "solution": false,
     "task": false
    }
   },
   "outputs": [],
   "source": [
    "# Test Cell\n",
    "# This cell has hidden test cases that will run after submission."
   ]
  },
  {
   "cell_type": "markdown",
   "metadata": {
    "deletable": false,
    "editable": false,
    "nbgrader": {
     "cell_type": "markdown",
     "checksum": "8dc3ee1f4617be07d6da046c7f009a72",
     "grade": false,
     "grade_id": "cell-a251c086420d4b5e",
     "locked": true,
     "schema_version": 3,
     "solution": false,
     "task": false
    }
   },
   "source": [
    "# Problem 2: Froggy Apple Crumple Thumpkin\n",
    "\n",
    "Apparently, other organisms like apple juice too. So much so that some researchers decided to measure the growth of certain bacteria in different apple juice solutions. They measured whether different pH, temperature and molecular concentrations affected the growth of Alicyclobacillus Acidoterrestris CRA7152. \n",
    "\n",
    "Lets use their data to practice our Binomial (Logistic) modelling skills. We use the code cell below to load in the data."
   ]
  },
  {
   "cell_type": "code",
   "execution_count": null,
   "metadata": {
    "deletable": false,
    "editable": false,
    "nbgrader": {
     "cell_type": "code",
     "checksum": "e377ddddf888067062bb2ff0bd054485",
     "grade": false,
     "grade_id": "cell-71a09113c758e9d1",
     "locked": true,
     "schema_version": 3,
     "solution": false,
     "task": false
    }
   },
   "outputs": [],
   "source": [
    "# Load the data\n",
    "apple.data = read.csv(\"apple_juice.dat\", sep=\"\")\n",
    "names(apple.data) = c(\"pH\", \"nisin\", \"temp\", \"brix\", \"growth\")\n",
    "apple.data$growth = as.factor(apple.data$growth)\n",
    "\n",
    "head(apple.data)"
   ]
  },
  {
   "cell_type": "markdown",
   "metadata": {
    "deletable": false,
    "editable": false,
    "nbgrader": {
     "cell_type": "markdown",
     "checksum": "42dd9120acaa8d2d1482ff8e96baad8b",
     "grade": false,
     "grade_id": "cell-fa4fa6defd408bf2",
     "locked": true,
     "schema_version": 3,
     "solution": false,
     "task": false
    }
   },
   "source": [
    "### 2. (a) Creating the Model\n",
    "\n",
    "Fit a logistic regression model to the data, with `growth` as the response and all other variables as the predictors. Save this model as `glmod.apple`. Can you tell whether this model is better than the null model?"
   ]
  },
  {
   "cell_type": "code",
   "execution_count": null,
   "metadata": {
    "deletable": false,
    "nbgrader": {
     "cell_type": "code",
     "checksum": "f4c87e2c04600e906dd5d576670fdfb4",
     "grade": false,
     "grade_id": "cell-024af41fd5a18784",
     "locked": false,
     "schema_version": 3,
     "solution": true,
     "task": false
    }
   },
   "outputs": [],
   "source": [
    "glmod.apple = NA\n",
    "\n",
    "# your code here\n"
   ]
  },
  {
   "cell_type": "code",
   "execution_count": null,
   "metadata": {
    "deletable": false,
    "editable": false,
    "nbgrader": {
     "cell_type": "code",
     "checksum": "5197c7b811746eec2a9f712a8613b5be",
     "grade": true,
     "grade_id": "cell-5080653dd9a6d6b8",
     "locked": true,
     "points": 8,
     "schema_version": 3,
     "solution": false,
     "task": false
    }
   },
   "outputs": [],
   "source": [
    "# Test Cell\n",
    "# This cell has hidden test cases that will run after submission."
   ]
  },
  {
   "cell_type": "markdown",
   "metadata": {
    "deletable": false,
    "editable": false,
    "nbgrader": {
     "cell_type": "markdown",
     "checksum": "69f25487962d79ed9520f270e92f8b06",
     "grade": false,
     "grade_id": "cell-c62f1c606555313e",
     "locked": true,
     "schema_version": 3,
     "solution": false,
     "task": false
    }
   },
   "source": [
    "### 2. (b) The Effects of Temp\n",
    "\n",
    "What if we want to determine how a specific predictor affects the probability (or odds, in the Logistic Regression case) of `growth=1`? One idea would be to calculate the odds of growth, given different levels of that predictor, while keeping all other predictors constant. Then we could compare the difference between the odds, to see if a larger predictor resulted in a larger probability.\n",
    "\n",
    "Using your model, calculate the odds of growth with a temperature at the first quartile and at the third quartile, assuming all other features are held constant. Then calculate the difference between the two and store that value as `temp.odds.diff`. \n",
    "\n",
    "To calculate this difference, it may be helpful to first think through this equation. Note that $o_i$ is the odds of growth for the $i^{th}$ quantile.\n",
    "\n",
    "$$d = \\frac{o_1}{o_3} = \\exp \\Big( \\log( o_1 / o_3 ) \\Big) = \\exp \\Big( \\eta_1 - \\eta_3 \\Big) = \\dots$$\n",
    "\n",
    "If we let this difference be $d$, then this value can be interpreted as \"The odds of showing evidence of growth is $d\\%$ more/less when the temperature is in the first quantile than in the third quantile, when adjusted for other predictors.\""
   ]
  },
  {
   "cell_type": "code",
   "execution_count": null,
   "metadata": {
    "deletable": false,
    "nbgrader": {
     "cell_type": "code",
     "checksum": "dc376de6724cf70b32a75fd4976a45cf",
     "grade": false,
     "grade_id": "cell-7414765f9a299f1f",
     "locked": false,
     "schema_version": 3,
     "solution": true,
     "task": false
    }
   },
   "outputs": [],
   "source": [
    "temp.odds.diff = NA\n",
    "\n",
    "# your code here\n"
   ]
  },
  {
   "cell_type": "code",
   "execution_count": null,
   "metadata": {
    "deletable": false,
    "editable": false,
    "nbgrader": {
     "cell_type": "code",
     "checksum": "f65dd8c44c09e7e63d0ac28adc9299a7",
     "grade": true,
     "grade_id": "cell-0e18086c3f9e42d0",
     "locked": true,
     "points": 4,
     "schema_version": 3,
     "solution": false,
     "task": false
    }
   },
   "outputs": [],
   "source": [
    "# Test Cell\n",
    "# This cell has hidden test cases that will run after submission."
   ]
  },
  {
   "cell_type": "markdown",
   "metadata": {
    "deletable": false,
    "editable": false,
    "nbgrader": {
     "cell_type": "markdown",
     "checksum": "1f973d845fbb7cd5913a9c5f119c9f88",
     "grade": false,
     "grade_id": "cell-b037a14ce17528f2",
     "locked": true,
     "schema_version": 3,
     "solution": false,
     "task": false
    }
   },
   "source": [
    "### 2. (c) But there's more than that.\n",
    "\n",
    "Remember, we're assuming all of our predictors come from some distribution, meaning there is some inherent randomness in our values and calculations. A point-value is only so helpful. If we really want to understand the difference, we should calculate the range of values that the difference could potentially fall within.\n",
    "\n",
    "Calculate the $95\\%$ confidence interval for this difference. Store the lower bound in `temp.odds.lower` and the upper bound in `temp.odds.upper`.\n",
    "\n",
    "Hint: You can get the Standard Error of `temp` from your model."
   ]
  },
  {
   "cell_type": "code",
   "execution_count": null,
   "metadata": {
    "deletable": false,
    "nbgrader": {
     "cell_type": "code",
     "checksum": "c778be9a22a8ab33322504488fb5cc46",
     "grade": false,
     "grade_id": "cell-6df5ad02ad051c85",
     "locked": false,
     "schema_version": 3,
     "solution": true,
     "task": false
    }
   },
   "outputs": [],
   "source": [
    "temp.odds.lower = NA\n",
    "temp.odds.upper = NA\n",
    "\n",
    "# your code here\n"
   ]
  },
  {
   "cell_type": "code",
   "execution_count": null,
   "metadata": {
    "deletable": false,
    "editable": false,
    "nbgrader": {
     "cell_type": "code",
     "checksum": "41b83f65b3b22872ff998aced59c4565",
     "grade": true,
     "grade_id": "cell-c75bdb140f6fe1e7",
     "locked": true,
     "points": 8,
     "schema_version": 3,
     "solution": false,
     "task": false
    }
   },
   "outputs": [],
   "source": [
    "# Test Cell\n",
    "# This cell has hidden test cases that will run after submission."
   ]
  }
 ],
 "metadata": {
  "kernelspec": {
   "display_name": "R",
   "language": "R",
   "name": "ir"
  },
  "language_info": {
   "codemirror_mode": "r",
   "file_extension": ".r",
   "mimetype": "text/x-r-source",
   "name": "R",
   "pygments_lexer": "r",
   "version": "3.6.3"
  }
 },
 "nbformat": 4,
 "nbformat_minor": 4
}
