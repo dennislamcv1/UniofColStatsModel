{
 "cells": [
  {
   "cell_type": "markdown",
   "metadata": {
    "deletable": false,
    "editable": false,
    "nbgrader": {
     "cell_type": "markdown",
     "checksum": "8666cba3113d015efbf7b22fc970c2b4",
     "grade": false,
     "grade_id": "cell-1be8e089703c78e3",
     "locked": true,
     "schema_version": 3,
     "solution": false,
     "task": false
    }
   },
   "source": [
    "# C3M4 Autograded Assignment"
   ]
  },
  {
   "cell_type": "markdown",
   "metadata": {
    "deletable": false,
    "editable": false,
    "nbgrader": {
     "cell_type": "markdown",
     "checksum": "174953863b2f4f9e98573b8578638033",
     "grade": false,
     "grade_id": "cell-7dfcb15ce735954e",
     "locked": true,
     "schema_version": 3,
     "solution": false,
     "task": false
    }
   },
   "source": [
    "### Outline:\n",
    "**Here are the objectives of this assignment:**\n",
    "\n",
    "1. Differentiate between additive and multiplicative models.\n",
    "2. Apply GAMs to different types of responses, including Binary and Poisson.\n",
    "3. Explore how effective degrees of freedom relates to parameter linearity.\n",
    "4. Evaluate the performance of GAM models.\n",
    "\n",
    "**Here are some general tips:**\n",
    "\n",
    "1. Read the questions carefully to understand what is being asked.\n",
    "2. When you feel that your work is completed, feel free to hit the ```Validate``` button to see your results on the *visible* unit tests. If you have questions about unit testing, please refer to the \"Module 0: Introduction\" notebook provided as an optional resource for this course. In this assignment, there are hidden unit tests that check your code. You will not recieve any feedback for failed hidden unit tests until the assignment is submitted. **Do not misinterpret the feedback from visible unit tests as all possible tests for a given question--write your code carefully!**\n",
    "3. Before submitting, we recommend restarting the kernel and running all the cells in order that they appear to make sure that there are no additional bugs in your code."
   ]
  },
  {
   "cell_type": "code",
   "execution_count": null,
   "metadata": {
    "deletable": false,
    "editable": false,
    "nbgrader": {
     "cell_type": "code",
     "checksum": "9174a0c065d7e96c994c7abd720805e3",
     "grade": false,
     "grade_id": "cell-911ff930bed397b2",
     "locked": true,
     "schema_version": 3,
     "solution": false,
     "task": false
    }
   },
   "outputs": [],
   "source": [
    "# Load Required Libraries\n",
    "library(testthat)\n",
    "library(tidyverse)\n",
    "library(mgcv)  # For GAM models\n",
    "library(ggplot2)"
   ]
  },
  {
   "cell_type": "markdown",
   "metadata": {
    "deletable": false,
    "editable": false,
    "nbgrader": {
     "cell_type": "markdown",
     "checksum": "d8e1e1bf86ec943f89c8c848896d04a5",
     "grade": false,
     "grade_id": "cell-0e61f5b5c8e043df",
     "locked": true,
     "schema_version": 3,
     "solution": false,
     "task": false
    }
   },
   "source": [
    "# Problem 1: Identifying Additive Models\n",
    "\n",
    "GAMs are specified to be the sum of seperate functions of predictors. In math terms, that means $$Y_i = f(x_{i,1}+\\dots+f_{i,p}) + \\epsilon_i = f_1(x_{i,1})+\\dots+f_p(x_{i,p})+\\epsilon_i$$. For the following models, answer `TRUE` if the model can be expressed as a GAM and `FALSE` if it can not.\n",
    "\n",
    "1. $f(x_1, x_2, x_3) = x_1 + x_2 + (x_1x_2)^2 + \\sqrt{x_3}$\n",
    "2. $f(x_1, x_2, x_3) = \\dfrac{x_1x_2x_3 + x_2x_3 + x_3}{x_2x_3}$\n",
    "3. $f(x_1, x_2) = \\log(\\sqrt{x_1x_2})$\n",
    "4. $f(x_1, x_2) = \\beta_0 + \\exp(x_1x_2)$\n",
    "5. $f(x_1) = 0$\n"
   ]
  },
  {
   "cell_type": "code",
   "execution_count": null,
   "metadata": {
    "deletable": false,
    "nbgrader": {
     "cell_type": "code",
     "checksum": "6d323d6b5154639b5f337d23877391c3",
     "grade": false,
     "grade_id": "cell-9827a3636f0cc0a1",
     "locked": false,
     "schema_version": 3,
     "solution": true,
     "task": false
    }
   },
   "outputs": [],
   "source": [
    "# Code your answers as TRUE or FALSE.\n",
    "\n",
    "prob.1.1 = NA\n",
    "\n",
    "prob.1.2 = NA\n",
    "\n",
    "prob.1.3 = NA\n",
    "\n",
    "prob.1.4 = NA\n",
    "\n",
    "prob.1.5 = NA\n",
    "\n",
    "# your code here\n"
   ]
  },
  {
   "cell_type": "code",
   "execution_count": null,
   "metadata": {
    "deletable": false,
    "editable": false,
    "nbgrader": {
     "cell_type": "code",
     "checksum": "9081f3182438dfb3d1d5d2b2de4cc281",
     "grade": true,
     "grade_id": "cell-dd9ffff323f29501",
     "locked": true,
     "points": 3,
     "schema_version": 3,
     "solution": false,
     "task": false
    }
   },
   "outputs": [],
   "source": [
    "# Test Cell\n",
    "# Make sure your answers are booleans!\n",
    "# This cell has hidden test cases that will run after submission."
   ]
  },
  {
   "cell_type": "code",
   "execution_count": null,
   "metadata": {
    "deletable": false,
    "editable": false,
    "nbgrader": {
     "cell_type": "code",
     "checksum": "3e15d37c3587b0856d6352f41a059b0a",
     "grade": true,
     "grade_id": "cell-bdf24258e7256125",
     "locked": true,
     "points": 3,
     "schema_version": 3,
     "solution": false,
     "task": false
    }
   },
   "outputs": [],
   "source": [
    "# Test Cell\n",
    "# This cell has hidden test cases that will run after submission."
   ]
  },
  {
   "cell_type": "code",
   "execution_count": null,
   "metadata": {
    "deletable": false,
    "editable": false,
    "nbgrader": {
     "cell_type": "code",
     "checksum": "5279d5bc5e46c38b82bd257ae5e4e6a8",
     "grade": true,
     "grade_id": "cell-39f05ddaabbe3c4e",
     "locked": true,
     "points": 3,
     "schema_version": 3,
     "solution": false,
     "task": false
    }
   },
   "outputs": [],
   "source": [
    "# Test Cell\n",
    "# This cell has hidden test cases that will run after submission."
   ]
  },
  {
   "cell_type": "code",
   "execution_count": null,
   "metadata": {
    "deletable": false,
    "editable": false,
    "nbgrader": {
     "cell_type": "code",
     "checksum": "f0fd62e3740a039b712251ffb363d59a",
     "grade": true,
     "grade_id": "cell-ef5ba78f890c5545",
     "locked": true,
     "points": 3,
     "schema_version": 3,
     "solution": false,
     "task": false
    }
   },
   "outputs": [],
   "source": [
    "# Test Cell\n",
    "# This cell has hidden test cases that will run after submission."
   ]
  },
  {
   "cell_type": "code",
   "execution_count": null,
   "metadata": {
    "deletable": false,
    "editable": false,
    "nbgrader": {
     "cell_type": "code",
     "checksum": "ff8545a87fef1f03aece17e1bc3c3630",
     "grade": true,
     "grade_id": "cell-5bc659bb6fd23764",
     "locked": true,
     "points": 3,
     "schema_version": 3,
     "solution": false,
     "task": false
    }
   },
   "outputs": [],
   "source": [
    "# Test Cell\n",
    "# This cell has hidden test cases that will run after submission."
   ]
  },
  {
   "cell_type": "markdown",
   "metadata": {
    "deletable": false,
    "editable": false,
    "nbgrader": {
     "cell_type": "markdown",
     "checksum": "b677cc6795190a35a6f9029de0c9f34a",
     "grade": false,
     "grade_id": "cell-11fd71f3c4edbff4",
     "locked": true,
     "schema_version": 3,
     "solution": false,
     "task": false
    }
   },
   "source": [
    "# Problem 2: GAMs with Binary Response\n",
    "\n",
    "In 1911, the Titanic sailed off on its maiden voyage from Southampton, on its way towards New York City. Unfortunately, the ship would eventually collide with an iceberg and sink to the bottom of the ocean. As the ship was sinking, it is said that lifeboats (and floating doors) were prioritized for women and children, and thus many of them were able to surive until rescue arrived. Although a bit grizzy, it does pose an interesting statistical question. If we have the list of passengers, can we predict who will survive the sinking of the Titanic?\n",
    "\n",
    "Turns out GAMs can be used for different kinds of response as well, including Binary responses. That means we can use GAMs to try to answer our question. We load in the data below. It may help to do some basic data analysis before doing too much modeling."
   ]
  },
  {
   "cell_type": "code",
   "execution_count": null,
   "metadata": {
    "deletable": false,
    "editable": false,
    "nbgrader": {
     "cell_type": "code",
     "checksum": "6e8038e72567f01a6f7efbe74b4c890d",
     "grade": false,
     "grade_id": "cell-918c802d61a832f5",
     "locked": true,
     "schema_version": 3,
     "solution": false,
     "task": false
    }
   },
   "outputs": [],
   "source": [
    "# Load in the Data\n",
    "titanic = read.csv(\"titanic.csv\", sep=\",\")\n",
    "head(titanic)"
   ]
  },
  {
   "cell_type": "markdown",
   "metadata": {
    "deletable": false,
    "editable": false,
    "nbgrader": {
     "cell_type": "markdown",
     "checksum": "bfd6405ae5ec3e9947cef114e8e9f057",
     "grade": false,
     "grade_id": "cell-4e15a14ea1189bbd",
     "locked": true,
     "schema_version": 3,
     "solution": false,
     "task": false
    }
   },
   "source": [
    "### 2. (a) Data Cleaning\n",
    "\n",
    "Before we get to work, we need to clean up this data a bit. If you look over it, you will notice a fair number of columns, many missing values and some NA values. We're going to need to clean our data before we're able to do any modelling. When you're done, you will have a cleaned dataset `titanic`, your training set `titanic.train` and your test set `titanic.test`. Here's what needs to be done:\n",
    "\n",
    "* We have a lot of predictors, but we don't need them all. Restrict the data to on the `Survived`, `Pclass`, `Sex`, `Age` and `Fare` columns.\n",
    "* There's still missing data in our dataframe. That won't do. Remove any rows that have at least one missing value in any column.\n",
    "* If you look at the types of each column, you'll notice that some factors have been loaded as numeric. We should change that. Set `Survived` and `Pclass` to categorical.\n",
    "* We will eventually want to analyze how well our model performs. Split the data into training and test sets. Do this by putting every fifth row into the test set, and use the rest for training. For example, the first 4 rows will be in the training set, and the $5^{th}$ row will be in the test set. Repeat that pattern for the rest of the data."
   ]
  },
  {
   "cell_type": "code",
   "execution_count": null,
   "metadata": {
    "deletable": false,
    "nbgrader": {
     "cell_type": "code",
     "checksum": "eab86cd57d6fe72f957d3453f26bb38c",
     "grade": false,
     "grade_id": "cell-30b51f38951955c1",
     "locked": false,
     "schema_version": 3,
     "solution": true,
     "task": false
    }
   },
   "outputs": [],
   "source": [
    "titanic.train = NA\n",
    "titanic.test = NA\n",
    "\n",
    "# your code here\n"
   ]
  },
  {
   "cell_type": "code",
   "execution_count": null,
   "metadata": {
    "deletable": false,
    "editable": false,
    "nbgrader": {
     "cell_type": "code",
     "checksum": "e6e8badf525b0d1640d3883928705065",
     "grade": true,
     "grade_id": "cell-e876b2c0c652c90a",
     "locked": true,
     "points": 16,
     "schema_version": 3,
     "solution": false,
     "task": false
    }
   },
   "outputs": [],
   "source": [
    "# Test Cell\n",
    "# This cell has hidden test cases that will run after submission.\n",
    "if(!test_that(\"Checking DataFrame Size\", {expect_equal(nrow(titanic), 714)\n",
    "                                          expect_equal(nrow(titanic.train), 572)})){\n",
    "    print(\"Incorrect Dataset sizes. Make sure these are correct, or else your modelling could be incorrect.\")\n",
    "}\n"
   ]
  },
  {
   "cell_type": "markdown",
   "metadata": {
    "deletable": false,
    "editable": false,
    "nbgrader": {
     "cell_type": "markdown",
     "checksum": "f385865653d7117a359806ac935f67ca",
     "grade": false,
     "grade_id": "cell-86987153691d6519",
     "locked": true,
     "schema_version": 3,
     "solution": false,
     "task": false
    }
   },
   "source": [
    "### 2. (b) Fit Your GAM\n",
    "\n",
    "Now that our dataset is clean, we can fit our model. Fit your GAM as `titanic.gam` with `Survived` as your response and all other values as predictors. Make sure to smooth the necesary predictors!\n",
    "\n",
    "Hint: The response is binary, so you will need to tell your model to expect that. How did we do that when we were fitting GLMs?\n",
    "\n",
    "Look at the summary for your GAM model. Where any predictors insignificant? Save the string name of any/all insignificant predictors into the list `insig.predictors`."
   ]
  },
  {
   "cell_type": "code",
   "execution_count": null,
   "metadata": {
    "deletable": false,
    "nbgrader": {
     "cell_type": "code",
     "checksum": "85604a17af70b84279b96501f7b54742",
     "grade": false,
     "grade_id": "cell-ace90fc13b189bd6",
     "locked": false,
     "schema_version": 3,
     "solution": true,
     "task": false
    }
   },
   "outputs": [],
   "source": [
    "titanic.gam = NA\n",
    "insig.predictors = c()\n",
    "\n",
    "# your code here\n"
   ]
  },
  {
   "cell_type": "code",
   "execution_count": null,
   "metadata": {
    "deletable": false,
    "editable": false,
    "nbgrader": {
     "cell_type": "code",
     "checksum": "9b91b63036bec7ebb4851e5a2dd01180",
     "grade": true,
     "grade_id": "cell-0096b827bde4c638",
     "locked": true,
     "points": 4,
     "schema_version": 3,
     "solution": false,
     "task": false
    }
   },
   "outputs": [],
   "source": [
    "# Test Cell\n",
    "# This cell has hidden test cases that will run after submission."
   ]
  },
  {
   "cell_type": "code",
   "execution_count": null,
   "metadata": {
    "deletable": false,
    "editable": false,
    "nbgrader": {
     "cell_type": "code",
     "checksum": "b44953b685b8e90b1852e9c0792b7058",
     "grade": true,
     "grade_id": "cell-8043eba76c7431b7",
     "locked": true,
     "points": 4,
     "schema_version": 3,
     "solution": false,
     "task": false
    }
   },
   "outputs": [],
   "source": [
    "# Test Cell\n",
    "# This cell has hidden test cases that will run after submission."
   ]
  },
  {
   "cell_type": "markdown",
   "metadata": {
    "deletable": false,
    "editable": false,
    "nbgrader": {
     "cell_type": "markdown",
     "checksum": "ceca6f186fe284fe9de4f931d122c676",
     "grade": false,
     "grade_id": "cell-6fa13b45d86046f4",
     "locked": true,
     "schema_version": 3,
     "solution": false,
     "task": false
    }
   },
   "source": [
    "### 2. (c) Effective Degrees of Freedom\n",
    "\n",
    "Let's take a look at our continuous predictors and see if they appear linearly in our GAM model. There are two ways of doing this:\n",
    "\n",
    "* Use the `plot.gam()` function to plot the curves of your continuous predictors.\n",
    "* Look at the Effective Degrees of Freedom for the continuous variables.\n",
    "\n",
    "After conducting these analysis, determine whether each continuous predictor is linear or not. Remember, in statistical terms, a \"smooth term\" is linear if you can draw a line through the 95% confidence band.\n",
    "\n",
    "Save your answer as `TRUE` if it is linear and `FALSE` if it is not. Use `age.is.linear` for `Age` and `Fare.is.linear` for `Fare`. "
   ]
  },
  {
   "cell_type": "code",
   "execution_count": null,
   "metadata": {
    "deletable": false,
    "nbgrader": {
     "cell_type": "code",
     "checksum": "7e5469d82fe39c3517ed67e242864122",
     "grade": false,
     "grade_id": "cell-ad296a07e9a7c139",
     "locked": false,
     "schema_version": 3,
     "solution": true,
     "task": false
    }
   },
   "outputs": [],
   "source": [
    "age.is.linear = NA\n",
    "fare.is.linear = NA\n",
    "\n",
    "# your code here\n"
   ]
  },
  {
   "cell_type": "code",
   "execution_count": null,
   "metadata": {
    "deletable": false,
    "editable": false,
    "nbgrader": {
     "cell_type": "code",
     "checksum": "77044feb1b8b81d26a098a41759bf759",
     "grade": true,
     "grade_id": "cell-2d8cefb023268758",
     "locked": true,
     "points": 3,
     "schema_version": 3,
     "solution": false,
     "task": false
    }
   },
   "outputs": [],
   "source": [
    "# Test Cell\n",
    "# This cell has hidden test cases that will run after submission."
   ]
  },
  {
   "cell_type": "code",
   "execution_count": null,
   "metadata": {
    "deletable": false,
    "editable": false,
    "nbgrader": {
     "cell_type": "code",
     "checksum": "d9abc6a46ebcde22abce01b9a5eb3bc1",
     "grade": true,
     "grade_id": "cell-6dfd2a151bcce57a",
     "locked": true,
     "points": 3,
     "schema_version": 3,
     "solution": false,
     "task": false
    }
   },
   "outputs": [],
   "source": [
    "# Test Cell\n",
    "# This cell has hidden test cases that will run after submission."
   ]
  },
  {
   "cell_type": "markdown",
   "metadata": {
    "deletable": false,
    "editable": false,
    "nbgrader": {
     "cell_type": "markdown",
     "checksum": "3c11cd84720e69a49c7a48d63c5d34dd",
     "grade": false,
     "grade_id": "cell-d3e559f5807c8de2",
     "locked": true,
     "schema_version": 3,
     "solution": false,
     "task": false
    }
   },
   "source": [
    "### 2. (d) Predicting with GAMs\n",
    "\n",
    "Let's use our Test set to determine how well our model performs on new data. Predict the `Survived` values for the data in your test set and compute the accuracy, precision, recall and F1 score. Save these values as `gam.acc`, `gam.prec`, `gam.rec` and `gam.f1`.\n",
    "\n",
    "How well did the model do?"
   ]
  },
  {
   "cell_type": "code",
   "execution_count": null,
   "metadata": {
    "deletable": false,
    "nbgrader": {
     "cell_type": "code",
     "checksum": "28f0034efbd77b89ba33328ea3cf00f8",
     "grade": false,
     "grade_id": "cell-997873099acf9b7e",
     "locked": false,
     "schema_version": 3,
     "solution": true,
     "task": false
    }
   },
   "outputs": [],
   "source": [
    "gam.acc = NA\n",
    "gam.prec = NA\n",
    "gam.rec = NA\n",
    "gam.f1 = NA\n",
    "\n",
    "# your code here\n"
   ]
  },
  {
   "cell_type": "code",
   "execution_count": null,
   "metadata": {
    "deletable": false,
    "editable": false,
    "nbgrader": {
     "cell_type": "code",
     "checksum": "763f31f801fafd4372f365de403227c7",
     "grade": true,
     "grade_id": "cell-b22f0c2d971e8484",
     "locked": true,
     "points": 12,
     "schema_version": 3,
     "solution": false,
     "task": false
    }
   },
   "outputs": [],
   "source": [
    "# Test Cell\n",
    "# This cell has hidden test cases that will run after submission."
   ]
  }
 ],
 "metadata": {
  "kernelspec": {
   "display_name": "R",
   "language": "R",
   "name": "ir"
  },
  "language_info": {
   "codemirror_mode": "r",
   "file_extension": ".r",
   "mimetype": "text/x-r-source",
   "name": "R",
   "pygments_lexer": "r",
   "version": "3.6.3"
  }
 },
 "nbformat": 4,
 "nbformat_minor": 4
}
