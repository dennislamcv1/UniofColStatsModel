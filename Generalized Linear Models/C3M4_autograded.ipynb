{
 "cells": [
  {
   "cell_type": "markdown",
   "metadata": {
    "deletable": false,
    "editable": false,
    "nbgrader": {
     "cell_type": "markdown",
     "checksum": "8666cba3113d015efbf7b22fc970c2b4",
     "grade": false,
     "grade_id": "cell-1be8e089703c78e3",
     "locked": true,
     "schema_version": 3,
     "solution": false,
     "task": false
    }
   },
   "source": [
    "# C3M4 Autograded Assignment"
   ]
  },
  {
   "cell_type": "markdown",
   "metadata": {
    "deletable": false,
    "editable": false,
    "nbgrader": {
     "cell_type": "markdown",
     "checksum": "174953863b2f4f9e98573b8578638033",
     "grade": false,
     "grade_id": "cell-7dfcb15ce735954e",
     "locked": true,
     "schema_version": 3,
     "solution": false,
     "task": false
    }
   },
   "source": [
    "### Outline:\n",
    "**Here are the objectives of this assignment:**\n",
    "\n",
    "1. Differentiate between additive and multiplicative models.\n",
    "2. Apply GAMs to different types of responses, including Binary and Poisson.\n",
    "3. Explore how effective degrees of freedom relates to parameter linearity.\n",
    "4. Evaluate the performance of GAM models.\n",
    "\n",
    "**Here are some general tips:**\n",
    "\n",
    "1. Read the questions carefully to understand what is being asked.\n",
    "2. When you feel that your work is completed, feel free to hit the ```Validate``` button to see your results on the *visible* unit tests. If you have questions about unit testing, please refer to the \"Module 0: Introduction\" notebook provided as an optional resource for this course. In this assignment, there are hidden unit tests that check your code. You will not recieve any feedback for failed hidden unit tests until the assignment is submitted. **Do not misinterpret the feedback from visible unit tests as all possible tests for a given question--write your code carefully!**\n",
    "3. Before submitting, we recommend restarting the kernel and running all the cells in order that they appear to make sure that there are no additional bugs in your code."
   ]
  },
  {
   "cell_type": "code",
   "execution_count": 1,
   "metadata": {
    "deletable": false,
    "editable": false,
    "nbgrader": {
     "cell_type": "code",
     "checksum": "9174a0c065d7e96c994c7abd720805e3",
     "grade": false,
     "grade_id": "cell-911ff930bed397b2",
     "locked": true,
     "schema_version": 3,
     "solution": false,
     "task": false
    }
   },
   "outputs": [
    {
     "name": "stderr",
     "output_type": "stream",
     "text": [
      "── \u001b[1mAttaching packages\u001b[22m ─────────────────────────────────────── tidyverse 1.3.0 ──\n",
      "\n",
      "\u001b[32m✔\u001b[39m \u001b[34mggplot2\u001b[39m 3.3.0     \u001b[32m✔\u001b[39m \u001b[34mpurrr  \u001b[39m 0.3.4\n",
      "\u001b[32m✔\u001b[39m \u001b[34mtibble \u001b[39m 3.2.1     \u001b[32m✔\u001b[39m \u001b[34mdplyr  \u001b[39m 1.1.2\n",
      "\u001b[32m✔\u001b[39m \u001b[34mtidyr  \u001b[39m 1.0.2     \u001b[32m✔\u001b[39m \u001b[34mstringr\u001b[39m 1.4.0\n",
      "\u001b[32m✔\u001b[39m \u001b[34mreadr  \u001b[39m 1.3.1     \u001b[32m✔\u001b[39m \u001b[34mforcats\u001b[39m 0.5.0\n",
      "\n",
      "── \u001b[1mConflicts\u001b[22m ────────────────────────────────────────── tidyverse_conflicts() ──\n",
      "\u001b[31m✖\u001b[39m \u001b[34mdplyr\u001b[39m::\u001b[32mfilter()\u001b[39m  masks \u001b[34mstats\u001b[39m::filter()\n",
      "\u001b[31m✖\u001b[39m \u001b[34mpurrr\u001b[39m::\u001b[32mis_null()\u001b[39m masks \u001b[34mtestthat\u001b[39m::is_null()\n",
      "\u001b[31m✖\u001b[39m \u001b[34mdplyr\u001b[39m::\u001b[32mlag()\u001b[39m     masks \u001b[34mstats\u001b[39m::lag()\n",
      "\u001b[31m✖\u001b[39m \u001b[34mdplyr\u001b[39m::\u001b[32mmatches()\u001b[39m masks \u001b[34mtidyr\u001b[39m::matches(), \u001b[34mtestthat\u001b[39m::matches()\n",
      "\n",
      "Loading required package: nlme\n",
      "\n",
      "\n",
      "Attaching package: ‘nlme’\n",
      "\n",
      "\n",
      "The following object is masked from ‘package:dplyr’:\n",
      "\n",
      "    collapse\n",
      "\n",
      "\n",
      "This is mgcv 1.8-31. For overview type 'help(\"mgcv-package\")'.\n",
      "\n"
     ]
    }
   ],
   "source": [
    "# Load Required Libraries\n",
    "library(testthat)\n",
    "library(tidyverse)\n",
    "library(mgcv)  # For GAM models\n",
    "library(ggplot2)"
   ]
  },
  {
   "cell_type": "markdown",
   "metadata": {
    "deletable": false,
    "editable": false,
    "nbgrader": {
     "cell_type": "markdown",
     "checksum": "d8e1e1bf86ec943f89c8c848896d04a5",
     "grade": false,
     "grade_id": "cell-0e61f5b5c8e043df",
     "locked": true,
     "schema_version": 3,
     "solution": false,
     "task": false
    }
   },
   "source": [
    "# Problem 1: Identifying Additive Models\n",
    "\n",
    "GAMs are specified to be the sum of seperate functions of predictors. In math terms, that means $$Y_i = f(x_{i,1}+\\dots+f_{i,p}) + \\epsilon_i = f_1(x_{i,1})+\\dots+f_p(x_{i,p})+\\epsilon_i$$. For the following models, answer `TRUE` if the model can be expressed as a GAM and `FALSE` if it can not.\n",
    "\n",
    "1. $f(x_1, x_2, x_3) = x_1 + x_2 + (x_1x_2)^2 + \\sqrt{x_3}$\n",
    "2. $f(x_1, x_2, x_3) = \\dfrac{x_1x_2x_3 + x_2x_3 + x_3}{x_2x_3}$\n",
    "3. $f(x_1, x_2) = \\log(\\sqrt{x_1x_2})$\n",
    "4. $f(x_1, x_2) = \\beta_0 + \\exp(x_1x_2)$\n",
    "5. $f(x_1) = 0$\n"
   ]
  },
  {
   "cell_type": "code",
   "execution_count": 2,
   "metadata": {
    "deletable": false,
    "nbgrader": {
     "cell_type": "code",
     "checksum": "6d323d6b5154639b5f337d23877391c3",
     "grade": false,
     "grade_id": "cell-9827a3636f0cc0a1",
     "locked": false,
     "schema_version": 3,
     "solution": true,
     "task": false
    }
   },
   "outputs": [],
   "source": [
    "# Code your answers as TRUE or FALSE.\n",
    "prob.1.1 = FALSE\n",
    "prob.1.2 = TRUE\n",
    "prob.1.3 = TRUE\n",
    "prob.1.4 = FALSE\n",
    "prob.1.5 = TRUE\n"
   ]
  },
  {
   "cell_type": "code",
   "execution_count": 3,
   "metadata": {
    "deletable": false,
    "editable": false,
    "nbgrader": {
     "cell_type": "code",
     "checksum": "9081f3182438dfb3d1d5d2b2de4cc281",
     "grade": true,
     "grade_id": "cell-dd9ffff323f29501",
     "locked": true,
     "points": 3,
     "schema_version": 3,
     "solution": false,
     "task": false
    }
   },
   "outputs": [],
   "source": [
    "# Test Cell\n",
    "# Make sure your answers are booleans!\n",
    "# This cell has hidden test cases that will run after submission."
   ]
  },
  {
   "cell_type": "code",
   "execution_count": 4,
   "metadata": {
    "deletable": false,
    "editable": false,
    "nbgrader": {
     "cell_type": "code",
     "checksum": "3e15d37c3587b0856d6352f41a059b0a",
     "grade": true,
     "grade_id": "cell-bdf24258e7256125",
     "locked": true,
     "points": 3,
     "schema_version": 3,
     "solution": false,
     "task": false
    }
   },
   "outputs": [],
   "source": [
    "# Test Cell\n",
    "# This cell has hidden test cases that will run after submission."
   ]
  },
  {
   "cell_type": "code",
   "execution_count": 5,
   "metadata": {
    "deletable": false,
    "editable": false,
    "nbgrader": {
     "cell_type": "code",
     "checksum": "5279d5bc5e46c38b82bd257ae5e4e6a8",
     "grade": true,
     "grade_id": "cell-39f05ddaabbe3c4e",
     "locked": true,
     "points": 3,
     "schema_version": 3,
     "solution": false,
     "task": false
    }
   },
   "outputs": [],
   "source": [
    "# Test Cell\n",
    "# This cell has hidden test cases that will run after submission."
   ]
  },
  {
   "cell_type": "code",
   "execution_count": 6,
   "metadata": {
    "deletable": false,
    "editable": false,
    "nbgrader": {
     "cell_type": "code",
     "checksum": "f0fd62e3740a039b712251ffb363d59a",
     "grade": true,
     "grade_id": "cell-ef5ba78f890c5545",
     "locked": true,
     "points": 3,
     "schema_version": 3,
     "solution": false,
     "task": false
    }
   },
   "outputs": [],
   "source": [
    "# Test Cell\n",
    "# This cell has hidden test cases that will run after submission."
   ]
  },
  {
   "cell_type": "code",
   "execution_count": 7,
   "metadata": {
    "deletable": false,
    "editable": false,
    "nbgrader": {
     "cell_type": "code",
     "checksum": "ff8545a87fef1f03aece17e1bc3c3630",
     "grade": true,
     "grade_id": "cell-5bc659bb6fd23764",
     "locked": true,
     "points": 3,
     "schema_version": 3,
     "solution": false,
     "task": false
    }
   },
   "outputs": [],
   "source": [
    "# Test Cell\n",
    "# This cell has hidden test cases that will run after submission."
   ]
  },
  {
   "cell_type": "markdown",
   "metadata": {
    "deletable": false,
    "editable": false,
    "nbgrader": {
     "cell_type": "markdown",
     "checksum": "b677cc6795190a35a6f9029de0c9f34a",
     "grade": false,
     "grade_id": "cell-11fd71f3c4edbff4",
     "locked": true,
     "schema_version": 3,
     "solution": false,
     "task": false
    }
   },
   "source": [
    "# Problem 2: GAMs with Binary Response\n",
    "\n",
    "In 1911, the Titanic sailed off on its maiden voyage from Southampton, on its way towards New York City. Unfortunately, the ship would eventually collide with an iceberg and sink to the bottom of the ocean. As the ship was sinking, it is said that lifeboats (and floating doors) were prioritized for women and children, and thus many of them were able to surive until rescue arrived. Although a bit grizzy, it does pose an interesting statistical question. If we have the list of passengers, can we predict who will survive the sinking of the Titanic?\n",
    "\n",
    "Turns out GAMs can be used for different kinds of response as well, including Binary responses. That means we can use GAMs to try to answer our question. We load in the data below. It may help to do some basic data analysis before doing too much modeling."
   ]
  },
  {
   "cell_type": "code",
   "execution_count": 8,
   "metadata": {
    "deletable": false,
    "editable": false,
    "nbgrader": {
     "cell_type": "code",
     "checksum": "6e8038e72567f01a6f7efbe74b4c890d",
     "grade": false,
     "grade_id": "cell-918c802d61a832f5",
     "locked": true,
     "schema_version": 3,
     "solution": false,
     "task": false
    }
   },
   "outputs": [
    {
     "data": {
      "text/html": [
       "<table>\n",
       "<caption>A data.frame: 6 × 12</caption>\n",
       "<thead>\n",
       "\t<tr><th></th><th scope=col>PassengerId</th><th scope=col>Survived</th><th scope=col>Pclass</th><th scope=col>Name</th><th scope=col>Sex</th><th scope=col>Age</th><th scope=col>SibSp</th><th scope=col>Parch</th><th scope=col>Ticket</th><th scope=col>Fare</th><th scope=col>Cabin</th><th scope=col>Embarked</th></tr>\n",
       "\t<tr><th></th><th scope=col>&lt;int&gt;</th><th scope=col>&lt;int&gt;</th><th scope=col>&lt;int&gt;</th><th scope=col>&lt;fct&gt;</th><th scope=col>&lt;fct&gt;</th><th scope=col>&lt;dbl&gt;</th><th scope=col>&lt;int&gt;</th><th scope=col>&lt;int&gt;</th><th scope=col>&lt;fct&gt;</th><th scope=col>&lt;dbl&gt;</th><th scope=col>&lt;fct&gt;</th><th scope=col>&lt;fct&gt;</th></tr>\n",
       "</thead>\n",
       "<tbody>\n",
       "\t<tr><th scope=row>1</th><td>1</td><td>0</td><td>3</td><td>Braund, Mr. Owen Harris                            </td><td>male  </td><td>22</td><td>1</td><td>0</td><td>A/5 21171       </td><td> 7.2500</td><td>    </td><td>S</td></tr>\n",
       "\t<tr><th scope=row>2</th><td>2</td><td>1</td><td>1</td><td>Cumings, Mrs. John Bradley (Florence Briggs Thayer)</td><td>female</td><td>38</td><td>1</td><td>0</td><td>PC 17599        </td><td>71.2833</td><td>C85 </td><td>C</td></tr>\n",
       "\t<tr><th scope=row>3</th><td>3</td><td>1</td><td>3</td><td>Heikkinen, Miss. Laina                             </td><td>female</td><td>26</td><td>0</td><td>0</td><td>STON/O2. 3101282</td><td> 7.9250</td><td>    </td><td>S</td></tr>\n",
       "\t<tr><th scope=row>4</th><td>4</td><td>1</td><td>1</td><td>Futrelle, Mrs. Jacques Heath (Lily May Peel)       </td><td>female</td><td>35</td><td>1</td><td>0</td><td>113803          </td><td>53.1000</td><td>C123</td><td>S</td></tr>\n",
       "\t<tr><th scope=row>5</th><td>5</td><td>0</td><td>3</td><td>Allen, Mr. William Henry                           </td><td>male  </td><td>35</td><td>0</td><td>0</td><td>373450          </td><td> 8.0500</td><td>    </td><td>S</td></tr>\n",
       "\t<tr><th scope=row>6</th><td>6</td><td>0</td><td>3</td><td>Moran, Mr. James                                   </td><td>male  </td><td>NA</td><td>0</td><td>0</td><td>330877          </td><td> 8.4583</td><td>    </td><td>Q</td></tr>\n",
       "</tbody>\n",
       "</table>\n"
      ],
      "text/latex": [
       "A data.frame: 6 × 12\n",
       "\\begin{tabular}{r|llllllllllll}\n",
       "  & PassengerId & Survived & Pclass & Name & Sex & Age & SibSp & Parch & Ticket & Fare & Cabin & Embarked\\\\\n",
       "  & <int> & <int> & <int> & <fct> & <fct> & <dbl> & <int> & <int> & <fct> & <dbl> & <fct> & <fct>\\\\\n",
       "\\hline\n",
       "\t1 & 1 & 0 & 3 & Braund, Mr. Owen Harris                             & male   & 22 & 1 & 0 & A/5 21171        &  7.2500 &      & S\\\\\n",
       "\t2 & 2 & 1 & 1 & Cumings, Mrs. John Bradley (Florence Briggs Thayer) & female & 38 & 1 & 0 & PC 17599         & 71.2833 & C85  & C\\\\\n",
       "\t3 & 3 & 1 & 3 & Heikkinen, Miss. Laina                              & female & 26 & 0 & 0 & STON/O2. 3101282 &  7.9250 &      & S\\\\\n",
       "\t4 & 4 & 1 & 1 & Futrelle, Mrs. Jacques Heath (Lily May Peel)        & female & 35 & 1 & 0 & 113803           & 53.1000 & C123 & S\\\\\n",
       "\t5 & 5 & 0 & 3 & Allen, Mr. William Henry                            & male   & 35 & 0 & 0 & 373450           &  8.0500 &      & S\\\\\n",
       "\t6 & 6 & 0 & 3 & Moran, Mr. James                                    & male   & NA & 0 & 0 & 330877           &  8.4583 &      & Q\\\\\n",
       "\\end{tabular}\n"
      ],
      "text/markdown": [
       "\n",
       "A data.frame: 6 × 12\n",
       "\n",
       "| <!--/--> | PassengerId &lt;int&gt; | Survived &lt;int&gt; | Pclass &lt;int&gt; | Name &lt;fct&gt; | Sex &lt;fct&gt; | Age &lt;dbl&gt; | SibSp &lt;int&gt; | Parch &lt;int&gt; | Ticket &lt;fct&gt; | Fare &lt;dbl&gt; | Cabin &lt;fct&gt; | Embarked &lt;fct&gt; |\n",
       "|---|---|---|---|---|---|---|---|---|---|---|---|---|\n",
       "| 1 | 1 | 0 | 3 | Braund, Mr. Owen Harris                             | male   | 22 | 1 | 0 | A/5 21171        |  7.2500 | <!----> | S |\n",
       "| 2 | 2 | 1 | 1 | Cumings, Mrs. John Bradley (Florence Briggs Thayer) | female | 38 | 1 | 0 | PC 17599         | 71.2833 | C85  | C |\n",
       "| 3 | 3 | 1 | 3 | Heikkinen, Miss. Laina                              | female | 26 | 0 | 0 | STON/O2. 3101282 |  7.9250 | <!----> | S |\n",
       "| 4 | 4 | 1 | 1 | Futrelle, Mrs. Jacques Heath (Lily May Peel)        | female | 35 | 1 | 0 | 113803           | 53.1000 | C123 | S |\n",
       "| 5 | 5 | 0 | 3 | Allen, Mr. William Henry                            | male   | 35 | 0 | 0 | 373450           |  8.0500 | <!----> | S |\n",
       "| 6 | 6 | 0 | 3 | Moran, Mr. James                                    | male   | NA | 0 | 0 | 330877           |  8.4583 | <!----> | Q |\n",
       "\n"
      ],
      "text/plain": [
       "  PassengerId Survived Pclass\n",
       "1 1           0        3     \n",
       "2 2           1        1     \n",
       "3 3           1        3     \n",
       "4 4           1        1     \n",
       "5 5           0        3     \n",
       "6 6           0        3     \n",
       "  Name                                                Sex    Age SibSp Parch\n",
       "1 Braund, Mr. Owen Harris                             male   22  1     0    \n",
       "2 Cumings, Mrs. John Bradley (Florence Briggs Thayer) female 38  1     0    \n",
       "3 Heikkinen, Miss. Laina                              female 26  0     0    \n",
       "4 Futrelle, Mrs. Jacques Heath (Lily May Peel)        female 35  1     0    \n",
       "5 Allen, Mr. William Henry                            male   35  0     0    \n",
       "6 Moran, Mr. James                                    male   NA  0     0    \n",
       "  Ticket           Fare    Cabin Embarked\n",
       "1 A/5 21171         7.2500       S       \n",
       "2 PC 17599         71.2833 C85   C       \n",
       "3 STON/O2. 3101282  7.9250       S       \n",
       "4 113803           53.1000 C123  S       \n",
       "5 373450            8.0500       S       \n",
       "6 330877            8.4583       Q       "
      ]
     },
     "metadata": {},
     "output_type": "display_data"
    }
   ],
   "source": [
    "# Load in the Data\n",
    "titanic = read.csv(\"titanic.csv\", sep=\",\")\n",
    "head(titanic)"
   ]
  },
  {
   "cell_type": "markdown",
   "metadata": {
    "deletable": false,
    "editable": false,
    "nbgrader": {
     "cell_type": "markdown",
     "checksum": "bfd6405ae5ec3e9947cef114e8e9f057",
     "grade": false,
     "grade_id": "cell-4e15a14ea1189bbd",
     "locked": true,
     "schema_version": 3,
     "solution": false,
     "task": false
    }
   },
   "source": [
    "### 2. (a) Data Cleaning\n",
    "\n",
    "Before we get to work, we need to clean up this data a bit. If you look over it, you will notice a fair number of columns, many missing values and some NA values. We're going to need to clean our data before we're able to do any modelling. When you're done, you will have a cleaned dataset `titanic`, your training set `titanic.train` and your test set `titanic.test`. Here's what needs to be done:\n",
    "\n",
    "* We have a lot of predictors, but we don't need them all. Restrict the data to on the `Survived`, `Pclass`, `Sex`, `Age` and `Fare` columns.\n",
    "* There's still missing data in our dataframe. That won't do. Remove any rows that have at least one missing value in any column.\n",
    "* If you look at the types of each column, you'll notice that some factors have been loaded as numeric. We should change that. Set `Survived` and `Pclass` to categorical.\n",
    "* We will eventually want to analyze how well our model performs. Split the data into training and test sets. Do this by putting every fifth row into the test set, and use the rest for training. For example, the first 4 rows will be in the training set, and the $5^{th}$ row will be in the test set. Repeat that pattern for the rest of the data."
   ]
  },
  {
   "cell_type": "code",
   "execution_count": 9,
   "metadata": {
    "deletable": false,
    "nbgrader": {
     "cell_type": "code",
     "checksum": "eab86cd57d6fe72f957d3453f26bb38c",
     "grade": false,
     "grade_id": "cell-30b51f38951955c1",
     "locked": false,
     "schema_version": 3,
     "solution": true,
     "task": false
    }
   },
   "outputs": [
    {
     "name": "stdout",
     "output_type": "stream",
     "text": [
      "'data.frame':\t572 obs. of  5 variables:\n",
      " $ Survived: Factor w/ 2 levels \"0\",\"1\": 1 2 2 2 1 1 2 2 2 1 ...\n",
      " $ Pclass  : Factor w/ 3 levels \"1\",\"2\",\"3\": 3 1 3 1 1 3 3 2 1 3 ...\n",
      " $ Sex     : Factor w/ 2 levels \"female\",\"male\": 2 1 1 1 2 2 1 1 1 2 ...\n",
      " $ Age     : num  22 38 26 35 54 2 27 14 58 20 ...\n",
      " $ Fare    : num  7.25 71.28 7.92 53.1 51.86 ...\n",
      " - attr(*, \"na.action\")= 'omit' Named int  6 18 20 27 29 30 32 33 37 43 ...\n",
      "  ..- attr(*, \"names\")= chr  \"6\" \"18\" \"20\" \"27\" ...\n",
      "'data.frame':\t142 obs. of  5 variables:\n",
      " $ Survived: Factor w/ 2 levels \"0\",\"1\": 1 2 2 2 1 1 2 2 1 2 ...\n",
      " $ Pclass  : Factor w/ 3 levels \"1\",\"2\",\"3\": 3 3 2 3 1 3 3 2 3 2 ...\n",
      " $ Sex     : Factor w/ 2 levels \"female\",\"male\": 2 1 1 1 2 1 1 1 2 1 ...\n",
      " $ Age     : num  35 4 55 15 40 18 19 29 11 29 ...\n",
      " $ Fare    : num  8.05 16.7 16 8.03 27.72 ...\n",
      " - attr(*, \"na.action\")= 'omit' Named int  6 18 20 27 29 30 32 33 37 43 ...\n",
      "  ..- attr(*, \"names\")= chr  \"6\" \"18\" \"20\" \"27\" ...\n"
     ]
    }
   ],
   "source": [
    "# Select relevant columns\n",
    "titanic <- titanic[, c(\"Survived\", \"Pclass\", \"Sex\", \"Age\", \"Fare\")]\n",
    "\n",
    "# Remove rows with missing values\n",
    "titanic <- na.omit(titanic)\n",
    "\n",
    "# Convert 'Survived' and 'Pclass' to factors\n",
    "titanic$Survived <- as.factor(titanic$Survived)\n",
    "titanic$Pclass <- as.factor(titanic$Pclass)\n",
    "\n",
    "# Split the data into training and test sets\n",
    "set.seed(42)  # Set seed for reproducibility\n",
    "indices <- 1:nrow(titanic)\n",
    "test_indices <- indices[seq(5, length(indices), by=5)]\n",
    "train_indices <- setdiff(indices, test_indices)\n",
    "\n",
    "titanic.train <- titanic[train_indices, ]\n",
    "titanic.test <- titanic[test_indices, ]\n",
    "\n",
    "# Check the structure of the datasets\n",
    "str(titanic.train)\n",
    "str(titanic.test)\n"
   ]
  },
  {
   "cell_type": "code",
   "execution_count": 10,
   "metadata": {
    "deletable": false,
    "editable": false,
    "nbgrader": {
     "cell_type": "code",
     "checksum": "e6e8badf525b0d1640d3883928705065",
     "grade": true,
     "grade_id": "cell-e876b2c0c652c90a",
     "locked": true,
     "points": 16,
     "schema_version": 3,
     "solution": false,
     "task": false
    }
   },
   "outputs": [],
   "source": [
    "# Test Cell\n",
    "# This cell has hidden test cases that will run after submission.\n",
    "if(!test_that(\"Checking DataFrame Size\", {expect_equal(nrow(titanic), 714)\n",
    "                                          expect_equal(nrow(titanic.train), 572)})){\n",
    "    print(\"Incorrect Dataset sizes. Make sure these are correct, or else your modelling could be incorrect.\")\n",
    "}\n"
   ]
  },
  {
   "cell_type": "markdown",
   "metadata": {
    "deletable": false,
    "editable": false,
    "nbgrader": {
     "cell_type": "markdown",
     "checksum": "f385865653d7117a359806ac935f67ca",
     "grade": false,
     "grade_id": "cell-86987153691d6519",
     "locked": true,
     "schema_version": 3,
     "solution": false,
     "task": false
    }
   },
   "source": [
    "### 2. (b) Fit Your GAM\n",
    "\n",
    "Now that our dataset is clean, we can fit our model. Fit your GAM as `titanic.gam` with `Survived` as your response and all other values as predictors. Make sure to smooth the necesary predictors!\n",
    "\n",
    "Hint: The response is binary, so you will need to tell your model to expect that. How did we do that when we were fitting GLMs?\n",
    "\n",
    "Look at the summary for your GAM model. Where any predictors insignificant? Save the string name of any/all insignificant predictors into the list `insig.predictors`."
   ]
  },
  {
   "cell_type": "code",
   "execution_count": 11,
   "metadata": {
    "deletable": false,
    "nbgrader": {
     "cell_type": "code",
     "checksum": "85604a17af70b84279b96501f7b54742",
     "grade": false,
     "grade_id": "cell-ace90fc13b189bd6",
     "locked": false,
     "schema_version": 3,
     "solution": true,
     "task": false
    }
   },
   "outputs": [
    {
     "data": {
      "text/plain": [
       "\n",
       "Family: binomial \n",
       "Link function: logit \n",
       "\n",
       "Formula:\n",
       "Survived ~ s(Age) + s(Fare) + Pclass + Sex\n",
       "\n",
       "Parametric coefficients:\n",
       "            Estimate Std. Error z value Pr(>|z|)    \n",
       "(Intercept)   2.6562     0.3394   7.826 5.03e-15 ***\n",
       "Pclass2      -1.4661     0.3756  -3.904 9.47e-05 ***\n",
       "Pclass3      -2.4575     0.4024  -6.107 1.01e-09 ***\n",
       "Sexmale      -2.4886     0.2315 -10.752  < 2e-16 ***\n",
       "---\n",
       "Signif. codes:  0 ‘***’ 0.001 ‘**’ 0.01 ‘*’ 0.05 ‘.’ 0.1 ‘ ’ 1\n",
       "\n",
       "Approximate significance of smooth terms:\n",
       "          edf Ref.df Chi.sq p-value   \n",
       "s(Age)  3.995  4.959  19.28 0.00154 **\n",
       "s(Fare) 2.024  2.524   1.26 0.52078   \n",
       "---\n",
       "Signif. codes:  0 ‘***’ 0.001 ‘**’ 0.01 ‘*’ 0.05 ‘.’ 0.1 ‘ ’ 1\n",
       "\n",
       "R-sq.(adj) =  0.387   Deviance explained = 31.8%\n",
       "UBRE = -0.043402  Scale est. = 1         n = 572"
      ]
     },
     "metadata": {},
     "output_type": "display_data"
    },
    {
     "name": "stdout",
     "output_type": "stream",
     "text": [
      "[1] \"s(Fare)\"\n"
     ]
    }
   ],
   "source": [
    "# Fit the GAM model\n",
    "titanic.gam <- gam(Survived ~ s(Age) + s(Fare) + Pclass + Sex, family=binomial, data=titanic.train)\n",
    "\n",
    "# Summary of the GAM model\n",
    "summary(titanic.gam)\n",
    "\n",
    "# Extract p-values for parametric terms\n",
    "param_p_values <- summary(titanic.gam)$p.table[, 4]\n",
    "\n",
    "# Extract p-values for smooth terms\n",
    "smooth_p_values <- summary(titanic.gam)$s.table[, 4]\n",
    "\n",
    "# Combine the parametric and smooth terms p-values into a list\n",
    "p_values <- c(param_p_values, smooth_p_values)\n",
    "\n",
    "# Identify insignificant predictors (p-value > 0.05)\n",
    "insig_predictors <- names(p_values)[p_values > 0.05]\n",
    "\n",
    "# Store the results\n",
    "insig.predictors <- insig_predictors\n",
    "\n",
    "# Print the insignificant predictors\n",
    "print(insig.predictors)\n",
    "\n",
    "insig.predictors <-c(\"Fare\")\n"
   ]
  },
  {
   "cell_type": "code",
   "execution_count": 12,
   "metadata": {
    "deletable": false,
    "editable": false,
    "nbgrader": {
     "cell_type": "code",
     "checksum": "9b91b63036bec7ebb4851e5a2dd01180",
     "grade": true,
     "grade_id": "cell-0096b827bde4c638",
     "locked": true,
     "points": 4,
     "schema_version": 3,
     "solution": false,
     "task": false
    }
   },
   "outputs": [],
   "source": [
    "# Test Cell\n",
    "# This cell has hidden test cases that will run after submission."
   ]
  },
  {
   "cell_type": "code",
   "execution_count": 13,
   "metadata": {
    "deletable": false,
    "editable": false,
    "nbgrader": {
     "cell_type": "code",
     "checksum": "b44953b685b8e90b1852e9c0792b7058",
     "grade": true,
     "grade_id": "cell-8043eba76c7431b7",
     "locked": true,
     "points": 4,
     "schema_version": 3,
     "solution": false,
     "task": false
    }
   },
   "outputs": [],
   "source": [
    "# Test Cell\n",
    "# This cell has hidden test cases that will run after submission."
   ]
  },
  {
   "cell_type": "markdown",
   "metadata": {
    "deletable": false,
    "editable": false,
    "nbgrader": {
     "cell_type": "markdown",
     "checksum": "ceca6f186fe284fe9de4f931d122c676",
     "grade": false,
     "grade_id": "cell-6fa13b45d86046f4",
     "locked": true,
     "schema_version": 3,
     "solution": false,
     "task": false
    }
   },
   "source": [
    "### 2. (c) Effective Degrees of Freedom\n",
    "\n",
    "Let's take a look at our continuous predictors and see if they appear linearly in our GAM model. There are two ways of doing this:\n",
    "\n",
    "* Use the `plot.gam()` function to plot the curves of your continuous predictors.\n",
    "* Look at the Effective Degrees of Freedom for the continuous variables.\n",
    "\n",
    "After conducting these analysis, determine whether each continuous predictor is linear or not. Remember, in statistical terms, a \"smooth term\" is linear if you can draw a line through the 95% confidence band.\n",
    "\n",
    "Save your answer as `TRUE` if it is linear and `FALSE` if it is not. Use `age.is.linear` for `Age` and `Fare.is.linear` for `Fare`. "
   ]
  },
  {
   "cell_type": "code",
   "execution_count": 14,
   "metadata": {
    "deletable": false,
    "nbgrader": {
     "cell_type": "code",
     "checksum": "7e5469d82fe39c3517ed67e242864122",
     "grade": false,
     "grade_id": "cell-ad296a07e9a7c139",
     "locked": false,
     "schema_version": 3,
     "solution": true,
     "task": false
    }
   },
   "outputs": [
    {
     "data": {
      "image/png": "[encoded data removed]",
      "text/plain": [
       "plot without title"
      ]
     },
     "metadata": {
      "image/png": {
       "height": 420,
       "width": 420
      },
      "text/plain": {
       "height": 420,
       "width": 420
      }
     },
     "output_type": "display_data"
    }
   ],
   "source": [
    "# Plot the GAM model\n",
    "plot.gam(titanic.gam, pages=1)\n",
    "\n",
    "# Check Effective Degrees of Freedom\n",
    "edf_age <- summary(titanic.gam)$s.table[\"s(Age)\", \"edf\"]\n",
    "edf_fare <- summary(titanic.gam)$s.table[\"s(Fare)\", \"edf\"]\n",
    "\n",
    "# Determine if the smooth terms are linear\n",
    "age.is.linear <- edf_age <= 1\n",
    "fare.is.linear <- edf_fare <= 1\n",
    "\n",
    "age.is.linear <- TRUE\n",
    "fare.is.linear <- TRUE\n"
   ]
  },
  {
   "cell_type": "code",
   "execution_count": 15,
   "metadata": {
    "deletable": false,
    "editable": false,
    "nbgrader": {
     "cell_type": "code",
     "checksum": "77044feb1b8b81d26a098a41759bf759",
     "grade": true,
     "grade_id": "cell-2d8cefb023268758",
     "locked": true,
     "points": 3,
     "schema_version": 3,
     "solution": false,
     "task": false
    }
   },
   "outputs": [],
   "source": [
    "# Test Cell\n",
    "# This cell has hidden test cases that will run after submission."
   ]
  },
  {
   "cell_type": "code",
   "execution_count": 16,
   "metadata": {
    "deletable": false,
    "editable": false,
    "nbgrader": {
     "cell_type": "code",
     "checksum": "d9abc6a46ebcde22abce01b9a5eb3bc1",
     "grade": true,
     "grade_id": "cell-6dfd2a151bcce57a",
     "locked": true,
     "points": 3,
     "schema_version": 3,
     "solution": false,
     "task": false
    }
   },
   "outputs": [],
   "source": [
    "# Test Cell\n",
    "# This cell has hidden test cases that will run after submission."
   ]
  },
  {
   "cell_type": "markdown",
   "metadata": {
    "deletable": false,
    "editable": false,
    "nbgrader": {
     "cell_type": "markdown",
     "checksum": "3c11cd84720e69a49c7a48d63c5d34dd",
     "grade": false,
     "grade_id": "cell-d3e559f5807c8de2",
     "locked": true,
     "schema_version": 3,
     "solution": false,
     "task": false
    }
   },
   "source": [
    "### 2. (d) Predicting with GAMs\n",
    "\n",
    "Let's use our Test set to determine how well our model performs on new data. Predict the `Survived` values for the data in your test set and compute the accuracy, precision, recall and F1 score. Save these values as `gam.acc`, `gam.prec`, `gam.rec` and `gam.f1`.\n",
    "\n",
    "How well did the model do?"
   ]
  },
  {
   "cell_type": "code",
   "execution_count": 17,
   "metadata": {
    "deletable": false,
    "nbgrader": {
     "cell_type": "code",
     "checksum": "28f0034efbd77b89ba33328ea3cf00f8",
     "grade": false,
     "grade_id": "cell-997873099acf9b7e",
     "locked": false,
     "schema_version": 3,
     "solution": true,
     "task": false
    }
   },
   "outputs": [
    {
     "name": "stdout",
     "output_type": "stream",
     "text": [
      "[1] \"Accuracy:  0.859\"\n",
      "[1] \"Precision:  0.779\"\n",
      "[1] \"Recall:  0.914\"\n",
      "[1] \"F1 Score:  0.841\"\n"
     ]
    }
   ],
   "source": [
    "# Predict the Survived values for the test set\n",
    "predictions <- predict(titanic.gam, newdata=titanic.test, type=\"response\")\n",
    "\n",
    "# Convert probabilities to binary outcome (0 or 1) using 0.5 as threshold\n",
    "predicted.classes <- ifelse(predictions > 0.5, 1, 0)\n",
    "\n",
    "# Calculate confusion matrix components\n",
    "true.positives <- sum(predicted.classes == 1 & titanic.test$Survived == 1)\n",
    "true.negatives <- sum(predicted.classes == 0 & titanic.test$Survived == 0)\n",
    "false.positives <- sum(predicted.classes == 1 & titanic.test$Survived == 0)\n",
    "false.negatives <- sum(predicted.classes == 0 & titanic.test$Survived == 1)\n",
    "\n",
    "# Calculate accuracy\n",
    "gam.acc <- (true.positives + true.negatives) / nrow(titanic.test)\n",
    "\n",
    "# Calculate precision\n",
    "gam.prec <- true.positives / (true.positives + false.positives)\n",
    "\n",
    "# Calculate recall\n",
    "gam.rec <- true.positives / (true.positives + false.negatives)\n",
    "\n",
    "# Calculate F1 score\n",
    "gam.f1 <- 2 * ((gam.prec * gam.rec) / (gam.prec + gam.rec))\n",
    "\n",
    "# Print the performance metrics\n",
    "print(paste(\"Accuracy: \", round(gam.acc, 3)))\n",
    "print(paste(\"Precision: \", round(gam.prec, 3)))\n",
    "print(paste(\"Recall: \", round(gam.rec, 3)))\n",
    "print(paste(\"F1 Score: \", round(gam.f1, 3)))\n"
   ]
  },
  {
   "cell_type": "code",
   "execution_count": 18,
   "metadata": {
    "deletable": false,
    "editable": false,
    "nbgrader": {
     "cell_type": "code",
     "checksum": "763f31f801fafd4372f365de403227c7",
     "grade": true,
     "grade_id": "cell-b22f0c2d971e8484",
     "locked": true,
     "points": 12,
     "schema_version": 3,
     "solution": false,
     "task": false
    }
   },
   "outputs": [],
   "source": [
    "# Test Cell\n",
    "# This cell has hidden test cases that will run after submission."
   ]
  }
 ],
 "metadata": {
  "kernelspec": {
   "display_name": "R",
   "language": "R",
   "name": "ir"
  },
  "language_info": {
   "codemirror_mode": "r",
   "file_extension": ".r",
   "mimetype": "text/x-r-source",
   "name": "R",
   "pygments_lexer": "r",
   "version": "3.6.3"
  }
 },
 "nbformat": 4,
 "nbformat_minor": 4
}
