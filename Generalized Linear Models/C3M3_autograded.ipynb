{
 "cells": [
  {
   "cell_type": "markdown",
   "metadata": {
    "deletable": false,
    "editable": false,
    "nbgrader": {
     "cell_type": "markdown",
     "checksum": "d47001e51705c51d305aa03eafa4f6e0",
     "grade": false,
     "grade_id": "cell-00a945fe244e8f4e",
     "locked": true,
     "schema_version": 3,
     "solution": false,
     "task": false
    }
   },
   "source": [
    "# C3M3 Autograded Assignment"
   ]
  },
  {
   "cell_type": "markdown",
   "metadata": {
    "deletable": false,
    "editable": false,
    "nbgrader": {
     "cell_type": "markdown",
     "checksum": "593f59be57193ae56a506aaf73061b82",
     "grade": false,
     "grade_id": "cell-c31d8103b3fd0bf5",
     "locked": true,
     "schema_version": 3,
     "solution": false,
     "task": false
    }
   },
   "source": [
    "### Outline:\n",
    "**Here are the objectives of this assignment:**\n",
    "\n",
    "1. Apply nonparametric regression to actual data.\n",
    "2. Visualize the differences between parametrics and nonparametric regressions.\n",
    "3. Cemment our understanding of Kernels, Bandwidths, and Splines.\n",
    "4. Understand the different kinds of nonparametric regression.\n",
    "\n",
    "**Here are some general tips:**\n",
    "\n",
    "1. Read the questions carefully to understand what is being asked.\n",
    "2. When you feel that your work is completed, feel free to hit the ```Validate``` button to see your results on the *visible* unit tests. If you have questions about unit testing, please refer to the \"Module 0: Introduction\" notebook provided as an optional resource for this course. In this assignment, there are hidden unit tests that check your code. You will not recieve any feedback for failed hidden unit tests until the assignment is submitted. **Do not misinterpret the feedback from visible unit tests as all possible tests for a given question--write your code carefully!**\n",
    "3. Before submitting, we recommend restarting the kernel and running all the cells in order that they appear to make sure that there are no additional bugs in your code."
   ]
  },
  {
   "cell_type": "code",
   "execution_count": null,
   "metadata": {
    "deletable": false,
    "editable": false,
    "nbgrader": {
     "cell_type": "code",
     "checksum": "7200390e5f5de777213420990b1b5fcf",
     "grade": false,
     "grade_id": "cell-176d60df2ee79c94",
     "locked": true,
     "schema_version": 3,
     "solution": false,
     "task": false
    }
   },
   "outputs": [],
   "source": [
    "# Load Required Libraries\n",
    "library(testthat)\n",
    "library(tidyverse)"
   ]
  },
  {
   "cell_type": "markdown",
   "metadata": {
    "deletable": false,
    "editable": false,
    "nbgrader": {
     "cell_type": "markdown",
     "checksum": "f7c645bea3042abb6a5cc5a4e1efdf50",
     "grade": false,
     "grade_id": "cell-ebad35565fe47154",
     "locked": true,
     "schema_version": 3,
     "solution": false,
     "task": false
    }
   },
   "source": [
    "# Problem 1: Comparing Parametric and Nonparametric Regression\n",
    "\n",
    "The exa dataset is a simulated dataset following the function $f(x)=\\sin^3(2\\pi x^3)$. The data is loaded and plotted below. We will use this dataset to get you practicing some non-parametric regression techniques.\n",
    "\n",
    "Data Source: Haerdle, W. (1991). Smoothing Techniques with Implementation in S. New York:Springer."
   ]
  },
  {
   "cell_type": "code",
   "execution_count": null,
   "metadata": {
    "deletable": false,
    "editable": false,
    "nbgrader": {
     "cell_type": "code",
     "checksum": "31d0d8d970cbc98e77527cda9030e0fa",
     "grade": false,
     "grade_id": "cell-e21c233c7c5b3a3e",
     "locked": true,
     "schema_version": 3,
     "solution": false,
     "task": false
    }
   },
   "outputs": [],
   "source": [
    "# Load in the Data\n",
    "exa = read.csv(\"exa.csv\")\n",
    "head(exa)\n",
    "# Plot the Data\n",
    "g = ggplot(exa, aes(x=x, y=y)) +\n",
    "        geom_point()\n",
    "g"
   ]
  },
  {
   "cell_type": "markdown",
   "metadata": {
    "deletable": false,
    "editable": false,
    "nbgrader": {
     "cell_type": "markdown",
     "checksum": "c559a26238df515bbd489827d242cded",
     "grade": false,
     "grade_id": "cell-8e4c30494646d639",
     "locked": true,
     "schema_version": 3,
     "solution": false,
     "task": false
    }
   },
   "source": [
    "### 1. (a) Linear Regression First\n",
    "\n",
    "From the graph, we can assume that a linear model isn't going to plot to this function very well. But assumptions can be wrong, so let's see how well they do for our model.\n",
    "\n",
    "Begin by fitting a linear model with `y` as the response and `x` as the predictor. Save this model as `exa.lmod.1` and it's $R^2$ as `exa.lmod.1.r2`. Because there is only one predictor, we can visually plot our model to see how well it fits the data. Plot your model ontop of the original plot.\n",
    "\n",
    "Now, lets add some parametric terms. Following the techniques displayed in the videos, add parametric terms of `x` of higher and higher degrees until you reach one that is no longer significant. Use the previous model with a significant $d^{th}$ predictor coefficient. Save this model as `exa.lmod.d` and its $R^2$ value as `exa.lmod.d.r2`. Then plot this model ontop of the origional plot as well."
   ]
  },
  {
   "cell_type": "code",
   "execution_count": null,
   "metadata": {
    "deletable": false,
    "nbgrader": {
     "cell_type": "code",
     "checksum": "08de38ac70b97e7bd58c9294384082d4",
     "grade": false,
     "grade_id": "cell-449125c3cc618a07",
     "locked": false,
     "schema_version": 3,
     "solution": true,
     "task": false
    }
   },
   "outputs": [],
   "source": [
    "exa.lmod.1 = NA\n",
    "exa.lmod.1.r2 = NA\n",
    "\n",
    "exa.lmod.d = NA\n",
    "exa.lmod.d.r2 = NA\n",
    "\n",
    "# your code here\n",
    "\n",
    "\n",
    "# plot(x=exa$x, y=exa$y, main=\"EXA with models overlaid\")\n",
    "# lines(exa.lmod.1, col=\"#CFB87C\", lwd=2)\n",
    "# lines(exa.lmod.d, col=\"#565A5C\", lwd=2)\n",
    "\n",
    "g + \n",
    "    geom_smooth(method=\"lm\", formula=eval(exa.lmod.1$call[[2]]), col=\"#CFB87C\") +\n",
    "    geom_smooth(method=\"lm\", formula=eval(exa.lmod.d$call[[2]]), col=\"#565A5C\")"
   ]
  },
  {
   "cell_type": "code",
   "execution_count": null,
   "metadata": {
    "deletable": false,
    "editable": false,
    "nbgrader": {
     "cell_type": "code",
     "checksum": "c5efcbc95508f5cdbdacd8cae2692b32",
     "grade": true,
     "grade_id": "cell-6763e316191bcea7",
     "locked": true,
     "points": 7,
     "schema_version": 3,
     "solution": false,
     "task": false
    }
   },
   "outputs": [],
   "source": [
    "# Test Cell\n",
    "# This cell has hidden test cases that will run after submission."
   ]
  },
  {
   "cell_type": "code",
   "execution_count": null,
   "metadata": {
    "deletable": false,
    "editable": false,
    "nbgrader": {
     "cell_type": "code",
     "checksum": "b79f10e942303358ab89990b76042b77",
     "grade": true,
     "grade_id": "cell-31a6a7aa076a4fb7",
     "locked": true,
     "points": 6,
     "schema_version": 3,
     "solution": false,
     "task": false
    }
   },
   "outputs": [],
   "source": [
    "# Test Cell\n",
    "# This cell has hidden test cases that will run after submission."
   ]
  },
  {
   "cell_type": "markdown",
   "metadata": {
    "deletable": false,
    "editable": false,
    "nbgrader": {
     "cell_type": "markdown",
     "checksum": "2db78f93136741c1324edfab820c8bf6",
     "grade": false,
     "grade_id": "cell-6c5f97a19b43da5a",
     "locked": true,
     "schema_version": 3,
     "solution": false,
     "task": false
    }
   },
   "source": [
    "### 1. (b) Visualize some Smooth Functions\n",
    "\n",
    "Even if `exa.lmod.d` looks pretty good, we know that it's not the original function. Let's try some smoothing functions to see how those preform.\n",
    "\n",
    "Use the ksmooth() function to plot some kernel estimators of the unknown function $Y=f(x)$. Explore different possibilities for kernel functions, including `normal` and `uniform` kernels. For each kernel, try different bandwidths including $0.01$, $0.1$ and $1$. Plot your models and determine which combination provides the best results. Save your selected kernel as `best.kernel` and the best bandwidth as `best.bandwidth`."
   ]
  },
  {
   "cell_type": "code",
   "execution_count": null,
   "metadata": {
    "deletable": false,
    "nbgrader": {
     "cell_type": "code",
     "checksum": "1f0bb5de58b6ac6b3f1798e635d8926f",
     "grade": false,
     "grade_id": "cell-7c0e76a00175256a",
     "locked": false,
     "schema_version": 3,
     "solution": true,
     "task": false
    }
   },
   "outputs": [],
   "source": [
    "best.kernel = NA\n",
    "best.bandwidth = NA\n",
    "\n",
    "# your code here\n"
   ]
  },
  {
   "cell_type": "code",
   "execution_count": null,
   "metadata": {
    "deletable": false,
    "editable": false,
    "nbgrader": {
     "cell_type": "code",
     "checksum": "92caae2ffb559bb77f67ed107c1a87c0",
     "grade": true,
     "grade_id": "cell-ca75109d7ba8a052",
     "locked": true,
     "points": 10,
     "schema_version": 3,
     "solution": false,
     "task": false
    }
   },
   "outputs": [],
   "source": [
    "# Test Cell\n",
    "if (!test_that(\"Checking Answer types\", {expect_is(best.kernel, \"character\")\n",
    "                                         expect_is(best.bandwidth, \"numeric\")})){\n",
    "    print(\"Answers are incorrect types. Make sure best.bandwidth is numeric and best.kernel is a string.\")\n",
    "}\n",
    "# This cell has hidden test cases that will run after submission."
   ]
  },
  {
   "cell_type": "markdown",
   "metadata": {
    "deletable": false,
    "editable": false,
    "nbgrader": {
     "cell_type": "markdown",
     "checksum": "3abf74826a8c5aec04264cc668acb9ee",
     "grade": false,
     "grade_id": "cell-d1df0c9dc2cb3172",
     "locked": true,
     "schema_version": 3,
     "solution": false,
     "task": false
    }
   },
   "source": [
    "In reality, manually finding this kernel value ourselves, especially if there are multiple predictors, can be challenging. There are some automated ways to do this, but none are perfect. \n",
    "\n",
    "### 1. (c) Smoothing Splines\n",
    "\n",
    "Use the `smooth.spline()` function to fit a non-parametric model to your data, with `y` as the response and `x` as the predictor. Save your model as `exa.smooth`. Plot this model onto the origional scatterplot."
   ]
  },
  {
   "cell_type": "code",
   "execution_count": null,
   "metadata": {
    "deletable": false,
    "nbgrader": {
     "cell_type": "code",
     "checksum": "06761bc14c6ce57d730285a8309657a9",
     "grade": false,
     "grade_id": "cell-a5749e64995d0a69",
     "locked": false,
     "schema_version": 3,
     "solution": true,
     "task": false
    }
   },
   "outputs": [],
   "source": [
    "exa.smooth = NA\n",
    "\n",
    "# your code here\n",
    "\n",
    "\n",
    "plot(y ~ x, data = exa, main = \"With Smoothing Splines\")\n",
    "lines(exa.smooth, col = \"#CFB87C\", lwd=3)"
   ]
  },
  {
   "cell_type": "code",
   "execution_count": null,
   "metadata": {
    "deletable": false,
    "editable": false,
    "nbgrader": {
     "cell_type": "code",
     "checksum": "82746b57b4fe841e492004b05a534454",
     "grade": true,
     "grade_id": "cell-e2f56e9eb85424fa",
     "locked": true,
     "points": 6,
     "schema_version": 3,
     "solution": false,
     "task": false
    }
   },
   "outputs": [],
   "source": [
    "# Test Cell\n",
    "# This cell has hidden test cases that will run after submission."
   ]
  },
  {
   "cell_type": "markdown",
   "metadata": {
    "deletable": false,
    "editable": false,
    "nbgrader": {
     "cell_type": "markdown",
     "checksum": "f1f2032740baaa403665957d74f6bb78",
     "grade": false,
     "grade_id": "cell-eb8d2b46cabd3312",
     "locked": true,
     "schema_version": 3,
     "solution": false,
     "task": false
    }
   },
   "source": [
    "### 1. (d) Goodness of Fit\n",
    "\n",
    "How do we determine how well our model fits the data? We don't have an analytical method, so we need to use evaluation metrics.\n",
    "\n",
    "Calculate the MSE for your three models. Store the values in `MSE.1`, `MSE.d` and `MSE.smooth` respectively. Which model performed the best?"
   ]
  },
  {
   "cell_type": "code",
   "execution_count": null,
   "metadata": {
    "deletable": false,
    "nbgrader": {
     "cell_type": "code",
     "checksum": "37e6740f93d6a0f7bd6c94e36d4a4261",
     "grade": false,
     "grade_id": "cell-84c4764d3f877eaa",
     "locked": false,
     "schema_version": 3,
     "solution": true,
     "task": false
    }
   },
   "outputs": [],
   "source": [
    "# your code here\n"
   ]
  },
  {
   "cell_type": "code",
   "execution_count": null,
   "metadata": {
    "deletable": false,
    "editable": false,
    "nbgrader": {
     "cell_type": "code",
     "checksum": "daac04c738902ffa788eceec6fd5cae7",
     "grade": true,
     "grade_id": "cell-2b8076e50ceb148c",
     "locked": true,
     "points": 2,
     "schema_version": 3,
     "solution": false,
     "task": false
    }
   },
   "outputs": [],
   "source": [
    "# Test Cell\n",
    "# This cell has hidden test cases that will run after submission."
   ]
  },
  {
   "cell_type": "code",
   "execution_count": null,
   "metadata": {
    "deletable": false,
    "editable": false,
    "nbgrader": {
     "cell_type": "code",
     "checksum": "d843910e385500fa34aa6dc60a5dd610",
     "grade": true,
     "grade_id": "cell-6f9603be4594f0a2",
     "locked": true,
     "points": 2,
     "schema_version": 3,
     "solution": false,
     "task": false
    }
   },
   "outputs": [],
   "source": [
    "# Test Cell\n",
    "# This cell has hidden test cases that will run after submission."
   ]
  },
  {
   "cell_type": "code",
   "execution_count": null,
   "metadata": {
    "deletable": false,
    "editable": false,
    "nbgrader": {
     "cell_type": "code",
     "checksum": "7b93587cd8a0cfb730a8f66e33c2ec2d",
     "grade": true,
     "grade_id": "cell-0b0a2f50223582f1",
     "locked": true,
     "points": 2,
     "schema_version": 3,
     "solution": false,
     "task": false
    }
   },
   "outputs": [],
   "source": [
    "# Test Cell\n",
    "# This cell has hidden test cases that will run after submission."
   ]
  },
  {
   "cell_type": "markdown",
   "metadata": {
    "deletable": false,
    "editable": false,
    "nbgrader": {
     "cell_type": "markdown",
     "checksum": "8134dc4d69a6f4bdfc72354f7b7ef464",
     "grade": false,
     "grade_id": "cell-fd8d9039b11389dd",
     "locked": true,
     "schema_version": 3,
     "solution": false,
     "task": false
    }
   },
   "source": [
    "# Problem 2 - General Nonparametric Questions\n",
    "\n",
    "For each of the following questions, save your answer in the corresponding variable. Answer each as a boolean TRUE/FALSE value.\n",
    "\n",
    "1. Generally, the choice of Kernel is more important than the choice of bandwidth.\n",
    "2. A Kernel is defined to be symmetric for all values of $x$ and $\\int K(x)dx = 1$.\n",
    "3. Smoothing Splines are a balance between fitting the training data as accurately as possible and penalizing models that have a greater amount of curvature.\n",
    "4. For Loess estimation, if $p=0$, then the Loesse estimator is equivalent to Kernel estimation.\n",
    "5. The `smooth.spline()` function is guaranteed to give you the best bandwidth value."
   ]
  },
  {
   "cell_type": "code",
   "execution_count": null,
   "metadata": {
    "deletable": false,
    "nbgrader": {
     "cell_type": "code",
     "checksum": "097195004747ef289fccc04d6a3a94b5",
     "grade": false,
     "grade_id": "cell-d5cac5c79b6d8694",
     "locked": false,
     "schema_version": 3,
     "solution": true,
     "task": false
    }
   },
   "outputs": [],
   "source": [
    "prob.2.1 = NA\n",
    "\n",
    "prob.2.2 = NA\n",
    "\n",
    "prob.2.3 = NA\n",
    "\n",
    "prob.2.4 = NA\n",
    "\n",
    "prob.2.5= NA\n",
    "\n",
    "# your code here\n"
   ]
  },
  {
   "cell_type": "code",
   "execution_count": null,
   "metadata": {
    "deletable": false,
    "editable": false,
    "nbgrader": {
     "cell_type": "code",
     "checksum": "eed1b760f6c2fcdef5d4152470cdf52f",
     "grade": true,
     "grade_id": "cell-3cfc822cb4e64686",
     "locked": true,
     "points": 3,
     "schema_version": 3,
     "solution": false,
     "task": false
    }
   },
   "outputs": [],
   "source": [
    "# Test Cell\n",
    "if (!test_that(\"Checking answer types\", expect_is(c(prob.2.1, prob.2.2, prob.2.3, prob.2.4, prob.2.5), \n",
    "                                                  c(\"logical\", \"logical\", \"logical\", \"logical\", \"logical\")))){\n",
    "    print(\"Make sure your answers are all booleans!\")\n",
    "}\n",
    "# This cell has hidden test cases that will run after submission."
   ]
  },
  {
   "cell_type": "code",
   "execution_count": null,
   "metadata": {
    "deletable": false,
    "editable": false,
    "nbgrader": {
     "cell_type": "code",
     "checksum": "29752301c05b925a38c6a46641c5dd87",
     "grade": true,
     "grade_id": "cell-819edd2f9910788c",
     "locked": true,
     "points": 3,
     "schema_version": 3,
     "solution": false,
     "task": false
    }
   },
   "outputs": [],
   "source": [
    "# This cell has hidden test cases that will run after submission."
   ]
  },
  {
   "cell_type": "code",
   "execution_count": null,
   "metadata": {
    "deletable": false,
    "editable": false,
    "nbgrader": {
     "cell_type": "code",
     "checksum": "4cac1425e3aceeca10578748868302bf",
     "grade": true,
     "grade_id": "cell-600d5214b9fd5178",
     "locked": true,
     "points": 3,
     "schema_version": 3,
     "solution": false,
     "task": false
    }
   },
   "outputs": [],
   "source": [
    "# This cell has hidden test cases that will run after submission."
   ]
  },
  {
   "cell_type": "code",
   "execution_count": null,
   "metadata": {
    "deletable": false,
    "editable": false,
    "nbgrader": {
     "cell_type": "code",
     "checksum": "8d66e4bac7d9fdaed3d8fc3acaabc0af",
     "grade": true,
     "grade_id": "cell-c78bc9cc7bafe56d",
     "locked": true,
     "points": 3,
     "schema_version": 3,
     "solution": false,
     "task": false
    }
   },
   "outputs": [],
   "source": [
    "# This cell has hidden test cases that will run after submission."
   ]
  },
  {
   "cell_type": "code",
   "execution_count": null,
   "metadata": {
    "deletable": false,
    "editable": false,
    "nbgrader": {
     "cell_type": "code",
     "checksum": "dc6197e745e27acdbf2e08628fb402cf",
     "grade": true,
     "grade_id": "cell-759317f173c75458",
     "locked": true,
     "points": 3,
     "schema_version": 3,
     "solution": false,
     "task": false
    }
   },
   "outputs": [],
   "source": [
    "# This cell has hidden test cases that will run after submission."
   ]
  }
 ],
 "metadata": {
  "kernelspec": {
   "display_name": "R",
   "language": "R",
   "name": "ir"
  },
  "language_info": {
   "codemirror_mode": "r",
   "file_extension": ".r",
   "mimetype": "text/x-r-source",
   "name": "R",
   "pygments_lexer": "r",
   "version": "3.6.3"
  }
 },
 "nbformat": 4,
 "nbformat_minor": 4
}
